{
  "cells": [
    {
      "cell_type": "markdown",
      "metadata": {
        "id": "view-in-github",
        "colab_type": "text"
      },
      "source": [
        "<a href=\"https://colab.research.google.com/github/naomi-fabiolatn/Masters/blob/main/PCA.ipynb\" target=\"_parent\"><img src=\"https://colab.research.google.com/assets/colab-badge.svg\" alt=\"Open In Colab\"/></a>"
      ]
    },
    {
      "cell_type": "markdown",
      "metadata": {
        "id": "zZeKeQlF-0tP"
      },
      "source": [
        "**MAESTRÍA EN INTELIGENCIA ARTIFICIAL APLICADA**\n",
        "\n",
        "**Curso: TC4029 - Ciencia y analítica de datos**\n",
        "\n",
        "Tecnológico de Monterrey\n",
        "\n",
        "Prof Grettel Barceló Alonso\n",
        "\n",
        "**Semana 7**\n",
        "Análisis de Componentes Principales (PCA)\n",
        "\n",
        "---"
      ]
    },
    {
      "cell_type": "markdown",
      "metadata": {
        "id": "_jPAgA5K_Atl"
      },
      "source": [
        "*   NOMBRE, MATRÍCULA: Naomi Fabiola Tokunaga Nuñez. A00826875\n",
      ]
    },
    {
      "cell_type": "code",
      "execution_count": null,
      "metadata": {
        "id": "sAevI2MgFLiW",
        "outputId": "ed2d4b70-5b67-40bc-fbfe-c5cdffb16b33",
        "colab": {
          "base_uri": "https://localhost:8080/",
          "height": 104
        }
      },
      "outputs": [
        {
          "output_type": "execute_result",
          "data": {
            "text/plain": [
              "'\\nname: nombre del cereal\\nmfr: fabricante\\nA = American Home Food Products;\\nG = General Mills\\nK = Kelloggs\\nN = Nabisco\\nP = Post\\nQ = Quaker Oats\\nR = Ralston Purina\\ntype: tipo\\ncold\\nhot\\ncalories: calorías por porción\\nprotein: gramos de proteína\\nfat: gramos de grasa\\nsodium: miligramos de sodio\\nfiber: gramos de fibra dietética\\ncarbo: gramos de carbohidratos complejos\\nsugars: gramos de azúcares\\npotass: miligramos de potasio\\nvitamins: vitaminas y minerales: 0, 25 o 100, lo que indica el porcentaje típico recomendado por la FDA\\nshelf: estante de exhibición (1, 2 o 3, contando desde el piso)\\nweight: peso en onzas de una porción\\ncups: número de tazas en una porción\\nrating: una calificación de los cereales '"
            ],
            "application/vnd.google.colaboratory.intrinsic+json": {
              "type": "string"
            }
          },
          "metadata": {},
          "execution_count": 1
        }
      ],
      "source": [
        "\n",
        "\"\"\"\n",
        "name: nombre del cereal\n",
        "mfr: fabricante\n",
        "A = American Home Food Products;\n",
        "G = General Mills\n",
        "K = Kelloggs\n",
        "N = Nabisco\n",
        "P = Post\n",
        "Q = Quaker Oats\n",
        "R = Ralston Purina\n",
        "type: tipo\n",
        "cold\n",
        "hot\n",
        "calories: calorías por porción\n",
        "protein: gramos de proteína\n",
        "fat: gramos de grasa\n",
        "sodium: miligramos de sodio\n",
        "fiber: gramos de fibra dietética\n",
        "carbo: gramos de carbohidratos complejos\n",
        "sugars: gramos de azúcares\n",
        "potass: miligramos de potasio\n",
        "vitamins: vitaminas y minerales: 0, 25 o 100, lo que indica el porcentaje típico recomendado por la FDA\n",
        "shelf: estante de exhibición (1, 2 o 3, contando desde el piso)\n",
        "weight: peso en onzas de una porción\n",
        "cups: número de tazas en una porción\n",
        "rating: una calificación de los cereales \"\"\""
      ]
    },
    {
      "cell_type": "code",
      "execution_count": null,
      "metadata": {
        "id": "nI4wYH5dFLiX"
      },
      "outputs": [],
      "source": [
        "# El siguiente metodo permite crear un dataframe desde una fuente de datos en la nube haciendo uso de Onedrive.\n",
        "import pandas as pd\n",
        "pd.options.display.float_format = '{:.6f}'.format\n",
        "\n",
        "import base64\n",
        "def create_onedrive_directdownload (onedrive_link):\n",
        "    data_bytes64 = base64.b64encode(bytes(onedrive_link, 'utf-8'))\n",
        "    data_bytes64_String = data_bytes64.decode('utf-8').replace('/','_').replace('+','-').rstrip(\"=\")\n",
        "    resultUrl = f\"https://api.onedrive.com/v1.0/shares/u!{data_bytes64_String}/root/content\"\n",
        "    return resultUrl\n",
        "\n",
        "onedrivelink = \"https://1drv.ms/u/s!AuFX6Wm4XESkgrZGkhbXOqhIBafa5w?e=gyKxxw\"\n",
        "onedrive_dataset = create_onedrive_directdownload (onedrivelink)"
      ]
    },
    {
      "cell_type": "code",
      "execution_count": null,
      "metadata": {
        "colab": {
          "base_uri": "https://localhost:8080/",
          "height": 35
        },
        "id": "QElz-qw8_Aa7",
        "outputId": "f7d111d4-fc01-4e61-b197-20ccaf607185"
      },
      "outputs": [
        {
          "output_type": "execute_result",
          "data": {
            "text/plain": [
              "\" from google.colab import drive\\ndrive.mount('/content/drive') \""
            ],
            "application/vnd.google.colaboratory.intrinsic+json": {
              "type": "string"
            }
          },
          "metadata": {},
          "execution_count": 3
        }
      ],
      "source": [
        "#Habilitar solo si se usa google colab\n",
        "\"\"\" from google.colab import drive\n",
        "drive.mount('/content/drive') \"\"\""
      ]
    },
    {
      "cell_type": "code",
      "execution_count": null,
      "metadata": {
        "id": "KYozDMGz_EzL"
      },
      "outputs": [],
      "source": [
        "# Habilitar solo si usas un archivo local\n",
        "import os\n",
        "DIR =  \"C:\\\\Git\\\\TecMonterrrey\\\\CienciaAnaliticaDatos\\\\actividades-edwinhdez\"\n",
        "os.chdir(DIR)"
      ]
    },
    {
      "cell_type": "code",
      "execution_count": null,
      "metadata": {
        "id": "wMArpaFx_Mbd"
      },
      "outputs": [],
      "source": [
        "import pandas as pd\n",
        "import numpy as np\n",
        "import matplotlib.pyplot as plt\n",
        "import seaborn as sns\n",
        "import scipy.stats as stats"
      ]
    },
    {
      "cell_type": "code",
      "execution_count": null,
      "metadata": {
        "id": "10c9MbVqQLkq"
      },
      "outputs": [],
      "source": [
        "#cereals_df = pd.read_csv('/content/drive/My Drive/Colab Notebooks/Actividad6/Cereals.csv') # Habilitar solo si usas google colab\n",
        "#cereals_df  = pd.read_csv(onedrive_dataset) # Habilitar solo si usas onedrive\n",
        "cereals_df = pd.read_csv('Cereals.csv')\n",
        "\n"
      ]
    },
    {
      "cell_type": "code",
      "execution_count": null,
      "metadata": {
        "colab": {
          "base_uri": "https://localhost:8080/",
          "height": 423
        },
        "id": "jyj2PmOTzCQ4",
        "outputId": "24500c7d-7ea3-4c5c-e009-ffcee0343321"
      },
      "outputs": [
        {
          "output_type": "execute_result",
          "data": {
            "text/plain": [
              "                         name mfr type  calories  protein  fat  sodium  \\\n",
              "0                   100%_Bran   N    C        70        4    1     130   \n",
              "1           100%_Natural_Bran   Q    C       120        3    5      15   \n",
              "2                    All-Bran   K    C        70        4    1     260   \n",
              "3   All-Bran_with_Extra_Fiber   K    C        50        4    0     140   \n",
              "4              Almond_Delight   R    C       110        2    2     200   \n",
              "..                        ...  ..  ...       ...      ...  ...     ...   \n",
              "72                    Triples   G    C       110        2    1     250   \n",
              "73                       Trix   G    C       110        1    1     140   \n",
              "74                 Wheat_Chex   R    C       100        3    1     230   \n",
              "75                   Wheaties   G    C       100        3    1     200   \n",
              "76        Wheaties_Honey_Gold   G    C       110        2    1     200   \n",
              "\n",
              "       fiber     carbo    sugars     potass  vitamins shelf   weight     cups  \\\n",
              "0  10.000000  5.000000  6.000000 280.000000        25     3 1.000000 0.330000   \n",
              "1   2.000000  8.000000  8.000000 135.000000         0     3 1.000000 1.000000   \n",
              "2   9.000000  7.000000  5.000000 320.000000        25     3 1.000000 0.330000   \n",
              "3  14.000000  8.000000  0.000000 330.000000        25     3 1.000000 0.500000   \n",
              "4   1.000000 14.000000  8.000000        NaN        25     3 1.000000 0.750000   \n",
              "..       ...       ...       ...        ...       ...   ...      ...      ...   \n",
              "72  0.000000 21.000000  3.000000  60.000000        25     3 1.000000 0.750000   \n",
              "73  0.000000 13.000000 12.000000  25.000000        25     2 1.000000 1.000000   \n",
              "74  3.000000 17.000000  3.000000 115.000000        25     1 1.000000 0.670000   \n",
              "75  3.000000 17.000000  3.000000 110.000000        25     1 1.000000 1.000000   \n",
              "76  1.000000 16.000000  8.000000  60.000000        25     1 1.000000 0.750000   \n",
              "\n",
              "      rating  \n",
              "0  68.402973  \n",
              "1  33.983679  \n",
              "2  59.425505  \n",
              "3  93.704912  \n",
              "4  34.384843  \n",
              "..       ...  \n",
              "72 39.106174  \n",
              "73 27.753301  \n",
              "74 49.787445  \n",
              "75 51.592193  \n",
              "76 36.187559  \n",
              "\n",
              "[77 rows x 16 columns]"
            ],
            "text/html": [
              "\n",
              "  <div id=\"df-69a67a0f-ca84-4a3e-8b66-8abdbc98fc0c\" class=\"colab-df-container\">\n",
              "    <div>\n",
              "<style scoped>\n",
              "    .dataframe tbody tr th:only-of-type {\n",
              "        vertical-align: middle;\n",
              "    }\n",
              "\n",
              "    .dataframe tbody tr th {\n",
              "        vertical-align: top;\n",
              "    }\n",
              "\n",
              "    .dataframe thead th {\n",
              "        text-align: right;\n",
              "    }\n",
              "</style>\n",
              "<table border=\"1\" class=\"dataframe\">\n",
              "  <thead>\n",
              "    <tr style=\"text-align: right;\">\n",
              "      <th></th>\n",
              "      <th>name</th>\n",
              "      <th>mfr</th>\n",
              "      <th>type</th>\n",
              "      <th>calories</th>\n",
              "      <th>protein</th>\n",
              "      <th>fat</th>\n",
              "      <th>sodium</th>\n",
              "      <th>fiber</th>\n",
              "      <th>carbo</th>\n",
              "      <th>sugars</th>\n",
              "      <th>potass</th>\n",
              "      <th>vitamins</th>\n",
              "      <th>shelf</th>\n",
              "      <th>weight</th>\n",
              "      <th>cups</th>\n",
              "      <th>rating</th>\n",
              "    </tr>\n",
              "  </thead>\n",
              "  <tbody>\n",
              "    <tr>\n",
              "      <th>0</th>\n",
              "      <td>100%_Bran</td>\n",
              "      <td>N</td>\n",
              "      <td>C</td>\n",
              "      <td>70</td>\n",
              "      <td>4</td>\n",
              "      <td>1</td>\n",
              "      <td>130</td>\n",
              "      <td>10.000000</td>\n",
              "      <td>5.000000</td>\n",
              "      <td>6.000000</td>\n",
              "      <td>280.000000</td>\n",
              "      <td>25</td>\n",
              "      <td>3</td>\n",
              "      <td>1.000000</td>\n",
              "      <td>0.330000</td>\n",
              "      <td>68.402973</td>\n",
              "    </tr>\n",
              "    <tr>\n",
              "      <th>1</th>\n",
              "      <td>100%_Natural_Bran</td>\n",
              "      <td>Q</td>\n",
              "      <td>C</td>\n",
              "      <td>120</td>\n",
              "      <td>3</td>\n",
              "      <td>5</td>\n",
              "      <td>15</td>\n",
              "      <td>2.000000</td>\n",
              "      <td>8.000000</td>\n",
              "      <td>8.000000</td>\n",
              "      <td>135.000000</td>\n",
              "      <td>0</td>\n",
              "      <td>3</td>\n",
              "      <td>1.000000</td>\n",
              "      <td>1.000000</td>\n",
              "      <td>33.983679</td>\n",
              "    </tr>\n",
              "    <tr>\n",
              "      <th>2</th>\n",
              "      <td>All-Bran</td>\n",
              "      <td>K</td>\n",
              "      <td>C</td>\n",
              "      <td>70</td>\n",
              "      <td>4</td>\n",
              "      <td>1</td>\n",
              "      <td>260</td>\n",
              "      <td>9.000000</td>\n",
              "      <td>7.000000</td>\n",
              "      <td>5.000000</td>\n",
              "      <td>320.000000</td>\n",
              "      <td>25</td>\n",
              "      <td>3</td>\n",
              "      <td>1.000000</td>\n",
              "      <td>0.330000</td>\n",
              "      <td>59.425505</td>\n",
              "    </tr>\n",
              "    <tr>\n",
              "      <th>3</th>\n",
              "      <td>All-Bran_with_Extra_Fiber</td>\n",
              "      <td>K</td>\n",
              "      <td>C</td>\n",
              "      <td>50</td>\n",
              "      <td>4</td>\n",
              "      <td>0</td>\n",
              "      <td>140</td>\n",
              "      <td>14.000000</td>\n",
              "      <td>8.000000</td>\n",
              "      <td>0.000000</td>\n",
              "      <td>330.000000</td>\n",
              "      <td>25</td>\n",
              "      <td>3</td>\n",
              "      <td>1.000000</td>\n",
              "      <td>0.500000</td>\n",
              "      <td>93.704912</td>\n",
              "    </tr>\n",
              "    <tr>\n",
              "      <th>4</th>\n",
              "      <td>Almond_Delight</td>\n",
              "      <td>R</td>\n",
              "      <td>C</td>\n",
              "      <td>110</td>\n",
              "      <td>2</td>\n",
              "      <td>2</td>\n",
              "      <td>200</td>\n",
              "      <td>1.000000</td>\n",
              "      <td>14.000000</td>\n",
              "      <td>8.000000</td>\n",
              "      <td>NaN</td>\n",
              "      <td>25</td>\n",
              "      <td>3</td>\n",
              "      <td>1.000000</td>\n",
              "      <td>0.750000</td>\n",
              "      <td>34.384843</td>\n",
              "    </tr>\n",
              "    <tr>\n",
              "      <th>...</th>\n",
              "      <td>...</td>\n",
              "      <td>...</td>\n",
              "      <td>...</td>\n",
              "      <td>...</td>\n",
              "      <td>...</td>\n",
              "      <td>...</td>\n",
              "      <td>...</td>\n",
              "      <td>...</td>\n",
              "      <td>...</td>\n",
              "      <td>...</td>\n",
              "      <td>...</td>\n",
              "      <td>...</td>\n",
              "      <td>...</td>\n",
              "      <td>...</td>\n",
              "      <td>...</td>\n",
              "      <td>...</td>\n",
              "    </tr>\n",
              "    <tr>\n",
              "      <th>72</th>\n",
              "      <td>Triples</td>\n",
              "      <td>G</td>\n",
              "      <td>C</td>\n",
              "      <td>110</td>\n",
              "      <td>2</td>\n",
              "      <td>1</td>\n",
              "      <td>250</td>\n",
              "      <td>0.000000</td>\n",
              "      <td>21.000000</td>\n",
              "      <td>3.000000</td>\n",
              "      <td>60.000000</td>\n",
              "      <td>25</td>\n",
              "      <td>3</td>\n",
              "      <td>1.000000</td>\n",
              "      <td>0.750000</td>\n",
              "      <td>39.106174</td>\n",
              "    </tr>\n",
              "    <tr>\n",
              "      <th>73</th>\n",
              "      <td>Trix</td>\n",
              "      <td>G</td>\n",
              "      <td>C</td>\n",
              "      <td>110</td>\n",
              "      <td>1</td>\n",
              "      <td>1</td>\n",
              "      <td>140</td>\n",
              "      <td>0.000000</td>\n",
              "      <td>13.000000</td>\n",
              "      <td>12.000000</td>\n",
              "      <td>25.000000</td>\n",
              "      <td>25</td>\n",
              "      <td>2</td>\n",
              "      <td>1.000000</td>\n",
              "      <td>1.000000</td>\n",
              "      <td>27.753301</td>\n",
              "    </tr>\n",
              "    <tr>\n",
              "      <th>74</th>\n",
              "      <td>Wheat_Chex</td>\n",
              "      <td>R</td>\n",
              "      <td>C</td>\n",
              "      <td>100</td>\n",
              "      <td>3</td>\n",
              "      <td>1</td>\n",
              "      <td>230</td>\n",
              "      <td>3.000000</td>\n",
              "      <td>17.000000</td>\n",
              "      <td>3.000000</td>\n",
              "      <td>115.000000</td>\n",
              "      <td>25</td>\n",
              "      <td>1</td>\n",
              "      <td>1.000000</td>\n",
              "      <td>0.670000</td>\n",
              "      <td>49.787445</td>\n",
              "    </tr>\n",
              "    <tr>\n",
              "      <th>75</th>\n",
              "      <td>Wheaties</td>\n",
              "      <td>G</td>\n",
              "      <td>C</td>\n",
              "      <td>100</td>\n",
              "      <td>3</td>\n",
              "      <td>1</td>\n",
              "      <td>200</td>\n",
              "      <td>3.000000</td>\n",
              "      <td>17.000000</td>\n",
              "      <td>3.000000</td>\n",
              "      <td>110.000000</td>\n",
              "      <td>25</td>\n",
              "      <td>1</td>\n",
              "      <td>1.000000</td>\n",
              "      <td>1.000000</td>\n",
              "      <td>51.592193</td>\n",
              "    </tr>\n",
              "    <tr>\n",
              "      <th>76</th>\n",
              "      <td>Wheaties_Honey_Gold</td>\n",
              "      <td>G</td>\n",
              "      <td>C</td>\n",
              "      <td>110</td>\n",
              "      <td>2</td>\n",
              "      <td>1</td>\n",
              "      <td>200</td>\n",
              "      <td>1.000000</td>\n",
              "      <td>16.000000</td>\n",
              "      <td>8.000000</td>\n",
              "      <td>60.000000</td>\n",
              "      <td>25</td>\n",
              "      <td>1</td>\n",
              "      <td>1.000000</td>\n",
              "      <td>0.750000</td>\n",
              "      <td>36.187559</td>\n",
              "    </tr>\n",
              "  </tbody>\n",
              "</table>\n",
              "<p>77 rows × 16 columns</p>\n",
              "</div>\n",
              "    <div class=\"colab-df-buttons\">\n",
              "\n",
              "  <div class=\"colab-df-container\">\n",
              "    <button class=\"colab-df-convert\" onclick=\"convertToInteractive('df-69a67a0f-ca84-4a3e-8b66-8abdbc98fc0c')\"\n",
              "            title=\"Convert this dataframe to an interactive table.\"\n",
              "            style=\"display:none;\">\n",
              "\n",
              "  <svg xmlns=\"http://www.w3.org/2000/svg\" height=\"24px\" viewBox=\"0 -960 960 960\">\n",
              "    <path d=\"M120-120v-720h720v720H120Zm60-500h600v-160H180v160Zm220 220h160v-160H400v160Zm0 220h160v-160H400v160ZM180-400h160v-160H180v160Zm440 0h160v-160H620v160ZM180-180h160v-160H180v160Zm440 0h160v-160H620v160Z\"/>\n",
              "  </svg>\n",
              "    </button>\n",
              "\n",
              "  <style>\n",
              "    .colab-df-container {\n",
              "      display:flex;\n",
              "      gap: 12px;\n",
              "    }\n",
              "\n",
              "    .colab-df-convert {\n",
              "      background-color: #E8F0FE;\n",
              "      border: none;\n",
              "      border-radius: 50%;\n",
              "      cursor: pointer;\n",
              "      display: none;\n",
              "      fill: #1967D2;\n",
              "      height: 32px;\n",
              "      padding: 0 0 0 0;\n",
              "      width: 32px;\n",
              "    }\n",
              "\n",
              "    .colab-df-convert:hover {\n",
              "      background-color: #E2EBFA;\n",
              "      box-shadow: 0px 1px 2px rgba(60, 64, 67, 0.3), 0px 1px 3px 1px rgba(60, 64, 67, 0.15);\n",
              "      fill: #174EA6;\n",
              "    }\n",
              "\n",
              "    .colab-df-buttons div {\n",
              "      margin-bottom: 4px;\n",
              "    }\n",
              "\n",
              "    [theme=dark] .colab-df-convert {\n",
              "      background-color: #3B4455;\n",
              "      fill: #D2E3FC;\n",
              "    }\n",
              "\n",
              "    [theme=dark] .colab-df-convert:hover {\n",
              "      background-color: #434B5C;\n",
              "      box-shadow: 0px 1px 3px 1px rgba(0, 0, 0, 0.15);\n",
              "      filter: drop-shadow(0px 1px 2px rgba(0, 0, 0, 0.3));\n",
              "      fill: #FFFFFF;\n",
              "    }\n",
              "  </style>\n",
              "\n",
              "    <script>\n",
              "      const buttonEl =\n",
              "        document.querySelector('#df-69a67a0f-ca84-4a3e-8b66-8abdbc98fc0c button.colab-df-convert');\n",
              "      buttonEl.style.display =\n",
              "        google.colab.kernel.accessAllowed ? 'block' : 'none';\n",
              "\n",
              "      async function convertToInteractive(key) {\n",
              "        const element = document.querySelector('#df-69a67a0f-ca84-4a3e-8b66-8abdbc98fc0c');\n",
              "        const dataTable =\n",
              "          await google.colab.kernel.invokeFunction('convertToInteractive',\n",
              "                                                    [key], {});\n",
              "        if (!dataTable) return;\n",
              "\n",
              "        const docLinkHtml = 'Like what you see? Visit the ' +\n",
              "          '<a target=\"_blank\" href=https://colab.research.google.com/notebooks/data_table.ipynb>data table notebook</a>'\n",
              "          + ' to learn more about interactive tables.';\n",
              "        element.innerHTML = '';\n",
              "        dataTable['output_type'] = 'display_data';\n",
              "        await google.colab.output.renderOutput(dataTable, element);\n",
              "        const docLink = document.createElement('div');\n",
              "        docLink.innerHTML = docLinkHtml;\n",
              "        element.appendChild(docLink);\n",
              "      }\n",
              "    </script>\n",
              "  </div>\n",
              "\n",
              "\n",
              "<div id=\"df-ec068444-9c64-41d4-8991-f08333e69b5d\">\n",
              "  <button class=\"colab-df-quickchart\" onclick=\"quickchart('df-ec068444-9c64-41d4-8991-f08333e69b5d')\"\n",
              "            title=\"Suggest charts.\"\n",
              "            style=\"display:none;\">\n",
              "\n",
              "<svg xmlns=\"http://www.w3.org/2000/svg\" height=\"24px\"viewBox=\"0 0 24 24\"\n",
              "     width=\"24px\">\n",
              "    <g>\n",
              "        <path d=\"M19 3H5c-1.1 0-2 .9-2 2v14c0 1.1.9 2 2 2h14c1.1 0 2-.9 2-2V5c0-1.1-.9-2-2-2zM9 17H7v-7h2v7zm4 0h-2V7h2v10zm4 0h-2v-4h2v4z\"/>\n",
              "    </g>\n",
              "</svg>\n",
              "  </button>\n",
              "\n",
              "<style>\n",
              "  .colab-df-quickchart {\n",
              "      --bg-color: #E8F0FE;\n",
              "      --fill-color: #1967D2;\n",
              "      --hover-bg-color: #E2EBFA;\n",
              "      --hover-fill-color: #174EA6;\n",
              "      --disabled-fill-color: #AAA;\n",
              "      --disabled-bg-color: #DDD;\n",
              "  }\n",
              "\n",
              "  [theme=dark] .colab-df-quickchart {\n",
              "      --bg-color: #3B4455;\n",
              "      --fill-color: #D2E3FC;\n",
              "      --hover-bg-color: #434B5C;\n",
              "      --hover-fill-color: #FFFFFF;\n",
              "      --disabled-bg-color: #3B4455;\n",
              "      --disabled-fill-color: #666;\n",
              "  }\n",
              "\n",
              "  .colab-df-quickchart {\n",
              "    background-color: var(--bg-color);\n",
              "    border: none;\n",
              "    border-radius: 50%;\n",
              "    cursor: pointer;\n",
              "    display: none;\n",
              "    fill: var(--fill-color);\n",
              "    height: 32px;\n",
              "    padding: 0;\n",
              "    width: 32px;\n",
              "  }\n",
              "\n",
              "  .colab-df-quickchart:hover {\n",
              "    background-color: var(--hover-bg-color);\n",
              "    box-shadow: 0 1px 2px rgba(60, 64, 67, 0.3), 0 1px 3px 1px rgba(60, 64, 67, 0.15);\n",
              "    fill: var(--button-hover-fill-color);\n",
              "  }\n",
              "\n",
              "  .colab-df-quickchart-complete:disabled,\n",
              "  .colab-df-quickchart-complete:disabled:hover {\n",
              "    background-color: var(--disabled-bg-color);\n",
              "    fill: var(--disabled-fill-color);\n",
              "    box-shadow: none;\n",
              "  }\n",
              "\n",
              "  .colab-df-spinner {\n",
              "    border: 2px solid var(--fill-color);\n",
              "    border-color: transparent;\n",
              "    border-bottom-color: var(--fill-color);\n",
              "    animation:\n",
              "      spin 1s steps(1) infinite;\n",
              "  }\n",
              "\n",
              "  @keyframes spin {\n",
              "    0% {\n",
              "      border-color: transparent;\n",
              "      border-bottom-color: var(--fill-color);\n",
              "      border-left-color: var(--fill-color);\n",
              "    }\n",
              "    20% {\n",
              "      border-color: transparent;\n",
              "      border-left-color: var(--fill-color);\n",
              "      border-top-color: var(--fill-color);\n",
              "    }\n",
              "    30% {\n",
              "      border-color: transparent;\n",
              "      border-left-color: var(--fill-color);\n",
              "      border-top-color: var(--fill-color);\n",
              "      border-right-color: var(--fill-color);\n",
              "    }\n",
              "    40% {\n",
              "      border-color: transparent;\n",
              "      border-right-color: var(--fill-color);\n",
              "      border-top-color: var(--fill-color);\n",
              "    }\n",
              "    60% {\n",
              "      border-color: transparent;\n",
              "      border-right-color: var(--fill-color);\n",
              "    }\n",
              "    80% {\n",
              "      border-color: transparent;\n",
              "      border-right-color: var(--fill-color);\n",
              "      border-bottom-color: var(--fill-color);\n",
              "    }\n",
              "    90% {\n",
              "      border-color: transparent;\n",
              "      border-bottom-color: var(--fill-color);\n",
              "    }\n",
              "  }\n",
              "</style>\n",
              "\n",
              "  <script>\n",
              "    async function quickchart(key) {\n",
              "      const quickchartButtonEl =\n",
              "        document.querySelector('#' + key + ' button');\n",
              "      quickchartButtonEl.disabled = true;  // To prevent multiple clicks.\n",
              "      quickchartButtonEl.classList.add('colab-df-spinner');\n",
              "      try {\n",
              "        const charts = await google.colab.kernel.invokeFunction(\n",
              "            'suggestCharts', [key], {});\n",
              "      } catch (error) {\n",
              "        console.error('Error during call to suggestCharts:', error);\n",
              "      }\n",
              "      quickchartButtonEl.classList.remove('colab-df-spinner');\n",
              "      quickchartButtonEl.classList.add('colab-df-quickchart-complete');\n",
              "    }\n",
              "    (() => {\n",
              "      let quickchartButtonEl =\n",
              "        document.querySelector('#df-ec068444-9c64-41d4-8991-f08333e69b5d button');\n",
              "      quickchartButtonEl.style.display =\n",
              "        google.colab.kernel.accessAllowed ? 'block' : 'none';\n",
              "    })();\n",
              "  </script>\n",
              "</div>\n",
              "    </div>\n",
              "  </div>\n"
            ]
          },
          "metadata": {},
          "execution_count": 8
        }
      ],
      "source": [
        "# convertir en variable categorica shelf\n",
        "cereals_df['shelf'] = cereals_df['shelf'].astype('category')\n",
        "# converte en variable categorica mfr\n",
        "cereals_df['mfr'] = cereals_df['mfr'].astype('category')\n",
        "# convertir en variable categorica type\n",
        "cereals_df['type'] = cereals_df['type'].astype('category')\n",
        "cereals_df"
      ]
    },
    {
      "cell_type": "markdown",
      "metadata": {
        "id": "VYwGAFlVgYCp"
      },
      "source": [
        "# **Parte 1**. EDA y preprocesamiento"
      ]
    },
    {
      "cell_type": "markdown",
      "metadata": {
        "id": "OPfTGSQBgw5C"
      },
      "source": [
        "1. Obtén estadísticas descriptivas para todas las variables del dataframe."
      ]
    },
    {
      "cell_type": "code",
      "execution_count": null,
      "metadata": {
        "colab": {
          "base_uri": "https://localhost:8080/",
          "height": 719
        },
        "id": "07VOb9HMuAnx",
        "outputId": "cd7f100d-985c-4baa-c728-c8643b2dda06"
      },
      "outputs": [
        {
          "output_type": "stream",
          "name": "stdout",
          "text": [
            "Hay 77 observaciones en la base de datos.\n",
            "Hay 16 variables en la base de datos.\n",
            "Las variables de la base de datos son: ['name', 'mfr', 'type', 'calories', 'protein', 'fat', 'sodium', 'fiber', 'carbo', 'sugars', 'potass', 'vitamins', 'shelf', 'weight', 'cups', 'rating']\n",
            "Los tipos de datos de las variables son: [dtype('O'), CategoricalDtype(categories=['A', 'G', 'K', 'N', 'P', 'Q', 'R'], ordered=False), CategoricalDtype(categories=['C', 'H'], ordered=False), dtype('int64'), dtype('int64'), dtype('int64'), dtype('int64'), dtype('float64'), dtype('float64'), dtype('float64'), dtype('float64'), dtype('int64'), CategoricalDtype(categories=[1, 2, 3], ordered=False), dtype('float64'), dtype('float64'), dtype('float64')]\n",
            "Hay 7 variables categoricas y 5 variables numericas.\n",
            "El porcentaje de valores faltantes por columna es: {}\n",
            " name       0.000000\n",
            "mfr        0.000000\n",
            "type       0.000000\n",
            "calories   0.000000\n",
            "protein    0.000000\n",
            "fat        0.000000\n",
            "sodium     0.000000\n",
            "fiber      0.000000\n",
            "carbo      1.298701\n",
            "sugars     1.298701\n",
            "potass     2.597403\n",
            "vitamins   0.000000\n",
            "shelf      0.000000\n",
            "weight     0.000000\n",
            "cups       0.000000\n",
            "rating     0.000000\n",
            "dtype: float64\n"
          ]
        },
        {
          "output_type": "execute_result",
          "data": {
            "text/plain": [
              "        calories   protein       fat     sodium     fiber     carbo    sugars  \\\n",
              "count  77.000000 77.000000 77.000000  77.000000 77.000000 76.000000 76.000000   \n",
              "mean  106.883117  2.545455  1.012987 159.675325  2.151948 14.802632  7.026316   \n",
              "std    19.484119  1.094790  1.006473  83.832295  2.383364  3.907326  4.378656   \n",
              "min    50.000000  1.000000  0.000000   0.000000  0.000000  5.000000  0.000000   \n",
              "25%   100.000000  2.000000  0.000000 130.000000  1.000000 12.000000  3.000000   \n",
              "50%   110.000000  3.000000  1.000000 180.000000  2.000000 14.500000  7.000000   \n",
              "75%   110.000000  3.000000  2.000000 210.000000  3.000000 17.000000 11.000000   \n",
              "max   160.000000  6.000000  5.000000 320.000000 14.000000 23.000000 15.000000   \n",
              "\n",
              "          potass   vitamins    weight      cups    rating  \n",
              "count  75.000000  77.000000 77.000000 77.000000 77.000000  \n",
              "mean   98.666667  28.246753  1.029610  0.821039 42.665705  \n",
              "std    70.410636  22.342523  0.150477  0.232716 14.047289  \n",
              "min    15.000000   0.000000  0.500000  0.250000 18.042851  \n",
              "25%    42.500000  25.000000  1.000000  0.670000 33.174094  \n",
              "50%    90.000000  25.000000  1.000000  0.750000 40.400208  \n",
              "75%   120.000000  25.000000  1.000000  1.000000 50.828392  \n",
              "max   330.000000 100.000000  1.500000  1.500000 93.704912  "
            ],
            "text/html": [
              "\n",
              "  <div id=\"df-cbc769bd-b5d8-414c-b8bc-4fb3075cf5d3\" class=\"colab-df-container\">\n",
              "    <div>\n",
              "<style scoped>\n",
              "    .dataframe tbody tr th:only-of-type {\n",
              "        vertical-align: middle;\n",
              "    }\n",
              "\n",
              "    .dataframe tbody tr th {\n",
              "        vertical-align: top;\n",
              "    }\n",
              "\n",
              "    .dataframe thead th {\n",
              "        text-align: right;\n",
              "    }\n",
              "</style>\n",
              "<table border=\"1\" class=\"dataframe\">\n",
              "  <thead>\n",
              "    <tr style=\"text-align: right;\">\n",
              "      <th></th>\n",
              "      <th>calories</th>\n",
              "      <th>protein</th>\n",
              "      <th>fat</th>\n",
              "      <th>sodium</th>\n",
              "      <th>fiber</th>\n",
              "      <th>carbo</th>\n",
              "      <th>sugars</th>\n",
              "      <th>potass</th>\n",
              "      <th>vitamins</th>\n",
              "      <th>weight</th>\n",
              "      <th>cups</th>\n",
              "      <th>rating</th>\n",
              "    </tr>\n",
              "  </thead>\n",
              "  <tbody>\n",
              "    <tr>\n",
              "      <th>count</th>\n",
              "      <td>77.000000</td>\n",
              "      <td>77.000000</td>\n",
              "      <td>77.000000</td>\n",
              "      <td>77.000000</td>\n",
              "      <td>77.000000</td>\n",
              "      <td>76.000000</td>\n",
              "      <td>76.000000</td>\n",
              "      <td>75.000000</td>\n",
              "      <td>77.000000</td>\n",
              "      <td>77.000000</td>\n",
              "      <td>77.000000</td>\n",
              "      <td>77.000000</td>\n",
              "    </tr>\n",
              "    <tr>\n",
              "      <th>mean</th>\n",
              "      <td>106.883117</td>\n",
              "      <td>2.545455</td>\n",
              "      <td>1.012987</td>\n",
              "      <td>159.675325</td>\n",
              "      <td>2.151948</td>\n",
              "      <td>14.802632</td>\n",
              "      <td>7.026316</td>\n",
              "      <td>98.666667</td>\n",
              "      <td>28.246753</td>\n",
              "      <td>1.029610</td>\n",
              "      <td>0.821039</td>\n",
              "      <td>42.665705</td>\n",
              "    </tr>\n",
              "    <tr>\n",
              "      <th>std</th>\n",
              "      <td>19.484119</td>\n",
              "      <td>1.094790</td>\n",
              "      <td>1.006473</td>\n",
              "      <td>83.832295</td>\n",
              "      <td>2.383364</td>\n",
              "      <td>3.907326</td>\n",
              "      <td>4.378656</td>\n",
              "      <td>70.410636</td>\n",
              "      <td>22.342523</td>\n",
              "      <td>0.150477</td>\n",
              "      <td>0.232716</td>\n",
              "      <td>14.047289</td>\n",
              "    </tr>\n",
              "    <tr>\n",
              "      <th>min</th>\n",
              "      <td>50.000000</td>\n",
              "      <td>1.000000</td>\n",
              "      <td>0.000000</td>\n",
              "      <td>0.000000</td>\n",
              "      <td>0.000000</td>\n",
              "      <td>5.000000</td>\n",
              "      <td>0.000000</td>\n",
              "      <td>15.000000</td>\n",
              "      <td>0.000000</td>\n",
              "      <td>0.500000</td>\n",
              "      <td>0.250000</td>\n",
              "      <td>18.042851</td>\n",
              "    </tr>\n",
              "    <tr>\n",
              "      <th>25%</th>\n",
              "      <td>100.000000</td>\n",
              "      <td>2.000000</td>\n",
              "      <td>0.000000</td>\n",
              "      <td>130.000000</td>\n",
              "      <td>1.000000</td>\n",
              "      <td>12.000000</td>\n",
              "      <td>3.000000</td>\n",
              "      <td>42.500000</td>\n",
              "      <td>25.000000</td>\n",
              "      <td>1.000000</td>\n",
              "      <td>0.670000</td>\n",
              "      <td>33.174094</td>\n",
              "    </tr>\n",
              "    <tr>\n",
              "      <th>50%</th>\n",
              "      <td>110.000000</td>\n",
              "      <td>3.000000</td>\n",
              "      <td>1.000000</td>\n",
              "      <td>180.000000</td>\n",
              "      <td>2.000000</td>\n",
              "      <td>14.500000</td>\n",
              "      <td>7.000000</td>\n",
              "      <td>90.000000</td>\n",
              "      <td>25.000000</td>\n",
              "      <td>1.000000</td>\n",
              "      <td>0.750000</td>\n",
              "      <td>40.400208</td>\n",
              "    </tr>\n",
              "    <tr>\n",
              "      <th>75%</th>\n",
              "      <td>110.000000</td>\n",
              "      <td>3.000000</td>\n",
              "      <td>2.000000</td>\n",
              "      <td>210.000000</td>\n",
              "      <td>3.000000</td>\n",
              "      <td>17.000000</td>\n",
              "      <td>11.000000</td>\n",
              "      <td>120.000000</td>\n",
              "      <td>25.000000</td>\n",
              "      <td>1.000000</td>\n",
              "      <td>1.000000</td>\n",
              "      <td>50.828392</td>\n",
              "    </tr>\n",
              "    <tr>\n",
              "      <th>max</th>\n",
              "      <td>160.000000</td>\n",
              "      <td>6.000000</td>\n",
              "      <td>5.000000</td>\n",
              "      <td>320.000000</td>\n",
              "      <td>14.000000</td>\n",
              "      <td>23.000000</td>\n",
              "      <td>15.000000</td>\n",
              "      <td>330.000000</td>\n",
              "      <td>100.000000</td>\n",
              "      <td>1.500000</td>\n",
              "      <td>1.500000</td>\n",
              "      <td>93.704912</td>\n",
              "    </tr>\n",
              "  </tbody>\n",
              "</table>\n",
              "</div>\n",
              "    <div class=\"colab-df-buttons\">\n",
              "\n",
              "  <div class=\"colab-df-container\">\n",
              "    <button class=\"colab-df-convert\" onclick=\"convertToInteractive('df-cbc769bd-b5d8-414c-b8bc-4fb3075cf5d3')\"\n",
              "            title=\"Convert this dataframe to an interactive table.\"\n",
              "            style=\"display:none;\">\n",
              "\n",
              "  <svg xmlns=\"http://www.w3.org/2000/svg\" height=\"24px\" viewBox=\"0 -960 960 960\">\n",
              "    <path d=\"M120-120v-720h720v720H120Zm60-500h600v-160H180v160Zm220 220h160v-160H400v160Zm0 220h160v-160H400v160ZM180-400h160v-160H180v160Zm440 0h160v-160H620v160ZM180-180h160v-160H180v160Zm440 0h160v-160H620v160Z\"/>\n",
              "  </svg>\n",
              "    </button>\n",
              "\n",
              "  <style>\n",
              "    .colab-df-container {\n",
              "      display:flex;\n",
              "      gap: 12px;\n",
              "    }\n",
              "\n",
              "    .colab-df-convert {\n",
              "      background-color: #E8F0FE;\n",
              "      border: none;\n",
              "      border-radius: 50%;\n",
              "      cursor: pointer;\n",
              "      display: none;\n",
              "      fill: #1967D2;\n",
              "      height: 32px;\n",
              "      padding: 0 0 0 0;\n",
              "      width: 32px;\n",
              "    }\n",
              "\n",
              "    .colab-df-convert:hover {\n",
              "      background-color: #E2EBFA;\n",
              "      box-shadow: 0px 1px 2px rgba(60, 64, 67, 0.3), 0px 1px 3px 1px rgba(60, 64, 67, 0.15);\n",
              "      fill: #174EA6;\n",
              "    }\n",
              "\n",
              "    .colab-df-buttons div {\n",
              "      margin-bottom: 4px;\n",
              "    }\n",
              "\n",
              "    [theme=dark] .colab-df-convert {\n",
              "      background-color: #3B4455;\n",
              "      fill: #D2E3FC;\n",
              "    }\n",
              "\n",
              "    [theme=dark] .colab-df-convert:hover {\n",
              "      background-color: #434B5C;\n",
              "      box-shadow: 0px 1px 3px 1px rgba(0, 0, 0, 0.15);\n",
              "      filter: drop-shadow(0px 1px 2px rgba(0, 0, 0, 0.3));\n",
              "      fill: #FFFFFF;\n",
              "    }\n",
              "  </style>\n",
              "\n",
              "    <script>\n",
              "      const buttonEl =\n",
              "        document.querySelector('#df-cbc769bd-b5d8-414c-b8bc-4fb3075cf5d3 button.colab-df-convert');\n",
              "      buttonEl.style.display =\n",
              "        google.colab.kernel.accessAllowed ? 'block' : 'none';\n",
              "\n",
              "      async function convertToInteractive(key) {\n",
              "        const element = document.querySelector('#df-cbc769bd-b5d8-414c-b8bc-4fb3075cf5d3');\n",
              "        const dataTable =\n",
              "          await google.colab.kernel.invokeFunction('convertToInteractive',\n",
              "                                                    [key], {});\n",
              "        if (!dataTable) return;\n",
              "\n",
              "        const docLinkHtml = 'Like what you see? Visit the ' +\n",
              "          '<a target=\"_blank\" href=https://colab.research.google.com/notebooks/data_table.ipynb>data table notebook</a>'\n",
              "          + ' to learn more about interactive tables.';\n",
              "        element.innerHTML = '';\n",
              "        dataTable['output_type'] = 'display_data';\n",
              "        await google.colab.output.renderOutput(dataTable, element);\n",
              "        const docLink = document.createElement('div');\n",
              "        docLink.innerHTML = docLinkHtml;\n",
              "        element.appendChild(docLink);\n",
              "      }\n",
              "    </script>\n",
              "  </div>\n",
              "\n",
              "\n",
              "<div id=\"df-064f7c54-8366-444d-b973-8e2a6ea14ae5\">\n",
              "  <button class=\"colab-df-quickchart\" onclick=\"quickchart('df-064f7c54-8366-444d-b973-8e2a6ea14ae5')\"\n",
              "            title=\"Suggest charts.\"\n",
              "            style=\"display:none;\">\n",
              "\n",
              "<svg xmlns=\"http://www.w3.org/2000/svg\" height=\"24px\"viewBox=\"0 0 24 24\"\n",
              "     width=\"24px\">\n",
              "    <g>\n",
              "        <path d=\"M19 3H5c-1.1 0-2 .9-2 2v14c0 1.1.9 2 2 2h14c1.1 0 2-.9 2-2V5c0-1.1-.9-2-2-2zM9 17H7v-7h2v7zm4 0h-2V7h2v10zm4 0h-2v-4h2v4z\"/>\n",
              "    </g>\n",
              "</svg>\n",
              "  </button>\n",
              "\n",
              "<style>\n",
              "  .colab-df-quickchart {\n",
              "      --bg-color: #E8F0FE;\n",
              "      --fill-color: #1967D2;\n",
              "      --hover-bg-color: #E2EBFA;\n",
              "      --hover-fill-color: #174EA6;\n",
              "      --disabled-fill-color: #AAA;\n",
              "      --disabled-bg-color: #DDD;\n",
              "  }\n",
              "\n",
              "  [theme=dark] .colab-df-quickchart {\n",
              "      --bg-color: #3B4455;\n",
              "      --fill-color: #D2E3FC;\n",
              "      --hover-bg-color: #434B5C;\n",
              "      --hover-fill-color: #FFFFFF;\n",
              "      --disabled-bg-color: #3B4455;\n",
              "      --disabled-fill-color: #666;\n",
              "  }\n",
              "\n",
              "  .colab-df-quickchart {\n",
              "    background-color: var(--bg-color);\n",
              "    border: none;\n",
              "    border-radius: 50%;\n",
              "    cursor: pointer;\n",
              "    display: none;\n",
              "    fill: var(--fill-color);\n",
              "    height: 32px;\n",
              "    padding: 0;\n",
              "    width: 32px;\n",
              "  }\n",
              "\n",
              "  .colab-df-quickchart:hover {\n",
              "    background-color: var(--hover-bg-color);\n",
              "    box-shadow: 0 1px 2px rgba(60, 64, 67, 0.3), 0 1px 3px 1px rgba(60, 64, 67, 0.15);\n",
              "    fill: var(--button-hover-fill-color);\n",
              "  }\n",
              "\n",
              "  .colab-df-quickchart-complete:disabled,\n",
              "  .colab-df-quickchart-complete:disabled:hover {\n",
              "    background-color: var(--disabled-bg-color);\n",
              "    fill: var(--disabled-fill-color);\n",
              "    box-shadow: none;\n",
              "  }\n",
              "\n",
              "  .colab-df-spinner {\n",
              "    border: 2px solid var(--fill-color);\n",
              "    border-color: transparent;\n",
              "    border-bottom-color: var(--fill-color);\n",
              "    animation:\n",
              "      spin 1s steps(1) infinite;\n",
              "  }\n",
              "\n",
              "  @keyframes spin {\n",
              "    0% {\n",
              "      border-color: transparent;\n",
              "      border-bottom-color: var(--fill-color);\n",
              "      border-left-color: var(--fill-color);\n",
              "    }\n",
              "    20% {\n",
              "      border-color: transparent;\n",
              "      border-left-color: var(--fill-color);\n",
              "      border-top-color: var(--fill-color);\n",
              "    }\n",
              "    30% {\n",
              "      border-color: transparent;\n",
              "      border-left-color: var(--fill-color);\n",
              "      border-top-color: var(--fill-color);\n",
              "      border-right-color: var(--fill-color);\n",
              "    }\n",
              "    40% {\n",
              "      border-color: transparent;\n",
              "      border-right-color: var(--fill-color);\n",
              "      border-top-color: var(--fill-color);\n",
              "    }\n",
              "    60% {\n",
              "      border-color: transparent;\n",
              "      border-right-color: var(--fill-color);\n",
              "    }\n",
              "    80% {\n",
              "      border-color: transparent;\n",
              "      border-right-color: var(--fill-color);\n",
              "      border-bottom-color: var(--fill-color);\n",
              "    }\n",
              "    90% {\n",
              "      border-color: transparent;\n",
              "      border-bottom-color: var(--fill-color);\n",
              "    }\n",
              "  }\n",
              "</style>\n",
              "\n",
              "  <script>\n",
              "    async function quickchart(key) {\n",
              "      const quickchartButtonEl =\n",
              "        document.querySelector('#' + key + ' button');\n",
              "      quickchartButtonEl.disabled = true;  // To prevent multiple clicks.\n",
              "      quickchartButtonEl.classList.add('colab-df-spinner');\n",
              "      try {\n",
              "        const charts = await google.colab.kernel.invokeFunction(\n",
              "            'suggestCharts', [key], {});\n",
              "      } catch (error) {\n",
              "        console.error('Error during call to suggestCharts:', error);\n",
              "      }\n",
              "      quickchartButtonEl.classList.remove('colab-df-spinner');\n",
              "      quickchartButtonEl.classList.add('colab-df-quickchart-complete');\n",
              "    }\n",
              "    (() => {\n",
              "      let quickchartButtonEl =\n",
              "        document.querySelector('#df-064f7c54-8366-444d-b973-8e2a6ea14ae5 button');\n",
              "      quickchartButtonEl.style.display =\n",
              "        google.colab.kernel.accessAllowed ? 'block' : 'none';\n",
              "    })();\n",
              "  </script>\n",
              "</div>\n",
              "    </div>\n",
              "  </div>\n"
            ]
          },
          "metadata": {},
          "execution_count": 9
        }
      ],
      "source": [
        "# 1. Obtiene el numero de registros del dataframe\n",
        "cereals_df.shape[0]\n",
        "print('Hay', cereals_df.shape[0], 'observaciones en la base de datos.')\n",
        "\n",
        "# 2. Obtiene el numero de variables del dataframe\n",
        "cereals_df.shape[1]\n",
        "print('Hay', cereals_df.shape[1], 'variables en la base de datos.')\n",
        "\n",
        "# 3. Obtiene el nombre de las variables del dataframe\n",
        "cereals_df.columns\n",
        "print('Las variables de la base de datos son:', list(cereals_df.columns))\n",
        "\n",
        "# 4. Obtiene el tipo de dato de cada variable\n",
        "cereals_df.dtypes\n",
        "print('Los tipos de datos de las variables son:', list(cereals_df.dtypes))\n",
        "\n",
        "# 5. Obtiene el numero de variables categoricas y numericas\n",
        "cereals_df.dtypes.value_counts()\n",
        "print('Hay', cereals_df.dtypes.value_counts()[0], 'variables categoricas y', cereals_df.dtypes.value_counts()[1], 'variables numericas.')\n",
        "\n",
        "# 6. Calcula el porcentaje de valores faltantes por columna.\n",
        "missing_values = cereals_df.isnull().sum() / len(cereals_df) * 100\n",
        "print('El porcentaje de valores faltantes por columna es: {}\\n', missing_values)\n",
        "\n",
        "# 7. Genera estadistica descriptiva de las variables numericas\n",
        "cereals_df.describe()\n"
      ]
    },
    {
      "cell_type": "code",
      "execution_count": null,
      "metadata": {
        "colab": {
          "base_uri": "https://localhost:8080/",
          "height": 175
        },
        "id": "0yJWxisqFLiZ",
        "outputId": "0f26b09c-7c25-49da-c0f0-760c22addff3"
      },
      "outputs": [
        {
          "output_type": "execute_result",
          "data": {
            "text/plain": [
              "             name mfr type  shelf\n",
              "count          77  77   77     77\n",
              "unique         77   7    2      3\n",
              "top     100%_Bran   K    C      3\n",
              "freq            1  23   74     36"
            ],
            "text/html": [
              "\n",
              "  <div id=\"df-bfc70590-b37d-44ce-8c91-6074e4b115bf\" class=\"colab-df-container\">\n",
              "    <div>\n",
              "<style scoped>\n",
              "    .dataframe tbody tr th:only-of-type {\n",
              "        vertical-align: middle;\n",
              "    }\n",
              "\n",
              "    .dataframe tbody tr th {\n",
              "        vertical-align: top;\n",
              "    }\n",
              "\n",
              "    .dataframe thead th {\n",
              "        text-align: right;\n",
              "    }\n",
              "</style>\n",
              "<table border=\"1\" class=\"dataframe\">\n",
              "  <thead>\n",
              "    <tr style=\"text-align: right;\">\n",
              "      <th></th>\n",
              "      <th>name</th>\n",
              "      <th>mfr</th>\n",
              "      <th>type</th>\n",
              "      <th>shelf</th>\n",
              "    </tr>\n",
              "  </thead>\n",
              "  <tbody>\n",
              "    <tr>\n",
              "      <th>count</th>\n",
              "      <td>77</td>\n",
              "      <td>77</td>\n",
              "      <td>77</td>\n",
              "      <td>77</td>\n",
              "    </tr>\n",
              "    <tr>\n",
              "      <th>unique</th>\n",
              "      <td>77</td>\n",
              "      <td>7</td>\n",
              "      <td>2</td>\n",
              "      <td>3</td>\n",
              "    </tr>\n",
              "    <tr>\n",
              "      <th>top</th>\n",
              "      <td>100%_Bran</td>\n",
              "      <td>K</td>\n",
              "      <td>C</td>\n",
              "      <td>3</td>\n",
              "    </tr>\n",
              "    <tr>\n",
              "      <th>freq</th>\n",
              "      <td>1</td>\n",
              "      <td>23</td>\n",
              "      <td>74</td>\n",
              "      <td>36</td>\n",
              "    </tr>\n",
              "  </tbody>\n",
              "</table>\n",
              "</div>\n",
              "    <div class=\"colab-df-buttons\">\n",
              "\n",
              "  <div class=\"colab-df-container\">\n",
              "    <button class=\"colab-df-convert\" onclick=\"convertToInteractive('df-bfc70590-b37d-44ce-8c91-6074e4b115bf')\"\n",
              "            title=\"Convert this dataframe to an interactive table.\"\n",
              "            style=\"display:none;\">\n",
              "\n",
              "  <svg xmlns=\"http://www.w3.org/2000/svg\" height=\"24px\" viewBox=\"0 -960 960 960\">\n",
              "    <path d=\"M120-120v-720h720v720H120Zm60-500h600v-160H180v160Zm220 220h160v-160H400v160Zm0 220h160v-160H400v160ZM180-400h160v-160H180v160Zm440 0h160v-160H620v160ZM180-180h160v-160H180v160Zm440 0h160v-160H620v160Z\"/>\n",
              "  </svg>\n",
              "    </button>\n",
              "\n",
              "  <style>\n",
              "    .colab-df-container {\n",
              "      display:flex;\n",
              "      gap: 12px;\n",
              "    }\n",
              "\n",
              "    .colab-df-convert {\n",
              "      background-color: #E8F0FE;\n",
              "      border: none;\n",
              "      border-radius: 50%;\n",
              "      cursor: pointer;\n",
              "      display: none;\n",
              "      fill: #1967D2;\n",
              "      height: 32px;\n",
              "      padding: 0 0 0 0;\n",
              "      width: 32px;\n",
              "    }\n",
              "\n",
              "    .colab-df-convert:hover {\n",
              "      background-color: #E2EBFA;\n",
              "      box-shadow: 0px 1px 2px rgba(60, 64, 67, 0.3), 0px 1px 3px 1px rgba(60, 64, 67, 0.15);\n",
              "      fill: #174EA6;\n",
              "    }\n",
              "\n",
              "    .colab-df-buttons div {\n",
              "      margin-bottom: 4px;\n",
              "    }\n",
              "\n",
              "    [theme=dark] .colab-df-convert {\n",
              "      background-color: #3B4455;\n",
              "      fill: #D2E3FC;\n",
              "    }\n",
              "\n",
              "    [theme=dark] .colab-df-convert:hover {\n",
              "      background-color: #434B5C;\n",
              "      box-shadow: 0px 1px 3px 1px rgba(0, 0, 0, 0.15);\n",
              "      filter: drop-shadow(0px 1px 2px rgba(0, 0, 0, 0.3));\n",
              "      fill: #FFFFFF;\n",
              "    }\n",
              "  </style>\n",
              "\n",
              "    <script>\n",
              "      const buttonEl =\n",
              "        document.querySelector('#df-bfc70590-b37d-44ce-8c91-6074e4b115bf button.colab-df-convert');\n",
              "      buttonEl.style.display =\n",
              "        google.colab.kernel.accessAllowed ? 'block' : 'none';\n",
              "\n",
              "      async function convertToInteractive(key) {\n",
              "        const element = document.querySelector('#df-bfc70590-b37d-44ce-8c91-6074e4b115bf');\n",
              "        const dataTable =\n",
              "          await google.colab.kernel.invokeFunction('convertToInteractive',\n",
              "                                                    [key], {});\n",
              "        if (!dataTable) return;\n",
              "\n",
              "        const docLinkHtml = 'Like what you see? Visit the ' +\n",
              "          '<a target=\"_blank\" href=https://colab.research.google.com/notebooks/data_table.ipynb>data table notebook</a>'\n",
              "          + ' to learn more about interactive tables.';\n",
              "        element.innerHTML = '';\n",
              "        dataTable['output_type'] = 'display_data';\n",
              "        await google.colab.output.renderOutput(dataTable, element);\n",
              "        const docLink = document.createElement('div');\n",
              "        docLink.innerHTML = docLinkHtml;\n",
              "        element.appendChild(docLink);\n",
              "      }\n",
              "    </script>\n",
              "  </div>\n",
              "\n",
              "\n",
              "<div id=\"df-e0dc5280-b3f1-4e23-9413-136877dbc75b\">\n",
              "  <button class=\"colab-df-quickchart\" onclick=\"quickchart('df-e0dc5280-b3f1-4e23-9413-136877dbc75b')\"\n",
              "            title=\"Suggest charts.\"\n",
              "            style=\"display:none;\">\n",
              "\n",
              "<svg xmlns=\"http://www.w3.org/2000/svg\" height=\"24px\"viewBox=\"0 0 24 24\"\n",
              "     width=\"24px\">\n",
              "    <g>\n",
              "        <path d=\"M19 3H5c-1.1 0-2 .9-2 2v14c0 1.1.9 2 2 2h14c1.1 0 2-.9 2-2V5c0-1.1-.9-2-2-2zM9 17H7v-7h2v7zm4 0h-2V7h2v10zm4 0h-2v-4h2v4z\"/>\n",
              "    </g>\n",
              "</svg>\n",
              "  </button>\n",
              "\n",
              "<style>\n",
              "  .colab-df-quickchart {\n",
              "      --bg-color: #E8F0FE;\n",
              "      --fill-color: #1967D2;\n",
              "      --hover-bg-color: #E2EBFA;\n",
              "      --hover-fill-color: #174EA6;\n",
              "      --disabled-fill-color: #AAA;\n",
              "      --disabled-bg-color: #DDD;\n",
              "  }\n",
              "\n",
              "  [theme=dark] .colab-df-quickchart {\n",
              "      --bg-color: #3B4455;\n",
              "      --fill-color: #D2E3FC;\n",
              "      --hover-bg-color: #434B5C;\n",
              "      --hover-fill-color: #FFFFFF;\n",
              "      --disabled-bg-color: #3B4455;\n",
              "      --disabled-fill-color: #666;\n",
              "  }\n",
              "\n",
              "  .colab-df-quickchart {\n",
              "    background-color: var(--bg-color);\n",
              "    border: none;\n",
              "    border-radius: 50%;\n",
              "    cursor: pointer;\n",
              "    display: none;\n",
              "    fill: var(--fill-color);\n",
              "    height: 32px;\n",
              "    padding: 0;\n",
              "    width: 32px;\n",
              "  }\n",
              "\n",
              "  .colab-df-quickchart:hover {\n",
              "    background-color: var(--hover-bg-color);\n",
              "    box-shadow: 0 1px 2px rgba(60, 64, 67, 0.3), 0 1px 3px 1px rgba(60, 64, 67, 0.15);\n",
              "    fill: var(--button-hover-fill-color);\n",
              "  }\n",
              "\n",
              "  .colab-df-quickchart-complete:disabled,\n",
              "  .colab-df-quickchart-complete:disabled:hover {\n",
              "    background-color: var(--disabled-bg-color);\n",
              "    fill: var(--disabled-fill-color);\n",
              "    box-shadow: none;\n",
              "  }\n",
              "\n",
              "  .colab-df-spinner {\n",
              "    border: 2px solid var(--fill-color);\n",
              "    border-color: transparent;\n",
              "    border-bottom-color: var(--fill-color);\n",
              "    animation:\n",
              "      spin 1s steps(1) infinite;\n",
              "  }\n",
              "\n",
              "  @keyframes spin {\n",
              "    0% {\n",
              "      border-color: transparent;\n",
              "      border-bottom-color: var(--fill-color);\n",
              "      border-left-color: var(--fill-color);\n",
              "    }\n",
              "    20% {\n",
              "      border-color: transparent;\n",
              "      border-left-color: var(--fill-color);\n",
              "      border-top-color: var(--fill-color);\n",
              "    }\n",
              "    30% {\n",
              "      border-color: transparent;\n",
              "      border-left-color: var(--fill-color);\n",
              "      border-top-color: var(--fill-color);\n",
              "      border-right-color: var(--fill-color);\n",
              "    }\n",
              "    40% {\n",
              "      border-color: transparent;\n",
              "      border-right-color: var(--fill-color);\n",
              "      border-top-color: var(--fill-color);\n",
              "    }\n",
              "    60% {\n",
              "      border-color: transparent;\n",
              "      border-right-color: var(--fill-color);\n",
              "    }\n",
              "    80% {\n",
              "      border-color: transparent;\n",
              "      border-right-color: var(--fill-color);\n",
              "      border-bottom-color: var(--fill-color);\n",
              "    }\n",
              "    90% {\n",
              "      border-color: transparent;\n",
              "      border-bottom-color: var(--fill-color);\n",
              "    }\n",
              "  }\n",
              "</style>\n",
              "\n",
              "  <script>\n",
              "    async function quickchart(key) {\n",
              "      const quickchartButtonEl =\n",
              "        document.querySelector('#' + key + ' button');\n",
              "      quickchartButtonEl.disabled = true;  // To prevent multiple clicks.\n",
              "      quickchartButtonEl.classList.add('colab-df-spinner');\n",
              "      try {\n",
              "        const charts = await google.colab.kernel.invokeFunction(\n",
              "            'suggestCharts', [key], {});\n",
              "      } catch (error) {\n",
              "        console.error('Error during call to suggestCharts:', error);\n",
              "      }\n",
              "      quickchartButtonEl.classList.remove('colab-df-spinner');\n",
              "      quickchartButtonEl.classList.add('colab-df-quickchart-complete');\n",
              "    }\n",
              "    (() => {\n",
              "      let quickchartButtonEl =\n",
              "        document.querySelector('#df-e0dc5280-b3f1-4e23-9413-136877dbc75b button');\n",
              "      quickchartButtonEl.style.display =\n",
              "        google.colab.kernel.accessAllowed ? 'block' : 'none';\n",
              "    })();\n",
              "  </script>\n",
              "</div>\n",
              "    </div>\n",
              "  </div>\n"
            ]
          },
          "metadata": {},
          "execution_count": 10
        }
      ],
      "source": [
        "# 8. Genera estadistica descriptiva de las variables categoricas y objetos\n",
        "\n",
        "cereals_df.describe(include=['object', 'category'])\n"
      ]
    },
    {
      "cell_type": "markdown",
      "metadata": {
        "id": "tNciKJBChIJ4"
      },
      "source": [
        "Genera algunos gráficos para familiarizarte con el conjunto de datos. Al menos deberás incluir los que te permitan responder los siguientes cuestionamientos:\n",
        "\n",
        "**Nota.** Debes responder de manera explícita las preguntas, apoyándote de los resultados observados de cada gráfico.\n",
        "\n",
        "2a) ¿Cuál es la frecuencia o conteo de cada categoría para las variables: `mfr` y `shelf` (por separado)?"
      ]
    },
    {
      "cell_type": "code",
      "execution_count": null,
      "metadata": {
        "colab": {
          "base_uri": "https://localhost:8080/",
          "height": 805
        },
        "id": "WFDaMA9coYXh",
        "outputId": "9be74c90-9c9a-42e0-fd9b-cb7043cd3d01"
      },
      "outputs": [
        {
          "output_type": "display_data",
          "data": {
            "text/plain": [
              "<Figure size 1000x800 with 1 Axes>"
            ],
            "image/png": "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\n"
          },
          "metadata": {}
        },
        {
          "output_type": "stream",
          "name": "stdout",
          "text": [
            "Frecuencia de cada categoria de la variable shelf:\n",
            "3    36\n",
            "2    21\n",
            "1    20\n",
            "Name: shelf, dtype: int64\n"
          ]
        }
      ],
      "source": [
        "# Genera un grafico de barras para la variable shelf que muestre la frecuencia de cada categoria\n",
        "fig, ax = plt.subplots(figsize=(10, 8))\n",
        "#fig, ax = plt.subplots()\n",
        "sns.countplot(x='shelf', data=cereals_df, ax=ax)\n",
        "plt.title('Frecuencia de shelf')\n",
        "plt.xlabel('shelf')\n",
        "plt.ylabel('Frecuencia')\n",
        "\n",
        "# Agrega etiquetas con los valores de cada barra\n",
        "for p in ax.patches:\n",
        "    ax.annotate(str(p.get_height()), (p.get_x() + p.get_width() / 2., p.get_height()),\n",
        "                ha='center', va='center', fontsize=11, color='gray', xytext=(0, 10),\n",
        "                textcoords='offset points')\n",
        "\n",
        "plt.show()\n",
        "\n",
        "# Imprime la frecuencia de cada categoria de la variable shelf\n",
        "print('Frecuencia de cada categoria de la variable shelf:')\n",
        "print(cereals_df['shelf'].value_counts())\n",
        "\n"
      ]
    },
    {
      "cell_type": "code",
      "execution_count": null,
      "metadata": {
        "colab": {
          "base_uri": "https://localhost:8080/",
          "height": 874
        },
        "id": "rM5kFQalFLiZ",
        "outputId": "7801de03-07ce-4d19-f415-d60eb91afd62"
      },
      "outputs": [
        {
          "output_type": "display_data",
          "data": {
            "text/plain": [
              "<Figure size 1000x800 with 1 Axes>"
            ],
            "image/png": "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\n"
          },
          "metadata": {}
        },
        {
          "output_type": "stream",
          "name": "stdout",
          "text": [
            "Frecuencia de cada categoria de la variable mfr:\n",
            "K    23\n",
            "G    22\n",
            "P     9\n",
            "Q     8\n",
            "R     8\n",
            "N     6\n",
            "A     1\n",
            "Name: mfr, dtype: int64\n"
          ]
        }
      ],
      "source": [
        "# Genera un grafico de barras para la variable shelf que muestre la frecuencia de mfr y cada barra tenga su valor o número de conteo como texto\n",
        "fig, ax = plt.subplots(figsize=(10, 8))\n",
        "\n",
        "sns.countplot(x='mfr', data=cereals_df, ax=ax)\n",
        "plt.title('Frecuencia de mfr')\n",
        "plt.xlabel('mfr')\n",
        "plt.ylabel('Frecuencia')\n",
        "\n",
        "# Agrega etiquetas con los valores de cada barra\n",
        "for p in ax.patches:\n",
        "    ax.annotate(str(p.get_height()), (p.get_x() + p.get_width() / 2., p.get_height()),\n",
        "                ha='center', va='center', fontsize=11, color='gray', xytext=(0, 10),\n",
        "                textcoords='offset points')\n",
        "\n",
        "plt.show()\n",
        "\n",
        "# Imprime la frecuencia de cada categoria de la variable shelf\n",
        "print('Frecuencia de cada categoria de la variable mfr:')\n",
        "print(cereals_df['mfr'].value_counts())"
      ]
    },
    {
      "cell_type": "markdown",
      "metadata": {
        "id": "BWsqaT90hajY"
      },
      "source": [
        "2b) Combina los resultados previos para observar, de cada fabricante, cuántos productos tiene en cada estante."
      ]
    },
    {
      "cell_type": "code",
      "execution_count": null,
      "metadata": {
        "id": "D8weqIO2oZKb",
        "outputId": "6c00cf4c-2c22-4b9f-ce16-bf29a4a6c7e9",
        "colab": {
          "base_uri": "https://localhost:8080/",
          "height": 718
        }
      },
      "outputs": [
        {
          "output_type": "display_data",
          "data": {
            "text/plain": [
              "<Figure size 1000x800 with 1 Axes>"
            ],
            "image/png": "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\n"
          },
          "metadata": {}
        }
      ],
      "source": [
        "# Genera un grafico que muestre la frecuencia de cuantos productos tiene cada estante por cada fabricante\n",
        "fig, ax = plt.subplots(figsize=(10, 8))\n",
        "sns.countplot(x='shelf', hue='mfr', data=cereals_df, ax=ax)\n",
        "plt.title('Frecuencia de shelf por mfr')\n",
        "plt.xlabel('shelf')\n",
        "plt.ylabel('Frecuencia')\n",
        "\n",
        "# Agrega etiquetas con los valores de cada barra\n",
        "for p in ax.patches:\n",
        "    ax.annotate(str(p.get_height()), (p.get_x() + p.get_width() / 2., p.get_height()),\n",
        "                ha='center', va='center', fontsize=11, xytext=(0, 10),\n",
        "                textcoords='offset points')\n",
        "\n",
        "plt.show()"
      ]
    },
    {
      "cell_type": "markdown",
      "metadata": {
        "id": "R1iWDKvMhgSF"
      },
      "source": [
        " 3a) ¿Cuál es el rango más frecuente de la variable `rating`?"
      ]
    },
    {
      "cell_type": "code",
      "execution_count": null,
      "metadata": {
        "colab": {
          "base_uri": "https://localhost:8080/",
          "height": 718
        },
        "id": "0h1U52UWoaSQ",
        "outputId": "96bad388-b634-4533-ed20-5729c31adcf9"
      },
      "outputs": [
        {
          "output_type": "display_data",
          "data": {
            "text/plain": [
              "<Figure size 1000x800 with 1 Axes>"
            ],
            "image/png": "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\n"
          },
          "metadata": {}
        }
      ],
      "source": [
        "fig, ax = plt.subplots(figsize=(10, 8))\n",
        "sns.histplot(cereals_df['rating'])\n",
        "plt.title('Distribucion de rating')\n",
        "plt.xlabel('rating')\n",
        "plt.ylabel('Frecuencia')\n",
        "\n",
        "# Agrega etiquetas con los valores de cada barra\n",
        "for p in ax.patches:\n",
        "    ax.annotate(str(p.get_height()), (p.get_x() + p.get_width() / 2., p.get_height()),\n",
        "                ha='center', va='center', fontsize=11, xytext=(0, 10),\n",
        "                textcoords='offset points')\n",
        "\n",
        "plt.show()\n"
      ]
    },
    {
      "cell_type": "code",
      "execution_count": null,
      "metadata": {
        "id": "Rs_9d4YmFLia",
        "outputId": "37a46163-1226-4ca4-8a11-7fa567f9a01a"
      },
      "outputs": [
        {
          "name": "stdout",
          "output_type": "stream",
          "text": [
            "Los cuartiles de la variable rating son:\n",
            "0.250000   33.174094\n",
            "0.500000   40.400208\n",
            "0.750000   50.828392\n",
            "Name: rating, dtype: float64\n"
          ]
        }
      ],
      "source": [
        "# Obten los cuartiles de la variable rating\n",
        "print('Los cuartiles de la variable rating son:')\n",
        "print(cereals_df['rating'].quantile([0.25,0.5,0.75]))\n"
      ]
    },
    {
      "cell_type": "code",
      "execution_count": null,
      "metadata": {
        "id": "0rZ59AvaFLia",
        "outputId": "28e75cf1-4dc1-4603-d78e-bf0311598773",
        "colab": {
          "base_uri": "https://localhost:8080/",
          "height": 410
        }
      },
      "outputs": [
        {
          "output_type": "display_data",
          "data": {
            "text/plain": [
              "<Figure size 1500x400 with 1 Axes>"
            ],
            "image/png": "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\n"
          },
          "metadata": {}
        }
      ],
      "source": [
        "# Genera un boxplot de la variable rating\n",
        "fig, ax = plt.subplots(figsize=(15, 4))\n",
        "sns.boxplot(x=cereals_df['rating'], ax=ax)\n",
        "\n",
        "plt.title('Boxplot de rating')\n",
        "plt.xlabel('rating')\n",
        "\n",
        "# Agregar frecuencia de datos\n",
        "sns.swarmplot(x=cereals_df['rating'], color=\"grey\", ax=ax)\n",
        "\n",
        "plt.show()\n",
        "\n"
      ]
    },
    {
      "cell_type": "markdown",
      "metadata": {
        "id": "6OKJHPnNFLia"
      },
      "source": [
        "El rango que presenta mayor numero de productos esta entre 30 y 40"
      ]
    },
    {
      "cell_type": "markdown",
      "metadata": {
        "id": "dRw4LtNchnLD"
      },
      "source": [
        "3b) ¿Cuáles son los 10 cereales mejor evaluados y a qué fabricante corresponden?"
      ]
    },
    {
      "cell_type": "code",
      "execution_count": null,
      "metadata": {
        "id": "FtNUjewoobG_",
        "outputId": "6bccfc08-ea19-48f2-d658-f7bfd2ce8086"
      },
      "outputs": [
        {
          "name": "stdout",
          "output_type": "stream",
          "text": [
            "Los 10 cereales mejor evaluados son:\n",
            "                         name mfr    rating\n",
            "3   All-Bran_with_Extra_Fiber   K 93.704912\n",
            "64     Shredded_Wheat_'n'Bran   N 74.472949\n",
            "65  Shredded_Wheat_spoon_size   N 72.801787\n",
            "0                   100%_Bran   N 68.402973\n",
            "63             Shredded_Wheat   N 68.235885\n",
            "20     Cream_of_Wheat_(Quick)   N 64.533816\n",
            "55               Puffed_Wheat   Q 63.005645\n",
            "54                Puffed_Rice   Q 60.756112\n",
            "50          Nutri-grain_Wheat   K 59.642837\n",
            "2                    All-Bran   K 59.425505\n"
          ]
        }
      ],
      "source": [
        "# Obten los 10 cereales mejor evaluados y su fabricante\n",
        "print('Los 10 cereales mejor evaluados son:')\n",
        "print(cereals_df[['name','mfr','rating']].sort_values(by='rating', ascending=False).head(10))"
      ]
    },
    {
      "cell_type": "markdown",
      "metadata": {
        "id": "A2wbLHYnhtsp"
      },
      "source": [
        "4a) Compara la distribución de las calorías según el fabricante, por medio de boxplots."
      ]
    },
    {
      "cell_type": "code",
      "execution_count": null,
      "metadata": {
        "id": "MvzEDeMUob8s",
        "outputId": "9d2d96e4-7d6b-4438-a3aa-e7b4e2125acf",
        "colab": {
          "base_uri": "https://localhost:8080/",
          "height": 472
        }
      },
      "outputs": [
        {
          "output_type": "display_data",
          "data": {
            "text/plain": [
              "<Figure size 640x480 with 1 Axes>"
            ],
            "image/png": "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\n"
          },
          "metadata": {}
        }
      ],
      "source": [
        "sns.boxplot(x='mfr', y='calories', data=cereals_df)\n",
        "\n",
        "plt.title('Boxplot de calories por mfr')\n",
        "plt.xlabel('mfr')\n",
        "plt.ylabel('calories')\n",
        "plt.show()\n"
      ]
    },
    {
      "cell_type": "markdown",
      "metadata": {
        "id": "NywjiWzIhy9X"
      },
      "source": [
        "4b) ¿Cuáles son las dos variables que tienen mayor correlación con `rating`?"
      ]
    },
    {
      "cell_type": "code",
      "execution_count": null,
      "metadata": {
        "colab": {
          "base_uri": "https://localhost:8080/"
        },
        "id": "8f5avPbYoc3r",
        "outputId": "8e09896e-1db7-42c1-e1d8-699cfe9ca7d8"
      },
      "outputs": [
        {
          "name": "stdout",
          "output_type": "stream",
          "text": [
            "Variables numericas: ['calories', 'protein', 'fat', 'sodium', 'fiber', 'carbo', 'sugars', 'potass', 'vitamins', 'weight', 'cups', 'rating']\n",
            "Variables categoricas: ['mfr', 'type', 'shelf']\n"
          ]
        }
      ],
      "source": [
        "# Obten la lista de variables numericas y categoricas\n",
        "numericas = cereals_df.select_dtypes(include=['float64','int64']).columns\n",
        "categoricas = cereals_df.select_dtypes(include=['category']).columns\n",
        "print('Variables numericas:', list(numericas))\n",
        "print('Variables categoricas:', list(categoricas))"
      ]
    },
    {
      "cell_type": "code",
      "execution_count": null,
      "metadata": {
        "colab": {
          "base_uri": "https://localhost:8080/",
          "height": 744
        },
        "id": "Hi7ePA-wFLib",
        "outputId": "87ffcb60-2b1d-4d8d-d6c7-bf52ee7f590d"
      },
      "outputs": [
        {
          "data": {
            "image/png": "iVBORw0KGgoAAAANSUhEUgAAAzYAAALXCAYAAABfINXSAAAAOXRFWHRTb2Z0d2FyZQBNYXRwbG90bGliIHZlcnNpb24zLjcuMywgaHR0cHM6Ly9tYXRwbG90bGliLm9yZy/OQEPoAAAACXBIWXMAAA9hAAAPYQGoP6dpAAEAAElEQVR4nOzddZhU1RvA8e/Mdnd3Ukt3SXcIqKQSAiKIIqCE0qioNCiphHR3p9Ld3V3bu2zv3N8fC7MMO0vOsq6/9/M888Dee865752b555zz6gURVEQQgghhBBCiDxMndsBCCGEEEIIIcTbkoqNEEIIIYQQIs+Tio0QQgghhBAiz5OKjRBCCCGEECLPk4qNEEIIIYQQIs+Tio0QQgghhBAiz5OKjRBCCCGEECLPk4qNEEIIIYQQIs+Tio0QQgghhBAiz5OKjRAiV82aNQuVSsX169dzpPwhQ4agUqlypOw3cf36dVQqFbNmzcrtUF7b28T+dDuEh4e/NK2/vz/t27d//QBFFu3bt8ff3z+3wxBCiHdCKjZC/AdduXKFLl26EBgYiLm5Oba2tlSsWJHx48eTmJiY2+EJIYQQQhiccW4HIIQwrHXr1vHRRx9hZmZG27ZtCQsLIyUlhd27d/Ptt99y5swZpk2bltthvjMDBgygX79+uR3Gf4Kfnx+JiYmYmJjkdijiFU2fPh2NRpPbYQghxDshFRsh/kOuXbtGy5Yt8fPzY/v27Xh4eGjnffHFF1y+fJl169a99XIURSEpKQkLC4ss85KSkjA1NUWt/nc0CBsbG2NsLKe6t5GWloZGo8HU1BRzc/PcDke8gsePH2NlZSWVUCHE/5V/x52HEMIgfv31V+Lj4/nzzz91KjVPBQcH06NHD+3faWlpDB8+nKCgIMzMzPD39+e7774jOTlZJ5+/vz8NGzZk06ZNlCpVCgsLC6ZOncrOnTtRqVQsXLiQAQMG4OXlhaWlJbGxsQAcOHCAunXrYmdnh6WlJVWqVGHPnj0vXY9Vq1bRoEEDPD09MTMzIygoiOHDh5Oenp4l7YEDB6hfvz4ODg5YWVlRpEgRxo8fr52v7x2b113v3bt3U6ZMGczNzQkMDOSvv/566ToAREdH0759e+zs7LC3t6ddu3ZER0frTXv+/Hk+/PBDHB0dMTc3p1SpUqxevfqF5aempuLo6EiHDh2yzIuNjcXc3JxvvvkGgJSUFAYNGkTJkiWxs7PDysqKypUrs2PHDp18T9+jGTVqFOPGjdN+R2fPntX7js3Jkydp3769ttuju7s7n376KREREXpjDg8Pp3nz5tja2uLk5ESPHj1ISkp64XpCxnf59ddf4+Pjg5mZGcHBwfzyyy9ZWiMWLlxIyZIlsbGxwdbWlsKFC+vsD/o8u87Tpk3TrnPp0qU5dOiQTtqqVatStWrVLGU8/y7Ls2X+/vvvBAYGYmlpSe3atbl16xaKojB8+HC8vb2xsLDg/fffJzIyMku5GzZsoHLlylhZWWFjY0ODBg04c+ZMlmVbW1tz5coV6tevj42NDW3atNEbF4BGo2H8+PEULlwYc3NzXFxcqFu3LocPH9ammTlzJtWrV8fV1RUzMzMKFizI5MmTs8R3+PBh6tSpg7OzMxYWFgQEBPDpp5++8PsWQoicIo8xhfgPWbNmDYGBgVSoUOGV0nfq1InZs2fz4Ycf0rt3bw4cOMCIESM4d+4cK1as0El74cIFWrVqRZcuXejcuTP58uXTzhs+fDimpqZ88803JCcnY2pqyvbt26lXrx4lS5Zk8ODBqNVq7c3Srl27KFOmTLZxzZo1C2tra3r16oW1tTXbt29n0KBBxMbGMnLkSG26LVu20LBhQzw8POjRowfu7u6cO3eOtWvX6lTg3ma9L1++zIcffkjHjh1p164dM2bMoH379pQsWZJChQpluwxFUXj//ffZvXs3n3/+OQUKFGDFihW0a9cuS9ozZ85QsWJFvLy86NevH1ZWVixevJgmTZqwbNkymjZtqncZJiYmNG3alOXLlzN16lRMTU2181auXElycjItW7YEMio6f/zxB61ataJz587ExcXx559/UqdOHQ4ePEixYsV0yp45cyZJSUl89tlnmJmZ4ejoqLdL05YtW7h69SodOnTA3d1d29XxzJkz7N+/P0ulsnnz5vj7+zNixAj279/PhAkTiIqKemFlMSEhgSpVqnDnzh26dOmCr68ve/fupX///ty7d49x48ZpY2nVqhU1atTgl19+AeDcuXPs2bPnhfvDU/PnzycuLo4uXbqgUqn49ddfadasGVevXn3jlo958+aRkpLCl19+SWRkJL/++ivNmzenevXq7Ny5k759+3L58mUmTpzIN998w4wZM7R558yZQ7t27ahTpw6//PILCQkJTJ48mUqVKnHs2DGdCktaWhp16tShUqVKjBo1CktLy2xj6tixI7NmzaJevXp06tSJtLQ0du3axf79+ylVqhQAkydPplChQjRu3BhjY2PWrFlDt27d0Gg0fPHFFwA8fPiQ2rVr4+LiQr9+/bC3t+f69essX778jb4rIYR4a4oQ4j8hJiZGAZT333//ldIfP35cAZROnTrpTP/mm28UQNm+fbt2mp+fnwIoGzdu1Em7Y8cOBVACAwOVhIQE7XSNRqOEhIQoderUUTQajXZ6QkKCEhAQoNSqVUs7bebMmQqgXLt2TSfd87p06aJYWloqSUlJiqIoSlpamhIQEKD4+fkpUVFROmmfXebgwYOVZ091b7Le//zzj3baw4cPFTMzM6V3795ZYnzWypUrFUD59ddftdPS0tKUypUrK4Ayc+ZM7fQaNWoohQsX1q7b03WoUKGCEhIS8sLlbNq0SQGUNWvW6EyvX7++EhgYqLPs5ORknTRRUVGKm5ub8umnn2qnXbt2TQEUW1tb5eHDhzrpn857NnZ922rBggVZvren26Fx48Y6abt166YAyokTJ7TT/Pz8lHbt2mn/Hj58uGJlZaVcvHhRJ2+/fv0UIyMj5ebNm4qiKEqPHj0UW1tbJS0tLUtML/J0vZycnJTIyEjt9FWrVmX5bqtUqaJUqVIlSxnt2rVT/Pz8spTp4uKiREdHa6f3799fAZSiRYsqqamp2umtWrVSTE1NtftAXFycYm9vr3Tu3FlnOffv31fs7Ox0prdr104BlH79+r00ru3btyuA8tVXX2VJ+/yx+rw6dero7FMrVqxQAOXQoUNZ0gohRG6QrmhC/Ec87f5lY2PzSunXr18PQK9evXSm9+7dGyDLuzgBAQHUqVNHb1nt2rXTed/m+PHjXLp0idatWxMREUF4eDjh4eE8fvyYGjVq8M8//7zwheZny4qLiyM8PJzKlSuTkJDA+fPnATh27BjXrl3j66+/xt7eXif/i4Z3ft31LliwIJUrV9b+7eLiQr58+bh69Wq2y3i6HGNjY7p27aqdZmRkxJdffqmTLjIyku3bt9O8eXPtuoaHhxMREUGdOnW4dOkSd+7cyXY51atXx9nZmUWLFmmnRUVFsWXLFlq0aKGz7KctOhqNhsjISNLS0ihVqhRHjx7NUu4HH3yAi4vLC9cRdLdVUlIS4eHhlCtXDkBvuU+f9j/19Pt4ul30WbJkCZUrV8bBwUH7/YSHh1OzZk3S09P5559/ALC3t+fx48ds2bLlpXHr06JFCxwcHLR/P93uL9vWL/LRRx9hZ2en/bts2bIAfPzxxzrvfpUtW5aUlBTttt6yZQvR0dG0atVKZ52NjIwoW7Zsli6EgM6+lp1ly5ahUqkYPHhwlnnPHjfPbteYmBjCw8OpUqUKV69eJSYmBkB73K1du5bU1NSXLlsIIXKadEUT4j/C1tYWyKgIvIobN26gVqsJDg7Wme7u7o69vT03btzQmR4QEJBtWc/Pu3TpEoDebldPxcTE6NxEPuvMmTMMGDCA7du3aytsz+aDjCGtAcLCwrJdhj6vu96+vr5ZynBwcCAqKuqly/Hw8MDa2lpn+rNd+CCjq5uiKAwcOJCBAwfqLevhw4d4eXnpnWdsbMwHH3zA/PnzSU5OxszMjOXLl5OamqpTsQGYPXs2o0eP5vz58zo3ovq27Yu297MiIyMZOnQoCxcu5OHDhzrznm6rZ4WEhOj8HRQUhFqtfuHvGF26dImTJ09mW9F6utxu3bqxePFi6tWrh5eXF7Vr16Z58+bUrVv3ldbl+W39dP982bZ+nTKfVnJ8fHz0Tn+6rKfHUPXq1fWW+/R4f8rY2Bhvb++XxnPlyhU8PT1xdHR8Ybo9e/YwePBg9u3bR0JCgs68mJgY7OzsqFKlCh988AFDhw5l7NixVK1alSZNmtC6dWvMzMxeGosQQhiaVGyE+I+wtbXF09OT06dPv1a+V/3xSn0joGU372lrzMiRI7O8u/HU8zf8T0VHR1OlShVsbW0ZNmwYQUFBmJubc/ToUfr27WuwoWtfdb2NjIz0TlcUxSBxPF2fb775JtsWsecrYc9r2bIlU6dOZcOGDTRp0oTFixeTP39+ihYtqk0zd+5c2rdvT5MmTfj2229xdXXFyMiIESNGaCuJz3rR9n5W8+bN2bt3L99++y3FihXD2toajUZD3bp1X2lbvcp20Gg01KpViz59+uidHxoaCoCrqyvHjx9n06ZNbNiwgQ0bNjBz5kzatm3L7NmzX7qcV9nWKpVK77bXN7DFi8p82bKefndz5szB3d09S7rnR/ozMzMz2EiEV65coUaNGuTPn58xY8bg4+ODqakp69evZ+zYsdrYVCoVS5cuZf/+/axZs4ZNmzbx6aefMnr0aPbv35/tMS6EEDlFKjZC/Ic0bNiQadOmsW/fPsqXL//CtH5+fmg0Gi5dukSBAgW00x88eEB0dDR+fn5vHEdQUBCQUdmqWbPma+XduXMnERERLF++nPfee087/dq1a3qXcfr06ddaRk6u9/PL2bZtG/Hx8To3eBcuXNBJFxgYCGQMBPC639VT7733Hh4eHixatIhKlSqxfft2vv/+e500S5cuJTAwkOXLl+tUJvR1SXpVUVFRbNu2jaFDhzJo0CDt9KetDfpcunRJpzXo8uXLaDSaLCN3PSsoKIj4+PhX+n5MTU1p1KgRjRo1QqPR0K1bN6ZOncrAgQNfWkF8FQ4ODnq7pj3f0ve2nu7frq6ub7xfZFfupk2biIyMzLbVZs2aNSQnJ7N69WqdFid93d8AypUrR7ly5fjxxx+ZP38+bdq0YeHChXTq1MlgcQshxKuQd2yE+A/p06cPVlZWdOrUiQcPHmSZf+XKFe3Qt/Xr1wfQjij11JgxYwBo0KDBG8dRsmRJgoKCGDVqFPHx8VnmP3r0KNu8T59kP/tUPCUlhUmTJumkK1GiBAEBAYwbNy7LEMovak3JyfV+fjlpaWk6Q+Smp6czceJEnXSurq5UrVqVqVOncu/evSzlvOi7ekqtVvPhhx+yZs0a5syZQ1paWpZuaPq+1wMHDrBv377XWq+XlQlZv9tn/f777zp/P/0+6tWrl22e5s2bs2/fPjZt2pRlXnR0NGlpaQBZhphWq9UUKVIEIMtQ3m8qKCiI8+fP62yXEydOvNIw5q+jTp062Nra8tNPP+l9f+VV9gt9PvjgAxRFYejQoVnmPd2O+rZrTEwMM2fO1EkfFRWVZds/baE11PcthBCvQ1pshPgPCQoKYv78+bRo0YICBQrQtm1bwsLCSElJYe/evSxZsoT27dsDULRoUdq1a8e0adO03b8OHjzI7NmzadKkCdWqVXvjONRqNX/88Qf16tWjUKFCdOjQAS8vL+7cucOOHTuwtbVlzZo1evNWqFABBwcH2rVrx1dffYVKpWLOnDlZbqDUajWTJ0+mUaNGFCtWjA4dOuDh4cH58+c5c+aM3pvgnF7vZzVq1IiKFSvSr18/rl+/TsGCBVm+fLne905+//13KlWqROHChencuTOBgYE8ePCAffv2cfv2bU6cOPHS5bVo0YKJEycyePBgChcurNMaBRmtecuXL6dp06Y0aNCAa9euMWXKFAoWLKi38vkqbG1tee+99/j1119JTU3Fy8uLzZs3Z2lde9a1a9do3LgxdevWZd++fcydO5fWrVvrdJt73rfffsvq1atp2LChdqjtx48fc+rUKZYuXcr169dxdnamU6dOREZGUr16dby9vblx4wYTJ06kWLFiWb6PN/Xpp58yZswY6tSpQ8eOHXn48CFTpkyhUKFCWd4Hexu2trZMnjyZTz75hBIlStCyZUtcXFy4efMm69ato2LFivz222+vXW61atX45JNPmDBhApcuXdJ2Gdy1axfVqlWje/fu1K5dW9vy1aVLF+Lj45k+fTqurq46le/Zs2czadIkmjZtSlBQEHFxcUyfPh1bW1vtAwQhhHincmMoNiFEzrp48aLSuXNnxd/fXzE1NVVsbGyUihUrKhMnTtQZUjg1NVUZOnSoEhAQoJiYmCg+Pj5K//79ddIoSsbwuw0aNMiynKfDPS9ZskRvHMeOHVOaNWumODk5KWZmZoqfn5/SvHlzZdu2bdo0+oZ73rNnj1KuXDnFwsJC8fT0VPr06aMd1njHjh06y9i9e7dSq1YtxcbGRrGyslKKFCmiTJw4UTv/+eGeDbHe2Q35+7yIiAjlk08+UWxtbRU7Ozvlk08+UY4dO5ZlyGRFUZQrV64obdu2Vdzd3RUTExPFy8tLadiwobJ06dKXLkdRMobq9fHxUQDlhx9+0Dv/p59+Uvz8/BQzMzOlePHiytq1a7MdpnjkyJFZytA33PPt27eVpk2bKvb29oqdnZ3y0UcfKXfv3lUAZfDgwdp0T7fD2bNnlQ8//FCxsbFRHBwclO7duyuJiYk6y3l+uGdFyRj+uH///kpwcLBiamqqODs7KxUqVFBGjRqlpKSkKIqiKEuXLlVq166tuLq6Kqampoqvr6/SpUsX5d69ey/87l60zs+vh6Ioyty5c5XAwEDF1NRUKVasmLJp06ZX/h6zO2aeHgfPD528Y8cOpU6dOoqdnZ1ibm6uBAUFKe3bt1cOHz6sTdOuXTvFyspK77o9H5eiZAz9PXLkSCV//vyKqamp4uLiotSrV085cuSINs3q1auVIkWKKObm5oq/v7/yyy+/KDNmzNA5Vo8ePaq0atVK8fX1VczMzBRXV1elYcOGOrEJIcS7pFIUA70BK4QQQgghhBC5RN6xEUIIIYQQQuR5UrERQgghhBBC5HlSsRFCCCGEEELkeVKxEUIIIYQQQmTrn3/+oVGjRnh6eqJSqVi5cuVL8+zcuZMSJUpgZmZGcHAws2bNyvE4pWIjhBBCCCGEyNbjx48pWrRolt8iy861a9do0KAB1apV4/jx43z99dd06tQp259iMBQZFU0IIYQQQgjxSlQqFStWrKBJkybZpunbty/r1q3j9OnT2mktW7YkOjqajRs35lhs0mIjhBBCCCHE/5nk5GRiY2N1PsnJyQYpe9++fdSsWVNnWp06ddi3b59Bys+OcY6W/h+3ziRfbodgUB5n9uZ2CAZV8MgfuR2CwaQGF87tEAxq9qN6uR2CQX3s+Xduh2AwxvtztpvAu3ao4qDcDsGgiqfl7E3Bu5SyeFZuh2BQUZ1+zO0QDOqrYRG5HYLBbJpdLLdDyFZu3kse+r4VQ4cO1Zk2ePBghgwZ8tZl379/Hzc3N51pbm5uxMbGkpiYiIWFxVsvQx+p2AghhBBCCPF/pn///vTq1UtnmpmZWS5FYxhSsRFCCCGEECIXqExUubZsMzOzHKvIuLu78+DBA51pDx48wNbWNsdaa0DesRFCCCGEEEIYUPny5dm2bZvOtC1btlC+fPkcXa5UbIQQQgghhBDZio+P5/jx4xw/fhzIGM75+PHj3Lx5E8jo1ta2bVtt+s8//5yrV6/Sp08fzp8/z6RJk1i8eDE9e/bM0TilK5oQQgghhBC5QG2ce13RXsfhw4epVq2a9u+n7+a0a9eOWbNmce/ePW0lByAgIIB169bRs2dPxo8fj7e3N3/88Qd16tTJ0TilYiOEEEIIIYTIVtWqVXnRT1/OmjVLb55jx47lYFRZScVGCCGEEEKIXKAykbdCDEm+TSGEEEIIIUSeJy02QgghhBBC5IK88o5NXiEtNkIIIYQQQog8Tyo2QgghhBBCiDxPuqIJIYQQQgiRC1Qm0hXNkKTFRgghhBBCCJHnSYuNEEIIIYQQuUAGDzAsabERQgghhBBC5HlSsRFCCCGEEELkedIVTQghhBBCiFwggwcYlrTYCCGEEEIIIfK8XK/YDBkyhGLFir11ObNmzcLe3v6tyxFCCCGEEOJdUBurcu3zX/Sf6YrWokUL6tevn9thGIxjpVIE9u6IXYkwzD1dOfxBNx6s3pbbYbF53TLWLJ9HTFQkvgHBtO/Si+DQgtmm3797O0vmTuPRw/u4e3rTqn03ipeqoJ1/cO9Otm5YwbUrF4iPi2XE+Fn4B4bqlPHg3m3mzviNC2dPkpaaQpES5WjfpRf2Do45tp5PLTx4ltl7ThMen0iouwP96pWnsLeL3rSrjl1i0KpdOtNMjYw4NLBdjsf5qhZv2c2cdduJiIkjxNeTb9s2IyzIT2/a7YdOMnP1Fm49CCctXYOvmzNt6lelQaXS7zjqTIqicGDjRM7sW0JyUiwe/iWo9tFg7F38s81zeOtUrpzcQtTDqxibmOPuX5yKjXrj4BqoTRMTfpPdq3/l7tUjpKel4Je/MlU+GICljXOOrcuSTTuYt2YLEdExhPh507tDSwoFB+hNu3LbLtb/s5+rt+4CkD/Al66tmmRJf+32PX6fv5yjZy+SrtEQ4OXBz70/x90554+Vxcev8NeRS0Q8TiLExY4+1YoS5q5/uavP3GDo5iM600yN1Oz7qon275Jjl+vN26NyGG1Lheqd96YURWHNosns3rqcxIQ4gvIVo9Vn3+Hmof/YeGrnhoVsXj2b2OgIvP1CadGxLwEhhQEIf3iHAd0a6M3XudevlKxQm9vXL7BxxUyunD9GfFw0Ti6eVK79ITUatDHo+i3ZtDNjX4uJJcTXm94dWlAo2F9v2pXbdmfsa7ef2ddaNtFJX7ZlV715u7dpyieNahs09ldhUa4Glu/VR21tR9r9W8StnkPa7at609p37o9pYIEs05PPHydm9picDpV1a1axYtlioqIiCQgI4rOu3QnNlz/b9Lt3/c28ObN4+OA+np5etPu0M6VKl9XOT0xMZPbMPziwbw9xcbG4ubnTsHFT6jVoBMCDB/fp3OFjvWX36T+QSpWrGHYFgbZN3alb1QlrSyPOXnrMhNm3uPsg5YV5nBxM6Njcg9JFbDEzVXP3QTKj/7jJpeuJANjbGtOxuSclw2ywsjTi9IV4fp97+6Xliv8//4mKTWpqKhYWFlhYWOR2KAZjZGVJ7MkL3Jq1jFJLf8/tcADYt2src/6YQMcvviU4tBAbVi/i50E9GT1lAXb2WW9gLp47xcSRg2nZ7nNKlK7Inr83M/rHfowYNxMfvyAAkpMSyVewKOUq1WD6bz9nKSMpKZGfBn2NX0AIA36cCMCSudMYNfxbho2ajlqdc42OG09fZdSmgwxoWIHCXi7M23+GrnM3sar7BzhZ69/XrM1MWNX9A+3fKtW/54nI5v3HGDtvJf07fERYsB8LNv7Nl79MZdnI/jja2WRJb2tlyaeNa+Hv6YaJsRG7jp1h2LSFONraUL5I9hfinHR0+x+c+GcOtVr/jK2TN/s3jGfVlE606bcOYxMzvXnuXDlEkUqtcfUpjEaTzr51YzPy9F2LiZklqckJrJzSEWfP/DTtNguA/RsmsOaPrjTvsQhVDuxjW/YeYvxfS+nbqTWFQgJYuH4bPX6awOKxQ3G0s8263mcuUrtCaYrkC8LUxIS/Vm3kqx/Hs2D0YFwdHQC4ff8Rnw0eSeNqFen8USOsLCy4evsupiY5f5rffOE2Y/45xXc1ihHm7sj8o5fpvnwPy9vXwtHSXG8eK1NjlrfPvAl+/kjZ9Jnug6q91+8zbPNRqgd7GTp8Nq+cxY7182nXfTjOrl6sXjiJicO7MXjcckxM9e9Xh/dsYuns0bT+7Hv8Qwqzfd08Jv7QjSETVmFr54ijkzu/TN+qk2f31mVsXjWbQsUrAXDjyjls7Bzo8NWPODi7c/XCCeZOGY5abUS1ei0Nsm5b9h5m/Jxl9O3UikLBASxcv50eIyaweMwQ/fva2YvUrliaIqGBGfva6s189dMEFowahKujPQDrp+ieq/ceP8OPU+dSvUxxg8T8OswKl8W6QWviVs4i9dYVLCvWwf7Tb4kY3QflcVyW9DFzJ6AyyjwmVJbWOH71A8mnDuZ4rLv+3sGf06fQrXsPQvMXYPXKZQwe2I/J02Zib++QJf25s2cY9cuPtG3fkdJlyvH3zu38NHwwYydMxs8/46HGn9Mnc/LEcXp92w9XN3eOHT3MlN8n4OjkRNlyFXB2dmH23MU65W7auI4VyxZTslQZg69j8/quvF/LhVHTb3A/PIV2zTz46ZsgOn93ntRURW8ea0sjxnwfwsnzcQwYfZXo2DS83M2IT0jXphncI4D0dIUh46+SkKihWV0Xfu4TTOf+50lO0Rh8Pd4lldG/5z7hv8AgV2yNRsOvv/5KcHAwZmZm+Pr68uOPPwLQt29fQkNDsbS0JDAwkIEDB5KamvrCsoYNG4a3tzdmZmYUK1aMjRs3audfv34dlUrFokWLqFKlCubm5sybN09vV7RVq1ZRokQJzM3NCQwMZOjQoaSlpQEZT+iGDBmCr68vZmZmeHp68tVXXxni6zCIR5v+4eLgcTxYtfXlid+RdSsXUr1OY6rWbIi3bwAdu/XB1MyMnVvW6k2/YfViipYoS6NmbfDy8af5x58REJSPTWuXadNUrl6PD1p9SuFi+lsBLp49yaOH9/n86wH4+gfh6x9E154DuXr5PGdOHtGbx1Dm7DtNsxL5aFI8lCBXBwY0rIi5iTErj13MNo8KFc42ltpPdhWg3DBvw06aVCtP4yplCfRyp3+HjzA3M2X13wf0pi9VMJhqpYsQ4OWGt5szrepWIdjHg+MX9D8JzWmKonD8778oXftzAgvXwNkzH7Va/8Lj2IdcPZX9cfJ+lz8oUKYZTh4huHjlp1brEcRF3eXh7TMA3Lt2lLjIO9RqPQJnz3xPyv2Zh7dOc+vS/hxZlwXrtvJ+jUo0qlaRQG9P+nVqg7mpKWt27NWbfthXHfmwTlVC/X3w93Ln+8/bolEUDp86r00zeeFKKhQP48uPPyBfgC/e7i68V6qo3ptXQ5t79BJNw/xpXMifQCdbvqtZHHNjI1advpFtHpVKhbOVufbjZKVbAXp2nrOVOTuv3KOUjwve9lYGjV1RFLatm0e9DzpTrEw1vP1D6fDlcKKjHnH84I5s821dM4eKNZtRoXoTPH2CaP3ZAEzMzNm7fSUAaiMj7BycdT7HD2ynZIXamFtYAlCxRhNafNqX0EKlcHHzpux7DahQrTHHDxiudX7Bum28X70ijapWINDbg36dWmXsazv36U0/7MtP+bB2lcx9rcvHGfva6cx9zcneTufzz+GTlCwYipeb/tbsnGRZuS6Jh3aSdGQX6Q/vErdyFkpKMhal9LdEKImP0cTHaD+mIWEoqSkkvYOKzaoVy6hdtz41a9fF19ePbt2/xszMjK2bN+pNv2bVckqULE2zD1vg4+vHx207EBgUzLo1q7Rpzp87S/UatSlcpBhubu7UrdeQgMAgLl3I2F5GRkY4ODrqfPbt3U3FylVy5GFwkzouLFhzn33HYrl2K4lfp93Ayd6ECiXsss3TvIEr4ZEpjP7jFheuJvAgPIWjp+O49zCjNcbLzYyCwVZMnH2bi9cSuX0/mYmzb2NmqqJaeXuDr4PI2wxSsenfvz8///wzAwcO5OzZs8yfPx83NzcAbGxsmDVrFmfPnmX8+PFMnz6dsWPHZlvW+PHjGT16NKNGjeLkyZPUqVOHxo0bc+nSJZ10/fr1o0ePHpw7d446depkKWfXrl20bduWHj16cPbsWaZOncqsWbO0Fa5ly5YxduxYpk6dyqVLl1i5ciWFCxc2xNfxn5SWmsq1yxcIK1pKO02tVhNWrDSXLpzWm+fS+dOEPVdhKVK8LJfO60+vT2paKipUmJiYaKeZmJqiUqm5cPbEa67Fq0tNS+fc3QjKBXpqp6nVKsoFenLy9qNs8yWkpFJ37CJqj1lEjwVbufwwKsdifB2paWmcv3absoUyu/Co1WrKFArh5OXsbz6fUhSFg6cvcuP+I4rnD8rJULMVG3GbhLhH+IRmdmU0s7DBza8I968ff+VykhMznuKaW2ZcaNPTUkClwsjYVJvG2MQMlUrNvWuGrzynpqVx/upNyhTO7A6jVqspXTg/py69WqUxKTmF9LR0bK0zbvI1Gg17j53C18ONr34cT93O3/Dp9yP4+9Bxg8f/vNR0DecfRFPG11U7Ta1SUcbXlVP3IrPNl5iSRoM/NlB/+gZ6rdrHlfDYbNNGPE5i97X7vB/mb8jQgYwuY7HR4RQoktm9x8LKhoCQwly9qP8ck5aays2r53TyqNVqChQuy9ULJ/XmuXHlLLeuX6Bi9SYvjCcxIR5L6+xvAl9HxnF/kzKFM1tYtfvaxdfc16z0VygjomPZc+wUjatV0Ds/RxkZYezpT8rlM5nTFIWUK2cx8Q1+pSIsSr1H8sn9kJqzXZpSU1O5fPkixYqV0E5Tq9UULVaC8+fP6s1z/vxZihYvoTOtRMnSOunzFyjIwQN7iQgPR1EUTp44zt07tylWotTzxQFw+dJFrl29Qq3a9QywVrrcXUxxsjfh6Jl47bSERA3nryZQIDj7BxLlittx8XoC33/hz6KJhfh9WCj1qmT2AjF5MmpYSmpmy4yiQGqqQqEQa4Ovh8jb3rqPQlxcHOPHj+e3336jXbuMdwmCgoKoVCmjqX3AgAHatP7+/nzzzTcsXLiQPn366C1v1KhR9O3bl5YtM5rhf/nlF3bs2MG4ceP4/ffMLllff/01zZo1yzauoUOH0q9fP21MgYGBDB8+nD59+jB48GBu3ryJu7s7NWvWxMTEBF9fX8qUyb5ZNjk5meTkZJ1pqYoGE1Wuj7/wTsTGRqPRpGP33HstdvaO3L2t/8Y4OjoCu+ea1+3sHYiOjnjl5YbkK4SZuTnzZ02i5Sefo6CwYPZkNJp0oiNfvZzXFZWQTLqiZGlxcbKy4Fp4tN48/s52DH2/EiFujsQnpzB772na/bmW5d2a4WZn2KfMrys67jHpGk2WLmeOdjZcv/cw23zxCYnU+3IIKWlpGKnV9G3/IeUK58vpcPVKiMuoUFpaO+lMt7R25nFc+CuVoWg07Fr5Ex4BJXDyyKjkufsXw8TUgj1rRlG+QU9QFPauHY2iSedxbPaV2DcVHRufzbaw5cbd+69Uxu/zluPsaEfpJ5WjqNg4EpKS+WvVRj5v8T7d2zRj3/Ez9B09hUmDelGioGHfSXlWdOKTY8VSt8uWk6UZ16OydgUC8HewZlDtEoQ42xGfksqcw5fosGgnS9rWxM3GMkv6tWdvYmViTPVgTz2lvZ3YqIx9x9Zed7+ysXMkNptzVXxcFBpNOrZ2z+Wxd+L+net68+zZvgJ370CC8hfLNpYr549zeO9muvef8Oor8AKZ+5puq52jnS037jx4pTJ+n78CZwc7ShfW3/10/T/7sTI3p2oudENTW9qgMjJCE69bKdbExWDs4vHS/MbegRi7+xC77M+cClErNjYGjUaDvYPuNdHe3oE7t27pzRMdFZWli5q9vT1RUZkPDLp07c5vE8bSoW1LjIyMUKnUdO/Rk7DCRfSWuWXzBnx8fClQsNBbrlFWjnYZt5TRMbq9cqJjU7Xz9PFwMaVhNWeWb3rEwjUPCA20pOvH3qSmKWzdE8Wte0k8CE/h0488GD/zNknJGprVccHFyRRH+7z/RoVauqIZ1FvvEefOnSM5OZkaNWronb9o0SImTJjAlStXiI+PJy0tDVtb/V0jYmNjuXv3LhUrVtSZXrFiRU6c0H1yVqqU/qcRT504cYI9e/ZoW2gA0tPTSUpKIiEhgY8++ohx48YRGBhI3bp1qV+/Po0aNcLYWP9XMmLECIYOHaozrZXKkTZGOfdysQBbOwe+7vsDf04eyaY1S1Cp1FR4ryYBQfly5N2Ht1HUx5WiPq7P/O1G09+WseTIebpXL5mLkb05S3Mz5v/4DQnJKRw6c5Gx81bi5eJEqYKv9jT0bVw4soYdiwdr/27Uecpbl7lz2TAi7l3iw6/ma6dZWDtSr904diwdyoldc1Cp1IQWb4CLd0FU/8IHF7NXbmTL3kNMGtwbM9OMlkyNJqPv+nulitKqQU0AQv19OHXxCsu3/JOjFZs3UcTTiSKemZWCIh5OfDh7C8tOXaNbhaw3XKvOXKdeAR/MjI3eetkH/lnH/Gk/aP/+ov/Ety7zZVKSkzi0awP1P/ws2zR3bl5m8q89afhRFwoWy4XWDz1mr9rElr2HmTSop3Zfe96anXupU6lMtvP/zSxKvUfavZvZDjSQF6xdvZKL588xYPBwXFzdOHP6JFMnTcTR0YlixXWvO8nJyfyzczvNW+kfTOB1VSvvQI/23tq/B455s+9RpYZL1xKZufQeAFduJuLvZU6D6s5s3RNFejoMm3iNXp/6smxyYdLTFY6diePgiVj+Ra+xin+Jt67YvKiP5r59+2jTpg1Dhw6lTp062NnZsXDhQkaPHv22i8Uqm2bxp+Lj4xk6dKjeVh1zc3N8fHy4cOECW7duZcuWLXTr1o2RI0fy999/63R7eqp///706tVLZ9p2x7x5s/ombG3tUauNiInS7VoSEx2Z7ehk9vZOxERHPZc+Cvvnnoy+TJESZRk/fSmxMdEYGRlhZW3D5580pLy74Z/ePuVgaYaRSkVEfKLO9IjHiThbZ32irI+JkZr8Hk7cisy+i827Ym9jhZFaTWSM7hP0yJg4nF7wDoZarcbHPaPffD4/L67decCsNVvfScUmoFA13L7JfOqYnpbRVSQhPgIru8wKZEJ8OC6eWUc5et7OZcO4fnYnzbrPxdreXWeeb/5KtBuwhcT4KNRGRphZ2PLnoErYOfkYaG0y2dtaZ7MtYnG0f3EXpLlrNvPXqo38NuBrQvwybyjsba0xMlIT4KX7lNrfy50T568YLng97C2eHCsJui3aEQnJOGczcMDzTIzU5HO153b04yzzjt0O50ZUPD83MMyLzkVLV9WOXAaQ9mS/io2OwM4h8x2RuJhIvP31VwitbRxQq42IjdFt0YmLjsDWPuvDrqP7t5KSkkS5Kg31lnf31hXGDf2MSjWbUf/Dzq+9TtnJ3Nd0z0EZ+9qL372au2YLf63axG/f99DZ15517Nwlbtx9wA89Ohks5tehSYhDSU9Hba27LmobOzRxMS/ObGKKWdFyPN6if/Q9Q7O1tUOtVhMdpXtNjI6Owt4x68ABAPYODkRHP58+Gocn19zk5GTmzJ5B/wFDKF2mHAABAYFcu3KFFcuXZKnY7N39D8nJyVSvUcsg67T/WAwXrmQesyYmGQ+C7O1MiIxJy1wPWxOu3EzMkv+pyOg0btxN0pl2614SlUpnng8vX0+k26ALWFqoMTFWEROXzvhBIVy8lmCQdclNKrXUzgzprR9HhoSEYGFhwbZtWV923Lt3L35+fnz//feUKlWKkJAQbtzIvj+/ra0tnp6e7NmzR2f6nj17KFgw+yGF9SlRogQXLlwgODg4y+fpSFoWFhY0atSICRMmsHPnTvbt28epU6f0lmdmZoatra3O5/+lGxqAsYkJAcH5OP3MC/sajYYzJw4Tki9Mb56Q/GGcOXFYZ9qp4wcJya8//cvY2tljZW3D6ROHiY2JomSZSm9UzqswMTaigKcTB67d1U7TaBQOXL1LkWyGe35eukbDpQdRr1wRykkmxsbkD/Dm4JnMgQ80Gg2HzlyiSPCLh7R9lkZRSElNe3lCAzA1t8bexU/7cXQPxtLGhVsXM196TkmK58GNk7j7F8u2HEVR2LlsGFdPbaVpt1nYOem/SQOwsHbAzMKWW5f2kxAfQUBYNUOuEvBkWwT6cujUOe00jUbDodPnKRwSmG2+Oas2MWPZOsb1/4oCQf5ZyiwY5M+Ne7rdi27ee4i7S84O9WxipCa/mz2HbmV2adQoCoduPaSwx6stO12jcDk8BmerrBWhlWeuU8DVnlAXe4PEa25hhauHr/bj4R2Erb0z5595eTwxIZ5rl04RGFpUbxnGJib4BhbQyaPRaDh/6iCB+bJ2AdqzbQVFSlXFxi7r93H31mXGDulMuaqNaNL6SwOsYaaM496XQ6cv6MR56PQFCoe+YF9bvZkZy9czrn93CmQzHDzAmh17yR/oS2g2FZ8cl55O2t3rmAY908qnUmEaVJDUm5dfmNW8cBlURsYkHdc/YIehmZiYEBwcyokTR7XTNBoNJ48fI39+/fc3+fMX5OTxYzrTjh87ok2fnp5GWloa6ufuRdRGahRN1hHItmzeQJmy5bGzs3/LtcmQmKTh7sMU7efGnSQiolMpXjDzvRdLczX5Ay05dznrQ4unzl56jI+7bldWL3czHoZnHWgqIVFDTFw6nm6mhARYsu9Y7j84FP8ub91iY25uTt++fenTpw+mpqZUrFiRR48ecebMGUJCQrh58yYLFy6kdOnSrFu3jhUrVrywvG+//ZbBgwcTFBREsWLFmDlzJsePH2fevHmvFdegQYNo2LAhvr6+fPjhh6jVak6cOMHp06f54YcfmDVrFunp6ZQtWxZLS0vmzp2LhYUFfn6vfpOXk4ysLLEK9tX+bRngjW3R/KRExpB0616uxNSgSUsmj/2BwOD8BIcWZMOqRSQnJVGlZsZTyEljhuHg5EKrdhm/cVCvcXOG9e/G2hXzKV6qAvt2beXq5fN07t5XW2Z8XCzhj+4TFZnRz/3enZsA2Ds4Ye+Q0bKzc+tavLz9sbWz5+L50/w1fRz13m+Bp3fObqtPyocxcMUuCnk6E+blwtz9Z0hMTaNJ8YynuN8v/xtXWyt61MzoFjll5zGKeLvi62hDXFIKs/ae4l5MPM1K/Du6AbWpV5UhU+dTMMCHQkF+zN/4N4nJKTSqkvEC9KAp83B1sKN7i4ztOXP1VgoE+ODt5kRqajp7Tpxl/Z7D9G//Ua7Er1KpKFalLYe3TMHexR9bRy/2b5iAla0rgYVratOtmNSewMI1KVo5o7vF38uGceHIWhp2/B0TMyvtezNm5jYYm2bcSJ89sAxHtyAsrB25d/04u1b8SLEq7XR+68aQWjWoybBJsygQ5E/BIH8Wrt9GUnIKDatmdEEa8ttMXBzt+aJ1UwD+WrWRaYvXMOyrjni6OhERnfE02sLcDEvzjHX4uFFtvh83neIFQihZKB/7j59h95GTTBrcO0fW4Vkflwhh8KbDFHB1IMzdgfnHLpOYmk7jQhnH6KCNh3GxNufLShkPNabtP0dhD0d87KyJS05hzpFL3I9NoMlzgwPEJ6ey9eIder6XcwO7qFQqajRow4Zl03H18H0y3PPv2Du4UKxMZsV27JDPKFa2unYY5pqNPmHWbwPxCyqIf3AY29fNIyU5kQrV3tcp/+G9m1w+d5Tu3/2WZdl3bl5m3JDOFCxWgZoNPyHmyfs+arVabyXoTbRqUINhk2dTINCXgsH+LFy/naTkZBpWKQ/AkN9nZexrrZoA8NeqTUxbspZhX3bA00X/vgYZ799tO3CUHh9/kGWZ71LCro3YftSZtDvXSL11FcuKtVGZmpF45B8AbD76DE1sFI83LdHJZ16qCslnj6IkxOsrNke83/QDxo35leCQfISG5mP1quUkJSdRo1ZdAMaO+hlHJ2fadchoAWv0fjO+69uLFcuXULp0Wf75eweXL13kiy97AmBpaUVY4SLMnDENUzPTjK5op06yY9sWPu38uc6y7969w5nTpxg09Edy0spNj2jV2I07D5K5/yhjuOeI6FT2Hs1sQfu5TxB7j8awemvG/r5800PGDgilZUNX/jkYTb5AS+pXdWLczNvaPJVL2xETl87DiBQCvM35vI03+47EcPS0/vf4xP8vg7x1NXDgQIyNjRk0aBB3797Fw8ODzz//nI4dO9KzZ0+6d+9OcnIyDRo0YODAgQwZMiTbsr766itiYmLo3bs3Dx8+pGDBgqxevZqQkJDXiqlOnTqsXbuWYcOG8csvv2BiYkL+/Pnp1CnjhGFvb8/PP/9Mr169SE9Pp3DhwqxZswYnp9frJpVT7EqGUX7bHO3fBUd9B8Ctv5ZzsmP/XImpfOWaxMZEs3TedKKjIvELDKHf0DHarmjhjx7ovJMQWqAw3b8ZyuK501j011TcPb3p/f3P2t+wAThyYBdTxmeeaCf8OgiAD1p9yoetM7bVvds3WTh7CvHxsbi4etCkeTvqv2+Y33h4kbphgUQ9TmLSjqOExyeSz92RSR/X1g4ocD/mMepnOvjGJaUwbM1uwuMTsTU3o6CnE7M7NiTIVX83g3etdrniRMXGM2XZRiJiYgn182Jiny44PXmJ/X54lM76JCan8MuspTyMjMHM1AR/T1eGd/2Y2uXe/UvCT5Wo3onUlER2LB5EcmIsHgEladxlus5v2MSE3yTpcWb3jVN7FgCw/Pe2OmXVbPUTBcpkdFWNenidfevGkpQQg62jJ6VqfU6xKu1zbD1qVShNdGw80xavJiI6llB/b8b1/wqnJ92DHkREon6me8LyLf+QmpZG/zFTdcrp9GFDOn+U8UN8VcsUp2/nNsxeuZExMxfh6+nGiF5dKJY/57sN1s7nTVRiMlP2nSUiIZlQFzsmNq2oHcL5flyCTl/4uKRUfthylIiEZGzNTMjvZs+MllUJdNLtUrT5wm0UoE5+w3cJ1Im/SXuSkxOZN3U4CY/jCM5fnC8HTNL5DZtHD24RH5u5X5WqWIe42CjWLJxMbHQ43v75+PL7SVkGIdi7fSX2Tm4UKFo+y3KP7ttCXGwUB/5Zx4F/1mmnO7p48NPkDQZZt1oVSmXsa0vWZuxrft6M6/dl5r4WHqlz3Gv3tbHTdcrp9EEDOn+U2ZVuy97DKIpC7Yq594O9AMmnDhBvbYNVzWaobexIu3eT6JkjUZ4MKGBk75QxhNYzjJzdMQ3IR9Sfv7zTWCtXqUZMbAzz58wiKiqKwMAghgwbgcOTAQUePXqo8+5ogYKF6N3nO+b9NZM5s2bg6eXFdwOHan/DBuDbvgP4a9afjB45gvi4OFxc3fi47afUq99IZ9lbN2/EydmZ4tmMlmYoi9c/xNxMTY/2PlhbGnHm0mO+H3VV5zdsPFzNsLXOvP28eC2RYROu0eEjD9q878798BSmzLvDjn2Zx5ujvQldWnlhb2dMZHQaW/dEMn/Vqw2A8W+nMvr/6f3zLqgURcnaXileyTqT3BkdKqd4nHk3TfLvSsEjf+R2CAaTGvzfGop89iPDDzWamz72/Du3QzAY4/2bcjsEgzpUcVBuh2BQxdP0//5MXpSyeFZuh2BQUZ1ytjXkXftqWM6NPPqubZpdLLdDyNbeUrn3cKDC4UO5tuyckvfHyRNCCCGEECIPkuGeDUvav4QQQgghhBB5nrTYCCGEEEIIkQtkuGfDkhYbIYQQQgghRJ4nFRshhBBCCCFEnidd0YQQQgghhMgFMniAYUmLjRBCCCGEECLPkxYbIYQQQgghcoFKWmwMSlpshBBCCCGEEHmeVGyEEEIIIYQQeZ50RRNCCCGEECIXqNTSxmBI8m0KIYQQQggh8jxpsRFCCCGEECIXqNQyeIAhSYuNEEIIIYQQIs+TFhshhBBCCCFygfxAp2FJi40QQgghhBAiz5OKjRBCCCGEECLPk65oQgghhBBC5AIZPMCwpMVGCCGEEEIIkedJi40QQgghhBC5QH6g07CkYvMWPM7sze0QDOpeoQq5HYJB+ZyYk9shGMxZJSy3QzCoTjG/5nYIBnUsoGtuh2AwR3yr5HYIBtVh74DcDsGgzlX9JrdDMBi/j61yOwSD2nPDJ7dDMKhVjZfmdggGVCy3AxDviFQThRBCCCGEEHmetNgIIYQQQgiRC2TwAMOSFhshhBBCCCFEnictNkIIIYQQQuQCtZG02BiStNgIIYQQQggh8jyp2AghhBBCCCHyPOmKJoQQQgghRC6QwQMMS1pshBBCCCGEEHmetNgIIYQQQgiRC1RqaWMwJPk2hRBCCCGEEHmetNgIIYQQQgiRC+QdG8OSFhshhBBCCCFEnicVGyGEEEIIIUSeJ13RhBBCCCGEyAXSFc2wpMVGCCGEEEII8UK///47/v7+mJubU7ZsWQ4ePPjC9OPGjSNfvnxYWFjg4+NDz549SUpKytEYpcVGCCGEEEKIXJBXWmwWLVpEr169mDJlCmXLlmXcuHHUqVOHCxcu4OrqmiX9/Pnz6devHzNmzKBChQpcvHiR9u3bo1KpGDNmTI7FKS02QgghhBBCiGyNGTOGzp0706FDBwoWLMiUKVOwtLRkxowZetPv3buXihUr0rp1a/z9/alduzatWrV6aSvP25KKjRBCCCGEEP9nkpOTiY2N1fkkJydnSZeSksKRI0eoWbOmdpparaZmzZrs27dPb9kVKlTgyJEj2orM1atXWb9+PfXr18+ZlXkaV46W/i/h7+/PuHHjcjsMIYQQQgghtFRqda59RowYgZ2dnc5nxIgRWWIMDw8nPT0dNzc3nelubm7cv39f73q1bt2aYcOGUalSJUxMTAgKCqJq1ap89913OfI9PpWn3rHx9/fn66+/5uuvv36tfIcOHcLKyipngnqJzeuWsWb5PGKiIvENCKZ9l14EhxbMNv3+3dtZMncajx7ex93Tm1btu1G8VAXt/IN7d7J1wwquXblAfFwsI8bPwj8wVKeMB/duM3fGb1w4e5K01BSKlChH+y69sHdwzLH1fBnHSqUI7N0RuxJhmHu6cviDbjxYvS3X4snOsvVbWLByPZHRMQT5+9CzU1sKhgbpTbt68w427tzN1Zu3AcgXFECXNh/ppP973yFWbtrOhSvXiY2PZ+aYHwgJ8Mux+BVFYfXCyezasoLEhDiC8helzWff4eb54mXu2LCIzStnExMdgbd/KK069SUgJEw7f9TATlw8c0Qnz3u1P+Djzwdo//6sWfEs5XbqNYIyleq+5Vplb+HBs8zec5rw+ERC3R3oV688hb1d9KZddewSg1bt0plmamTEoYHtciy+ZymKwooFU/l7y0oSHscTkr8IbT/vh7un7wvzbV2/mA0r5hITHYGvfwgfd/6WwNBCAMTHxbBiwTTOHN9PRPgDbGztKVG2Ks1af46llbW2jPZNSmcp9/PeP1Kucm2Drt+BjRM5s28JyUmxePiXoNpHg7F38c82z+GtU7lycgtRD69ibGKOu39xKjbqjYNroDZNTPhNdq/+lbtXj5CeloJf/spU+WAAljbOBov9eYuOX+avwxeJeJxEqIsdfaoVJ8xD//lz9ZnrDNl0WGeaqZGa/T2a6Uy7GhHLhF2nOHr7EWkahUAnW0Y2Ko+HreVbxbp53VLWrZirvca0+6w3QU/2D30O7N7GknnTCH94DzdPH1q1+4Jiz1xjFEVh2fzp7Ni8iseP4wktUJhPu/bR7qdnTx3hx++/0Fv2sNEzCAopyN3bN5gx+Rfu3LxGYsJj7B2dqVClNs1adsLY+O1vO5Zt2PrcefoTCoZkc57esoONO/c8c572zzhPP0mflpbGtPnL2H/0BHcfPMTK0pJSRQrR9ZPmODs6vHWsr0JRFHavncCJ3UtITozFK7AEtVsPwdHVP9s8+zZO5eLxzUTezzh2vIKKU6XJNzi5B2ZJqygKS37rzLWzu2ja5XdCi9XUU6JhLNx3mtm7jj85JzvRr1FFCvu4vTTfhhOX6bdoK9UK+DPuk8xrRtHvpuhN37NuOdq/V8xQYf/f6t+/P7169dKZZmZmZpCyd+7cyU8//cSkSZMoW7Ysly9fpkePHgwfPpyBAwcaZBn6/CsqNikpKZiamuZY+S4u+m90ctq+XVuZ88cEOn7xLcGhhdiwehE/D+rJ6CkLsLPPepG8eO4UE0cOpmW7zylRuiJ7/t7M6B/7MWLcTHz8Mk7CyUmJ5CtYlHKVajD9t5+zlJGUlMhPg77GLyCEAT9OBGDJ3GmMGv4tw0ZNR63OnUY6IytLYk9e4NasZZRa+nuuxPAy23bv57eZ8/nm8w4UDA1i8ZqN9Br2Kwt++xUHe7ss6Y+dOUfNyuUpnD8EUxMT5q1YS6+hvzJnwghcnDK2b2JyMkUKhFK9Yll+mfRnjq/DphWz2L5uAR2+GoazqxerFkxi/PAvGDp+GSam+k9Wh3ZvYsnM0bTp8j0BoWFsWzuf8cO6MWziSmyf2U8r12pG45ZdtX+bmplnKat996EUKp55k2RpZWPAtdO18fRVRm06yICGFSjs5cK8/WfoOncTq7p/gJO1hd481mYmrOr+gfZvlerdvbS5fsVfbFm7iM49huDi5sny+VMYPfRLfpy4GNNsts2B3ZtZOGMc7br2IzA0jM2rFzBq6Jf8/PtSbO0diY58RHTkI1q074GXTyDhj+4xe8rPREc+onvfX3TK6vjlIAqXKK/929Db5uj2Pzjxzxxqtf4ZWydv9m8Yz6opnWjTbx3GJvrX786VQxSp1BpXn8JoNOnsWzc2I0/ftZiYWZKanMDKKR1x9sxP026zANi/YQJr/uhK8x6LUOXA+WzThVuM+fsk39UoQWEPR+YdvcQXy3exokMdHC2z7vMA1qbGLO+QeTP2/F51Kzqejot28n6YP59XKIiVqQlXI2IxM367+Pft2sK8P8fzabe+BIUWYuPqhfw8+GtGTV6UzTXmJL+NGkSLtl0pXroie//ezJif+vDj2Nnaa8za5XPYtHYxXXoMwtXNgyXzpvHz4K/59fcFmJqaEZq/CL/PXqdT7pJ5Uzlz4jCBwQUAMDY2pnK1+vgH5cPSypqb1y7xx28jUDQKLdp2zRLX69Cep7u0zzhPr91Er2EjWTDxVxzsbbOkP3b6PDUrlXvmPL2OXkNHMmf8T7g4OZKUnMLFq9dp99H7hPj7Ehv/mPEz5tJ3xFj+HDnsrWJ9VQc2T+fIjjk0aPczdk7e7FoznsUTOtJp8Ppsj51blw5Sokob3P0Ko2jS+XvVGBZP7EjHQeswNdOtLB/ePvudnOs2nrzMqPV7GdDkPQp7uzJv7ym6zlzHql6tsj0nA9yJimXMhn2U8PfIMm9b/7Y6f+++eJMhy3dSMyxrBS6vUhvl3uABZmZmr1SRcXZ2xsjIiAcPHuhMf/DgAe7u7nrzDBw4kE8++YROnToBULhwYR4/fsxnn33G999/n2P3ozlSatWqVenevTvdu3fHzs4OZ2dnBg4ciKIoQEbLy/Dhw2nbti22trZ89tlnACxbtoxChQphZmaGv78/o0eP1inzxo0b9OzZE5VKpXOQ7t69m8qVK2uHk/vqq694/Pixdv7zXdFUKhV//PEHTZs2xdLSkpCQEFavXm3w72HdyoVUr9OYqjUb4u0bQMdufTA1M2PnlrV6029YvZiiJcrSqFkbvHz8af7xZwQE5WPT2mXaNJWr1+ODVp9SuFjWJ7AAF8+e5NHD+3z+9QB8/YPw9Q+ia8+BXL18njMnj+jN8y482vQPFweP48GqrbkWw8ssXL2BRrWq0qDGewT4ePHt5x0wNzNj7bZ/9KYf3LMbzerVJCTADz9vT/p264RG0XD45FltmrpVK9GhRVNKFc3+CaqhKIrC1rXzafBhZ4qVqYa3fygdvhpOdOQjjh3ckW2+LWvmUqlWMyrWeB9PnyDadPkeUzNz9mxfqZPO1NQcOwdn7cfC0jpLWRZWNjppsqtMGcKcfadpViIfTYqHEuTqwICGFTE3MWblsYvZ5lGhwtnGUvt50cXWkBRFYfOaBTRu/iklylbBxz+Ezj2GEhUZztEDf2ebb9Oq+VSp3YTKNRrj5RNIu679MTUz559tGecrb79gvuz3K8XLvIerhzcFi5TmgzZdOX5oF+npaTplWVrZYO/grP1kV5l60/U7/vdflK79OYGFa+DsmY9arX/hcexDrp7K/ph/v8sfFCjTDCePEFy88lOr9Qjiou7y8PYZAO5dO0pc5B1qtR6Bs2e+J+X+zMNbp7l1ab/B4n/WvCMXaRoWwPth/gQ62fJ9zRKYGxux6vT17DOpVDhbmWs/Tla6FaDf95ymYoA7X79XhPyuDvjYW1MlyDPbitKr2rBqAdVqv0+VJ9eYT7v1xczMnL+36r/GbFyziCIlytGw2cd4+QTw0cdd8A/Mx+Z1S4GM7bhx9SKaNO9AqXLv4RsQQteeg4mODOfI/ozzoLGJCfYOTtqPtY0dRw/sokqNhtrrsqu7F1VqNsQvIAQXVw9Kln2PilXrcOHs8bdaX4CFazbqnqe7tM84T2/XfxwN7tn1ufN0R53ztLWVJeOG9KVGxbL4enkQli+YXp3acuHKde4/Cn/reF9GURQOb/+L8vW6ElK0Jq7e+WnY/lfiYx5y8Xj2x07zL/+kcPlmuHiG4OqdnwZtfyY28i4Pbp7RSffg1jkObp1BvU9+yulVYc7ukzQrXYAmJfMT5ObIgPffw9zUmJVHzmebJ12j4btF2+hasxTejlkftjx7vna2sWTn2euUDvDC2zFrJVbkHFNTU0qWLMm2bZk9bTQaDdu2baN8+fJ68yQkJGSpvBgZGQFo6wM5Icce38+ePRtjY2MOHjzI+PHjGTNmDH/88Yd2/qhRoyhatCjHjh1j4MCBHDlyhObNm9OyZUtOnTrFkCFDGDhwILNmzQJg+fLleHt7M2zYMO7du8e9e/cAuHLlCnXr1uWDDz7g5MmTLFq0iN27d9O9e/cXxjd06FCaN2/OyZMnqV+/Pm3atCEyMtJg65+Wmsq1yxcIK1pKO02tVhNWrDSXLpzWm+fS+dOEPVdhKVK8LJfO60+vT2paKipUmJiYaKeZmJqiUqm5cPbEa67F/4/U1DQuXrmuUwFRq9WUKlKIMxcuv1IZySnJpKWnY2udO90ewx/cITY6nAJFy2qnWVrZEBASxtULJ/XmSUtN5eaVcxQokplHrVZToEjZLHkO7FpPz3bVGNLjQ5bPnUBycmKW8hZMH0HPdtX4qc/H7N62MsdOXqlp6Zy7G0G5QM9n4lZRLtCTk7cfZZsvISWVumMXUXvMInos2Mrlh1E5Et/zHj24Q0xUBAWLlNFOs7SyJii0EFdesG2uXzmvk0etVlOoaBmuXDiV7bISE+KxsLTCyEi3QX7OtF/p/klNhn7bjn+2rjbotomNuE1C3CN8QjNb68wsbHDzK8L968dfuZzkxDgAzC0zWkjT01JApcLIOLNF39jEDJVKzb1rhn9Qk5qu4dyDaMr6ZQ5dqlapKOvnxsl7EdnmS0xJo/709dSbto6eq/ZwJTxGO0+jKOy+eh8/B2u6LdtFjclraDt/Gzsu33mrWLXXmGeuGWq1mrCipbl0Xv/+cfn8acKKPneNKVGOy0/SP3pwl+ioCAo9k+bpfnopm33u6MF/iIuL4b2aDbON9f7dW5w4up/8YVm7q74O7Xm6yPPn6YKvf562yf48HZ+QgEqlwuYddGGPCb/N49hH+OfXPXY8A4py99qxVy7n+WMHIDUlkTUzelO75SCs7XK250rGOfkR5YK9tdPUahXlgrw5efNBtvmmbj+Cg7UFzUoVeOkyIuIS2HXhJk1L5TdIzP8WKrUq1z6vo1evXkyfPp3Zs2dz7tw5unbtyuPHj+nQoQMAbdu2pX///tr0jRo1YvLkySxcuJBr166xZcsWBg4cSKNGjbQVnJyQY13RfHx8GDt2LCqVinz58nHq1CnGjh1L586dAahevTq9e/fWpm/Tpg01atTQ9rsLDQ3l7NmzjBw5kvbt2+Po6IiRkRE2NjY6zV4jRoygTZs22vduQkJCmDBhAlWqVGHy5MmYm+t/Ita+fXtatWoFwE8//cSECRM4ePAgdesa5n2A2NhoNJp07J57r8XO3pG7t2/ozRMdHYGdvcNz6R2Ijs7+gvq8kHyFMDM3Z/6sSbT85HMUFBbMnoxGk0505KuX8/8mJi6OdI0GRzvdLmeO9rbcuHP3lcqY9NcinB0c3knrjD6x0RlPF23sdPc5W3snYqP0b/v4uCg0mnSdLmcANvZO3LtzXft3mcr1cHLxwM7RhTvXL7Fsznge3LlB176ZraqNW3Ylf+EymJqZc/b4PuZPG0FyUgI1GrQ20BpmikpIJl1RsrS4OFlZcC08Wm8ef2c7hr5fiRA3R+KTU5i99zTt/lzL8m7NcLPL2RuYmCfHsJ29k850WzsnYrLZNnFxT84hz20bWztH7t2+rj9PbDSrF/9JldpNdaY3bdWFgkVKY2pmzunj+/lr6i8kJyVQq2HLN1wjXQlxGZVJS2vd9bO0duZx3Ks99VY0Gnat/AmPgBI4eWS8N+juXwwTUwv2rBlF+QY9QVHYu3Y0iiadx7HZV2DfVHRixn71fEuKo6UZ1yNj9ebxc7BhcJ1ShDjbEZ+cyl9HLtJh4Q6WtKuNm40lkQnJJKSmMfPgBbpVLESPyoXZe/0+36zex7SPqlDS581uOONis9k/7B24+8yxq7N+0RFZ0tvZOxD9ZB98+m/WNI7aec/buWUNRYqXxck56+9YDOnTmetXLpCamkL1Ok34sPVnr7Ru2dGep5/rcuZob8eNO/deqQztebqI/vN0ckoKk+cspmalclhZ5nyLbvyT/djK9rljx8aJx7GvfuxsW/ITXkElcPHKfOd225IReAUWJ6Rozr1T81RUQhLpGj3nZGsLrj2K1pvn6PV7rDh8nsVffvhKy1h97AKWZibUKBTwtuGKN9CiRQsePXrEoEGDuH//PsWKFWPjxo3aAQVu3ryp00IzYMAAVCoVAwYM4M6dO7i4uNCoUSN+/PHHHI0zxyo25cqV0+kuVr58eUaPHk16ejoApUqV0kl/7tw53n//fZ1pFStWZNy4caSnp2dbuztx4gQnT55k3rx52mmKoqDRaLh27RoFCuh/ClCkSBHt/62srLC1teXhw4fZrk9ycnKWIfBSUpIN2p3DEGztHPi67w/8OXkkm9YsQaVSU+G9mgQE5cuR/ugiw5xla9i2ez8Th3+HWQ6+L/asA3+vZ+7UH7R/d/9+Qo4t673ame+lePuFYOfozJjBXXh4/xau7j4ANGyeedPiG5if5ORENq/8K0cqNm+iqI8rRX1cn/nbjaa/LWPJkfN0r17SoMva+/cGZk/OHFmm54CxBi1fn8SEeMYO/xpPnwCatNS9gXy/RSft//0C85GclMiGFXPeuGJz4cgadiwerP27UWf9L/i+jp3LhhFx7xIffjVfO83C2pF67caxY+lQTuyag0qlJrR4A1y8C6JS/TvOZ0U9nSjqmXlTWsTTiQ9mbWLZyat0qximbRmrGuTJxyUzbjrzudpz4m4ES09efeOKzb9BRPhDTh47wFd9ftA7/8tvfyAxMYGb1y4xf9ZEXFfMo9EHn7zjKDPNWb6GbXsOMHFYf73n6bS0NAaN+h0UhW+6tM+RGM4cXM2m+ZnHzofdpr51mZsXDuXR3Uu0+Sbz2Ll0Yhs3L+yn/Xcr3rr8nPA4OYXvl2xncNMqOFi9WgVy5eEL1C8agpnJv+L18P9LT18z0Wfnzp06fxsbGzN48GAGDx6sN31OybW9w1CjlMXHx9OlSxe++uqrLPN8fbMfbejZrlqQ8d6NRqPJNv2IESMYOnSozrTPun9Lly/76k1va2uPWm1ETJRu97aY6MhsRyezt3ciJjrqufRR2D/3lPdlipQoy/jpS4mNicbIyAgraxs+/6Qh5d09X575/5SdjQ1GajWRMTE60yOjY3Gyt39h3vkr1zFv+VrGDe1LsP+LR7gypKJlqhAQmjlyWVpqKgBxMZHYO2beLMVGR+ATkE9vGdY2DqjVRsRG6+6ncdERWVoXnhUQUhiAR/cyKzb60qxbMp3U1BRMTAxb2XOwNMNIpSIiXrc7XMTjRJytX22UKRMjNfk9nLiVzZP4t1G8zHsE6WybFCCj5cbeMXM0r9iYCHwDQrPkB7CxeXIOeW7bxMZEYuegu20SEx8zeuhXmFtY8mW/kS8deSowNIzVi/98420TUKgabt9kPhxKT8tYv4T4CKzsMiuPCfHhuHi+vIvJzmXDuH52J826z8XaXvdFVN/8lWg3YAuJ8VGojYwws7Dlz0GVsHPSv9+9DXuLjP0qMiFJZ3pkQnKW92ayY2KkJr+rPbeiH2vLNFarCHTSbWUIcLTh+N03b0W3sc1m/4iOyvbYzbjGPH9NisL+yf709N+Y6EgcntlPY6Ij8QsMyVLeP1vXYmNjR4ky7+ldnpNLxpNcb98ANJp0/vz9Zxo0aY36DbuhaM/T0brHbGR0DE56Bnh51vyV65m3fB3jhvTRe55OS0tj4Kjfuf8onAnD+uVYa01wkep4+hd9ZrkZx87j2Aisnz124iJw9X55l6stC4dx5fROWveai61D5rFz48J+osJvMq63btfDldO+xDu4FK17zXnbVdHhYGmOkVrPOTk+EWebrOfkWxGx3I2K46s5G7TTNE8eApQYMJVVPVvi45S5TY9eu8f18Gh+bZXzrU/vmjx0Nqwc+zYPHDig8/f+/fsJCQnJtuWlQIEC7NmzR2fanj17CA0N1eYxNTXVtvg8VaJECc6ePUtwcHCWjyFHWuvfvz8xMTE6nw5dvs42vbGJCQHB+Tj9zAv7Go2GMycOE5IvTG+ekPxhnDmhO2zoqeMHCcmvP/3L2NrZY2Vtw+kTh4mNiaJkmUpvVM7/AxMTY0KD/DnyzIv/Go2GI6fOUChfcLb55q1Yy+wlqxg16FvyB7/bUVrMLaxw9fDVfjx8ArG1d+bcycxjLzEhnmuXThOYr4jeMoxNTPANKsD5Z/JoNBrOnTyYbR6AW9cuAGDnkP2Qu7euX8DS2tbglRoAE2MjCng6ceBaZjdBjUbhwNW7FMlmuOfnpWs0XHoQ9coVoddhYWGFm4eP9uPpE4idgxNnTx7SpklMiOfKxTMEvWDb+Afl18mj0Wg4e/IQQfkK65QzasiXGBmb0OP7Ma/Uinzz2kWs3mLbmJpbY+/ip/04ugdjaePCrYuZP9SWkhTPgxsncfcvlm05iqKwc9kwrp7aStNus7Bz8s42rYW1A2YWtty6tJ+E+AgCwqq9UewvYmKkpoCbPQdvZrbeaxSFgzcfUsTj1R4wpWsULofH4vykImRipKagmwPXo+J00t2MisdDzw3fq3p6jTlzQnf/OH3yECH5C+vNE5w/jDPP7E8Ap48fJPhJehc3T+wdnHTKTEh4zJWLZwjJp1umoij8vW0tlarVe6UhnBVFIT09TXvz+iYyz9OZL8hrNBqOnDz7kvP0OmYvXcWogd/oPU8/rdTcvnefcUP6YmeTc6M5mplb4+Dqp/04ewRjZevCjQuZx05yYjx3r53AMyD7d5IURWHLwmFcPL6Fll/Pxt5Zt6Jfrs5nfPr9ajp8t1L7Aaj+YX/qtzX8QAIZ52QXDjzz7phGo3Dgyh2K+GYd7jnAxZ6lXzVnUfePtJ+q+f0pHeDFou4f4W6nOzjNiiPnKOjlQj6PnBvmXfw35FiLzc2bN+nVqxddunTh6NGjTJw4UWeUs+f17t2b0qVLM3z4cFq0aMG+ffv47bffmDRpkjaNv78///zzDy1btsTMzAxnZ2f69u1LuXLl6N69O506dcLKyoqzZ8+yZcsWfvvtN4Otj74h8UxNU1+Yp0GTlkwe+wOBwfkJDi3IhlWLSE5KosqTlywnjRmGg5MLrdplDH9Zr3FzhvXvxtoV8yleqgL7dm3l6uXzdO6e2SoUHxdL+KP7REVm9L29d+cmgHaEGoCdW9fi5e2PrZ09F8+f5q/p46j3fgs8vXPu91NexsjKEqvgzKdklgHe2BbNT0pkDEm3Xq1vdE5r2bgeP06YRv6gAAqEBLJ47SYSk5JpUCPjaeTw8VNwcXTg809aADB3+Vr+XLCMwb264eHqTERUNAAW5uZYWmTc1MTGxfMgPILwyIyWuJtP+oE72tvh5GBv0PhVKhU1G7Zm/dI/cPXwxdktY7hne0cXipfJvAkcM7gLxcpWo3r9jG5ItRp9zMyJg/ALLkhASBhb18wnJTmRitUzuoY+vH+Lg/9soHDJSljZ2HP7+kUWzxxNSMESePtntDacOPQ3sdERBIYWwcTUlLMn9rNh2Z/Ufr9t1kAN5JPyYQxcsYtCns6Eebkwd/8ZElPTaFI8I6bvl/+Nq60VPWpmdHudsvMYRbxd8XW0IS4phVl7T3EvJp5mJfS3mBiSSqWidqNWrFkyA3dPH5xdvVg+fwoOjs6UKFtFm+6XgV0pWa4aNRs0B6DO+62ZPn4oAcEFCAwpxOY1C0hOSqRyjUZARqVm5JAvSUlOoku/YSQmxJOYEA+Ara0DaiMjjh38h9iYSIJCwzAxNePM8QOsXTqTek0+Nuj6FavSlsNbpmDv4o+toxf7N0zAytaVwMKZT1hXTGpPYOGaFK2csey/lw3jwpG1NOz4OyZmVtr3ZszMbTA2zTiGzh5YhqNbEBbWjty7fpxdK36kWJV2Or91Y0htSoYyeOMhCro5UMjdkflHL5GYmkbjQv4ADNxwEFdrC76snHGjP23fWQp7OOJjb01ccip/Hb7IvdjHNC2c+R5A21L56LduPyW8nCnl48re6/f55+o9pjWvoi+EV1bv/VZMHTecgOACBIUWZOPqJ9eYGg0AmDx2KA6OLrRs1w2Auo1a8MN3XVm3Yh7FS1dk3z9buHr5HB2/6AdkbMe6jVuwcvEs3D19cHHzZOm8adg7OlOynG6rzJmTh3n04C7VajfOEteenRsxMjbGxy8IExNTrl4+x6K/JlOuUs23/h2blo3q8uPE6eQPfnKeXrOZxORkGlR/ep6eiouTA59/nHEMzV2+lj8XLmdwz656z9NpaWkMGDmRi1dv8Mt3vdBoNNo0ttbWmORwtyeVSkWp6m3Zu34yDi5+2DtnDPdsbeeq83szC8e1I6RYLUpWzTh2tiwcytlDa2n2+SRMzayIj3ly7FjYYGJqjrWdi94BA2wdPbNUggzlk0pFGLh0B4W8XQjzdmXunpMkpqTSpERGj4Hvl2zPOCfXKYuZiTEh7s+922mR8aDl+enxSSlsPnWV3vX1j76V173uS/zixXLsiG3bti2JiYmUKVMGIyMjevTooR3WWZ8SJUqwePFiBg0axPDhw/Hw8GDYsGG0b99em2bYsGF06dKFoKAgkpOTURSFIkWK8Pfff/P9999TuXJlFEUhKCiIFi1a5NSqvbLylWsSGxPN0nnTiY7KaMrvN3SMtita+KMHOv3EQwsUpvs3Q1k8dxqL/pqKu6c3vb//Wfv7AgBHDuxiyvjMF68m/DoIgA9afcqHrTP60d+7fZOFs6cQHx+Li6sHTZq3o/77hnlJ+E3ZlQyj/LbMpu+CozJ+efbWX8s52bF/dtneqRqVyhEdG8cfC5cRGRVDcIAvowd9i+OTLg4PHkWgfua9sZUbt5GalsaAX3XfbenQoikdW2b8ON/uQ0f5aeJ07bzBo3/PksaQ6jRtT3JyInOn/EDC4ziCCxSjx8DfdYZdfnT/FvGx0dq/S1eqQ1xsFKsXTCY2OgLvgHx8NfB3bJ90ZzE2NuHcyQNsWzuf5OREHJ3dKFG+Bg0+zHxvw8jImJ0bF7N45mhAwcXdh4/a96ZyLcOv41N1wwKJepzEpB1HCY9PJJ+7I5M+rq19efV+zGOd7RWXlMKwNbsJj0/E1tyMgp5OzO7YkCDXd/MjfPWbtiU5KZGZk34i4XE8oQWK0nvQBJ0Wlof37xD3zLYpW6k2cTHRrFgwlZiojG5rvQdP0HY1un7lAlcvZoya2Ker7oABI6euwsXNEyNjY7atX8KCP8eioODq7k2rT3tSpVYTg65fieqdSE1JZMfiQSQnxuIRUJLGXabr/A5HTPhNkh5ndrc9tWcBAMt/160A12z1EwXKZOw7UQ+vs2/dWJISYrB19KRUrc8pVqW9QWN/Vp18PkQlJDN571kiEpLI52LHb80qabui3Y9L0NmvYpNTGL7lKBEJSdiamVDAzYGZrarpdD2rHuLFdzVLMPPgBUbuOI6fow0jG5WnuNfbPX0uX7kWcTHRLJ0/nZioCPwCQ+g7ZKy2q2LEo/s677qGFijCF72HsWTeVBbPmYK7pw+9vvtV5xrTsNknJCcl8efvP2fspwWL0HfIuCwtgTu3rCEkf2E8vf2zxKU2MmLNsjncv3sLRVFwdnGnVoMPqWeA65D2PL1gOZHRT87TA585T4dHoH7mRnHlpu0Z5+mRE3XK6dC8CR1bNuNRZBS7D2WMPtah9wCdNBOG9adE2Mu7Ur6tsrU7k5qSyKb5g0hKiMU7qCTNv/xD59iJenSLxPjMY+fYPxnHzoKxuu8s1W87gsLlc+68+yJ1iwRnnJO3HiI8LoF8Hs5M6tAApyctk/ej43iTe/iNJzNGvKtXNPtWOSGeUik5MB5r1apVKVasmM5vx/wXHb343xpl7F6hCi9PlIeUOWHYPsS56azyZt0R/63Knpz48kR5yLFib/ejg/8mR67lXDec3NDh1oCXJ8pDzlX9JrdDMBi/tOx/cyovWvOg7MsT5SGto3J+0JN3xfyDnrkdQraud3r/5YlyiP8fq3Jt2TlFhpYQQgghhBAiF0hXNMOSoRiEEEIIIYQQeV6OtNg8P5a1EEIIIYQQQpcM92xY8m0KIYQQQggh8jx5x0YIIYQQQohcIO/YGJa02AghhBBCCCHyPKnYCCGEEEIIIfI86YomhBBCCCFELpDBAwxLvk0hhBBCCCFEnictNkIIIYQQQuQGlQweYEjSYiOEEEIIIYTI86RiI4QQQgghhMjzpCuaEEIIIYQQuUB+x8awpMVGCCGEEEIIkedJi40QQgghhBC5QIZ7Niz5NoUQQgghhBB5nrTYCCGEEEIIkQvkHRvDkhYbIYQQQgghRJ4nFRshhBBCCCFEnidd0YQQQgghhMgFMniAYUnF5i0UPPJHbodgUD4n5uR2CAZ1sOgnuR2CwbiePpDbIRjU2ZKdcjsEgzp8ySa3QzCY9q4bcjsEg4oPaJbbIRhUikYu2/9WNpaa3A7BoH64+UVuh2AwP+R2AOKdkTOkEEIIIYQQuUAGDzAsaf8SQgghhBBC5HlSsRFCCCGEEELkedIVTQghhBBCiFwgXdEMS1pshBBCCCGEEHmetNgIIYQQQgiRG2S4Z4OSb1MIIYQQQgiR50mLjRBCCCGEELlApZJ3bAxJWmyEEEIIIYQQeZ5UbIQQQgghhBB5nnRFE0IIIYQQIheoZPAAg5JvUwghhBBCCJHnSYuNEEIIIYQQuUB+oNOwpMVGCCGEEEIIkedJxUYIIYQQQgiR50lXNCGEEEIIIXKDDB5gUPJtCiGEEEIIIfI8abERQgghhBAiF8jgAYYlLTZCCCGEEEKIPO8/V7FRFIXPPvsMR0dHVCoVx48fz+2QhBBCCCGEyEKlUufa57/oP9cVbePGjcyaNYudO3cSGBiIs7PzC9Nfv36dgIAAjh07RrFixd5NkM9ZePAss/ecJjw+kVB3B/rVK09hbxe9aVcdu8SgVbt0ppkaGXFoYLt3EWoWy9ZvYcHK9URGxxDk70PPTm0pGBqkN+3qzTvYuHM3V2/eBiBfUABd2nykk/7vfYdYuWk7F65cJzY+npljfiAkwO+drMvrcKxUisDeHbErEYa5pyuHP+jGg9Xb3mkMiqKwbP40dmxeRcLjeEILFKFD1z64e/q+MN+WdUtYt2IeMVER+AaE0Paz3gSFFtLOT0lJZv6M8ezftYXU1FSKFC9L+8/7YOfgpE3zceOyWcr94pvhlH+vdpbpF8+e4IfvuuLtF8hP4+e+8vptXreMNcvnERMViW9AMO279CI4tGC26ffv3s6SudN49PA+7p7etGrfjeKlKmjnH9y7k60bVnDtygXi42IZMX4W/oGh2vmPHtzjq04f6C27R98fKFep+ivH/qYUReHgxomc2b+E5MRYPAJKUPXDwdi7+Geb59SeBZzeu4DYyDsAOLoHU6b2F/gVeC/H432RxVt2M2fddiJi4gjx9eTbts0IC9J/LG8/dJKZq7dw60E4aekafN2caVO/Kg0qlX7HUWdv+frNLFyx9sm5zpcendtRMDRYb9o1m7ezaccurt68BWSc6zp/3CLb9IamKAorF0zl7y0rSHgcT0j+onzyeb+Xnhu2rV/MhhVziImOwNc/hDadvyUwNEw7f9akHzl74iDRUeGYmVsQnL8Izdt+hYe3vzbNvOkjuXTuBHduXsHDO4Bh4+YbfP2Wbdj63HXnEwqGZHPd2bKDjTv3PHPd8c+47jyT/u/9h1i5aQcXrlwjNv4xM0cPf2fXHUVR2LZiIod3LiEpIQ7fkOI0bjcYZ3f/bPNcO3+I3RtmcPf6GeKiH9H6q4kULFlTJ01y0mM2Lx7DuaPbSIiPxsHFm/K1PqZM9ZY5vEZQo5gRpULVmJvCzYcKq/elERH3annfK6ymdklj9p5NZ/3BdO30UqFqigaq8XBUYW6q4of5KSSl5NAKiDztP1ddu3LlCh4eHlSoUAF3d3eMjf/ddbeNp68yatNBulQtxsIujcnn5kjXuZuIiE/MNo+1mQnberfUfjb2bP4OI860bfd+fps5nw4tmvLn6OEE+/vSa9ivREXH6E1/7Mw5alYuz8Th3zH158G4OTvSa+ivPIqI1KZJTE6mSIFQurZt8a5W440YWVkSe/ICp78ammsxrF0+h81rF/Np174MHfknZmbm/DK4Bykpydnm2b9rC/P+HE/Tlh35YexsfP2D+WVwD2KiM7fBvD/Gcezgbr7sM4IBP00mKjKccSP6ZSnrsx4D+W32eu2nZLkqWdI8jo9jyrihFCpa6rXWbd+urcz5YwIftPqUn8bNxC8gmJ8H9dSJ81kXz51i4sjBVK3diBHjZ1Gq3HuM/rEft25c0aZJTkokX8GitGrXTW8ZTs6uTP5rjc7nw9adMLewpFjJcq8V/5s6uv0PTuyaQ9WPhvDR14sxMbVg9dROpKVmv02t7d0o36A3LXoto3nPpXiHlGPdjC+IuH/pncSsz+b9xxg7byWdm9Zh7g+9CfX15MtfphIZo//uxtbKkk8b12Lm4K9Z+NO3NHqvDMOmLWTfyfPvOHL9tu3ex+8z5tK+ZTP+GPMjwf6+fDP05+zPdafPUqNyBcYPH8DkX4bi6uzEN0N+1jnX5aT1K2azZe1C2n7en4G/zsLU3JwxQ78k9QXnhgO7N7Nwxljeb9mZIWPm4uMfyuihXxL7zDHnH1SAjl8N5qeJS+g9+DdQFEYN+QJNerpOWZVrNqZMpVo5sm7a607zJvw5atiT685IoqJj9aY/dvo8NSuVY+Kw/kwdMQg3Jyd6DR2pe91JSsm47nzy7q87u9b/wf4tc3m//RA+H7QIUzNLZo/q/MJtlZqciLtPPhp9MjDbNBvm/8KlU7v5sMuv9Bixjgq127J2zg+cO7o9J1ZDq3KYmnIF1azal8aUdWmkpEG72iYYG708r5eTitKhRtyL1GSZZ2IMl+5o+OdUup6cQmT6T1Vs2rdvz5dffsnNmzdRqVT4+/uzceNGKlWqhL29PU5OTjRs2JArVzJvdgICAgAoXrw4KpWKqlWrvtOY5+w7TbMS+WhSPJQgVwcGNKyIuYkxK49dzDaPChXONpbaj5O1xTuMONPC1RtoVKsqDWq8R4CPF99+3gFzMzPWbvtHb/rBPbvRrF5NQgL88PP2pG+3TmgUDYdPntWmqVu1Eh1aNKVU0UJ6y/i3eLTpHy4OHseDVVtzZfmKorBx9ULeb96BkuWq4BsQwuc9hxAdGc6R/X9nm2/DqgVUq/0+VWo2wss3kA7d+mFmZs7fW9cAkPA4np1bV9OmYw8KFS1FQHABPusxkEvnT3L5/CmdsiytbLB3cNJ+TE3Nsixv5uSfKf9ebYLzFX6t9Vu3ciHV6zSmas2GePsG0LFbH0zNzNi5Za3+9Vq9mKIlytKoWRu8fPxp/vFnBATlY9PaZdo0lavX44NWn1K4mP5WALWRkc762Ds4cWj/35SrVB1zC8vXiv9NKIrCiX/+olStzwkMq4GzZz5qtv6Fx7EPuXo6+/0soFB1/AtWwd7FHwfXAMrX74mJqSUPrp/I8ZizM2/DTppUK0/jKmUJ9HKnf4ePMDczZfXfB/SmL1UwmGqlixDg5Ya3mzOt6lYh2MeD4xeuvuPI9Vu8aj0Na1ejfo2q+Pt407trR8zNzFi3Tf+xNqhXd5rWr0VIoD9+3l70+eIzNIrCkZOnczxWRVHYsmYBjZp3pETZqvj4h9C5xzCiIh9x9MDObPNtXjWP92o3oXKNxnj5BNK2a39MzczZtW21Nk3VOs3IV6gEzm6e+Aflp1mbbkSGPyD84T1tmjadv6VG/ea4uHnlyPotXLNR97rTpX3GdWe7/m0xuGfX5647HfVcdyrSoXmTd37dURSFvZv+omqjzylQogbuvvn48LOfiYt+yLmj2R/zoUXfo9aHX1OwVPaVx5uXj1G80vsEFiiDg4sXpas1x90nH7evnsyJVdGqUNCInSfSOX9L4UGUwtJdadhYQgHfF99umhrDR+8Zs3Jvmt6WmH1nNfxzSsOtR0oORZ6L1Krc+/wH/acqNuPHj2fYsGF4e3tz7949Dh06xOPHj+nVqxeHDx9m27ZtqNVqmjZtikaT8UTg4MGDAGzdupV79+6xfPnydxZvalo65+5GUC7QUztNrVZRLtCTk7cfZZsvISWVumMXUXvMInos2Mrlh1HvIlwdqalpXLxyXedCoFarKVWkEGcuXH6lMpJTkklLT8fW2iqnwvzPevTgLjFREYQVLaOdZmllTVBoIS5dOKU3T1pqKtcun6dQscw8arWaQkVLayst1y6fJz0tjULPlOvp7Y+TizuXLujelM2eMpLP29RmUO8O/L1lNYqie8H5e+saHt6/S7NWnV5r3TLivEDYM608arWasGKls8Tw1KXzpwl7rsJSpHhZLp1/8xvJq5fPc+PqJarVavTGZbyO2MjbJMQ9wic0s/ucmYUNbr5FuH/9+CuVodGkc/HYOlJTEnD3L5Yzgb5Ealoa56/dpmyhzG5+arWaMoVCOHn5xkvzK4rCwdMXuXH/EcXz6+9e9C5lnOuuUapIZpcstVpNyaJhnLnwaq1iGee6NGytrXMqTK1HD+4QExVBoSLPnxvCuPyCc8P1K+cpVCSzi6laraZg0TJcvqD/Rjg5KZHd21bj4uaFo7ObYVciG9rrTpHnrzsFX/+6Y5P7152oR7eJjwknqFB57TRzSxu8A4tw6/LbPZjwDS7O+WM7iI18gKIoXD13gPAH1wkOq/i2YWfLwRpsLFVcuZd5LUhOhduPFHxcXnwT3aicERdua3TyCvEm/t39tF6TnZ0dNjY2GBkZ4e7uDsAHH+j2mZ8xYwYuLi6cPXuWsLAwXFwy3mVxcnLS5tEnOTmZ5GTdpmElNQ0zkzf/CqMSkklXlCwtLk5WFlwLj9abx9/ZjqHvVyLEzZH45BRm7z1Nuz/XsrxbM9zs3t2JOiYujnSNBkc7O53pjva23Lhz95XKmPTXIpwdHP71rTP/RtFREQDY2jvqTLe1dyQmSn93l7jYaDSadOyey2Nn78i9Oxk3nDHRERgbm2BlbZMlTcyTZQJ80PozChUphamZOaeOH2DWlJEkJSVSp1FGV477d2+yaPbvDPx5GkZGr3eMxD6N0yFrnHdv678xjo6OwM7e4bn0DkRHR+hN/yp2bF6Dl48/oQVer7XpTSXEZjzMsLRx0pluaeNMQlz4C/OG373AsgmtSEtLxsTUkvodfsPR/d28z/G86LjHT84NuvuQo50N1+89zDZffEIi9b4cQkpaGkZqNX3bf0i5wvlyOtyXenquc7B/7lxnZ8fN2692rpsyewHODg6ULBr28sRvKSb66blBdz+ytdM9hp8VF5dxzD1/PrGzc+T+7es607avX8LivyaQnJSIu5cf3wz5HWMTE8OtwAtorzv2tjrTHe3tuHHnXja5dGmvO0Vy/7oTH5NxXFvb6W4ra1tn4mKyf7j5Khp+MoCVMwfxa8+qqI2MUalUNOkwjID8OffemrVFRuUlPlG3chKfqGDzgo4lhQPUeDipmLI2Lcdi+zdTyQ90GtR/qmKjz6VLlxg0aBAHDhwgPDxc21Jz8+ZNwsJe/SIzYsQIhg7VfZ/i+2Y1GPBhzvQjzk5RH1eK+rg+87cbTX9bxpIj5+leveQ7jeVtzFm2hm279zNx+HeYmZrmdjj/ent2bmTGpJ+1f38zaEwuRgNNW3bU/t8/KB/JSYmsWzGXOo1aoElP5/dRg/ig9Wd4eL34ZeV/q5TkZPb+s4WmLdrn2DIuHFnDziWDtX837DTljctycA2gRe8VpCTFcfnEJrYu6EezL+bkWuXmTViamzH/x29ISE7h0JmLjJ23Ei8XJ0oVzDvroM/cZavZtnsfE34YmCPnun1/b2D25J+0f389YJzBl/GsclXqUbBYWWKiwtm4cg6TRvbj+5//xERPV9R/mznL17BtzwEmDuufK9ed43vXsHrWEO3fn/SanGPL2r9lLrevnODjrydh7+TJ9QuHWTNnODYOrgQXqvDyAl5B0UA1jctnvjwzZ+vrV0zsLKFBGSNmbk4jTV6fEQbwn6/YNGrUCD8/P6ZPn46npycajYawsDBSUl5vOI3+/fvTq1cvnWnKyolvFZuDpRlGKlWWgQIiHifibP1qffpNjNTk93DiVqT+Fydzip2NDUZqNZExui/PRkbH4mRv/8K881euY97ytYwb2pdg/7x54/uulShTWWfksrS0VABioyNxcMwc+S82OhLfwBC9ZdjY2qNWG2V5AT8mOlLbimNn70RaWiqP4+N0Wm1ioiN1RkV7XlBoIVYumkFqagopyclcu3yOG1cvMnvqKAAURYOiKLRtUoG+QydQpFjxbMuyfRpnVNY47Z9rxXnK3t6JmOio59JHYW+ffcwvcmDPdpKTk3iver03yv8qAgpVw823iPbv9PSMc1JCXARWtpkPLxLiwnH2KvDCsoyMTbF3yRjFydUnjIe3TnPin7+o1nxYDkT+YvY2Vk/ODboDBUTGxOFkZ5tNrowuRT7uGS3o+fy8uHbnAbPWbM31is3Tc93zAwVExsTg6GD/wrwLVq5l/rLVjBn2HUE5dK4rVuY9nZHL0lIz9qPY6Ajsnz03xETiExCaJT+AjU3GMRf7/LkhJhLb5457SytrLK2scff0JSi0MF98XI0j+3dQ7r26hlqlbGmvO88NFBAZHYPTcy1qz5u/cj3zlq9j3JA+uXbdKVC8Oj5Bmcf8020VHxOBjX3mMR8fG46H74uP+RdJTUliy9JxtP5qAvmKVQXA3Tcf926eY8+GmQar2Jy7qeHWo8wX/Y2NMlpsrC1UOq021hYq7kXq72Lm6azC2kJFt0aZt6NGahV+bgpl86sZMicVRXqnidfwn27/ioiI4MKFCwwYMIAaNWpQoEABoqJ0b35Mnzy1SU9/8aMCMzMzbG1tdT5v0w0NwMTYiAKeThy4ltmdQaNROHD1LkWyGe75eekaDZceRL1yRchQTEyMCQ3y58gzL2BqNBqOnDpDoXzZ34jMW7GW2UtWMWrQt+QPDnwXof4nWFha4e7po/14+QRg5+DEmROHtGkSEuK5cvEMIdm8qG9sYkJAcH6dPBqNhjMnDxGcPyNPQHB+jIyNOXMyM83d2zeIeHSfkHzZt3DevHYJK2tbTExMsbC0YsTE+fw4fo72U71uMzy8/Phx/ByC8r24C0hGnPk4ffKIbpwnDmcbQ0j+MM6cOKwz7dTxg4Tkf7OuPzu2rKVkmUrY2jm8PPEbMjW3xt7FT/txdAvG0saF25f2adOkJMXz4ObJ135fRlE02orSu2ZibEz+AG8OnskcAEWj0XDozCWKBL/6ELoaRSElNfe7pmSc6wI4cvKMdppGo+HoyTMUyqf/IQLA/OVr+GvxCkYO7puj5zoLCyvcPHy0H0+fQOwcnDj7zDGcmBDPlYunsx3Ew9jEBP+g/Jw9eVA7TaPRcO7kIYLzFdGbB0BBAUUhLTXVcCv0ApnXHd1tceTk2Zdcd9Yxe+kqRg38JlevO2YWVji5+Wk/rl7BWNs5c+Xsfm2apMR4bl89iU9w0TdeTnp6GunpqVl+p0SlNtL2WjGElDSIjMv8PIxWiEtQCPLIfJ/GzAS8XVTZvvR/5a7ChJWp/L46Tfu5Ha7h5FUNv69O+7+o1KjUqlz7/Bf9p1tsHBwccHJyYtq0aXh4eHDz5k369dMdttbV1RULCws2btyIt7c35ubm2Nm9+MmPIX1SPoyBK3ZRyNOZMC8X5u4/Q2JqGk2KZzxZ+37537jaWtGjZsaL1FN2HqOItyu+jjbEJaUwa+8p7sXE06yE/idxOall43r8OGEa+YMCKBASyOK1m0hMSqZBjYzfzxg+fgoujg58/mQIzbnL1/LngmUM7tUND1dnIqKiAbAwN8fSwhyA2Lh4HoRHEB6ZUQG9+aTftKO9HU4veTr6LhlZWWIVnPnUzzLAG9ui+UmJjCHp1qv19X4bKpWKuo1bsnLxTNw8fXB182TpvKnYOzrrDLv804AvKFWuKrUbfgRAvfdbMXXcMAKCCxAUWpCNqxeSnJRElRoNM9bDypqqNRsz78/xWFvbYmFpxV/TRhOSv7C28nP04C5ioiMJzheGiYkpp48fZPWSWdRv2gZ48uTdT/elb1s7B0xMTZ+Z/uIHCQ2atGTy2B8IDM5PcGhBNqxalBFnzYw4J40ZhoOTC63adc1Yr8bNGda/G2tXzKd4qQrs27WVq5fP07l7X22Z8XGxhD+6T1RkRr/2e3duAmhHQHvq/t3bnD9znD6DR7/6BjEAlUpF0ffacnjLFOyd/bFx9OLAxglY2boSGJb5GxUrJ7cnMKwmRSp/DMDetaPxK/AeNg4epCQ95uLRtdy5cpDGn/3xTuN/Vpt6VRkydT4FA3woFOTH/I1/k5icQqMqGS+nD5oyD1cHO7q3yNieM1dvpUCAD95uTqSmprPnxFnW7zlM//Yf5do6PKv5+/UZMX4K+YIDKRASxJI1G0hMSqJ+jYxj7cdxk3B2cqTLJxm/ETJv+WpmzF/KwF7dcXd10XuuyykqlYpajVqxZsmfuHn64OzqxYr5k3FwdKFE2aradL8O7EqJclWp2SDj/Fz7/Tb8MX4I/sEFCQwpxOY180lOSqRSjYzBMx7ev83B3VsIK1YOGzsHIiMesH7ZLEzMzClSMvOF9Af3bpGcmEBMdASpKUncvHoBAE+fQIO8i9OyUV1+nDid/MFPrjtrNpOYnEyD6k+vO1NxcXLg848zfgZh7vK1/LlwOYN7dn2F607GvHd13VGpVFSo05adq6fg5OaHg4s325ZPwMbelQIlMo/5Gb90oGCJmpSrlXGOTU56TOSDm9r5UY9uc+/GOSys7bB38sTcwhr//KXZuGgkxqbm2Dt7cv38IY7vWUW9Vn2zxGFIe8+mU7WIERGxClFxUKOEEXEJGa07T3WobczZmxoOnNeQkpZRIXpWahokJOtOt7bIaPlxtMm4GXezV5GcBjHxConyezbiGf/pio1arWbhwoV89dVXhIWFkS9fPiZMmKAzpLOxsTETJkxg2LBhDBo0iMqVK7Nz5853FmPdsECiHicxacdRwuMTyefuyKSPa2sHFLgf8xi1KrNWHZeUwrA1uwmPT8TW3IyCnk7M7tiQINece7KcnRqVyhEdG8cfC5cRGRVDcIAvowd9i+OTLgEPHkXoxL5y4zZS09IY8OsEnXI6tGhKx5bNANh96Cg/TZyunTd49O9Z0vwb2JUMo/y2Odq/C476DoBbfy3nZMf+7ySGhs0+ITkpkRm/j8j4gc6CRekzZLzOsMsP798hLjZa+3e5yrWIjYlm2fxpxERF4BcYSp8h43S6mbXp9DUqtYrxP/cnLTWFwsXL0b5rH+18IyNjtq5byrw/x6EoCm4e3rTu2INqtZsYbN3KV65JbEw0S+dNJzoqEr/AEPoNHaPtihb+6IHO08jQAoXp/s1QFs+dxqK/puLu6U3v73/WqWAdObCLKeN/1P494ddBAHzQ6lM+bJ05ctvOrWtxdHKlSPHMUaXelRLVO5GWksiOJYOe/EBnSRp9Nh1jk8xtGhN+k8THmS3PifGRbJ3fl8exjzCzsMHJIx+NP/sD33w5N/rRy9QuV5yo2HimLNtIREwsoX5eTOzTBacnAwrcD4/SOTckJqfwy6ylPIyMwczUBH9PV4Z3/Zja5bLvsvgu1ahUnuiYWGYsWEpkVDTBAX6MGtxP51z37P64asNWUtPSGPTrOJ1y2rdoxqetPszxeOs3bUdKUhKzJv1EwuM4QgsUo9egCTrvwTy8f5v4Z84NZSvVJi4mipULpjz58d5Qeg2eiN2T7pwmpmZcPHuMLWsW8PhxLLZ2TuQrVJzvf/5TZ9CBmb8N58KZo9q/B/fKuBkfOXU1zm6ZI4C+Ke11Z8FyIqOfXHcGPnPdCY9A/cyT6JWbtmdcd0bqdh3v0LzJM9edY/z02zPXnTGTsqTJKZXrdyIlOZFVswaTlBCLb0gJ2n0zTWdbRT68yeP4zGP+zrUzzPg580e5Nyz4BYDilZrwQecRALToOprNS8ayZMq3JD6Owd7Zk1offp3jP9C567QGU2MV71cwzviBzgcKs7ek6rw/42irwsr89VoLyuQzonqxzPd5OtfPqCQv253GscuGa4XKFar/dOepd06lPD9Gq3hlSU9OJv8VcUWr5XYIBnWw6Ce5HYLBuJ7W//sfeZWR6r/1luieS/rf/cmL2rtuyO0QDCrB+t0MRfyuXOHdt87nlBDN2ZcnykN2xuXciGO54cT53O8Kaig/tP/3DlIUM6pHri3b7pvxubbsnCLVRCGEEEIIIUSe95/uiiaEEEIIIcS/1X/1Jf7cIi02QgghhBBCiBf6/fff8ff3x9zcnLJly3Lw4MEXpo+OjuaLL77Aw8MDMzMzQkNDWb9+fY7GKC02QgghhBBC5AZ13mhjWLRoEb169WLKlCmULVuWcePGUadOHS5cuICrq2uW9CkpKdSqVQtXV1eWLl2Kl5cXN27cwP4lv3X4tqRiI4QQQgghxP+Z5ORkkpOTdaaZmZlhZmaWJe2YMWPo3LkzHTp0AGDKlCmsW7eOGTNmZPkpFYAZM2YQGRnJ3r17MXky1Lu/v7/hV+I5eaOaKIQQQgghxH+MSqXKtc+IESOws7PT+YwYMSJLjCkpKRw5coSaNTN/X0mtVlOzZk327duXJT3A6tWrKV++PF988QVubm6EhYXx008/kZ6es6OiSouNEEIIIYQQ/2f69+9Pr169dKbpa60JDw8nPT0dNzfd4fPd3Nw4f/683rKvXr3K9u3badOmDevXr+fy5ct069aN1NRUBg8ebLiVeI5UbIQQQgghhPg/k123M0PQaDS4uroybdo0jIyMKFmyJHfu3GHkyJFSsRFCCCGEEOI/Jw8MHuDs7IyRkREPHjzQmf7gwQPc3d315vHw8MDExAQjIyPttAIFCnD//n1SUlIwNc2ZH03993+bQgghhBBCiFxhampKyZIl2bZtm3aaRqNh27ZtlC9fXm+eihUrcvnyZTQajXbaxYsX8fDwyLFKDUjFRgghhBBCiFyhUqty7fM6evXqxfTp05k9ezbnzp2ja9euPH78WDtKWtu2benfv782fdeuXYmMjKRHjx5cvHiRdevW8dNPP/HFF18Y9Pt7nnRFE0IIIYQQQmSrRYsWPHr0iEGDBnH//n2KFSvGxo0btQMK3Lx5E/Uz3ep8fHzYtGkTPXv2pEiRInh5edGjRw/69u2bo3FKxUYIIYQQQgjxQt27d6d79+565+3cuTPLtPLly7N///4cjkqXVGyEEEIIIYTIDSp5K8SQ5NsUQgghhBBC5HnSYiOEEEIIIURueM2X+MWLSYuNEEIIIYQQIs+TFhshhBBCCCFygUresTEo+TaFEEIIIYQQeZ5UbIQQQgghhBB5nnRFewupwYVzOwSDOquE5XYIBuV6+kBuh2AwD8PK5nYIBmV59Hhuh2BQ7V035HYIBnPToXhuh2BQUSm2uR2CQZV4tCa3QzCYdAub3A7BoEq6XMvtEAzq1AWf3A7h/4MMHmBQ0mIjhBBCCCGEyPOkxUYIIYQQQohcoFJLG4MhybcphBBCCCGEyPOkYiOEEEIIIYTI86QrmhBCCCGEELlBJYMHGJK02AghhBBCCCHyPGmxEUIIIYQQIjfI4AEGJd+mEEIIIYQQIs+TFhshhBBCCCFyg7xjY1DSYiOEEEIIIYTI86RiI4QQQgghhMjzpCuaEEIIIYQQuUAlgwcYlHybQgghhBBCiDxPWmyEEEIIIYTIDSppYzAk+TaFEEIIIYQQeZ5UbIQQQgghhBB5nnRFE0IIIYQQIjeo5XdsDElabIQQQgghhBB53r++YnP9+nVUKhXHjx8HYOfOnahUKqKjo3M1LiGEEEIIId6GSqXOtc9/UZ7rilahQgXu3buHnZ1dbodiMIu37GbOuu1ExMQR4uvJt22bERbkpzft9kMnmbl6C7cehJOWrsHXzZk29avSoFLpdxKroiisXjiZXVtWkJgQR1D+orT57DvcPPXH+9SODYvYvHI2MdERePuH0qpTXwJCwrTzRw3sxMUzR3TyvFf7Az7+fID278+aFc9SbqdeIyhTqe5rxb9s/jR2bF5FwuN4QgsUoUPXPrh7+r4w35Z1S1i3Yh4xURH4BoTQ9rPeBIUW0s5PSUlm/ozx7N+1hdTUVIoUL0v7z/tg5+CkTfNx47JZyv3im+GUf692lukXz57gh++64u0XyE/j577y+r0Jx0qlCOzdEbsSYZh7unL4g248WL0tR5f5KhRFYc2iyezeujxjX8tXjFaffYebx4v3tZ0bFrJ59WxioyPw9gulRce+BIQUBiD84R0GdGugN1/nXr9SskLGtlj05y9cuXCcuzcv4+4dwIBRiw27cnrkpfPAhrUrWLlsIdFRkfgHBNPp868IyVcg2/R7d+1kwdw/efjgPh6e3nzSoQslS5fTzp84ZgQ7tm3SyVOsRGkGDR+p/fvK5YvMmTmVy5fOo1YbUb7Ce7Tv3A0LC8u3Xh9FUVi1YAr/bF1BwuM4gvMX5ZMu3+H2kvPC9vWL2LjyL2KiI/DxD6V1pz4EhoZlSacoCuOGf8npY3v5ot9oSpStBkB8bDTTx33PreuXeBwXg42dI8XLVKHZx92xsLR+6/V6atGOA8zevJeImHhCvd3o26o+YQHeetNuO3qWPzfs4tbDSNLS0/F1deKTWhVoWL6oTrqr9x4xftkWjl68TppGQ6CHC6M+b4GHk73B4s7O4i27mbN+R8ax4uPJt22bvvhYWbM141hJ0+Dr7kybelVpUKmUTppl2/dy/vptYuITmPdDb/L5eeX4egCsWbOGpcuWERUVRWBAAF27diVfvnx60964cYM5c+Zw6fJlHj58yGeffUbTJk100ixatIg9e/dy+/ZtTE1NKVigAJ9++ine3vq397tSvZgRJUPUmJvCzYcKa/anERn3ankrh6mpVdKYfWfT2XAoPWcDFXlenqvYmJqa4u7untthGMzm/ccYO28l/Tt8RFiwHws2/s2Xv0xl2cj+ONrZZElva2XJp41r4e/phomxEbuOnWHYtIU42tpQvkj+HI9304pZbF+3gA5fDcPZ1YtVCyYxfvgXDB2/DBNTM715Du3exJKZo2nT5XsCQsPYtnY+44d1Y9jEldjaO2rTVa7VjMYtu2r/NjUzz1JW++5DKVS8gvZvS6us39GLrF0+h81rF9OlxyBc3DxZOm/q/9i77/AoioeB49+75NLLpffeC5BA6L2LVBELoAgiiAqioCLSUQSRjvQOUqX33nsNvYVeAqmX3u/ePw4vHLlQL8T83vk8zz6wezO7s5fduZ26/DGkN39MWYZRMek/emAHi+dMpMvX/fAPDGPr+mX8MaQ3f05bgfWT9C+ePYHok4fo9dNIzMzNWTBjDBNG/syQ0bO09tW99yDKV6z+VPqLPrxkpKcxfcIwwipEkaJIeqXzex0G5maknrvKvfmriFo5pcSP97K2r53Pns1L+Kznr9g7urF+2VQm//o1QyasLvZaO3loGysXjKVD9wF4B5Rj96bFTP7ta4ZOWoeVtS22ds78MWunVpyDO1exfd0CwiJraW2vUb81t65f4MHdayV2jv8qS/nAwf27mTdrKl/27ENgUAgb165k+KAfmTxzEXK5TZHwVy5dYNzo4XzSuTtRlauzf99O/vhtIH9OnImXt68mXGSlKvT8rp9mXSYz0vw/KTGBYQP6UrNOfbp91ZvMzEzmzvyLyeNH8dMvw9/4nLasWcDOTUvp+u1w7J1cWbtkGuOGf8Nvk1YWe60dP7iN5fPG8WmPX/ANLMeODYsZP/wbRvy1RitfA9ixYTESSdF+9BKplIgq9XivwzdYWMmJe3SPxTP/IGP673Tv8/sbnxfAthMXGPvPNgZ0bEm4jxtLdh3l64mLWDu8F7ZWRfMfa3NTvni3Dt7O9sgMDDhw/ipDF6zF1sqcGmH+ANyLS+Lz0XNoU7MiX7Wqj7mJMTcexmEsK/lHiu1HzzB+yTr1veLnydKt++k1eiarRv+s+16xMOPzVo3wdnlyr0RfYvisZdhaWWjulaycXCICfWhcNYLf5pR8Jca/9u3bx8xZs+jVsydBwcGsXbuWgYMGMWvmTORyeZHw2Tk5OLu4UKt2bWbOnKlzn+cvXKBlixYEBgZSUFDA/AULGDBgADNmzMDEpOhv6ttQK1xK1RApaw7mk5yuLuR0aizjr7V55CufH9fVTkJUoAGPkl4QsCwTY2z0qkTaoVauXEm5cuUwNTXFzs6ORo0akZGRgVKpZPjw4bi7u2NsbExERARbt27Vinv8+HEiIyMxMTEhKiqKM2fOaH3+bFe0oUOHEhERoRVmwoQJeHt7a9Y7d+5MmzZt+P3333FyckIulzN8+HDy8/P58ccfsbW1xd3dnXnz5pXE1/Fci7fspU396rSqWxVfN2f6d/kAE2Mj1u87pjN8VKg/9SuXx8fNCXcne9q/Uxd/Dxeir94s8bSqVCp2blxC83bdiKhSH3fvQLp8+yuKpHjOHN9TbLwdG/6mVuO21GzYGlcPPzp+OQAjYxMO7V6rFc7IyARrG3vNoqvG0tTcUitMcQ8dxaV/6/pltP6wC5Wq1cXTJ4Ae3w9FkZTAqaP7io23Zd1S6jdpTd1GLXHz9KXL1z9jbGzCvp0bAMjMSGfvzvV07NqbsApR+PiH0L33IK5fOUfMlfNa+zIzt0RuY6dZdBWm5k0bRfU6TfAPKvfS5/Ym4rft59qQCTxet/PFgd8SlUrFrk2Lafb+U9dar19RJMcT/ZxrbeeGRdRs1JYaDdrg6uFHh+4DkRmbcPjJtSY1MNC6fqxt7Ik+tptKNZpg8lTN/0dd+1Gv2cfYO72dWtuylA9sWPMPjd9pTsPGzfDw9ObLnn0wNjFh9/bNOsNvXL+KyEpVaPP+x7h7etHh0674+AWwZeMarXAymQwbWzvNYmFZ+JB68vgRDAwN6fbVd7i5exIQGEyPnn04emg/sQ/vv9H5/JuvtfjgCyKr1sPDO5CuvYejSIrn9LG9xcbbvn4xdRq/R62GrXH18OXTHup87eCudVrh7t66yvb1f9Ol55Ai+zC3sKL+Ox/g7R+KvaMroeWrUv+dD7h26UyRsK/r7x2HaVurEq1rRuLn6siAji0wMZKx9pDuY0QF+dAgMgRfFwc8HG3p0LA6AW5OnIm5ownz19pd1AoP4Lt2TQj2dMHD0ZZ6EcE6C0r6tnjLPtrUq0arOlWe3CvtMDGWsX7/cd3nE+JP/ain7pWmddT3yrVbmjDNa0XR7b2mVAkLLPH0P23NmjU0e+cdmjRpgpenJ7169sTY2Jjt27frDB8UGMgXXbtSr25dZDKZzjC//forjRs3xsvLC19fX/r06UNcfDzXr18vyVN5ruohBuw/V8CVeyoeJ6tYfTAfSzMI9nz+I6iRIbSrbci6I/lk5b6lxAplnt4LNrGxsbRv357PP/+cy5cvs3fvXtq2bYtKpWLixImMHTuWMWPGcO7cOZo2bUqrVq00N1x6ejotWrQgNDSUU6dOMXToUH744Qe9pGv37t08fPiQ/fv3M27cOIYMGUKLFi2wsbHh2LFj9OjRgy+//JL799/sR/JV5OXnc+XWfao+lZlKpVKqhAVw7qkfkeKoVCqOX7jGnUfxRAb7lWRSAUh4/IBURQIhFQq7VJmZW+ITEM7Nq+d0xsnPy+PujcuElC+MI5VKCSlftUicYwc28/1n9Rnaux2r/55ETk5Wkf0tnTWS7z+rz+8/fcLBXWtRqVQvnf74xw9JSU4kvEKVp9JvgV9gGNevntcZJz8vj1sxVwiLKIwjlUoJq1BZU2i5FXOFgvx8wp7ar6u7N3YOzly/ekFrfwum/0mPjk0Y3LcL+3asL5L+fTs3EPfoIW3bf/HS5/W/KCHuybX21HVjam6JT0A5bl47qzNOfl4ed2/quNbKFb3W/nXnxiXu3b5KzQZt9Jr+V1GW8oG8vDxuxFylfEQlzTapVEr5iEpcvXJJZ5xrVy5qhQeIrFilSPgL56Pp3KENPbt/yowp40hLTdE6rqGhIVJp4U+WkZG6RefyRd337stKePyAlOQEQp/J13wDwrnxnHztzo3LWnmhVColtHxVrTg5OVnMHPcLHbv9jLWN/QvTkpwUz+mjuwkKq/gGZ1QoLz+fy3djqRpS2DImlUqpGuLLuZv3XhhfpVJx7PJNbj9OoFKANwBKpZKD56/h6WTH1xMW0qDvaD79fSZ7zlzWS5qfJy8/nyu3dd0rgZyLuf3C+CqViuMXr3EnNp7IIN8Xhi9JeXl5XI+J0aqYlUqlREREcPnKFb0dJzMjAwBLy1fr3aAvNhZgaSbhxsPC37qcPHgQr8LD4fktFc2rGnDtgZKbsS//Oy8Iem83jo2NJT8/n7Zt2+Llpe7zWq6cuuZ5zJgx9OvXj48//hiAP/74gz179jBhwgSmTJnCkiVLUCqVzJkzBxMTE8LCwrh//z5fffVVscd7Wba2tkyaNAmpVEpQUBCjR48mMzOTX375BYD+/fszatQoDh48qEnf03JycsjJydHalpubh7GR7lqTl6FIy6BAqSzSfG5rbcnt2Lhi46VnZtGs11By8/MxkErp17kd1crp7pOrT6mKBAAsrbW7WVjJ7UhNTtSd1rRklMqCIl0zLOV2xD64rVmvUrsZdg4uWNs68OD2dVYtmsjjB3f4qt9YTZhWH39FcLkqGBmbcCn6CEtmjiQnO5OGzTu8VPoVT9L4bFqs5LakJOvu8pWWqkCpLNB0OfuXtdyW2Afqh84URSKGhjLMLSyLhEl56nt5v0N3wspHYWRswvnoY8yf/ifZ2Vk0bfkRAI8e3mX5gikMGjUTA4My10tUr1KT1dealdxOa7ultS2pihdca9bPxJHb8eipa+1ph3avwdndF7/giDdO8+sqS/lAWmoKSqUS+TP3g1xuw4N7d3XGUSQnFQlvLbdB8dQ9F1mpClVr1MHJ2YVHsQ9YvGA2vw7px8gxUzAwMKBchUjmz57C2lXLaN7qfXKys1k0X90VJ7mYe/dlpTy5nqx05WtP8rxnpaUpnlxrRfOSp/O15XPH4h9cgciq9Z6bhhlj+xN9fB+5udlUqFyHzt8MfvUT0SE5PVN9bT3TkmJnacHtWN3nBpCWmU3TfmPJy8tHKpXSv0NzqoWqC81JaRlk5uQyb+tBvmndgN7vN+bQhRj6Tl/OzD6diQry1kvadSn2XrGy5PbDF9wr3w4rvFc+e/+t/GY+T2pqKkqlEhsb7e6bNnI59++9uND5MpRKJTNmzCA0NFSrF8vbZGGqLrykZ2sXTtKzVViYFh8v3FuKq52EGRvzSzJ5/w3/o4P4S4ven54qVKhAw4YNKVeuHE2bNqVJkya0a9cOAwMDHj58SM2aNbXC16xZk7Nn1TWwly9fpnz58lr9QKtXr44+hIWFadX2OTk5ER5eOMjTwMAAOzs74uJ0Z44jR45k2LBhWtt+/qIDv3TvqJf0vQozE2OWjPiBzJxcTly8xvjFa3FzsCMq1F+vxzm2bzN/z/hNs95zwCS97v9pdZq8r/m/u1cA1rb2jBvyJXGP7uHo7AFAiw+7a8J4+gaTk5PF9rULiy3YHNq7lblTR2nWfxg8roRS/3Le+7ir5v/efkHkZGexac3fNG35EcqCAqaMGcz7Hbrj4vb8Acv/i47t38SSmYXX2jf9J5f4MXNzsjlxYAvvtuv+4sD/QW8rH3gbatVtqPm/l7cvXt5+fP1FBy6ej6Z8RCU8vXzo1ac/82dN4e/5M5FKDWjeqi1yuY3OsSvPc3TfZhZOH6FZ711C+Vr08X1cPn+CIWOXvjDsx5/3pdVH3Xn88C6r/p7Msnnj+PTL/iWSrpdhbmLEskE9yMrJ5djlm4z9ZxvuDjZEBfmgfNLKXC8imE8aq8c7Bnm4cPbGPVbuP1GiBZvXpb5X+pKZncuJi9cZv2Qdbo52RIWUvXvlVUyZOpXbd+4wZsyYt3bM8j5SWlY30Kwv3vXqBRMrM3i3igELduS/cAyOIDxL7wUbAwMDduzYweHDh9m+fTuTJ09mwIAB7NixQ9+HAtRNt89258nLyysS7tn+qBKJROc2pVL3XdS/f3/69OmjtS33fPF9/V+G3NIcA6mUpBTtqUGSUtKws7YqNp5UKsXD2QGAIC83bj14zPwNO/X+QFOhSl18nprhJ//J95qWkoTc1kGzPVWRiIeP7tovC0sbpFIDUp8ZBJ+mSMT6mdr4p/07i1V8bGHBRleYTf/MIi8vV2ug8b8qVqmtNXNZfn7ek/QmYWNb2C0kVZGEp2+AzmNYWsmRSg2KDOJPUSRpWnGs5Xbk5+eRkZ6m1WqTokjSmhXtWX6BYaxdPpe8vFxyc3K4FXOZOzevsWCG+kdIpVKiUqno1KYGX5pAQHaxuyrzKlSup/mbA+TnqztUpyoSsbYpvNbSUpJw99bdD15zraVot+ikKRKxkhftBnT66E5yc7OpVreFPk7htf3X84GnWVpZI5VKUTxzPygUychtbHXGkdvYFgmf8pzwAM4urlhZWRMb+0DTja1OvUbUqdcIRXISxiYmSCQSNqz9B2dn11c6hwpV6jJER76W+gr5mqWl/Mm1pn1eqYokTb52+fxx4h/dp9cndbXCTB39I4Ehkfz0W+HEIv+O93Jx98HcwopRA7rS8oMvtNLzOmwszNTXVmq61vbEtHTsrIsfDyOVSvF0VJ9HkIcLtx4lMHfLAaKCfLCxMMNQKsXXRTttvi72nInR3WqnL8XeK6lp2MmL72ollUrxcHrqXnn4mPkbdpVqwcbKygqpVEpycrLW9mSFAhvb4u+NlzV16lSOHz/On6NH42D/4m6Q+nLlnpL7CYXPUQYG6ooHCxMJ6VmFz2oWJhJik3R3MXO1k2BhKqFHi8JHVAOpBC8nFVWCpQz/O49X6IX+3/eKlTPC85VI+5dEIqFmzZoMGzaMM2fOYGRkxK5du3B1deXQoUNaYQ8dOkRoaCgAISEhnDt3juzswie4o0ePPvdYDg4OPHr0SKtw8+87b/TJ2NgYKysrreVNuqEByAwNCfZx5/jFwlmXlEolJy5ep7z/86e0fZpSpSI3T//NtSam5ji6eGoWFw9frOT2XD5XOKA5KzOdW9cv4BtUXuc+DGUyPP1CuPJUHKVSyeVzx4uNA3Dv1lWA5/ZLv3f7KmYWVjoLNQCmZuY4u3poFjcPH6xt7Lh49oQmTGZmOjeuXSSgmIH6hjIZPv7BWnGUSiUXz53AP1gdx8c/GANDQy6eKwzz8P4dEuMfERBUdOrXf929dR3zJ+k3NTNn5OQljJi4SLM0eKctLm5ejJi4CM+cYnfzP6HItebuh5XcnivnCwcEq6+18/gGVtC5D0OZDE/fEK04SqWSK+d1X2uHdq2hfFS9Il0r37b/ej7wNJlMhp9/EOeiTxceV6nkXPQpgoJDdcYJDA7j/NnTWtvOnjlZbHiAhIQ40tJSsdFRMSC3scXU1IxD+/cgkxlRIbKSjj0Uz9TUHCcXT83i6uGLtY09l89pX2s3r1/A7zn5mpdfiFYcpVLJ5fPHNXHebduFoeOXM2TcUs0C8HGXvnTpNbTY9ClV6ofCfyti3oTM0JAQTxeOXSmcVEKpVHL88i3K++quMNJFpVSRm1+g2Weotxt3Hml3ZbvzOLHEp3qWGRoS7O3O8UuFA+EL7xXvl97P27hXXkQmkxHg70/02cIxg0qlkujoaEKCX39mQ5VKxdSpUzl85AijRo5867PI5uZDUlrhEq9QkZapwtel8OHdWAZuDhLuxesundyMVfHXujymbcjXLA8SlJy7qWTahvz/rUKNoHd6b7E5duwYu3btokmTJjg6OnLs2DHi4+MJCQnhxx9/ZMiQIfj5+REREcG8efOIjo5m8eLFAHTo0IEBAwbQrVs3+vfvz+3bt1/YhFqvXj3i4+MZPXo07dq1Y+vWrWzZsgUrq+JrOv9LOjarx9AZSwj18SDMz4slW/eRlZNLy7rqQamDpy/G0caanh+pa5Xnrd9JiI8H7k525OUVcOjsJTYfOkn/zh+UeFolEgmNWnRg88rZOLp4Yu+knu5ZbutAZJX6mnDjhnxJRNX6NHhXPVapcctPmDd5MF7+ofgEhLNzwxJyc7Ko2aA1AHGP7nF8/xbKVaqFuaWc+7evsWLeWAJCK2pq58+e2EeqIhHfwPLIjIy4dPYoW1bNoUnrTq+U/ndafczaFfNwcvXA8cl0z3JbeypVK6xV/X3gN0RVq0eTFurvtFnr9syYMBwf/xD8AkPZun4ZOdnZ1G2o/puYmVtQr1ErFs+ZiIWFFaZm5iycOZaA4HKaws/p4wdIUSThHxSOTGbEhejjrP9nPu++p+7KKJVK8fDSHvhtZW2DzMgIDy8/4kowIzcwN8Pcv7D7m5mPO1YVgslNSiH7XmzJHfg5JBIJDZt3ZMuqWeprzdGN9cumILdxIOKpa2380O5EVG1A/Wbqa61Ry0+Z/9cgvPxC8fYPZ/emxeTmZFGjfmut/cfF3iXm8ml6/vKXzuPHxd4lJzuTVEUiebk53LulHszr4u6HYTGzEb2JspQPtHzvAyaPG4l/QBABgSFsWLeSnOxsGjRuBsDEsb9jZ2fPJ53VXfxatHqfQT/3Zt3q5VSqXI2D+3dzI+YqPXr1BSArK5MVSxZQrWYdbGxseRT7kIVzZ+Ds4kZkpcL38mzesJqgkHBMTU05e+YkC+ZO59PO3YuMbXtV/+ZrG/+ZjZOLJ/ZOrqxZMg25rQMVnxob8+fgL6lYrT4Nn+RrTVp1ZM6kIXj7heITEMbOjUvIyc6iZsNWQGErzLNsHZxxeDLb3rlTB0lVJOLtH4aJqRkP7t7gnwUT8A+OwN7x1VqiivNJ4xoMnreGUC839XTPO4+QlZtL65rq94INnLsaR7kl37ZtDMCcLfsJ83LD3cGG3PwCDp6/xqajZ+nfsbBl87OmNek38x8qBnoRFeTD4Qsx7D93jVl9O+slzc/TsVldhs5cqr5XfD1Zsu3JvVJHPXnL4OlLcLSx0nGv2JOXl8+hs5ef3CvtNPtMSc/gUaKC+GT1hBV3noxts7O2xF5ecs8S7733HmPHjSMgIICgwEDWrltHTk4OjRur/xZjxozBzs6OLl26AOreKHfvqlvF8vPzSUxM5MaNG5iamuLqqr5epkydyt69exk8eDCmpqYkJalbFc3NzTE2fvlZRPXpyOUC6pY3IDFNRXIaNIw0IC0TrtwtbNnp3MSQS3eVHL+iJDcf4hTaP3q5+ZCVU3S7IDxL7wUbKysr9u/fz4QJE0hNTcXLy4uxY8fSrFkzmjZtSkpKCn379iUuLo7Q0FDWr19PQIC6G5CFhQUbNmygR48eREZGEhoayh9//MH7779f7PFCQkKYOnUqv//+O7/++ivvv/8+P/zwQ7FzvP/XNKkWSXJqOtNXbSUxJZVALzcm//Qldk8GRz5KSEb6VDNlVk4uf8xfSVxSCsZGMrxdHfn1q09oUq3oyytLQtP3OpOTk8Xf039Tv8guJILeg6ZoTbsc/+ge6akKzXrlWk1JS01m/dJp6pcm+gTx7aApmoHhhoYyLp87xq6NS8jJycLW3omK1RvSvF3hzGAGBobs3bqCFfPGAiocnD34oHNfajdu+0rpb9H2U3Kys5g7ZaT6BZ2hFfhp6EStaZfjHj0g7an0V6vdmNQUBauWzCQlOREv30B+GjpBq5tZxy++QyKVMHFUf/LzcikXWY3OX/2klf6dm1ayeM4EVCoVTi7udOjam/pN2rxS+kuCdaVwqu9apFkPHaOeUOPewtWc61p6/fybtFFfa4tn/PrkpYmR9Bo4Vftae3yP9NTCrhxRNdXX2oZl00hVJODuHUSvAVOLTEJwePda5HZOhFTQPYZv0bRhXL9U+MLYET+qH2Z/m7oJe0f9TwFdlvKBWnUakJqiYOnf81AkJ+Hj68+g4aM1XcsS4h9rpTU4NJzvfxzEkkVzWLxgNi5ubvQb+JvmHTZSqQF3bt9kz65tZGakY2NrR0RkZdp/+rlWa+z1a1dYtng+2VlZuHl40qNnX+o1KPpy29fR7L3PyM3OYsE0db4WEBLB94P+eiZfu6+Vr1V5kq+tXTaN1GR1t7XvB//13C62zzIyMmb/jjUsmzuW/Pw8bO2cqFitAe++30Uv5wXQtHI4yWkZTFu/m8TUdILcnZny7afYPZlQ4FFSitbfKzsnj9+XbCQuORVjmQxvZ3t+6/o+TSsXtj43iAxhQMcWzN16gNHLtuDlZM+fPT4iMuDlWxhfV5NqkSSnPXWveLox+cfuhfdKoo57ZcEq4pIU6nvFxYlfe3TUulf2n77IsFnLNOu/TFHnh93ea8KXbV/+BdCvqm7duqSkpvL3okUkJSfj5+vLr8OHayYUiIuPR/LU2OCkpCR69uqlWV+1ahWrVq2iXLlyjP7jDwA2bdoEQL9+/Xhan++/1xSY3raDF5QYGUpoVd1Q/YLOxyoW7dR+h42NpQRz4/+nXbKkYvIAfZKoXmW+XEFL2gnd720oq06b1SvtJOiVmeH/zsT3ceFVXxyoDDE7HV3aSdCrqOw3G2/3X3LX5u1Ukrwtybllo/X+ZVWM31DaSdCbAtPSmYK4pMTblfxLst+m+Qdfvrvif93wz3R3Wf8vyF41vtSObfL+96V27JLy/3tOWUEQBEEQBEEoLWK6Z70S36YgCIIgCIIgCGWeaLERBEEQBEEQhNIg/X86tqiEiBYbQRAEQRAEQRDKPFGwEQRBEARBEAShzBNd0QRBEARBEAShNIjJA/RKfJuCIAiCIAiCIJR5osVGEARBEARBEEqDREweoE+ixUYQBEEQBEEQhDJPFGwEQRAEQRAEQSjzRFc0QRAEQRAEQSgNUtHGoE/i2xQEQRAEQRAEocwTLTaCIAiCIAiCUBrE5AF6JVpsBEEQBEEQBEEo80SLjSAIgiAIgiCUBvGCTr0S36YgCIIgCIIgCGWeKNgIgiAIgiAIglDmia5ogiAIgiAIglAaxHTPeiW+TUEQBEEQBEEQyjzRYiMIgiAIgiAIpUFM96xXomDzBhbENyvtJOjVFymjSzsJenWp0helnQS9MTsdXdpJ0KvMihGlnQS9Gj//YmknQW8igv63fmTte1Qr7SToVfSi3aWdBL0Jzosu7STo1eiVtqWdBL0aYzGwtJOgR/9bzzelZcqUKfz55588evSIChUqMHnyZKpUqfLCeMuWLaN9+/a0bt2atWvXlmgaRVc0QRAEQRAEQRCKtXz5cvr06cOQIUM4ffo0FSpUoGnTpsTFxT033u3bt/nhhx+oXbv2W0mnKNgIgiAIgiAIQmmQSEtveQXjxo2jW7dudOnShdDQUKZPn46ZmRlz584tNk5BQQEdO3Zk2LBh+Pr6vuk39VJEwUYQBEEQBEEQ/p/JyckhNTVVa8nJySkSLjc3l1OnTtGoUSPNNqlUSqNGjThy5Eix+x8+fDiOjo507dq1RNKviyjYCIIgCIIgCEJpkEhKbRk5ciTW1tZay8iRI4skMSEhgYKCApycnLS2Ozk58ejRI52ndfDgQebMmcOsWbNK5Gsrjpg8QBAEQRAEQRD+n+nfvz99+vTR2mZsbPzG+01LS+PTTz9l1qxZ2Nvbv/H+XoUo2AiCIAiCIAjC/zPGxsYvVZCxt7fHwMCAx48fa21//Pgxzs7ORcLfuHGD27dv07JlS802pVIJgKGhIVevXsXPz+8NU6+b6IomCIIgCIIgCKVBKi295SUZGRlRqVIldu3apdmmVCrZtWsX1atXLxI+ODiY8+fPEx0drVlatWpF/fr1iY6OxsPDQy9fnS6ixUYQBEEQBEEQhGL16dOHzz77jKioKKpUqcKECRPIyMigS5cuAHTq1Ak3NzdGjhyJiYkJ4eHhWvHlcjlAke36Jgo2giAIgiAIglAKVJKy8VLkjz76iPj4eAYPHsyjR4+IiIhg69atmgkF7t69i/QVWoFKiijYCIIgCIIgCILwXD179qRnz546P9u7d+9z486fP1//CdJBFGwEQRAEQRAEoTS84osyhecT36YgCIIgCIIgCGWeKNgIgiAIgiAIglDmia5ogiAIgiAIglAaRFc0vRLfpiAIgiAIgiAIZZ5osREEQRAEQRCEUlBWpnsuK0SLjSAIgiAIgiAIZZ4o2AiCIAiCIAiCUOb9pws2KpWK7t27Y2tri0QiQS6X891332k+9/b2ZsKECaWWPkEQBEEQBEF4bRJp6S3/g/7TY2y2bt3K/Pnz2bt3L76+vkilUkxNTUs7WW9MpVJxbOtkLh75h5zsVFy8K1L/gyHIHbyLjXNy5wxunNtBctxNDGUmOHtHUrNlX2wcfTVhUhLucnD9aB7ePEVBfi5ewbWp+/5AzCzt38JZFVp2/BILDl0gIT2LQGcbfm5WnXLuDjrDrjtzncHrDmhtMzIw4MSgz95GUtm+aRUbVi8mJTkJTx9/On/ZB//A0GLDHz24m3/+nkl83COcXd1p3/lrIqNqaD4/fngvO7es4daNq6SnpTJy4ny8fQM1n8c/juXbL97Xue/e/X6jWq0Gr30uKpWKDcuncXDnarIy0/ALiqB9919wcvF6bry9W5axff0CUhWJuHsF8lHXfvgElAMgIe4BA79urjNetz6jqVSjCQDL5/zBjavRPLwbg7O7DwPHrHjt83hTtrWi8O3bFeuK4Zi4OnLy/a95vH5XqaXneeqVlxLpL8FEBvfiVWw+oSQprfjwlQIkRAVIkVuo1+MVsP+CkpiHKk0YcxNoXFGKr7MEIxkkpsKBC0qu3FPp3qmeqFQqtq/6i2N7/iErIw3vwEjafj4YB2fvYuPcvHySvZvm8uDWRVIV8Xz2/STCoxoVG37VnKEc3b2CVp/8TO1mnUrgLNScP/gA108/wcjOjozr17n155+kX7ykM6zEwAC3Ll1wbNEcIwcHsu7c4c7kv1AcOaIJYxUZieunn2IREoyRgwNX+v5A0r59JZZ+lUrF2qUz2LdjDZkZ6QQEV+DTHj/j7Or53Hi7Nq9gy5pFpCgS8fQOoGO3H/ENDNd8Pn/qCC6dPY4iOQFjE1P8g8vzYadvcXH3BuDurWtsXj2fa5fOkp6mwN7RhXpN36dJy/Z6Pb+VW3ezeP02khQp+Ht50Ofz9oQF+OoMu27nfrbsO8LNew8ACPL1okf797TC//rXXDbvO6wVr2qFMCYM/F6v6X6elrVMqFXBGFNjCTce5LN0eyZxycpiw7eoaUKLWtrPQ48SCxg6O1WzXquCEVVCjfBwMsTUWML3ExRk5ZRsPrDi7E0Wno4hMTOHAHsrfqpbnnBnG51h11+6y7CdZ7S2GRlIOfJNS816Zm4+kw9fYu+NWFKyc3G1MuPjCF/alfMp0fMQyq7/dMHmxo0buLi4UKNGjRcH1pPc3FyMjIxK9Bind8/m7P5FNO4wCis7d45umci66V/Q8edNGMqMdcZ5cOME5Wt1wNGjHEplAUc2jVfH6bcRmbEZeTmZrJ3eFXvXYN77ej4AR7dMYsPsr/iw93Ik0rdTMt964SZjth1nYIsalHNzYPHRi3z19zbW9XwfOwvdhVILYxnrehY+7Eve0kC6Iwd2smj2JLp+8yP+gWFsWb+cUYO/Z+z0pVjLbYuEv3b5PJP/HMLHn/WgYuWaHNq3nbEjfmbkhHl4ePkBkJOdRVBoBarVasisv0YV2YedvSPTFm7Q2rZr6zo2rllCRKVqb3Q+29fOZ8/mJXzW81fsHd1Yv2wqk3/9miETViMz0n1dnTy0jZULxtKh+wC8A8qxe9NiJv/2NUMnrcPK2hZbO2f+mLVTK87BnavYvm4BYZG1tLbXqN+aW9cv8ODutTc6jzdlYG5G6rmr3Ju/iqiVU0o1Lc9TI1RClSAJa48oUaSrqF9eSsf6BkzdWEBBMc8zaZmwK1pJUpr64aSCr5SP6kiZuaWA+BR1mDY1pJjIJCzbV0BmDpTzltCulpTZWwt4lFxy57N34xwObvubj778HVtHd7b9M4nZo7rzw+gNxV5/uTmZuHoGUbluWxZO+Pa5+z9/Yid3Ys5iZeNYEsnXsGvcGO/vv+PmyFGkXbiAS/v2hE6ezJn325GXXPQL9Pz6K+ybNePGiBFk3b6DvFo1gv4czYWuXcm4qr4XpKamZFy/Rtz69QSP+bNE0w+wec0Cdmxcxhe9h+Lg5MbqJdMYN6wXIyavKPZvcezgdpbNHU+nr/rjGxjOjvVLGTusFyOnrMLqSX7o7RdC9brNsLN3Jj09lXXLZjBm6Df8OWM9UgMDbt+4jKW1Ld2/H46tvRMxV86xYOoIpFIpjZp/pJdz23noOJMWrOCn7p8Q5u/L8k07+X7EBJZN/A1ba6si4U9fvErjWlUoF+iHkZGMv9du4bvfxrN43HAc7QofuKtFhDPw6y6adZns7T0eNalqTP1KxizYlElCipJWtU3o9aEFw2ankl9QfLwH8QVMXF5YE/JsvmEkk3DxZh4Xb+bxXj2zEkp9oe3XHjDuwEV+aVCecCcblkTfpOe6I6z+tCG2ZrqvO3MjQ1Z/2lCz/uzP/7gDFzhxP4Ffm1bC1cqMo3fjGLXnHA7mJtT1dSnJ03l7xOQBevWfbYfq3LkzvXr14u7du0gkEry9valXr55WVzSAtLQ02rdvj7m5OW5ubkyZov0go1Ao+OKLL3BwcMDKyooGDRpw9uxZzedDhw4lIiKC2bNn4+Pjg4mJSYmel0qlInrfQio36YFvuYbYuwbRuMMfZKTGcfP8zmLjtf5yNiFV2mLnEoCDWzCNO4wkLfkhcfcvAhB76zRpSQ9o3GEk9q5BT/Y7irh7F7h3/WiJntPTFh25QNuKQbSJDMTP0YaBLWpiIjNk7ZniH3YlSLC3NNMsxRWA9G3T2mU0aNqKeo1a4O7pQ9evf8LI2Ji9OzbqDL9l/QoqVKxKy7YdcfPw5sNPuuPjF8S2jas0YWo3aMb77T+nXERlnfuQGhggt7HTWk4c3Ue1Wg0wMX39Hx6VSsWuTYtp9n43IqrUx907kC69fkWRHE/08T3Fxtu5YRE1G7WlRoM2uHr40aH7QGTGJhzevVaTXmsbe60l+thuKtVoopXej7r2o16zj7F3cnvtc9CX+G37uTZkAo/XFX8//RdUDZZy4IKSa/dVxClg7REllmYQ7FH8j9y1BypiHqpISoOkNNhzVkluPrjZF8bxsJdw/JqSh4mgSIcDF1Rk54GLbcn9eKpUKg5sXUjDNl8SHtUQV88gPv5qFKmKOC6eKr61LDiiDu982JtylYtvpQFISXrMugUj6PDNaAwMSvaB07VjBx6vXUvchg1k3brFzZEjKcjOxrFVK53hHd59lwfz5qM4dJicBw94vGoVisOHce34iSaM4vBh7k2bTtLevSWadlD/LXZsWErLD7tSsWo9PLwD6NZ7OMlJ8Zw+Vvzxt69bTJ0mbajdsBVuHr50+qo/RsYmHNi1XhOmXtO2BIVVxN7JFW+/YNp2/JqkhMckxMUCUKdRazp+8QPB4ZVwdHanRr13qdWwFaeOFp8HvaqlG3fQqmFtWtSvhY+HKz91/wRjIyM27j6oM/yw3t14v2l9An088XZzoX+PzihVKk5euKwVzkhmiJ2NtWaxsjDXW5pfpGGUCVuOZHM2Jo8H8QXM25iB3EJKRKDsufGUShWpGYVLRpZ2a8zukzlsO5bDrYfPKR3p0d9nYngv3ItWoV742lnxS4MKmBgasO7SnWLjSAB7cxPNYmem/Qx2LjaJFiEeRLnb42plRttwbwLsrbj4WFGyJyOUWf/Zgs3EiRMZPnw47u7uxMbGcuLECZ3h/vzzTypUqMCZM2f4+eef6d27Nzt27NB8/sEHHxAXF8eWLVs4deoUFStWpGHDhiQlJWnCxMTEsGrVKlavXk10dHSJnldq4n0y0+LxCCxshTI2tcTJqzyPbr/8sXOy1LU0JmbWABTk54JEgoFhYWuTocwYiURK7K1T+kn8C+TlF3D5YSLVfF0126RSCdV8XTl3P77YeJm5ebwzfjlNxi2n99KdxMSVYLXyE/l5edyKuUp4hain0iolPKIy169e0Bnn+pULhD9TYCkfWZXrV3SHfxk3Y65w5+Z16jdu+eLAz5EQ94BURQIh5atqtpmaW+ITUI6b187qjJOfl8fdm5e14kilUkLKVeXm1XM649y5cYl7t69Ss0GbN0rv/3dyC7A0lXDzUeGDSE4ePEgAd/uXK4BIJBDmJUFmCPfjC/dzL0FFmJcEkydZQZiXBEMDuP245LqgJMXfJ02RQEBYdc02UzNLPP3Kc+d69BvtW6lUsnTaz9Rt8TnO7gFvmNLnkxgaYhEcTMqx44UbVSpSjh/Hsnw53XFkMpS5OVrblNk5WEZUKMmkFiv+8QNSkhMJK19Fs83M3AK/wHBirp7XGSc/L4/bN64Q9kxeEFqhCjHF5AU52Vkc3LUeByc3bO2dik1PZmY6FhZFW1JeR15ePldv3qFy+cLuwlKplMrlQ7hw7eZL7SM7N5f8/IIiBZfTF6/ybtfv+ejbAYyeuYiUtHS9pPlF7K2lWFtIuXw7/6k0wq2H+fi6Pr8Q72hjwKivrfn1Sys+b2GGjWXp1fznFSi5EpdCFY/CbudSiYQqHg6cjy3+Nz0rr4Dm87bz7txt9NlwjBuJqVqfl3exZf/NR8SlZ6FSqThxL567inSqeeru3l4mSaWlt/wP+s92RbO2tsbS0hIDAwOcnZ2LDVezZk1+/vlnAAIDAzl06BDjx4+ncePGHDx4kOPHjxMXF4exsboZdMyYMaxdu5aVK1fSvXt3QN39bOHChTg4lPyNkpmmfsA3s7DT2m5mYU9GWsJL7UOlVHJg7e+4+FTEzkU9fsPZOwKZkSmHNoyhevPvQaXi8MaxqJQFZKQWX6jQp+TMHApUqiItLnbmptxKUOiM421vzbDWtQhwsiU9J5cFhy/w2ZyNrP66LU7WJVdjlpqqQKkswNpGu8uZtdyWh/d11y4pFIlYy22eCW+DQpH42unYs30Dbh7eBIbofmh6WanJ6mvHSq59XVla25JaTPrS05JRKguwsn4mjtyORw9u64xzaPcanN198QuOeKP0/n9n8aRSMiNLe3t6tooXNVg6yuHzJgYYGkBuPqzYryThqWeBlQeUtKsl5acPDClQqsjLhxX7lCSX4HNamkJ9/Vlaa4/ns7C203z2uvZumI1UakCtpp+8OPAbMpTLkRgakvtUxRdAXlISpt7eOuMojh7FtUNHUk+fIfv+fayrVMa2Qf231v33WSlP7vdn8wIra1tSknXnBWlp6vzQ6pkuuNbWtjy6f1tr2+7N/7Bi4SRysrNwdvPih6FTMJTpblm4fuUsJw5u57uBE1/zbLQp0tIpUCqLdDmztbbizoNHL7WPqX+vxMFWTuVyhYWjapHh1KtaERdHex48jmf6ktV8P2ICs0b8goFByf4drSzUhZHUDO1+ZGmZKqzMiz/2rdh8FmzO4HGSEmsLCc1rmvJDR0uGz00lJ7dEk6yTIuvJ7/8zXc7szIy5nax74KC3jQWDG0UQYG9Nek4ei07H0OWfA/zTsQFOluqM8Ke65fht91mazd2OgVSCFAkDG1agotvbHTsslB3/2YLNy6pevXqR9X9nSjt79izp6enY2Wln8FlZWdy4cUOz7uXl9cJCTU5ODjk52rVyeXlGyIoZE/Ovq6c2sGfFEM16y27Tnxv+ZexdNZzE2Ou0+3aJZpuphS3NPpvAnpXDOHtgERKJlMDI5ji4hyL5D898UcHDkQoejk+tO/HeX6v459QVejaoVIopK3m5OTkc3r+D9z7q/Mpxj+3fxJKZv2nWv+k/WY8p0y03J5sTB7bwbrvuJX6s/zXh3hJaVCm8D5fuff2uIQmpMGNzASZGEOIppXV1KQt2FGgKN/UrSDExkrBoZwGZOSqCPCS0qy1l/o4C4hRveCJPnD60gVVzhmrWP//xzfM1Xe7fusiBbYv4bsSqtzb27lXdGjMWv4EDiFz5D6hUZD94QNz6DTi2erNW2Jd1ZN8WFkz7XbP+3cAJJXq8anWbERpRlZTkBLauXcTUP39mwKg5Rcbu3L8Tw6Tf+9Lqo26ER77Z+EF9WbhmMzsOHWfqsB8xNiosjDWuWdi65e/ljr+XO+169uf0patULhei1zRUCTWiQ9PCbrxTVr5ejcPFm4UtPA/i4dbDdH7/yppKwUYcPlcKJZvXUN7FlvIutlrr7f7ezaoLt/m6uvp7X3buFhceJTG+RVVcrEw5/SCRP/aqx9hU9SzZ8XZC2VTmCzbPk56ejouLC3t19GuWy+Wa/5ubv7hlYOTIkQwbNkxrW7MOg3m349DnxvMJq4/TD+U16wX56gwnMz0Rc+vCmzIzPQEH1xdnoHtXDef2pb207fk3FnLtlizP4Fp8NnAHWenJSA0MMDa1Ys7gWljbebxwv/pgY2aMgURCYrp2NXRiRhb2Fi83fkRmICXYxY57SakvDvwGrKzkSKUGpCRr18ymKJKQP9OK8y+53I4URfIz4ZORP1Mz+rKOHdpNTk42dRo0e+W4FSrX08xcBpD/5LpKVSRibVNYSE9LScLdO7BIfAALSxukUgNSU7RrcdMUiVjJi9aGnT66k9zcbKrVbfHK6f3/7tp9FTMSCgszhgbqf81NIT27MJyFiYRHyc/vMqZUoml9iU1S4morpWqwlE3HldhYQJUgKdM25msmE3isUOHpoCIqUMrm48XPsvQqQis2wNOvMF/79/pLS0nA6qnrLz0lEVev4Nc+zq0rp8hITeL3bwsHFyuVBWxYPJoDWxfyy0T9jqPKVyhQ5edjZKudB8hsbclL1N3aka9QcPWHH5EYGSGztiY3Ph6vXj3JefBQr2krTkSVOlozl+XnFeYFctvC+zg1JQkPH915gaWlOj9MVTyTH6YkYWXzTO8CcwvMzC1wdvXEL7Ac33xSn1NH91CtzjuaMA/u3eTPwV9Tr8l7tPrwizc+x3/JLS0wkEpJStH+fUhKScVObv3cuIvXb2PR2i1MGtwXf6/n/ya6OTkgt7Tg/qM4vRdszsbkcuthYaHE8MlTmJW5lNSMwjzC0kzC/biXrwDJylHxOKkAR3npVGTKTZ/8/mdqVwAnZuZgb/ZyY5dlBlKCHKy5n5IBQHZ+AVMOX2JM8yrU9lE/7wTYW3M1PoVFp2/8zxRsVP/RSpuy6r9blf+Sjh49WmQ9JESdEVWsWJFHjx5haGiIv7+/1mJv/2rNmP379yclJUVrafxh/xfGMzKxQO7gpVlsnf0xs3Tg3rXCqUBzs9N5fOcczt4Rxe5HpVKxd9Vwbp7fyXtfz8fazr3YsKYWNhibWnHv+lEy0xPxCa//Suf6umSGBoS42nHsVuEPulKp4tjNh5QvZrrnZxUolVx/nPzSBaHXZSiT4eMfxIVzheOPlEolF8+eJCAoXGecgOBwLp49qbXtfPRxAoJ1h3+RPTs2UqlKLaysdU+F+TwmpuY4unhqFhd3P6zk9lw5Xzg2ICsznVvXz+MbqLuvv6FMhqdviFYcpVLJlfPH8Q0qXyT8oV1rKB9VD0tr3QU/oXi5+erCyL9LfAqkZanwcSr8QTMyBDd7uJ/wamNhJBL4t7fMvxM5qZ7ZhUqlHqSrLyam5tg7e2kWJzd/LOX2xFwszI+zM9O5e+McXgERr32cirVa0WfkWr7/fbVmsbJxpF6Lz/mi3yw9nIk2VX4+6VeuYF3lqbF0EgnWlSuTdk73+BRN3NxccuPjkRgYYNugQYlO5/w0U1NznFw8NIurhy/WNnZcOlc4LjUrM50b1y7gH6S7y6uhTIa3XzCXzmnnBZfPncBfR17wLxUqUKnIz8vTbHtw9wajB/agZv3mvP/JN3o4w0IymSFBvl6cPF848F+pVHLy/BXCA3VP9wzw97otzFu5kfEDviPEz/uFx4lLTCIlPQP7FxSWXkdOLsQrlJolNkFJSrqSYK/CemYTI/BxNeTmUwWgFzGWgYNcSkpGyU7nXByZgZRgR2tO3Cvs+q58MiamnMvL/cYVKFXEJKZqCkL5BUrylSqkzzz4G0glKJ/N5AThiTLfYnPo0CFGjx5NmzZt2LFjB//88w+bNm0CoFGjRlSvXp02bdowevRoAgMDefjwIZs2beK9994jKirqBXsvZGxsrBmn8y+Z7NVvLIlEQkTdTpzcMR25gzdWtm4c3TIJcytHfMsVzgy0ZmpnfMs1okJtdb/yfauGc/XURlp0nYLM2FwzbsbYxBJDI3UmcOnYKmyd/DC1sCX2djQH1owgou5nWu+6KWmfVg9n0JoDhLnaE+7mwN9HL5KVl0+bSHVN4YDV+3C0Mqd3I/V3P33vGcq7O+Jpa0ladi7zD58nNiWdthV11yzqU/M2HzNt/G/4+gfjHxjKlnXLycnOpm4jdYvE1HHDsbFzoP1nXwHQrNWHDO//NRvXLCEyqgZHDuzkZswVuvXsp9lneloqCfGPSE5SjyuIfXAXQDMD2r8ePbzPlYvR/DRkrF7ORSKR0LB5R7asmoWji+eT6Z6nILdxIKJKYcF2/NDuRFRtQP1mHwPQqOWnzP9rEF5+oXj7h7N702Jyc7KoUb+11v7jYu8Sc/k0PX/5S+fx42LvkpOdSaoikbzcHO7dugKAi7tfsf3vS4qBuRnm/oXv6zDzcceqQjC5SSlk34t9q2l5nmNXlNQOl5KUpkSRoaJeeSlpmWi9b+bThlKu3FNx4pp6W4MIKTEPlaRkqB9kwr2leDtJWLxb3RKTkAKJqSqaVzVgx+kCsnIgyF2Cr4uEpXv101qji0QiofY7ndi1dgb2zl7YOrizbeUkrOSOhFUqbG2Z8XsXwqMaUbNJRwBysjNIeHRX83lS/AMe3L6MmYU1NvaumFvKMbeUax3LwMAQS2t7HF1L5j0WDxcvIWDoENIvXSb94kVcOrTHwNSUuA3qadr9hw0lNy6eu09m4LQIC8PI0ZGMa9cwcnDAo3t3JBIpDxYu1OxTamqKiUdhK4GxmytmgYHkp6SQ+/ixXtMvkUho3LI9G/6Zg5OrB/aObqxZMg0bWwcqVq2nCTd60FdUrFZPMw1zk9YdmT1xKN7+ofgGhLF9wxJysrOo1VDdpS7u0X2OH9xBeEQ1LK1tSEp8zOZV85EZm1C+Uk1A3f1s9OCvCI+oRtPWHUl5MvZPIjV4rQocXdq3aMyvU+YS7OdFmL8PyzbtJDsnhxb11WkYNnkODrZyvu6ofoXAorVbmLV8HcN6d8PFwZ7EZHVTpqmJMWamJmRmZTPnnw3Ur1YRO7k19x/HM2XRP7g7O1I1IkwvaX6RXSezaVbDhLhkJQmKAlrVNkWRriT6WmGB8buPLIi+nsfe0+oWkffrm3IuJo+kFCXWlhJa1jJFqYITlwq7oVmZS7Ayl+Jgo675cHMwIDtXRVKqksxs/RcMPon0Z8iO04Q4yZ9M93yDrPwCWoWq8+PB20/hYG5Kr5rq8U0zj12lnLMNHnJz0p6MsXmUmkmbMHV4C2MZldzsmHjwIsaGBrhYmnLqQSKbLt/j+9qvV6H4n/QfHi5QFpX5gk3fvn05efIkw4YNw8rKinHjxtG0aVNAncFv3ryZAQMG0KVLF+Lj43F2dqZOnTo4ORU/i0tJq9jgC/Jys9izYjA5Wam4+FSi1ZeztN5hk5Jwl+yMwm5P5w8tBWD1FO2X0jVq/zshVdoCkBx3myObxpOdmYKVrStRjXsQUbdzyZ/QU94J9yU5I5upe06TkJ5FkLMtUz9poplQ4FFKhlbtS1p2LsM3HCQhPQsrE2NCXe1Y0LUFfo76+RF8nuq1G5GaomDl4lkokpPw8g3g52HjNF3REuIfa41PCgwpR88fhrHi75ksXzgDZ1d3+g4YpXmHDcCpYweYPnGEZn3S6MEAvN/+c9p1KOySsXfnRmztHCkfWdi3+001adOZnJwsFs/4lcyMNPyDI+k1cKpW3/f4x/dITy28rqJqNiUtNZkNy6aRqkjA3TuIXgOmFhl4fHj3WuR2ToRU0B7T9q9F04Zx/VJh69eIH9UFp9+mbsLe8e1OAW1dKZzquxZp1kPH/ALAvYWrOdf1xa2sb8vhSyqMDFW0qCrFxAjuxqlYvEf7HTY2FhLUY3HVDyHmxtCmugEWpupZ1B4nq1i8W6mZXU2pUo/faRgh5eO6BhjJ1NNCrz2i/RLPklCvRVdyc7JYOWcI2ZlpeAdW5It+M7Wuv8TH98hIK7z+7t+8yPQRnTXrG/7+A4BKtdvwcY/CcSNvU+KOHchs5Hj2+BKZnR0Z165xqde35D2ZUMDY2Vn9RT8hNTbG86semLi5UZCVRfKhQ1wfPJiC9MKxExahIYTPmKFZ9+nTB4C4DRuJeaaLsz68+95n5GZnM3/q72RmpBEYEkGfwZO0/hZxj+6TnqrQrFet1YS0lGTWLp1OSnIinj6B9BkyGesneYHMyJhrl86wY8NSMjJSsbK2IygskgGj5mgmHTh5eBdpKckc2beFI/u2aPZt5+DCmFna7+96XY1qViE5NZ3Zy9eRqEglwNuD8QO+w/ZJ68rjhESt35jV2/eSl5/PL2Onae2n6wct+eLD1kilUm7cvc+WfYdJy8jE3lZO1fJhdP+4NUZvqVJm+7EcjGUSOjY1w8xEQsz9fCavSNd6h42DjRQL08LzkltK6drSHHNTCelZKmLu5/PHojTSn5ryuU6EsdZLPH/oaAnAgk0ZHLmg/3E4TQLdSM7KYfrRKyRm5BDoYMXk1tU0Uzg/SsvSGiuXlpPLb7ujSczIwcpERrCjnLkf1MbXrnByiN/fieKvw5cYuO0Uqdm5OFuZ8XX1ENqV89Z7+oX/DRKVSrTnva6/Nv9vfXVfpIwu7STo1aVK+uvbXdpSckr+5WpvU2bFiNJOgl6dmn+xtJOgNxFB/1v9ve17/DcGruvNot2lnQK9Cc6LLu0k6NUvW/6HWhGAMRYjSzsJemPxzX/3+SbjyNpSO7Z59TalduySUuZbbARBEARBEAShLFKJrmh6Jb5NQRAEQRAEQRDKPNFiIwiCIAiCIAilQUz3rFeixUYQBEEQBEEQhDJPtNgIgiAIgiAIQikQY2z0S3ybgiAIgiAIgiCUeaJgIwiCIAiCIAhCmSe6ogmCIAiCIAhCaRCTB+iVaLERBEEQBEEQBKHMEy02giAIgiAIglAaxOQBeiW+TUEQBEEQBEEQyjxRsBEEQRAEQRAEocwTXdEEQRAEQRAEoRSoxOQBeiVabARBEARBEARBKPNEi40gCIIgCIIglAYxeYBeiW9TEARBEARBEIQyT7TYCIIgCIIgCEIpUCHG2OiTaLERBEEQBEEQBKHMEwUbQRAEQRAEQRDKPNEVTRAEQRAEQRBKgUpMHqBXEpVKpSrtRJRViui9pZ0EvbpsXLG0k6BXJ29alnYS9Kaz45bSToJejb/WpLSToFeVOoeVdhL0Zse4U6WdBL1ycDAt7SToVfdyJ0s7CXqTYWxT2knQK6f7/1v3zl2PWqWdBL0J8vMo7SQUS3Fmd6kdWx7ZoNSOXVJEi40gCIIgCIIglAbRYqNX4tsUBEEQBEEQBKHMEwUbQRAEQRAEQRDKPNEVTRAEQRAEQRBKgUoi3mOjT6LFRhAEQRAEQRCEMk+02AiCIAiCIAhCKRDTPeuX+DYFQRAEQRAEQSjzRIuNIAiCIAiCIJQGMcZGr0SLjSAIgiAIgiAIZZ4o2AiCIAiCIAiCUOaJrmiCIAiCIAiCUArE5AH6Jb5NQRAEQRAEQRDKPNFiIwiCIAiCIAilQIWYPECfRIuNIAiCIAiCIAhlnijYCIIgCIIgCIJQ5omuaIIgCIIgCIJQCsTkAfolvk1BEARBEARBEMo80WIjCIIgCIIgCKVBIiYP0CfRYiMIgiAIgiAIwnNNmTIFb29vTExMqFq1KsePHy827KxZs6hduzY2NjbY2NjQqFGj54bXl//Jgk29evX47rvvSjsZgiAIgiAIglAsFdJSW17F8uXL6dOnD0OGDOH06dNUqFCBpk2bEhcXpzP83r17ad++PXv27OHIkSN4eHjQpEkTHjx4oI+vrViiK1op+GfbHhZv2EGiIoUAL3f6dvmYMH8fnWHX7jrA5v1HuXnvIQDBPp581b5NkfC37scyZclqTl+6RoFSiY+bC6P69sDZ3lavaVepVKxZOoN9O9aSmZFOQHB5OvX4GWdXz+fG27l5BVvW/E2KIhFP7wA+6fYjvoFhAKSnpbBm6UwuRh8lMeExllZyKlatR9sOPTAzt9Dso3ObykX226PvCKrVbqLXc3yWSqXi+NbJXDz6DzlZqbj4VKReuyHIHbyLjXP+0FIuHF5KapL6BrZ19qdKk2/wCqlToml9kRU7DrJo024SU9II8HTlx05tCffz0hl294lzzFu/g3uPE8gvUOLpZE/Hd+vRvFbRv8PbVK+8lEh/CSYyuBevYvMJJUlpxYevFCAhKkCK/MmlFK+A/ReUxDxUacKYm0DjilJ8nSUYySAxFQ5cUHLlnkr3Tt8i21pR+PbtinXFcExcHTn5/tc8Xr+rtJOlU7OqRlQLM8TUWMKt2AL+2ZNDQsrLfYcNK8loWcOYfdG5rDmQC4CtpYTBnc11hp+3JYuzMQV6S7sudcIlRPpJMJbB/QTYclJJcnrx4Sv6S6joL0H+JMnxKXDwopIbsep1a3Po2dJAZ9xVhwq4ck/PJ/DvvrfsZOnazSQpUvDz9uD7Lz4lNMBPZ9j1O/awde8hbt69D0CQnzdfdvxAEz4/P5+ZS1Zx9PRZHj6Ow9zMjKjyYXz16YfY29qUzAk8m8aNm1i5ajVJycn4+vjwdY8vCQ4K1Bn29p07LPx7MTExN3gcF8eX3b6gbZvWxe57+Yp/mLtgIW1at+Kr7t1K6hQ0lu05zoIdh0hMSSfQ3Zl+HzejnI+7zrC7Tl9izpYD3I1PUufJjrZ0alyDFtUqaMJEfDlUZ9zv2jamc9Oaek37pg3rWLNqBcnJSfj4+NH9q54EBgUXG/7ggX0sXjSfuMePcHV147PPuxFVuarm86ysLBbMm82xI4dIS0vFycmZFq3eo1nzlpowsbEPmTd7BpcuXiAvL4+KlaLo/lUvbGzezrX3/9m4cePo1q0bXbp0AWD69Ols2rSJuXPn8vPPPxcJv3jxYq312bNns2rVKnbt2kWnTp1KLJ3/UwWb3NxcjIyMSjsZz7Xj8AkmLlxJvy86EBbgw7LNu+j9+yRWjB+GrbVVkfCnL16jSY3KlA/yw0gmY+G6rXw7YiJLxw7B8cmPyP1H8XQf8iet6tek2wctMTc15eb9hxjJ9P/n3bxmITs2Lqdb76E4OLmyesl0xg7rxYjJKzAyMtYZ59jB7SybO4HPvvoZ38Bwtq9fyphhvRg1ZSVWclsUSfEokuL5qHNv3Dx8SYiPZcH0USiS4unZ7w+tfXXtNZhyFatr1s3MLfV+js86vXs2Zw8solGHUVjZunNsy0TWz/iCDv02YSjTfc4WcieqN++L3MELlUrFlZNr2TT3Gz7quxo754AST7Mu24+eYfzitfTv8gHh/l4s3bqPXn/MYNWf/bG1Lvo9Wpmb8Xmrxni7OiEzNODAmYsMn7kMWytLqpcv/serJNUIlVAlSMLaI0oU6Srql5fSsb4BUzcWUKDUHSctE3ZFK0lKUz9gV/CV8lEdKTO3FBCfog7TpoYUE5mEZfsKyMyBct4S2tWSMntrAY+S39LJFcPA3IzUc1e5N38VUSunlG5inqNhRRl1KshYvCObxFQV71YzokdrU0YtziT/BeUPD0cpNcJkPEjQDpicrmLQnAytbTXCDKlf0YjLd0q2UFM9WELlQAkbjilRpEPdclLa15MyY7PyOdeaij1nVSSlqbvNl/eW8EEtKbO3KUlIhdRMmLBWO92RfhKqBUs0hR9923XwKH/NW8IPX3YmNNCPFRu30Wf4nyydPBobedHfnDMXrtCoVjXKBQdgJJOxeM0m+gz7k0UTf8fBzpbsnFyu3bzNZx+0JsDbk9T0DCbO/Zt+I8cz58/hJXMST9m7/wAzZ82mV89vCA4KZM3a9QwYNJg5M6cjl8uLhM/JycHF2Zk6tWoxY9bs5+776rVrbNq6FR8f75JJ/DO2nbjA2JXbGNChBeV83Fi86yhfT/qbdcN6YmtlUSS8lbkpX7xbB29ne2SGBuw/d40hC9Zia2lOjTB/AHaO7qsV5+CFGIYtWkejiiF6TfuBfXuYM2s6X/fsTWBwCOvXrmLIoJ+ZNnMecnnRQsblSxcZ88cIOnXuSuUq1di3dze//zqE8ZOm4eWtrqidM2sa585G0+fHn3F0cubM6ZNMnzIJWzs7qlarQXZ2FkMG9MPb14/fRv4JwOJF8/lt2ED+HDcZqfR/shNSicrJySEnJ0drm7GxMcbG2s82ubm5nDp1iv79+2u2SaVSGjVqxJEjR17qWJmZmeTl5WFrq98K92eV+lWgVCoZPXo0/v7+GBsb4+npyYgRIwDo168fgYGBmJmZ4evry6BBg8jLy9PEHTp0KBEREcyePRsfHx9MTEw0n+Xn59OzZ0+sra2xt7dn0KBBqFSFNYfJycl06tQJGxsbzMzMaNasGdevXy/x8126aSetG9aiZf2a+Lq78vMXHTExMmLDnsM6ww//tivtmtYj0NsDbzdnBvTohFKl4uT5K5ow05atpUZkOL0+eZ8gH0/cnR2oE1VBZ0HpTahUKrZvWEqrDz+nYtW6eHgH0K33MJKTEjh9bF+x8batW0LdJm2o3bAVbh6+fPZVf4yMTdi/az0A7l7+9Pp5NJFV6uDo4k5o+cq83/Erok8coKAgX2tfZuaWyG3sNUtxhSl9nvPZ/QuJatwD3/CG2LsG0ajDH2SkxnHzws5i4/mENcA7tC5yB29sHH2o/u73yIzMeHz7bImm93kWb9lLm/rVaVW3Kr5uzvTv8gEmxkas33dMZ/ioUH/qVy6Pj5sT7k72tH+nLv4eLkRfvfmWU16oarCUAxeUXLuvIk4Ba48osTSDYI/iB19ee6Ai5qH6YTMpDfacVZKbD272hXE87CUcv6bkYSIo0uHABRXZeeBiW/qDOuO37efakAk8Xlf89fZfUCdCxvYTuVy4VUBsopLFO7KxNpdQzvf5FSxGMvi0iQnL9+SQla39mUqlLiw8vZTzMyT6ej65ebr3py9VgiQcvKji2gOIS4H1x5RYmkKQe/HXxPWHcCMWktPV19re8yqta02lgoxs7SXIXcLleyry8ovd7RtZtmErLRvXo3nDOvh4uPHjl50xMTZm427defaQ77+ibbNGBPh44eXuSr+vu6JUKTl57hIAFuZmTBjaj4Y1q+Lp5kJ4kD99vujE1Ru3eRSfUDIn8ZTVa9byzjtNadq4EV6ennzb82uMTYzZtn2HzvBBgYF06/o59erWQSaTFbvfrKws/vhzLN/16oWlRdFCRUlYtPMIbWtVpE3NSPxcHRnYsQUmRjLWHj6jM3zlIB8aRIbg6+KAh4MtHRtWI8DNiTMxdzVh7K0ttZa9Z69QOdAHdwf9PkyuW7OKJu+8S6Mm7+Dp6cXXPb/D2NiYndu36gy/Yd1qKlaqTNt2H+Hh6cUnnbrg6+fPpg3rNGGuXL5Eg4ZNKFc+AicnZ95p1gIfXz+uX1U/71y+dJG4uMd81+dHvH188fbx5bu+PxFz/Rrnzur+zsoClURSasvIkSOxtrbWWkaOHFkkjQkJCRQUFODk5KS13cnJiUePHr3Uefbr1w9XV1caNWqkl++tOKVesOnfvz+jRo1i0KBBXLp0iSVLlmi+OEtLS+bPn8+lS5eYOHEis2bNYvz48VrxY2JiWLVqFatXryY6OlqzfcGCBRgaGnL8+HEmTpzIuHHjmD27sLamc+fOnDx5kvXr13PkyBFUKhXvvvuuVsFJ3/Ly87ly8y5VyhXWnEilUiqXC+b89Zd7WMzOyaUgvwArC3VfB6VSyeEz5/F0ceLbERN5p9sPfD5gJPtOROs9/fGPH5CSnEho+SqabWbmFvgFhnHj6jmdcfLz8rh944pWHKlUSliFKty4er7YY2VlpmNqZo6BgfZD0aKZo+n5aSOG/fgZ+3eu1yqsloTUpPtkpsXjEVhDs83Y1BInz/I8uh39UvtQKgu4dmYTebmZOHtHlExCXyAvP58rt+5TNaywu4ZUKqVKWADnYu68ML5KpeL4hWvceRRPZLDuLiwlTW4BlqYSbj4q/Jvn5MGDBHC3f7kCiEQCYV4SZIZwP75wP/cSVIR5STB50uAb5iXB0ABuPy79rmhlgZ2VBGtzKdfuFbZGZOfCncdKvJ2f/zPTrq4xl27na8UtjruDFHcHA45eKtlSjdwcLEwlWn//nDx4kAhudi+3D4kEQj3V19qDBN3XkbMNONtIiL5RMtdZXl4+127cJqp8mGabVColqnwoF6/GvNQ+cnJzyC8owMpSd5dAgPTMTCQSCZbmxYfRh7y8PK7HxFAxorDrlVQqJTIigktXrr7Rvv+aNp0qlaOoGBnxhql8OXn5+Vy++5CqIb6abVKplKrBvpy7ef+F8VUqFccu3+T240QqBujuTpyYms7B89dpUytSb+kG9d8hJuYaEREVNdukUikVIipy5colnXGuXLlEhciKWtsqVqqsFT44JJTjxw6TmJCASqXi3NloHj64T0TFKM1xAa0CqpGRERKJhEsXL+jt/P4/6d+/PykpKVrL060y+jJq1CiWLVvGmjVrtBohSkKpdkVLS0tj4sSJ/PXXX3z22WcA+Pn5UatWLQAGDhyoCevt7c0PP/zAsmXL+OmnnzTbc3NzWbhwIQ4ODlr79vDwYPz48UgkEoKCgjh//jzjx4+nW7duXL9+nfXr13Po0CFq1FA/sC5evBgPDw/Wrl3LBx98UCStuprrcnJzMX6Frm+K1HQKlMoi3X5sra248/DlSrxTFq/G3taayk8KR8mpaWRm57Bw3VZ6fNSanh3bciT6Iv3GTmfq4D5UDNXd7/h1pCgSAbCWa/+yW1nbkZKcqDNOWpoCpbIAa7ntM3Fsib1/W3ecVAXrV8yhbpP3tLa/1/5LQstXxsjYhAvRR1k44w9ysjNp3OLj1zyjF8tMjQfAzFL7nM0s7clMe37tZMLDq6ya1J78/BxkRma82+UvbJ39Syytz6NIyyjm2rPkdqzugX8A6ZlZNOs1lNz8fAykUvp1bke1ckElnVydLJ7khRlZ2tvTs1VYmD4/rqMcPm9igKEB5ObDiv3qrkH/WnlASbtaUn76wJACpbr2fMW+54+nEApZmqkLlmmZ2g/oaZlKrMyLL3RGBhji7iBl3IqsYsM8rVqojEdJSm4/KqYvmJ6Y/3utPdOClPES15qDNXRuJNVcaysPal9rT4vwlRCfouKB7uzzjaWkpanv+2e6nNnKrbnz4OX6vk1duBx7GxutwtHTcnJzmbZoBY1qVcPc7AVfzhtKTU1FqVQW6epkI5dz796LCwPF2btvPzExN5g8YdybJvGlJadnUqBUYWep3TpkZ2XO7UfF/7akZWXTpN9Y8vIKkEol/NKhOdVDixkvdSQaMxMjGkbqtxtaamqK+u/wzLgWudyGB/d0DxRTJCcX+bvJ5XKSk5M0619+1ZO/Jo2nS6ePMTAwQCKR0rP394SXKw9AUHAIJiYmzJ87m06ffY4KFQvmzUapVGrtp6wpzRd06up2pou9vT0GBgY8fvxYa/vjx49xdnZ+btwxY8YwatQodu7cSfny5d8ovS+jVAs2ly9fJicnh4YNG+r8fPny5UyaNIkbN26Qnp5Ofn4+VlbaGbSXl1eRQg1AtWrVkDw1N3j16tUZO3YsBQUFXL58GUNDQ6pWLRy0ZmdnR1BQEJcvX9aZlpEjRzJs2DCtbf2+/Iyfe3R+2dN9YwvWbmXH4RNMHdIXYyN1jYVSqX6QqBNVgfbN1c17gd4enL92g9U79r9Rwebwvi0smFbYJPn9wPHPCa0fWZnpjP/1O1w9fGjzcXetz1p/9IXm/16+QeRkZ7FlzSK9FmyuntrA3n+GaNZbfDH9tfdl4+jDR33XkJudRszZbexc+jNtv1lUaoWb12FmYsySET+QmZPLiYvXGL94LW4OdkSFlvw5hHtLaFGlMMNfuvf1x1QkpMKMzQWYGEGIp5TW1aUs2FGgeeCsX0GKiZGERTsLyMxREeQhoV1tKfN3FBCneMMT+R9UKdCQD+sX/hjO3PByBZOnyS0ktK1jxNS12S8cgwMgM4BKQYZsO5H7ysd6kTAvCe9GFf5eLN//+gWnxDSYvU2JsUzdRbJlVSl/7y5auDE0UB/34MX/bqvgotUb2HXoGJOH99dZiZefn8/gMVNApeKHLzu//QTqQVx8PNNmzmLkb8P/82N0AcyNjVg+sAeZObkcv3KLMf9sw83ehspBRScgWnfoDO9WKY/xc7rg/ZdsXL+Wa1cuM3DIrzg4OnHxwjlmTJ2Mra0dEZGVsLaW0++XwUz7ayIb169BIpFQp24D/PwDtJ73BP0zMjKiUqVK7Nq1izZt2gDqHkO7du2iZ8+excYbPXo0I0aMYNu2bURFRb2VtJZqwcbUtPjanSNHjtCxY0eGDRtG06ZNsba2ZtmyZYwdO1YrnHkJN33/q3///vTp00drW9aVo6+0D7mVBQZSKUkp2lM4JaWkYiu3fm7cvzdsZ+G6rfw18DsCvApnTJFbWWBgIMXHzUUrvLebM2ev3Hil9D0rskod/ALDNev5eeoHihRFInJbe8321JREPH10F6AsLeVIpQakKLRrU1JTkrC20W4FycrKYOywbzExNaPXz39iaPj8y9M3MJz1K+aQl5eLTKafHySfsPo4eRbWKBQUqM85My0RcytHzfbMtATs3Z5fC2ZgaITcQd1FwNEjnLh7Fzi7fyH1Pyz5AbbPkluaF3PtpWH3nLFYUqkUD2d1xUGQlxu3Hjxm/oadb6Vgc+2+ihlPDSY3fDKZlLkppD9Vk25hIuFR8vMfDpVKNK0vsUlKXG2lVA2Wsum4EhsLqBIkZdrGfM1kAo8VKjwdVEQFStl8vGRbB8qiC7fyufP46b+N+qHC0kxC6lOtNpZmUh7E6y61eDhKsTST8sPHhb8DBlIJvm5SapWX8cPUDJ7uaVrB3xCZIZy4rP9uaNcfqJidWHgwgyflaXMT7WvN3ETC41e41h4lq3C1VU9CsOWkdrxgDwkyAzh/u+QKNtaWlur7XqFdqkpSpGD3gt+cJWs3s3j1JiYM/Ql/76KzXubn5zNozBQexScwafjPJd5aA2BlZYVUKkWh0J7RI1mheO1ZsWJiYlAoFHzz7XeabUqlkvMXLrJ+w0Y2rl2NgYHumezehI2FGQZSCYlp2s3CiakZ2FsXP8ZHKpXi6aj+7Qz2cOFWbDxztx4sUrA5ff0Otx8n8ke3oj1Q3pSVlbX675Cs/XdQKJKRFzMzntzGpsjfTaFQYGOj7s2Rk5PDogVz6T9wKJWrVAPAx8eXWzdusGb1P0REVgIgsmIUM+cuIjUlBamBARYWFnTq+AG1nevp+SyFZ/Xp04fPPvuMqKgoqlSpwoQJE8jIyNDMktapUyfc3Nw0Y3T++OMPBg8ezJIlS/D29taMxbGwsMCiBMexleoYm4CAAExNTdm1q+jUpYcPH8bLy4sBAwYQFRVFQEAAd+68eCzAv44d0x4QffToUQICAjAwMCAkJIT8/HytMImJiVy9epXQ0FCd+zM2NsbKykpreZVuaAAyQ0OCfT05cb6wVUipVHLiwhXKBfgWG2/Rum3MXbWJCf2/JcTPu8g+Q/28uROr3Tx4NzYO5zccLGhqao6Ti4dmcfXwxdrGjkvnTmjCZGWmc+PaRfyCdDcvGspkePsFa8VRKpVcOncCv6ByWvsZM7QXBoYyeg8Y91KTAty9dQ1zCyu9FWoAjEwskDt4aRZbJ3/MLB24f71w1o/c7HQe3z33yuNlVCqlpqD0tskMDQn2cef4xWuabUqlkhMXr1PeX3f/bF2UKhW5JTXK+Rm5+eoHxH+X+BRIy1Lh41RYM2dkCG72cL+YMQzFkUgKH17/nTzw2eFaKhWIOkDdcvIgIUWlWR4lKUnJUBLgUfgAaCwDLydpsd3Grt0rYNTiTP5cmqVZ7j4u4NTVfP5cmlXk71EtVMaFWwVFuofpw7PXWkIqpGep8H72WrPjlbuNSSSg67k4wlfCtYeQmVP0M32RyQwJ9PPm1LmLmm1KpZJT5y4RFlR85cTiNZtYsHIdYwb9QLB/0d+mfws192MfMWFoP6wtS352SlCPrQjw9+dMdOGYTqVSSXT0WUKDX6+LbESFCsyY8hfTJk/SLIEB/jSoV5dpkyeVSKEG1HlyiKcrxy/f0mxTKpUcv3KT8r66p3vWRalSkZtfNE9ec+g0oZ4uBHk8v5vQ65DJZPj7B3L27OnCdCiVnIs+Q3Cw7meo4OBQzkVrD/CPPnNKE76gIJ/8/Hykz3TLkhpIUSmL5u9W1tZYWFhwNvoMKQoFVarVKBKmrFAhKbXlVXz00UeMGTOGwYMHExERQXR0NFu3btWMi7979y6xsYVdXKdNm0Zubi7t2rXDxcVFs4wZM0av39+zSrXFxsTEhH79+vHTTz9hZGREzZo1iY+P5+LFiwQEBHD37l2WLVtG5cqV2bRpE2vWrHnpfd+9e5c+ffrw5Zdfcvr0aSZPnqxp7QkICKB169Z069aNGTNmYGlpyc8//4ybmxutWxc/v70+tG/eiOFT5xPi502onzfLNu8iOyeXFvXUN+XQv+bhYCvnmw7q8SUL121l5ooNDP+2K66OdiQq1FXKpibGmD0ZgPVJyyYMmDCLyJAAKoUFcTT6IgdPnWPqkL66E/GaJBIJTVq2Z8M/c3F29cDe0Y3VS6ZjY2tPxap1NeH+GPQVlarVp1HzDwFo2roDsyYOw8c/BN+AMLZvWEpOdha1G6rnps/KTOfPob3Izcnmy5+Hk5WZTlamuhbLysoGqYEBZ47vJzUlCb/AcGRGxlyMPsbGlfNo1uYTvZ6jrnOuUKcTJ3dMR27vjaWtG8e2TsLcyhHf8MKZPdZO64xveCPK11an5/DGsXiF1MHSxoXc7Ayund7IgxvHadX9+dONlqSOzeoxdMYSQn08CPPzYsnWfWTl5NKyrrpL5uDpi3G0sabnRy0AmLd+JyE+Hrg72ZGXV8Chs5fYfOgk/TvrvwbwZR27oqR2uJSkNCWKDBX1yktJy0TrfTOfNpRy5Z6KE9fU2xpESIl5qCQlQ/2wHe4txdtJwuLd6gfuhBRITFXRvKoBO04XkJWjnqnK10XC0r2l31pjYG6GuX9hjbmZjztWFYLJTUoh+14JzRH8GvZH59Ekyoh4hZKkJ9M9p2SoOH+z8KHr6zYmnLtZwMFzeeTkwaMk7e83Nw8ys1VFtttbq1tyZq4vgVJNMY5fVVEzTEJSmgpFhnq657QsuHq/8FrrUF/KtfsqTl5Xb6tXXsKNWBWpmeqCUJiXBC9HWLpX+8HMxgI8HWDZvpK/vj5u+Q4jJs8i2N+HkABfVmzYTlZODs0bqN+p9evEGTjY2dDjE3V+/ffqjcxZtpoh33+Fi6M9ickKAExNTDAzNSE/P5+Bf07m2s07/PFLH5RKpSaMlYUFshJ4zcDT2r7XhjHjxhMY4E9QYCBr1q0jOzubJo3V+fHoseOwt7Pj887qcbt5eXncvase95GXn09iYiI3btzExNQEN1dXzMzM8PbWrtwxMTHB0sqqyHZ9+7RRdQbNX0Ootyvh3urpnrNy82hdQz3Yf+C81TjKrfj2PfW5zdlygFAvVzwcbMjNL+DghetsOnqOXzo219pvelY2O05dom+7knvHW+v33mfCuNH4BwQRGBjE+nWryc7JpmHjdwAYP2YUtnb2fNZF3YW8Zeu2/NKvD2tW/0PlylXZv28PMdev8U2v7wEwMzMnvFx55s2diZGxkbor2vlz7Nm1g8+79dAcd+f2rbh7emJtLefK5UvMnjGFVm3ex93do8TOVSjUs2fPYrue7d27V2v99u3bJZ8gHUr9PTaDBg3C0NCQwYMH8/DhQ1xcXOjRowddu3bl+++/p2fPnuTk5NC8eXMGDRrE0KFDX2q/nTp1IisriypVqmBgYEDv3r3p3r1wzMa8efPo3bs3LVq0IDc3lzp16rB58+bnTgepD41rVEaRms7MFetJVKQS6O3OhP7fYvdkcOfjxCSk0sJS9Ood+8nLz6f/uBla+/miXQu6faAuGNSrEkm/bh1ZsHYr4+Ytx9PViZF9viQiWP/dhd59rxM52VnMm/o7mRnpBIZUoO/gSVotLHGPHpCWqtCsV63VhLQUBWuWziAlWd1tre+QSZpJCG7fuMrNa+oZTX76SnvCgD9nrMPByRUDQ0N2bf6HpXPGo0KFo7M77T//nrqN2+j9HJ9VscEX5OdmseefwU9e0FmJlt1nab3DJiXhLlkZhc3sWelJ7FzSj4zUeIxNLbFzCaJV99l4Bun3BWmvokm1SJJT05m+aiuJKakEerkx+acvsXsyocCjhGSkT/VTzsrJ5Y/5K4lLSsHYSIa3qyO/fvUJTarpd4adV3H4kgojQxUtqkoxMYK7cSoW79F+h42NhQQzYwD1w6S5MbSpboCFqbql4XGyisW7lZrZ1ZQq9fidhhFSPq5rgJFMPVXv2iPaL/EsLdaVwqm+a5FmPXTMLwDcW7iac131P3vN69p1Og8jmYSP6htjaizhZmwBM9ZnaY2fsbeWYmHy6g/zVUNlpKSruHq3ZN9d87QjV1TIDOHdyupr7V68uiCifa2B6VONy+Ym0KqaFAsT9bUWp4Cle5Xc0m5Qp4KvhNRMuPlyc8a8kYa1qqFITWP20tUkKVLw9/Fk7KAfNd2fHyckav3mrN22m7wnhZendfmwDV0/bkt8UjIHT6hr3rv0HagVZtLw/lQM1+9A9WfVq1OblJQUFv69mOTkZHx9fRkxfJimK1p8fLxWPpaYlMTX3/bWrK9cvYaVq9dQvlw4f44qOq3t29S0cjjJ6RlMW7+HhNR0gtydmfrtJ9g9eYdNbFKK1tiRrJxcfl+6ibjkVIxlhng72zPi87Y0rRyutd+tJy6ASsU7VcpRUmrXrU9KagpLFs1/8nfwY+jwkU/9HeKQPPVemZDQMPr+9AuLF85j0fy5uLq58cugYZp32AD82G8gC+fPYeyfI0lPS8PB0YlPOn1Os3cLX9D54ME9Fi6YQ3paGo6OTnzwUUdav/d+iZ3n21Cakwf8L5KoSnq+3P9hiui9pZ0EvbpsXPHFgcqQkzffTveIt6Gz45bSToJejb9WcjWJpaFSZ90zRpVFO8adKu0k6JWDQ8mP/Xibupc7WdpJ0JsM4/+tt8U73f/funfuetQq7SToTZDff7dF52Exr8t4G1yLGUZQlolioiAIgiAIgiAIZV6pd0UTBEEQBEEQhP+PVGKqar0SLTaCIAiCIAiCIJR5osVGEARBEARBEErBq067LDyfaLERBEEQBEEQBKHMEy02giAIgiAIglAKxHTP+iW+TUEQBEEQBEEQyjxRsBEEQRAEQRAEocwTXdEEQRAEQRAEoRSIyQP0S7TYCIIgCIIgCIJQ5okWG0EQBEEQBEEoBWLyAP0S36YgCIIgCIIgCGWeKNgIgiAIgiAIglDmia5ogiAIgiAIglAKxOQB+iVabARBEARBEARBKPNEi40gCIIgCIIglAIxeYB+iW9TEARBEARBEIQyT7TYCIIgCIIgCEIpEGNs9Eu02AiCIAiCIAiCUOaJgo0gCIIgCIIgCGWe6Ir2BgyPbivtJOjVKc+6pZ0EversuKW0k6A3d20iSzsJehUR9L/V9L5j3KnSToLeNO5TqbSToFdOF46WdhL0SmHoXNpJ0BuP8+tKOwl6dTyga2knQa9++e5kaSdBbw5u8CjtJBRLJfnf+j0sbaLFRhAEQRAEQRCEMk+02AiCIAiCIAhCKVCpRIuNPokWG0EQBEEQBEEQyjxRsBEEQRAEQRAEocwTXdEEQRAEQRAEoRSoRBuDXolvUxAEQRAEQRCEMk+02AiCIAiCIAhCKVAhJg/QJ9FiIwiCIAiCIAhCmSdabARBEARBEAShFIgWG/0SLTaCIAiCIAiCIJR5omAjCIIgCIIgCEKZJ7qiCYIgCIIgCEIpEF3R9Eu02AiCIAiCIAiCUOaJFhtBEARBEARBKAWixUa/RIuNIAiCIAiCIAhlnijYCIIgCIIgCIJQ5omuaIIgCIIgCIJQClQq0RVNn0SLjSAIgiAIgiAIZZ5osREEQRAEQRCEUiAmD9AvUbApBSuib7Dw1HUSM7IJcLDmp/oVCHe21Rl2/cU7DNt+SmubkYGUI9+20axXGr9aZ9zetcPpFBWot3QXR6VScWzrZC4e+Yec7FRcvCtS/4MhyB28i41zcucMbpzbQXLcTQxlJjh7R1KzZV9sHH01YVIS7nJw/Wge3jxFQX4uXsG1qfv+QMws7Uv8nP61YsdBFm3aTWJKGgGervzYqS3hfl46w+4+cY5563dw73EC+QVKPJ3s6fhuPZrXqvxW0rpl4xrWrlqGIjkJbx9/vujxLQFBIcWGP3xgL0v/nkPc40e4uLrzaZcvqVS5mubzyeNGsmfXNq04ERUrM/jXPzXrN2KusWjeDGKuX0EqNaB6jTp07vY1pqZmej8/UF9r21f9xbE9/5CVkYZ3YCRtPx+Mg7N3sXFuXj7J3k1zeXDrIqmKeD77fhLhUY2KDb9qzlCO7l5Bq09+pnazTiVwFoWaVTWiWpghpsYSbsUW8M+eHBJSVC8Vt2ElGS1rGLMvOpc1B3IBsLWUMLizuc7w87ZkcTamQG9pfx22taLw7dsV64rhmLg6cvL9r3m8ftdbTcP2TSvZtOZvUpKT8PTx57PuffELDCs2/LGDu/hn8UwS4mJxcvWg/WffEBFVQ/O5SqVi1ZJZ7Nm+joyMdAJDyvH5Vz/h7OqpCbN2xTyiTx7mzs1rGMpkzFq6s9jjpaWm0L/3JyQnxjNzyQ7MLSxf6fw2bljP6lX/kJychI+PL19+9Q1BQcHFhj94YD9/L5rP48ePcXV1o/PnX1C5chXN58nJycyfN5szp0+RkZFBWHg5vuzxDW5uboVhkpKYO2cWZ6JPk5WZibu7Bx9+1J6atWq/Utpf1rLD51mw/wwJaZkEutjxc+s6lPNwemG8LdHX+XnpduqH+jDhs3e1Prv5OIkJW45w6uZD8pVK/JxsGfvJO7jYvNr3/yIqlYr1y6ZzYMcaMjPT8A+uQMfuv+D01PWiy54ty9m2diEpikQ8vANp/8VP+ASE69z/pN96ceHMYb7uN5bIqvU1n10+d4x1S6dx/04MxiamVK/Xgvc6foOBgX4fBbt29KZlE2cszQ05fzmVMVOvcz82q9jw/8yuiouTSZHtqzc9YNz0GM16WJAV3T/1JjTICqVSxfWb6fQZcp7cXKVe0y+Ubf8vu6IVFBSgVJbOjbD96n3G7T9P92rBLO7YgEB7a3quPkRSZnaxccyNDNnW/V3NsrHrO1qfP/3Ztu7vMqRJRSRAA3833TvUs9O7Z3N2/yLqfzCUD79bgczYlHXTvyA/L6fYOA9unKB8rQ580Hs5rXvMRVmQz7rpX5CXkwlAXk4ma6d3BSS89/V82n27hIKCPDbM/grVW/rbbT96hvGL19Ltvab8/VtfAj1d6fXHDJJS0nSGtzI34/NWjZk35DuW/f4jLetUYfjMZRw5d6XE03pw/27mzZrKhx06M2bSLLx9/Bg+6EcUimSd4a9cusC40cNp2KQ5YyfNpkr1Wvzx20Du3L6pFS6yUhXmLFqlWfr8NFjzWVJiAsMG9MXF1Y0/xk1j0PDR3L17m8njR5XYee7dOIeD2/6mbZch9Bq+DCNjU2aP6k5ebvHXWm5OJq6eQbTpPOiF+z9/Yid3Ys5iZeOoz2Tr1LCijDoVZPyzJ4fxK7LIzYMerU0xNHhxXA9HKTXCZDxI0C6oJKerGDQnQ2vZcjSH7FwVl++UbqEGwMDcjNRzV7nw7bBSOf6RAztYPGcibT/+gt/GL8DTO4BRQ74jRZGkM/y1y+f4a8xg6jVuyYgJC4iqWodxv//EvTs3NGE2rl7Eto0r6PJVP4b/ORtjY1NGDfmO3Keuyfz8fKrWbEDDZm1fmMZZk0fg6e3/Wue3f99eZs+aQfsOnzBx8lR8fH0ZPOiXYvOBy5cuMvqP32nc5B0mTZ5Gteo1GPHrUG7fvgWoH5J/+3Uoj2JjGTh4GBMnT8XR0ZGBv/QjO7vwQXXc2NHcf3CfQYOHMWXqTKrXqMkfo0Zw40aMzuO+ia1nrzNm40G+bFiZZd9+SJCLPV/N2UBieuZz4z1ISmXcpkNU9HEp8tm9xBQ6T1+Nj6MNs79sw8rvP6Z7wyiMZC9xM75q+tcsYNempXzS4xd+GbUAI2NTJvz6zXPzsBMHt7Fi3jhaftidQWOW4O4dwITh35Cq47rduXExSIq2ANy7dY1Jv31LWGQNBo9dQve+ozh7Yh+rF03W6/l1fN+Ddi3cGDP1Ot1/OENWdgHjhpfDSFZ8q0S3Pqdp9elhzfLdwLMA7DkYrwkTFmTF2GHlOBGdTPe+p/miz2lWb3qISvlyFUH/ZSokpbb8L3orBZuVK1dSrlw5TE1NsbOzo1GjRmRkZFCvXj2+++47rbBt2rShc+fOmvXY2FiaN2+OqakpPj4+LFmyBG9vbyZMmKAJM27cOMqVK4e5uTkeHh58/fXXpKenaz6fP38+crmc9evXExoairGxMXfv3mXv3r1UqVIFc3Nz5HI5NWvW5M6dOyX6Xfx9+jrvhXvTKswbXzsrfmkUiYmhAesuFH9ciUSCvbmJZrEz167ZePoze3MT9t6IJcrDAXe57ppbfVKpVETvW0jlJj3wLdcQe9cgGnf4g4zUOG6eL75WsvWXswmp0hY7lwAc3IJp3GEkackPibt/EYDYW6dJS3pA4w4jsXcNerLfUcTdu8C960dL/LwAFm/ZS5v61WlVtyq+bs707/IBJsZGrN93TGf4qFB/6lcuj4+bE+5O9rR/py7+Hi5EX72pM7w+bVjzD43faU7Dxs3w8PTmy559MDYxYff2zTrDb1y/ishKVWjz/se4e3rR4dOu+PgFsGXjGq1wMpkMG1s7zWJhWVh7efL4EQwMDen21Xe4uXsSEBhMj559OHpoP7EP7+v9HFUqFQe2LqRhmy8Jj2qIq2cQH381ilRFHBdPFV/rHxxRh3c+7E25ysW30gCkJD1m3YIRdPhmtN5rMHWpEyFj+4lcLtwqIDZRyeId2VibSyjn+/xjG8ng0yYmLN+TQ9Yz9SEqFaRlqrSWcn6GRF/PJzevBE/mJcVv28+1IRN4vK74vKEkbVm3lPpNWlO3UQvcPX34/Ot+GBubsG/nRp3ht25YTvmK1WjR9hPcPHz44JMv8fYNYvumlYD6mty6fjltPuxCVLU6ePoE8NX3Q1AkJXDq6H7Nftp16Eaz1u3x8PZ7bvp2bl5FZkYazdt0fK3zW7tmFU3faUbjJk3x9PTim569MTY2Zsf2bTrDr1+3lkqVKvN+uw/x8PTk006d8fPzZ+OG9QA8fPCAq1cu83XPbwkMDMLd3YOvv/mW3Nwc9u3dq9nP5cuXaNmyNUFBwTi7uPBx+46Ym5sTc/36a53H8yw6EE3bKmG0qRyCn5MtA9+rh4nMkLUnLhcbp0Cp5JdlO/iqcRXcba2LfD5561FqBXnx/bs1CHFzwMPOmnqhPthZ6LflWaVSsWvjEpq3+4KIKvVw9w7k82+Ho0iK58zxvcXG27FhMbUbv0fNhq1x9fDlky8HYGRswqHd67TC3b11le3r/qbzN0OK7OPEoW24eQXQ8sPuOLp4EhRWiXaderNn6wqyszL0do4ftHJj4Yo7HDyWyI3bGfw2/gp2tsbUrlZ8TwtFah5JisKlRmU77j/M4syFFE2Yb7/wY+WGB/y98h637mZy70EWuw/Gk5df9gs2gn6VeMEmNjaW9u3b8/nnn3P58mX27t1L27ZtUale7mLs1KkTDx8+ZO/evaxatYqZM2cSFxenFUYqlTJp0iQuXrzIggUL2L17Nz/99JNWmMzMTP744w9mz57NxYsXsbW1pU2bNtStW5dz585x5MgRunfvjkRHTYe+5BUoufJYQRXPwtpgqURCFU9HzsfqrjEEyMrNp/nsLbw7awt91h3hRkJqsWETM7I5eOsRrcO99Zn0YqUm3iczLR6PwMKuGcamljh5lefR7eiX3k9OlroVxMRM/aNTkJ8LEgkGhkaaMIYyYyQSKbG3Tunchz7l5edz5dZ9qoYVduWTSqVUCQvgXMyLC78qlYrjF65x51E8kcHPf5h5U3l5edyIuUr5iEqabVKplPIRlbh65ZLOONeuXNQKDxBZsUqR8BfOR9O5Qxt6dv+UGVPGkZZa+EOTl5eHoaEhUmlhNmJkpP57Xb54/o3P61lJ8fdJUyQQEFZds83UzBJPv/LcuR79RvtWKpUsnfYzdVt8jrN7wBum9MXsrCRYm0u5dq+wFSU7F+48VuLt/PxsuV1dYy7dzteKWxx3BynuDgYcvfQfKNWUsvy8PG7FXCU8orBrqFQqJbxCZa5f0X29xly5QHgF7a6k5StWI+ZJ+PjHD1EkJxL2VBgzcwv8AsO4fvXV7oH7d2+xZvlcenw/BIn01X+H8vLyiIm5TkREpGabVColIiKSK1d0P/RfuXKJiMhIrW0VK0Vpwuflqa+bf+/rf/cpk8m4dOmCZltISCgH9u8jLS0VpVLJvn17yM3NpVz58q98Hs+Tl1/A5QfxVAtwfyo9Eqr5u3Pu7qNi483YeQIbC1PaVgkt8plSqeLAlTt42cvpMXs99YbPpeNf/7D7ov4rpBIePyBFkUBIhaqabWbmlvgGhHPz6jmdcfLz8rhz4zIh5QvjSKVSQspX5cZTcXJyspg9/hc6dv8Za5uihYj8vDxkT/0dAWRGJuTl5nDnRvGFwlfh6mSCva0xJ6ILWwgzMgu4dC2V8GCrl9qHoaGEJvWd2LSz8O8pt5YRFmxFckou00ZHsH5hdSaPrED50Jfbp/D/S4lXS8bGxpKfn0/btm3x8lKPTShXrtxLxb1y5Qo7d+7kxIkTREVFATB79mwCArQfPJ5u9fH29ua3336jR48eTJ06VbM9Ly+PqVOnUqFCBQCSkpJISUmhRYsW+PmpHzxDQoofj5CTk0NOjnZTcV5ePsayl/8KFVk5FKhU2JkZa223MzPmdrLu7k3eNhYMblKRAHtr0nPzWHTyOl2W7+WfTo1wsixam7Tx0l3MZYY08Hd96XS9icw0dVOxmYWd1nYzC3sy0hJeah8qpZIDa3/Hxacidi7qgoSzdwQyI1MObRhD9ebfg0rF4Y1jUSkLyEiNf8Ee35wiLYMCpRJba+3+1bbWltyOjSsmFqRnZtGs11By8/MxkErp17kd1coFlWha01JTUCqVyOXa47Tkchse3LurM44iOalIeGu5DYrkwgJ2ZKUqVK1RBydnFx7FPmDxgtn8OqQfI8dMwcDAgHIVIpk/ewprVy2jeav3ycnOZtH8mQAkJxdfUH9daQr19WRprf2jbWFtp/nsde3dMBup1IBaTT95o/28LEsz9YNrWqZ2BU9aphIr8+IfaiMDDHF3kDJuRfH91Z9WLVTGoyQltx+JPuhpqQqUygKsn7nureQ2PHxwW2cchSKxSHj1fZKo/vzJv0XD2Go+exl5eblMGTOI9p17Yu/gTNyjBy8d91+pqepChdzGRmu7XG7D/Xv3dMZJTk5GLn82vFyTD7h7eODg4MiCeXPp2as3xiYmrFu7moSEBJKSCu/xfv0H8seoEbT/qB0GBgYYGxszYNAQXF312x06OTObAqWqSEuKnaUZt+J1d7c7fesha05cZsV3H+n8PCkjk8zcPObuPU3PplX57t3qHLp6lz6LtjC7exuifPV3DikK9TVhZa19vVjK7UhJ1p2Hpaepr1urItetLY+eum5XzB2LX1AFIqrU07mfsMjq7Ny0hGMHtlK5RmNSFIls/EedXyuKOfarsrVRF5ySFdoVKcmKXM1nL1Knmj0W5oZs3lVYsHFzVvdS+by9N1Pm3uD6rQzeaeDEhN8q0Ombk88dv1MW/K92CSstJV6wqVChAg0bNqRcuXI0bdqUJk2a0K5dO2yeyXx1uXr1KoaGhlSsWFGzzd/fv0jcnTt3MnLkSK5cuUJqair5+flkZ2eTmZmJmZk6AzQyMqL8U7VHtra2dO7cmaZNm9K4cWMaNWrEhx9+iItL0f63ACNHjmTYMO1+4f2b1+SXFiUzOPJf5V3tKO9aWGgo72JHuwU7WHX+Fl/XKDrgdd3F2zQL8cD4ZTrqv4arpzawZ0VhM3fLbtPfeJ97Vw0nMfY67b5dotlmamFLs88msGflMM4eWIREIiUwsjkO7qFIJP/doWFmJsYsGfEDmTm5nLh4jfGL1+LmYEdU6Ov1mS9Nteo21Pzfy9sXL28/vv6iAxfPR1M+ohKeXj706tOf+bOm8Pf8mUilBjRv1Ra53EYvLZ+nD21g1ZyhmvXPf3zza02X+7cucmDbIr4bsarEWmwrBRryYf3CCo2ZG179h1huIaFtHSOmrs0m/yWGy8gMoFKQIdtO5L7ysYS3a/nCqbh6eFOrfrPSTooWQ0NDBgwczMSJ4/j4o/fVLUCRFakUVVnd7/GJvxctICM9nd9+/wMrKyuOHjnMHyNH8MfocXj7+JRa+jNychmwfCdD3q+PjbmpzjD/DtGoH+bDp7UjAAh2deDsnUf8c/TiGxVsju7bzN8zRmjWew2Y9Nr7ep7o4/u4cuEEg8YsLTZMWER12nX6jsUzfmfuxEEYymS0+KAb1y+dQfqa+V7juo78+E1hr4afhr95S33zxs4cO5VEYlJhvvVvvrxuayybdz0G4PrNdCqVl9O8sTMzFt564+MK/ztKvGBjYGDAjh07OHz4MNu3b2fy5MkMGDCAY8eOIZVKi3RJ+7fp+2Xdvn2bFi1a8NVXXzFixAhsbW05ePAgXbt2JTc3V1OwMTU1LfLQMm/ePL799lu2bt3K8uXLGThwIDt27KBatWpFjtO/f3/67NMJhQAA6OZJREFU9OmjndYFv75SWuWmxhhIJCRmarf8JGbmYG9WdEYQXWQGUoIc5dxXFO0Te+Z+AneS0xnVvIqOmPrhE1Yfpx8KC4gF+erMJzM9EXPrwi52mekJOLgW3wL2r72rhnP70l7a9vwbC7mz1meewbX4bOAOstKTkRoYYGxqxZzBtbC289DT2RRPbmmOgVRaZKKApJQ07KyLb/6WSqV4ODsAEOTlxq0Hj5m/YWeJFmwsrayRSqUonhlIqlAkI7fRPdue3Ma2SPiU54QHcHZxxcrKmtjYB5pubHXqNaJOvUYokpMwNjFBIpGwYe0/ODu/eYthaMUGePoVXmv5T661tJQErGwcNNvTUxJx9Sp+1qcXuXXlFBmpSfz+bWFBTqksYMPi0RzYupBfJr75eJALt/K587iwNGJooM6LLM0kpD7VamNpJuVBvO5Si4ejFEszKT98XPiAZiCV4OsmpVZ5GT9MzXj6WZMK/obIDOHEZdENDcDSSo5UalBkooBURTLWcjudceRyuyLh1feJOvy//6YokrCxtX8qTBJevi/fpfHiuVPcu3OD44dqAqBC/Yfs8ck7tP6wM+06dHvhPqysrNT5QLJ2y4VCkYyNre772sbGpsjEAgqFQisf8A8IZPJf08nIyCA/Pw9razl9vutFQID6gTY29iEbN6xjyrSZeHl5A+Dr68fFixfYuHE9PXv1frkv4SXYmJlgIJUUmSggMS0Tex09GO4lpvAwOY1vF2zSbFM+uUkq9p/Kuh864mxtgaFUiq+j9nfk42hD9O3YN0pvRJW6+AYWzlz27/NNakoSctvCPCxNkYiHj+6WfQtL9XX77EQBqYokrJ5ct1fOHyf+0X16f1pXK8y0P38kICSSH3+dBUCTVp/QuGVHUpITMDO3JDH+Iav/noy9kzuv4+DxRC5dO6lZN5KpKx1t5DISkwsLJjZyI2JupheJ/ywnB2OiKtgwYORFre3/7uv2Pe3nnjv3M3Fy0O4BUxaJF3Tq11uZ7lkikVCzZk1q1qzJ4MGD8fLyYs2aNTg4OBAbW5hxFBQUcOHCBerXV09PGBQURH5+PmfOnKFSJfWDVExMDMlPZdynTp1CqVQyduxYTV//FStWvHTaIiMjiYyMpH///lSvXp0lS5boLNgYGxtjbKx9A6W/Qjc0UBdKgp3knLgXR/0nXcWUKhUn7sXxYYWXG4dRoFQRk5BCLR/nIp+tvXibEEc5gQ7yV0rXqzAyscDIxEKzrlKpMLN04N61Izi4qQsyudnpPL5zjnI12he7H5VKxb7Vv3Lz/E7afrMQa7viM1ZTC3UL3b3rR8lMT8QnvH6xYfVFZmhIsI87xy9eo16UuuukUqnkxMXrfNi41kvvR6lSkZuXX1LJBNQD/P38gzgXfZqq1dUtiEqlknPRp3i3xXs64wQGh3H+7GlatvlAs+3smZMEBRftg/6vhIQ40tJSsbEp+hD474PQru2bkcmMqBBZqUiYV2Viao6JaeEEGCqVCku5PTEXj+Lmrb7WsjPTuXvjHNUbffzax6lYqxUB4dW1ts36oxuVarUiqo7u7+9V5eRBjtY0zipSMpQEeBjwIEHdTcxYBl5OUg6d110QuXavgFGLtR/oOjQy5nGykl2n8nh22GK1UBkXbhWQUfyEi/+vGMpk+PgHcfHsCaKqqR8AlUolF86doEnzD3TG8Q8O5+K5EzRrXXh9XYg+jn+wOk9wcHJFbmPHxbMn8PZVP+hnZmZw49pFGr3EDGj/+u7nkVqzqN28fpmZk35j8KjpODq/XIuBTCbD3z+As2ejqV6jpub8zkZH06JlK51xgoNDiY4+Q+s2hWk9c+Y0wcFFK6XMzdX34oMHD4iJuc4nnT4DICdbnW7pMy3p6opL/XaBlBkaEOLmwLGY+zQIU78aQKlUcSzmPh/XKNrF3cfBhpXfa+cNU7YdIyMnl59a1cbZ2gKZoQFh7o7cfqYr250ExRtP9awrD7OW23Pl3HE8nxRksjLTuXn9AnXf0X0NGspkePmFcPnccc3UzUqlksvnjtPgXXX3umZtu1C7kXZeNfT7D/moS1/KR9XR2i6RSDSFquMHtmFr74yX7+tVDGVlFfAgS7siJiEph6gKNsTcUhdCzEwNCA20Yu3mhy/cX/NGziSn5HLkhHY3ztjH2cQn5uDppl149XA15egp3V0Qhf+/Srxgc+zYMXbt2kWTJk1wdHTk2LFjxMfHExISgrm5OX369GHTpk34+fkxbtw4FAqFJm5wcDCNGjWie/fuTJs2DZlMRt++fbVaX/z9/cnLy2Py5Mm0bNmSQ4cOMX36i7us3Lp1i5kzZ9KqVStcXV25evUq169fp1Onkn1vxScVAxiy7SQhjjaEO9uw5EwMWXkFtApTjz8avPUkDhYm9KqlruWZefQy5Vxs8bC2IC0nl0WnrvMoNZM2z0wOkJ6Tx85rD/i+zsuNX9IXiURCRN1OnNwxHbmDN1a2bhzdMglzK0d8yxXOQrVmamd8yzWiQm31GIZ9q4Zz9dRGWnSdgszYXDNuxtjEEkMjdevVpWOrsHXyw9TCltjb0RxYM4KIup9pveumJHVsVo+hM5YQ6uNBmJ8XS7buIysnl5Z11YM4B09fjKONNT0/agHAvPU7CfHxwN3Jjry8Ag6dvcTmQyfp31n3D5Y+tXzvAyaPG4l/QBABgSFsWLeSnOxsGjRWd22ZOPZ37Ozs+aRzdwBatHqfQT/3Zt3q5VSqXI2D+3dzI+YqPXr1BSArK5MVSxZQrWYdbGxseRT7kIVzZ+Ds4kZkpcKB0ps3rCYoJBxTU1POnjnJgrnT+bRz91d+98bLkEgk1H6nE7vWzsDe2QtbB3e2rZyEldyRsEqFrS0zfu9CeFQjajZRzyyVk51BwqPCsUZJ8Q94cPsyZhbW2Ni7Ym4px9xSrnUsAwNDLK3tcXQtuW40+6PzaBJlRLxCSVKqinerGZGSoeL8zcKC8NdtTDh3s4CD5/LIyYNHSdoPirl5kJmtKrLd3lrdkjNz/X+rVGNgboa5f+H7Osx83LGqEExuUgrZ996sdvxlNGvdnhkTfsXHPwS/wFC2rl9OTnY2dRs2B2Da+GHY2Drw8WdfA/BOy4/47Zev2LRmMZGVa3Jk/w5uxlym6zc/A+pr8p1WH7F2xXycXT1wcHJl5eKZyG3tqVSt8IEyIf4R6WmpJMY/RqlUcvvmNQCcXdwxMTXDyUW7YictVQGAq7v3K91Lbd57n/Hj/iQgIIDAwGDWrVtNdk42jRo3BWDsmNHY2dnRuUtXAFq1bsPP/X5g9eqVVK5chf379hJz/ZpWK8vBA/uxsrbG0cGR27dvMXPGNKpVq0HFiupxr+4eHri4uvLX5Al8/kV3rKysOHLkMNFnTjN46Kv1angZn9aOYNCKXYS5OxLu7sjfB8+SlZdPmyh1YWzA8p04WpnTu1l1jGWGBDhrV8RYmqorKJ/e/lndSH5aso1KPq5U9nPj0LW77L98m9nd2+g17RKJhIYtOrBp5Wz+j727jo7iagM4/NuNuwvxhBju7u5F2uKlULxAKVKKayktBUqRUqDF3d3drRR3dwJxTza73x8LCQsbdEOafu9zzh7I7J2Z9+7M3p07V8Y1lw/Obh6sXTwNe0cXirwwNmb8sM4UKVWFqnW1lbIaDVoxa/Iw/ALz4h+Ujx3rF5GSnEi5qtoKq52Ds94JAxyd3XFxy6gYb10zl3xFyqJQKPnnyC42r55N5z4/ozQyXNf15evu82UzH+4+SOTh4yQ6tPYjPCKZ/UcyxvFM/KEg+w4/ZdXGjMqOQgF1q7uzZddj0vTUhxetukv7ln5cuxnH1Ztx1Knqjq+XJYN/0j9Bjvj/leUVG1tbW/bt28fEiROJiYnB19eX8ePHU6dOHVJTUzl9+jRt2rTB2NiYXr16pbfWPDdv3jzat29PxYoVcXd3Z8yYMZw/fx5zc+3Fb6FChZgwYQI///wzAwYMoGLFiowZM+aNFRRLS0suXbrE3LlzCQ8PJ1euXHTr1o3OnTtn2WcBUDPEi8jEZP44fIHwhGSCXeyY3Lhc+hTOj2ITdKagj01K5YftJwlPSMbWzIRQN3tmNa9MgJNud6htl++hAWqFZn03rZcVrdqB1JREdi8bSnJiDLn8i/FJ55kYm2S0cEU/vUNSfMadlbMHtX2BV03VPU7VW/xInpLau4eRYbc4vPFXkhKisXX0oHiNLhSu1DbrM/RMzdJFiIyJ44+VWwiPjiHY15PJ/Trj9GxCgUdPI3X6Jicmp/DznBWERURjZmqCn4cro7q2pmbpIpntwmDKV6xKTHQUixfMJioyAv+AQIaMHJvekvL0yWOdWEPz5qfXd0NYNP8vFs79k1yennw/+Ad8/bSVRqXSiNu3brB751YS4uNwcHSicJEStPjiK0xMMgaBXr1yiSUL55CUmIintw9duvehctWaWZbPyvXbk5KcyIq/hpGUEItfcFE6fD8DE9OMcy388V3iYzPOtXs3zvPH6Lbpf69f8DMAxSo0onmXH7Ms1jfZeTIVUxMFzaqYYWGm4MbDNKavS9QZP+Nsp8Ta/N3vepfKa0J0nIbLd7L/2TUvsiuWnzI756f/nXfcQADuzlvFmfYDsnz/ZSrUIDY6ihWLZhIdGY5vQBDfD/8Vu2etkOFPHul0WQ7OU5BufUayfOF0ls3/A3cPb3oPHIu3b0YLe/0mX5CclMRfU38iIT6O4LwF+X74RExfOCdXLJzB/l0ZU68P+lZb7g0aPZW8BT68dfO5ipUqEx0TzYL584iMjCQgIICRI0enj0t98iQM5QszruXJm4/v+g1g/rw5zJszGw9PDwYNGY6fX0aFPiIinD9n/kFUVBQODo5UrVad5i0ypqM2NjZm+IjRzJ39F6NGDCUxMZFcHp706v2dzoM+DaV2oSAi4xP5fdtRnsYmEOLhzO9f1cfpWVe0R1Gx7zxmpFr+AAY3rsSs3Sf5ed1+/FzsGd+6NkX9DT8JT+3GX5KSnMj8P34gIT6WoDyF6Tlkik4Z9uTRPeKeVW4BSpSvRWxMJGsXTyPmWbe1nkOmpHdFe1tnTx5k44q/UKlS8fINolv/XylQtJyhsgbAwpV3MTc3ol/3YKytjDl7IZo+w86SkprRpOzpboG9rYnOesULO+Duas7G7fpnt1u+7j5mpkp6dMiNrY0J127G0WvoGR48+nfdvHkfapk8wKAUmredd/lf4t69e3h7e7Njxw6qVav25hWyUNwfWf9D/DHN8cm+i7ys8KXL5uwOwWDuOGR95ehjuh6V9Q/A/Jh2Hc7Zs/K8qEZvw11o/xu4nfs4z736WOyMM5/uP6fxPrv2zYlykGNB7bM7BIMa2P/EmxPlEAfWV3pzomxy6mrWz/SamcJBLm9OlMN8lDE2H2LXrl3ExcVRoEABHj58SL9+/fDz86NixYpvXlkIIYQQQoh/KZnu2bD+9RWb1NRUBg4cyI0bN7CxsaFs2bIsXLgQExOTN68shBBCCCGE+L/wr6/Y1KpVi1q1amV3GEIIIYQQQhiUTPdsWP/eJx0KIYQQQgghxFuSio0QQgghhBAix/vXd0UTQgghhBDiv0gmDzAsabERQgghhBBCvNbUqVPx8/PD3NycUqVKcezYsdemX758OaGhoZibm1OgQAE2bdr02vSGIBUbIYQQQgghsoFGo8i217tYunQpvXv3ZtiwYZw8eZJChQpRq1YtwsLC9KY/dOgQLVq0oH379vzzzz80atSIRo0ace7cOUN8bJmSio0QQgghhBAiUxMmTKBjx460a9eOvHnz8scff2BpacmsWbP0pv/tt9+oXbs23333HXny5GHUqFEULVqUKVOmZGmcUrERQgghhBDi/0xycjIxMTE6r+Tk5FfSpaSk8Pfff1O9evX0ZUqlkurVq3P48GG92z58+LBOetA+wiWz9IYiFRshhBBCCCGygQZFtr3GjBmDnZ2dzmvMmDGvxPj06VPS0tJwc3PTWe7m5sajR4/05uvRo0fvlN5QZFY0IYQQQggh/s8MGDCA3r176ywzMzPLpmgMQyo2QgghhBBCZIN3HcRvSGZmZm9VkXF2dsbIyIjHjx/rLH/8+DHu7u5613F3d3+n9IYiXdGEEEIIIYQQepmamlKsWDF27tyZvkytVrNz507KlCmjd50yZcropAfYvn17pukNRVpshBBCCCGEyAbq7A7gLfXu3Zsvv/yS4sWLU7JkSSZOnEh8fDzt2rUDoE2bNnh6eqaP0enZsyeVKlVi/Pjx1KtXjyVLlnDixAlmzJiRpXFKxUYIIYQQQgiRqWbNmvHkyROGDh3Ko0ePKFy4MFu2bEmfIODOnTsolRkdwcqWLcuiRYsYPHgwAwcOJCgoiDVr1pA/f/4sjVMqNkIIIYQQQojX6t69O927d9f73p49e15Z9vnnn/P5559ncVS6pGIjhBBCCCFENsjOyQP+i2TyACGEEEIIIUSOJy02QgghhBBCZAMN0mJjSFKx+QDHyw3N7hAMqt2hwdkdgkHF+TfJ7hAMJjLFNrtDMCjnLqWzOwSDcul7JLtDMBi3c/+dvAA8zv/fOtc0545mdwgG421umd0hGNTSzanZHYJB7eh2NbtDMKBK2R2A+EikK5oQQgghhBAix5MWGyGEEEIIIbKBTB5gWNJiI4QQQgghhMjxpMVGCCGEEEKIbCCTBxiWtNgIIYQQQgghcjyp2AghhBBCCCFyPOmKJoQQQgghRDZQa7I7gv8WabERQgghhBBC5HjSYiOEEEIIIUQ2kMkDDEtabIQQQgghhBA5nrTYCCGEEEIIkQ3kAZ2GJS02QgghhBBCiBxPKjZCCCGEEEKIHE+6ogkhhBBCCJENNDLds0FJi40QQgghhBAix5MWGyGEEEIIIbKBWqZ7NihpsRFCCCGEEELkeFKxEUIIIYQQQuR40hVNCCGEEEKIbCDPsTGsHFGxmTNnDt9++y1RUVHZHcp70Wg0rF86jQM7VpGYEEvukMK06DQQt1y+r11vz+YlbFs3l5iocLx8g2nW/nv8gwoA8DTsPoO/rqd3vY69x1KsbE3u3brMltWzuX7pH+Jio3By8aBCzc+oVq+VwfK29NQ15p24Qnh8EsEudvSrUoT8uRz1pl13/hbDt57QWWZqpORIzyY6y26ExzBp/1lO3nuCSq0hwMmWXxqUIZetpcHiflurNm1jyeoNRERFk9vPh54dvyRvcKDetOu37WLr7v3cuHMXgJDc/nRs3SzT9FlBo9GwdvEf7NuxmoT4WAJDC/FF54G4efi8dr1dm5ayZc08oqPC8fYLpmWHfgQE59e7/YmjenDun0N06z+eoqWqABAXE8XMiYO4e+sq8bHR2Ng5UqRkJZq07o6FpbVB8ub++ed4fNEaUycn4q9e5eYvvxB3/oLetAojIzzbtcO1fj1MXVxIvH2b25OnEHX4cHoa2yJF8PjiC6zzhGLq4sKlPn2J2LvXILG+rYr5FRTJrcDMBO49hc0n1ETGZZ6+aKCCooEK7K20fz+JhgPn1Vx/qP3bzgq6NzDSu+7Kg2lcuvt+cW7buIKNqxcQHRmBj38gX3bqQ+7gfJmmP3pgJ8sXzuBp2EPcPLxp8WU3Chcvm/6+RqNh5aKZ7N62lvj4OILzFOCrrv1wf+E8XbNsNqdOHOL2jSsYm5gwc/GOTPcXGxPNgJ6tiQx/woxF27Gytnm/jL4jx/LFCejTHrui+TH3cOXEp1/zeN3Oj7LvF2k/zxns3raWhPg4gvMUpN1Ln6c+2zcuZ+PqhURHhuPjH0Sbl45rSkoyi2b9xpH920lNTaVgkVK07dIPOwen9DStPyn1yna79R1FmYo1X1l+5cJpfhjYFS/fAH78bcF753fJ/pPM3XWcpzHxBHu60v/TahTwzfXG9TafvEj/uRuoUiCQiR0aA5CalsaUjQc4cOEG98KjsTE3pVSILz0bVMLVzjBl1/uoV86ccgVMsTBTcOOBiiXbE3kSpc40fd2y5tQra66z7FF4GqNmx2Z1qDr+H46N+HeTrmgfwbY1c9i9aREtOw3i+x/nY2pmweRRX5OakpzpOicObmXF3PHU/7wzA8cuxssvmMk/fE1MdAQAjk7u/Dxzh86rQbOumJlbkq9IeQBuX7+IjZ0D7b4ZzdBfV1Ln0w6sWTiZ3ZuXGCRfWy/fZcLeM3QqnZdFrasT5GJPt1X7iUhIynQda1NjtnWun/7a2KGuzvt3o+Jov3QPfo42zGhaiaVtatCxdB7MjD/+qbrzwGGmzlpA2+ZN+HPCaAL9fOg74icio6L1pv/n3AWqVSjLb6MGM+3nEbg6O9F3+E88CY/4aDFvXj2XHRsX80XngQz6eS5mZhZMGNnttefasQNbWTp7Ap8068Sw8Yvw9gvi15HdiIl6Ne7t6xeiULx6d0mhVFK4ZGW+GTiR0VNX89U3w7lw5hjz//jRIPlyqlEDv17fcm/mn5xu/QXxV66Sd/JkTBwc9Kb3+borbk0ac+OXX/inaTMerVxFyC9jsQoJTk+jtLAg/uoVbvw81iAxvqsyoQpKBCvYfELNnO1qUlXQorISo9ec6rEJGnafVvPXVjWztqm5/VjD5+WVONtq349JgIlr0nRee8+qSU7VpFd+3tXh/dtZ+NdvNGnegR9+nYuPXxA/DfuWaD3nB8CVi2eYMm4olWs0YPTEuRQvVZEJP/bj7u3r6Wk2rJrP1g3LaNf1e0b+8idmZhb8NOxbUl44T1UqFaXKVaVanSb6dqNj5uTR+Ph9vBsIzxlZWRJz5jLnvhnx0ff9og2r5rNtwzK+6vo9I375CzMzc34e1lPn83zZkWfHtXHz9s+OayA/D+upc1wX/jmRf44doEe/MQz+cRqREU+ZOKb/K9vq1HMIU+ZuSn8VK13plTTxcbH8MXEE+QoV/6C8bjl5iXGr99C5VlmWfNeGEA8Xuk5bTnhs/GvXux8ezYQ1eyia20tneVKKikt3H9OpVhmW9m3DhPaNuBUWSc+Zqz4ozg9Ro6QZlYuYsWR7Ar8sjCUlFbp/ZoWx/nsW6R48TWPA79HprwlLXnOXJAv8PxybrKDRZN/rv+ijXC1WrlyZ7t270717d+zs7HB2dmbIkCFonn2qkZGRtGnTBgcHBywtLalTpw5Xr14FYM+ePbRr147o6GgUCgUKhYLhw4cDMH/+fIoXL46NjQ3u7u60bNmSsLCw9P1GRkbSqlUrXFxcsLCwICgoiNmzZwOQkpJC9+7dyZUrF+bm5vj6+jJmzBiD512j0bBz40LqfNqRwiWr4OUXTLseo4iKfMKpY7szXW/H+vmUq96EslUb4eGdm5adBmNiZs6hXWsAUBoZYefgrPM6dXQXxcrWxNxC27JRrlojmn31PcH5iuPi5kWpivUoW+UTTh01zB3FhX9foXF+fxrm9yPAyZZB1YtibmzE2nO3Ml9JocDZyjz95WSle4dp6sFzlPN359uKBQl1dcDb3ppKuT1wtDTPZINZZ9naTdSvWYW61Srj5+1Fn67tMTczY+NO/Xf1h/buTuO6NQgK8MPXy5N+3Tqh1mj4+8y5jxKvRqNhx4ZF1P+8A0VKVcbbL5j2PUcSFfGEk0f3ZLretnULqVijMeWrNcTDO4AvugzC1MycAzvX6qS7c/My29YtoF33Ya9sw8raliq1P8cvMC/Orh7kLViKKrU/58qFfwySN49WLXm8Zg1h69eTePMmN8aMIS0pCddPPtGb3qVuXe7PnkPUwUMk37/P45UriTp0CI9WrdPTRB06xN1pfxCxZ49BYnxXJUMUHDiv4cp9CIuGdUfV2FhAiFfm3RKuPoDrDyEyDiJiYc9ZDSkq8HTWrqPRQHyS7ivES8HFuxpSVe8X5+a1i6lSsyGVqtfHy8efr77+HjMzc/bu2KA3/Zb1SylYtDT1m7TG09ufz1t3xi8ghG0bVzyLUcOWdUtp1LQdxUtXxMc/iK69hhEV8ZS/j+xL385nLTtSp2ELvP1yvza+HZtWkhAfS71GhmuJfltPtu7jyrCJPF6beWtSVtN+nkto2LQdxUpXwsc/iC69hj/7PDNvgcw4rg3w9Amg3df9nx3X9QAkxMexZ8c6WrXvSb5CxfEPzEOnnkO4eukM1y6d1dmWpZUN9g5O6S9TU7NX9jd72k+UqViTwJACH5Tf+XtO0KRsQRqVLkBud2cGN62JuakJa45kXs6mqdUMnL+BrnXK4eVkp/OejYUZ07s1pVaRUPzcHCno58GAT6tx4e5jHkbEfFCs76tKUTO2HEnizHUVD56qmbspHjtrJYUCTV67nloNMQma9Fd84se9cv1/ODbi3++j3QafO3cuxsbGHDt2jN9++40JEybw559/AtC2bVtOnDjBunXrOHz4MBqNhrp165KamkrZsmWZOHEitra2PHz4kIcPH9K3b18AUlNTGTVqFKdPn2bNmjXcunWLtm3bpu9zyJAhXLhwgc2bN3Px4kWmTZuGs7MzAJMmTWLdunUsW7aMy5cvs3DhQvz8/Aye76dh94mJekqeghnN9RZWNvgHFeDGldN611GlpnLnxkWddZRKJXkKlOLG5TN617l9/QJ3b12mXNVGr40nMSEOS2u716Z5G6lpai4+jqKUr2tGjAoFpXzdOPMwPPP9p6ioO3MTdWZspNfag1x/mtH6odZoOHDjEb4O1ny9cj/Vpq2nzaKd7L52/4PjfVepqSquXL9J8YIZ3bGUSiXFCuXn/OWrb7WN5JRkVGkqbK0/TpP508f3iY58St5CGeeNpZUNAUH5uZ7JeaNKTeX29YvkKaR7ruUtWEpnneTkRGZMGEirjv2xc3B+YyyREU84eWQXIfmKfkCOtBTGxliHhhJ99FjGQo2G6GPHsCmo/yJJYWKC+qW71eqkZGwKF/rgeAzB3gqsLRTcepxx4ZGcCvfDwdPpNSu+QKGAvD4KTIzh/lP9FzDuDuDuoODU9fe7wFGlpnLz2mXyFy6RvkypVJK/UAmuvnRx+9y1S+fIX6iEzrKCRUunXww/efyAqMhw8r2QxtLKmtzB+bh6Wf82M3Pvzk1WL51Fl17DUCj/P/upP3n8gOjIcPIXKpm+7E2fp/a4XiJf4Yx1lEol+QqVSD9ON69dIk2lIt8L2/Xw8sPJxZ2rl3UvVOf+8QtdWtVkaJ927N2+Lv2m5XN7d6wn7NEDmrTo8EF5TVWlcfHuI0oHZ3TjVioVlA725cytB5muN33LIRysLWlSpuBb7ScuKRmFAmwsX62gZTUnOyV21kou3864E5GUArcepuHv8frRAy4OSkZ3sWVEBxva1rXEwebjfSf+H45NVtGgyLbXf9FHG2Pj7e3Nr7/+ikKhICQkhLNnz/Lrr79SuXJl1q1bx8GDBylbVtsHe+HChXh7e7NmzRo+//xz7OzsUCgUuLu762zzq6++Sv9/QEAAkyZNokSJEsTFxWFtbc2dO3coUqQIxYtrm75frLjcuXOHoKAgypcvj0KhwNf39eNd3ldM5FMAbO11r1Zs7ByJidJfAYiLjUStTsPW7qV17J14dP+W3nUO7lqNu1cAuUMLZxrL9UunOHFoG90HTHr7DGQiKjGZNI3mlZYUR0szbmVyJ8XXwYZhtYoT5GxHXHIq8/6+Qrslu1n+ZU3cbCyJSEgmIVXF7GOX+bpcPnpWKMChW4/ou+4wMz6vRDFvlw+O+21Fx8aSplbjYK9bCXS0s+POvcwL6Rf9MXcxzg4OFCv06liVrBD97HyytdMd42Rr70RM1FO968TGRj07115ex5GHL5xrS2eNJzC0EEVKVX5tDNPHD+DUsb2kpCRRqERF2nYb+u4ZeYmxvT0KY2NSInS7PqVGRGCRyc2IqCNH8GjZipiT/5B07x52JUvgWLUKCuW/o/ft84bK+Jd6bcYnabC2eP26LnbQtroSYyNIUcGKA2qeZnLzsnCAgifRGu5nfq/htWJjtOeHnf3L54cDDzIpi6Kiwl9Jb2fvQFSkNojn/76axjH9vbeRmprC1HFDaNG2O84u7oQ9+vg3QP4Nnn9mtq8cI0eiI/V3F8zsuNrZO/Lw/m1AW54YG5u8Ml7Jzt6R6BeO06ctO5GvYHFMzcw5e+ooc/74haSkRGo1aAbAowd3WDp3KkN+moGR0YddckTGJ5Km1uBkozve0snGkpth+vN68vo9Vh85y7J+X77VPpJTVUxct486RfNgbf7xL55trbQXmzEJuuNpYhPU6e/pc+uhivmb03gckYadtZK6Zczp3cKGH2bHkJyapSED/x/HRuQMH61iU7p0aZ2++WXKlGH8+PFcuHABY2NjSpXKuGPs5ORESEgIFy9efO02//77b4YPH87p06eJjIxErdYWBHfu3CFv3rx07dqVTz/9lJMnT1KzZk0aNWqUXnlq27YtNWrUICQkhNq1a1O/fn1q1nx1sONzycnJJCfr3gFOSVG/0uR+dN9GFs34If3vbgMmv+GT+XApyUkc37+Zup91yjTN/TvXmDa2F/U/70zewmUzTZeVCnk4Ucgjo7JW0MOJT+dsZeWZG3xdLn/6Xb7KuT1oXUw7FiLE1Z7TD8JZcebGR63YfKgFK9ex88BhJv0wBDNT0yzZx5G9m5j3x+j0v3sO+vAKqz6nju3l4tnjDBu/+I1pm3/Vh0+adeLxgzusXDCZJbMn8EXnAVkS1+vcHDee3IMHUWTFctBoSLp/n7B163H9pMFHjwUgn6+CusUzyr+l+zIfBPwm4bHw51Y1ZiYQ6q2gQSklC3a9WrkxNtLu98D5/2ZH6qXzfsfD24/yVepkdygf1cE9W5j1+0/pf/cdOiEbo4HGzdun/98vdwjJSYlsXL2AWg2aoU5LY+q4oXzashO5PF8/kUFWiE9KYdCCTQxrXgsH6zdPPpOalsZ3c9ahQcOgpjU+QoRQIo8JLWpkxPb7qvcbF3PhZkYLz4Onam49jGdUJ1uKhphy+FzKB8dpaDnh2IicKUfMiqZPfHw8tWrVolatWixcuBAXFxfu3LlDrVq1SEnRfonr1KnD7du32bRpE9u3b6datWp069aNcePGUbRoUW7evMnmzZvZsWMHTZs2pXr16qxYsULv/saMGcOIEboDRNt0GUjbrwfrLCtUonL6zGUAKpU2lpiocOwcMi7MY6Mj8PILRh9rGweUSiNionXvXsZGhWNr/2o3oJNHdpCSkkTpSvX1bu/B3etMHNGJ8tWbUPezjnrTvCt7CzOMFIpXJgqISEh+ZdxMZkyMlIS62nM3Kj59m8ZKBQFOtjrp/B1tOPXgPW85vyc7GxuMlMpXJgqIiI7G0cH+tesuXrOBRSvXMWHkQHL7Zd2PeaGSlRj2wsxlqlTtbbmY6AjsHTPOtZiocLz9Q/Ruw8bG/tm5pntHLSYqArtnrYwXzx7jyaN79GitOyD497HfEZynCP1+mJm+7Pl4r1xe/lhZ2/LToPY0+LyDTjzvShUVhUalwtRR9+6yiaMjqeH6zwtVVBSX+36HwtQUEzs7Up48wbdHd5Lvv11rm6Fdva/hz/CMCsbzCQKszCHuha+QlbmCx5Gvr4io1aTPnPYoUoOH4/NJCHTXC/VWYGIEZ2+9f8XGxlZ7frw8UUBMVGT6+fEye3unV9JHR0Vi/2wmref/RkdF4ODo/EKaCHwDgt46tvNn/ubu7escO1gOAA3afHZpXZuGTdvyWUvDlHX/NkVLVtCZuUyleva9f+nzjImKwCeTzzOz4xodFZHeimNn74RKlUp8XKxOq010VITOrGgvyx2cjzVLZ5GamkJKcjI3r13k9o0rzJ0+DgCNRo1Go6FNo7L80fVTSgW/fW8JBysLjJQKwmMTdJaHxybgbGP1Svq7TyN5EBHNNy8MNlc/u4FWtNc41g5qj7ezdgKS1LQ0vpu9jocRMczs3uyjtQicuZbKrYcZM5c9nyDA1lJJTHxa+nIbSyX3wtJeXj1TickawiLTcHH4OK3U/8Vj87Go/5v3nrLNR6vYHD16VOfvI0eOEBQURN68eVGpVBw9ejS9NSU8PJzLly+TN29eAExNTUlL0/1CX7p0ifDwcH766Se8vb0BOHFCdyphABcXF7788ku+/PJLKlSowHfffce4cdoC1tbWlmbNmtGsWTM+++wzateuTUREBI4vXUABDBgwgN69e+ssO3z11buu5hZWmFtkfIk1Gg229s5cOnsMb/9QQDvO5ebVs1Ss+bnez8rYxASfgDxcOnuMwiWrAqBWq7l09hiV6zR/Jf3BnaspWLwyNnavxv3g7jV+Hd6J0pUb0KhlD737ex8mRkryuNlz7E4YVQI9tTFqNBy7E0azwq8f7PtcmlrDtacxlPN3T99mXjcHbkXqTk95JzKOXDYfd6pnExNjgnP78/eZ81QorR0LoFarOXnmPI3rZt6yt2jVeuavWMO4Yf0JDQzI0hgtLKyweOlcs3Nw5uKZY/g8q8gkJsRx4+o5KtfO/FzzzZ2Hi2eOpU/drFaruXj2GFXraLuS1G3SjgrVG+usN+zbpjRv14dCJSpmGp9ao/1+PL/wel8alYq4S5ewK1kiYzpmhQK7EiV4tGz569dNSSHlyRMURkY4Vq1K+PbsGeSdooKUl27ExiVq8HNT8DhK+6tmaqwdX3Py2rttW6EAIz2zJRUOUHDlASRkPjHWGxmbmOAfGML508cp/mymK7Vazbkzx6lZT/85FRian/NnjlOnYUZZde7UMQJDtTd8XNw8sHdw4vzp4/gFaG/uJCTEc/3Keaq/xQxoz33bf4zOrF83rl5kxqQfGPrTH7i6e75zXnMKC0srLCxf/t5rP0/f9M8zjutXzmc6o5z2uIa+clzPnzlOjWfH1T8wFCNjY86fOU7JstrfoQf3bhP+5BFBIZl3r71z8ypW1raYmJhiZGTMmMmLdN7fsWklF86c4Jv+YyiQeDSTrehnYmxEHm93jl65TdWCQc/i1nD0ym2aV3h1PJ+/mxMrvm+rs2zqpgPEJ6XQr0lV3O21N9GeXzjfeRLFnz2aYW/1hv6gBpScyivTOEfHqQnxNebeE+11j7kp+OUyYv+pt/8ym5mAs52SmLj3bx1+F//FYyNypo9Wsblz5w69e/emc+fOnDx5ksmTJzN+/HiCgoJo2LAhHTt2ZPr06djY2NC/f388PT1p2LAhoB0bExcXx86dOylUqBCWlpb4+PhgamrK5MmT6dKlC+fOnWPUqFE6+xw6dCjFihUjX758JCcns2HDBvLkyQPAhAkTyJUrF0WKFEGpVLJ8+XLc3d2xt7fXG7+ZmRlmZrp3CUxNE9+Yb4VCQbV6rdi8ciauuXxwdvVk3ZKp2Du4ULhklfR0vw7vROFSVanyrOJSvcEXzJkyBN/cefELzM+ujQtJSU6kbJWGOtsPe3iHaxdP0n3glFf2ff/ONSYO70jewmWpXv8Lop+N91EqlXorQe+qVbFghm05Tl43B/K5O7Lo5FUSU1V8ks8PgCGbj+FqbUGPCtoLmhmHL1AglyPe9tbEJqcy78QVHsbE07iAf/o22xQPof/GIxT1dKa4tyuHbj1i342HzGj66vShWa1pw7qM+e0PQgIDyBOUm+XrN5OYlETdatpYRk/8HWcnRzp/oT1mC1etY9aiFQzp3R13VxfCI6MAsDA3x9Ii62d1UygUVK/fkg3L/8Qtlw/Obh6sXjQNe0cXir4wNuaXoZ0pWroK1epq4675SSv+mjQMv9x58Q/Kx44Ni0hOSqRcNe2MY89bYV7m6OKOi5v2AvLM3weIiQrHLzAf5haW3L9zneVzJxIYWhhnV48PztuDhYsIGj6MuAsXiTt/nlwtW2BkYUHYeu0MToEjhpMS9oQ7U6cCYJ0vH6aursRfuYKpiwvenTqhUCi5P29e+jaVFhaYP7spAmDm6YFlcDCq6GhSHj/+4Jjf5NhlDeXyKYiI1RAVD5UKKIlNhMv3Mm7ftayi5Mo9DSeuPuumWVDB9YcaYhK0FaF8vgp8XWHxHt1bfg7W4OMCS/Z++EVNnYYtmD5xFP6BecgdnJct65aSnJREpWra52hN+3UEDo4uNP/yawBqN2jGDwO7snH1QoqUKMfhfdu5ce0i7btppwlWKBTU/qQZa5bNwd3DGxc3D1YsnIG9ozPFSmdUlJ8+eURcbAzhTx6jVqu5deMKAO65vDC3sMQtl+7UsLExUYB2gPvHeo6NkZUlVoEZrbKW/l7YFgolJSKapLvvOb/2O9J+ns1Zs2w2bh7euLp5sGLh9GefZ0a5+ePgbhQvXZma9bUVF+1xHfnCcV3y7LhqW/4traypXP0TFv71G9bWtlhYWjFvxniCQgukV1JPHttPdFQEgSH5MTEx5dypY6xbPoe6jbUz1CmVSrx9dW902do5YGJqirdvbixvvvusiV9ULs6QhZvI5+NOfp9cLNh7gsSUVBqV0la2Bi3YiKudDT0bVMTMxJggD93WYhsL7e/48+WpaWn0nbWOi/ceM7lTE9RqNU9jtHch7CwtMHnTHMtZYPfJZGqXNiMsMo3waDX1y1kQHafm9LWMm0TffG7F6Wup7P1H2yukcSVzzl5PJSJGg521gnplzVFr4MSljzDA5pn/h2OTFeQBnYb10So2bdq0ITExkZIlS2JkZETPnj3p1Ek7JmT27Nn07NmT+vXrk5KSQsWKFdm0aRMmJtqpDcuWLUuXLl1o1qwZ4eHhDBs2jOHDhzNnzhwGDhzIpEmTKFq0KOPGjeOTF6Z/NTU1ZcCAAdy6dQsLCwsqVKjAkiXaZ7jY2NgwduxYrl69ipGRESVKlGDTpk0os2Bwcc1GbUlOTmTh9FHPHppYhB6Df8fkhfE5Tx7fJS4mMv3v4uVqERsTyfol04iJeoqXXwg9Bv3+yiQEh3atwd7JjTyFyryy35OHtxMbE8nRfRs5um9j+nJHl1z8OG3zB+erVog3kQnJTDt0gfCEJEJc7JjSpHx6V7RHsQkoXxhXFZOcwqjtJwlPSMLWzIQ8bg7MblFFp+tZ1SBPBlYvyuxjl/ll9yl8HW34pUEZini+eSYuQ6tWvgxR0THMWryCiMgoAv19GTesP47PJhR4/CQchSLjfFm7eQepKhVDx07U2U7bZk34qsVnHyXmOo2/JCUpkbnTfiAhPpagPIXpNWSK7rn26B5xzy4CAUqW155ra5ZMIyZS222t19ApmXY10sfU1Ix921ezZNZ4VKpUHJ3cKFq6KnU/bWeQfIVv346Jgz0+XTpj4uRE/JUrXOjxDanPJhQwc3fXac9Xmpnh07UL5p6epCUmEnnwIFeHDiUtLqPZxDpvHvJPn57+t/+zFtmw9Ru49lK306xw+JIGE2OoW0KJuSncfaKtiKS9UBdxsAaLF+6nWJnDJ6WVWJtr7/SGRcHiPWpuvlQPKxSgICYBbjz68DjLVKhBbHQUKxbNJDoyHN+AIL4f/mt6d6TwJ490xk8G5ylItz4jWb5wOsvm/4G7hze9B47VucCt3+QLkpOS+GvqT9oHSuYtyPfDJ+qMWVyxcAb7d21K/3vQt220/46eSt4CxT48YwZgVyw/ZXbOT/8777iBANydt4oz7T/e2DLt55nIrKljnn2eheg3/DedzzPs0f30yh9A6Qo1iImOYuWiGc+OazD9hk/U6WbWqsO3KJQKfvtpAKrUFAoUKU3brv3S3zcyMmbHxhUs/GsiGo0Gt1xetGzfkyo1G2VZXmsXDSUyLoHfNx3kaUw8IV6u/N7lM5xsta1YjyJjdX533iQsKo4957TNpE3HztV578/uzSgR9PHHBm0/loypiYKWNS2xMFNw/b6KqSvjUb3QccXZ3ggri4wF9jZK2tW3wspcQVyihuv3VYxbGEfcR5zy+f/h2Ih/P4Xm5XkZs0DlypUpXLgwEydOzOpdfVS7z765xSYnKXnohzcnykHiKr59t5Z/u6ua0OwOwaCUbSpndwgGtbvvkewOwWBqFflvPR/icf7S2R2CQbmee7fuW/9mBW7qH9OaU/U593FuYH0s4/P/d46Pee0Pm2o8K23+5+O1qr2sTpHXPxspJ8qxkwcIIYQQQgiRk2V988L/l3/HQx2EEEIIIYQQ4gN8lBabPXv2fIzdCCGEEEIIkWOokckDDElabIQQQgghhBA5noyxEUIIIYQQIhvIGBvDkhYbIYQQQgghRI4nFRshhBBCCCFEjidd0YQQQgghhMgGGo1MHmBI0mIjhBBCCCGEyPGkxUYIIYQQQohsoJbJAwxKWmyEEEIIIYQQOZ5UbIQQQgghhBA5nnRFE0IIIYQQIhvIc2wMS1pshBBCCCGEEDmetNgIIYQQQgiRDTTIdM+GJC02QgghhBBCiBxPWmyEEEIIIYTIBjLds2FJi40QQgghhBAix5OKjRBCCCGEECLHk65oQgghhBBCZAOZ7tmwFBqNfKTvK+qfXdkdgkFdsyyS3SEYVIr6v1NvLxy2MbtDMKhTrvWyOwSDClJfyO4QDCbK3D27QzCoKJVddodgUGH5S2V3CAZTaf8v2R2CQT1xyZvdIRjU7tuB2R2CwXxVNbsjyNzyI+ps2/fnpf97Hbf+O1d+QgghhBBC5CDSvGBY/72qmhBCCCGEEOL/jlRshBBCCCGEEDmedEUTQgghhBAiG6g1iuwO4T9FWmyEEEIIIYQQBhEREUGrVq2wtbXF3t6e9u3bExcX99r0PXr0ICQkBAsLC3x8fPjmm2+Ijo5+531Li40QQgghhBDZ4L84eUCrVq14+PAh27dvJzU1lXbt2tGpUycWLVqkN/2DBw948OAB48aNI2/evNy+fZsuXbrw4MEDVqxY8U77loqNEEIIIYQQ4oNdvHiRLVu2cPz4cYoXLw7A5MmTqVu3LuPGjcPDw+OVdfLnz8/KlSvT/86dOzejR4+mdevWqFQqjI3fvroiXdGEEEIIIYTIBhpN9r2Sk5OJiYnReSUnJ39Qfg4fPoy9vX16pQagevXqKJVKjh49+tbbiY6OxtbW9p0qNSAVGyGEEEIIIf7vjBkzBjs7O53XmDFjPmibjx49wtXVVWeZsbExjo6OPHr06K228fTpU0aNGkWnTp3eef9SsRFCCCGEEOL/zIABA4iOjtZ5DRgwQG/a/v37o1AoXvu6dOnSB8cUExNDvXr1yJs3L8OHD3/n9WWMjRBCCCGEENlAnY2TB5iZmWFmZvZWafv06UPbtm1fmyYgIAB3d3fCwsJ0lqtUKiIiInB3d3/t+rGxsdSuXRsbGxtWr16NiYnJW8X2IqnYCCGEEEIIITLl4uKCi4vLG9OVKVOGqKgo/v77b4oVKwbArl27UKvVlCpVKtP1YmJiqFWrFmZmZqxbtw5zc/P3ilO6ogkhhBBCCJENNBpFtr2yQp48eahduzYdO3bk2LFjHDx4kO7du9O8efP0GdHu379PaGgox44dA7SVmpo1axIfH89ff/1FTEwMjx494tGjR6Slpb3T/qXFRgghhBBCCGEQCxcupHv37lSrVg2lUsmnn37KpEmT0t9PTU3l8uXLJCQkAHDy5Mn0GdMCAwN1tnXz5k38/Pzeet9SsRFCCCGEEEIYhKOjY6YP4wTw8/ND88KTSStXrqzz94eQio0QQgghhBDZwEDX8+IZGWMjhBBCCCGEyPGkxUYIIYQQQohskJ3TPf8XSYuNEEIIIYQQIsczWMVm+PDhFC5c2FCbe2cKhYI1a9Zk2/6FEEIIIYR4FxpN9r3+iwzWFa1v37706NEj/e+2bdsSFRX10SobDx8+xMHB4aPs60Mt37qHheu3Ex4dQ5CPF33aNSNfoJ/etGt2HmDTviPcuPcAgFB/H7o2b6STvlTzrnrX7d6qMV80qPlBsW7buIKNqxcQHRmBj38gX3bqQ+7gfJmmP3pgJ8sXzuBp2EPcPLxp8WU3Chcvm/6+RqNh5aKZ7N62lvj4OILzFOCrrv1w9/AB4MLZvxk9qJvebY8cP4vcQXl5cO82s6b9zP07N0lMiMfe0ZmylWrSpHkHjI3f7ZTWaDSsWTydvdtXkxAfR1BoIb7o0j89nszs3LSMzavnEx0Vjo9fEK06fkdAcP709+f8PpoLp48RFfkUM3MLAkML0rTNN+Ty8ktPs3DmL1y9eJr7d66Ty8ufkRMzn0HkfS3dfZS52w4RHh1HsJcb37eoS35/L/15OnmBvzbv525YBKq0NHxcnfiiRlnqlymkk+7Gwyf8tnI7J6/cQqVWE5DLhXFdmpHLyd6gsWfXsblz8wqbVs3hyoXTxMVG4eyai8q1PqVmgxYGzd/KzTtYvGYTEVHR5PbzpleHL8gblFtv2nXbd7Nlz0Fu3LkHQEhuPzq3+jw9vUqlYsailRw5eZoHj8OwsrSkeMF8dP2iKc6Ohi8XN6xfx6qVy4mMjMDfP4DOXbsREhKaafoD+/exYP4cHj9+jIeHJ22/6kCJEiXT34+MjGTO7D/55+TfxMfHky9/ATp36Yanp2dGmogIZv01k39OnSQxIQEvL2+aNmtBufIV3jl+bTk0g93b1pIQH0dwnoK0e6Ecysz2jcvZuHoh0ZHh+PgH0eal8jAlJZlFs37jyP7tpKamUrBIKdp26Yedg1N6mtafvPqAum59R1Gm4qtl9ZULp/lhYFe8fAP48bcF75zPd+VYvjgBfdpjVzQ/5h6unPj0ax6v25nl+31Xy3YcZN7mvYRHxxLknYt+rRuRP7f+Y7frxFlmrd/F3bCnqFRp+Lg707p2JeqV0z44MFWVxrSVWzhw5hL3w8KxtrSgVN5AejSti4uDXZbnZd36DaxYuZLIyEgC/P35umsXQkJC9Ka9dfs28+cv4Oq1a4SFhdG5U0caN2qkk2bDxo1s2LiJsMePAfDx9aVVixaUKFE8q7MCaL9bBzZM4vSB5SQnxuAZUJSaLYfj6OqX6TqHt0znyqltRDy6gbGJOZ65i1CpUV+c3AP0bn/5lI7cvLCfxp2nEly4ehbmRuREBmuxsba2xsnJ6c0Js4i7uztmZmbZtv+3tf3QCX6bv5L2n9Vj7piBBPp60XPMJCKiY/SmP3nhCjXLleD3Ib34c2Q/XJ0c+ebHSYRFRKWn2fTHTzqvwV2+QKFQULVkkQ+K9fD+7Sz86zeaNO/AD7/OxccviJ+GfUt0VITe9FcunmHKuKFUrtGA0RPnUrxURSb82I+7t6+np9mwaj5bNyyjXdfvGfnLn5iZWfDTsG9JSUkGIDi0IFPnbtR5Va75CS5uHgQE5gHA2NiYClXq0n/kJH6ZtpQvOnzL7q1rWblo5jvncdPquWzfsIQ2XQYwZOwcTM3NmTCiB6nP4tHn6IFtLJn1Kw2bd2T4hAV4+wUzfkQPYl74XPxy56H9N8P4cfJy+gybAhoN44Z3Q/3Sg6YqVP+EkuVrvHPcb2Pr8XOMX76VzvUrs2hwZ4K93fn6t/lExMTpTW9nZUGHuhWZ278Dy4Z+TcNyhRk+dw2Hzl9LT3M3LIKvxv6Fv7szM/u2Y9nQr+lYrxJmJoYfrpddx+bW9YvY2DnSqddIfpi0lPqffcXK+VPYsXGpwfK288ARpsxeRLumjfhr3EgC/XzoPfIXIqP0lwP/nLtE9fKlmTxyANPHDMXNyYneI37hSbg2X0nJKVy5cYsvP2/IrHGjGN3vG+48eMj3Y341WMzP7du7hz9nTqdFy9b8Nvl3/AMCGDpkIFFRkXrTX7xwnrE//0iNmrWZNHkapcuUZfSo4dy6dRPQXqj8MGo4jx4+ZPDQEfw2+XdcXV0ZPPB7kpIS07czYfxY7t2/x5ChI5j6+wzKlC3Hzz+N5vr1a3r3+zobVs1n24ZlfNX1e0b88hdmZub8PKxnejmkz5Fn5WHj5u2flYeB/Dysp055uPDPifxz7AA9+o1h8I/TiIx4ysQx/V/ZVqeeQ5gyd1P6q1jpSq+kiY+L5Y+JI8hX6ONckAIYWVkSc+Yy574Z8dH2+a62HT3FhMXr6dSwBgtHfEuwtwfdx/2Zablma2XJVw2qMmdId5b80JsGFUow4s9lHDp7GYCklBQu3b5Ph0+qs3Dkt4zr0YZbj57Qa+KcLM/L3r37mDlzJq1btmTK5EkEBPgzaMgQoqKi9KZPTk7GPZc7X7Vrm+mNXGdnZ75q15bJk35j0m+/UbhQQUaMGsWt27ezMCcZjm6byd+751Or5XC+6LcMEzMLlk1qjyo18+/W3avHKFqpFa37LaNZz9mkpalYNrk9KckJr6Q9sWsuCkXWPFhS/De8dcVmxowZeHh4oFardZY3bNiQr776Sqcr2vDhw5k7dy5r165FoVCgUCjYs2cPAN9//z3BwcFYWloSEBDAkCFDSE1NTd/e8+3MmjULHx8frK2t+frrr0lLS2Ps2LG4u7vj6urK6NGjdeJ4sSvarVu3UCgUrFq1iipVqmBpaUmhQoU4fPhwevrbt2/ToEEDHBwcsLKyIl++fGzatOldPrv3snjjThpWLUeDymUJ8MpF/w4tMDc1Zf2ew3rTj+zxFZ/VrESwnzd+nu4M6twatUbDiXOX0tM42dvpvPadOEOxvMF4url8UKyb1y6mSs2GVKpeHy8ff776+nvMzMzZu2OD3vRb1i+lYNHS1G/SGk9vfz5v3Rm/gBC2bVwBaC9gtqxbSqOm7SheuiI+/kF07TWMqIin/H1kHwDGJibYOzilv6xt7Dh5dD+VqtVPL8xc3T2pVL0+vv5BuLjmolipipSrXIvLF069U/40Gg3b1y+mQdP2FC1VGW+/IDr2HElkxBNOHt2T6Xrb1i6kYs1GVKj2CZ7eAbTpOgBTM3P271yXnqZyrSaE5CuKs5sHfrlDadLqayKePuZp2MP0NK06fke1uk1xcfPUt5sPtmD7IZqUL0bDckXI7eHKoFb1MTc1Yc3Bf/SmLx7iT9UieQjI5YK3qyMtq5UhyNONf65l/CBOWbOT8vmD+PazmoT65MLb1ZHKhUNxtLU2aOzZeWwqVm9Iqw59Cc1fDFd3L8pWrkv5ap/w95HdBsvfkvVbaFCjMvWqVcTf25PvOrfF3MyMDbv26k0/rFdXmtSpTpC/L75eHnz/dXvUGjUnzlwAwNrKkonDv6dauVL4eOYif0ggvTu04fL1Wzx68tRgcQOsWb2SWrXrUKNmLXx8fOnWvSdmZmZs37ZVb/p1a9dQrFgJPv2sKd4+PnzRpi25cweyYb32mDy4f5/Lly7ydfdvCA4OwcvLm6+7fUNKSjJ7n/1uAFy8eIEGDRoSEhKKe65cNG/RCisrK65dvfpO8WvLoSU0bNqOYqUr4eMfRJdew5+VQ/o/f3ixPGyAp08A7b7u/6w8XA9AQnwce3aso1X7nuQrVBz/wDx06jmEq5fOcO3SWZ1tWVrZ6JRzpqav3pSbPe0nylSsSWBIgXfK34d4snUfV4ZN5PHaHR9tn+9qwZZ9NK5Uik8qliDA042BbZtgbmrC2n3H9KYvnic3VYsXwN/DDW83Z1rWrECgdy5OXdFWrG0sLfi9XydqliqEXy5XCgT68v0Xjbl46x4Pw/VX1g1l1erV1K5dm5o1a+Dr40OP7t0xMzNn67ZtetOHBAfTsX17KleqhImJid40pUuVomSJEnh6euLl5UnbL7/E3NycS5cu6U1vSBqNhhO75lGmTleCClXH1SuU+m3HEhcdxpVTmZ9TTXv8RYEyTXDxCMLVK5R6bX4iJuIBj++c10n3+O5Fju2YRZ0vfszqrHxU0hXNsN66YvP5558THh7O7t0ZP+4RERFs2bKFVq1a6aTt27cvTZs2pXbt2jx8+JCHDx9Stqy2O5KNjQ1z5szhwoUL/Pbbb8ycOZNff9W9q3j9+nU2b97Mli1bWLx4MX/99Rf16tXj3r177N27l59//pnBgwenP6U0M4MGDaJv376cOnWK4OBgWrRogUqlAqBbt24kJyezb98+zp49y88//4y1tWEvzl6WqlJx6eYdShbI6LKhVCopUSCUs1duvNU2kpJTSFOlYWtlpff98KgYDv5zlk+qlNX7/ttSpaZy89pl8hcuoRNr/kIluPrSj/Rz1y6dI3+hEjrLChYtnf6j/uTxA6Iiw8n3QhpLK2tyB+fj6mX92zx5bB+xsdFUrF4/01gfPbjL6ZNHCM3/bi1UTx7fJzoynHwFM7rEaOPJz7VM4lGlpnLr+iXyFczoTqJUKslbqCTXLp/Ru05yUiIHdq7Dxc0TR2e3d4rxfaWqVFy885BSeTKa8pVKJaXyBHDmxt03rq/RaDh68Qa3Hj+lWJAfAGq1mgNnr+Dj5sTXE+dRtc9YvvhxBrv/uWjw+P9txyYhIQ5ra9v3zI2u1FQVV67fonjBjC5MSqWS4gXzcv7y27U+JKcko0pLw9ZGfzkAEJeQgEKhwCaTsuJ9pKamcu3aVQoXzviuKZVKChcuwqVL+s+DS5cuULiI7nezaLHi6emf39gyNTXV2aaJiQkXLpxLX5YnT17279tLbGwMarWavXt3k5KSQoGCBd8pD08ePyA6Mpz8hV4+tzIvh7Tl4SXyFc5YR6lUkq9QifTy7ea1S6SpVOR7YbseXn44ubhz9fI5ne3N/eMXurSqydA+7di7fd0rD6bbu2M9YY8e0KRFh3fK239dqkrFpVv3KZkvKH2ZUqmkZL4gzl57c4uERqPh2Pmr3H4YRtGQV7s5PReXmKj97lhaGCRufVJTU7l67RpFXhibrFQqKVK4MBcNVAlJS0tjz969JCclkSdPHoNs83Win94jPuYJfqEZ1x9mFjZ4+BfiwU39N9T0SU6MBcDcMqMrYGpKIutn9aFm86FY233YTVvx3/bW/UccHByoU6cOixYtolq1agCsWLECZ2dnqlSpwv79+9PTWltbY2FhoW02dXfX2c7gwYPT/+/n50ffvn1ZsmQJ/fr1S1+uVquZNWsWNjY25M2blypVqnD58mU2bdqEUqkkJCSEn3/+md27d1Oq1Kv9lZ/r27cv9erVA2DEiBHky5ePa9euERoayp07d/j0008pUEB7NywgIPNCDrRNwMnJuk2pySkpmL3wY/wmUTFxpKnVONrpXiA52tly+/7jt9rG1EWrcXawo0QB/f3ZN+07gpW5OZU/sBtabEwUanUadvaOOstt7R14cP+W3nWiosJfSW9n70BUZLj2/Wf/vprGMf29l+3Zvp6CRUrh5Oz6ynvD+3Xk1vXLpKamULVWIz5r2emt8vZcdFT4szzpdqG0tXMkOpN4YmO1n4vty3mwc+TRvVs6y3ZtWs6yeZNITkrE3dOXvsOnYpzJXTZDi4xL0J5rL7WkONlYc+th5nfwYxOSqPX9eFJTVSiVSga0rEfpvNpxHBGx8SQkpzB7ywG6NaxKz09rcPDcNfr8sZQZvdtSPMTPYPH/m47N1UunOX5gG98O/u09c6MrOjZWe2zsXyoH7O24ff9hJmvp+n3eUpwdHHQqRy9KTklh2vxlVC9fGisDXpzFxGgrFfYvdYOxt3fg3l39FebIyEjs7V9Ob09UpLYLl5e3Ny4ursydPYvuPXpiZm7O2jWrePr0KRERGd28vh8wmJ9/Gk2LZp9hZGSEmZkZg4YMw8Pj3Vo8n5c1L58ntvaOREfq72abWXloZ+/Iw/vaC+roqHCMjU2wsrZ5Jc2L5+ynLTuRr2BxTM3MOXvqKHP++IWkpERqNWgGwKMHd1g6dypDfpqBkZE8keFFUbHxpKnVONm9VK7ZWXPrYVim68UmJFLn2x9IUakwUirp36YxpfMH602bnJLKpKWbqFW6MNYW5gaN/0UZ3yV7neX29vbczeS79LZu3rxFrz59SElJwcLCgiFDBuPr8/rxY4YQF/MEACtb3XLb0saJ+Ji3aznWqNXsXP4jnrmL4uKZcYx2Lh+DZ0ARggr998bUyHTPhvVOpWarVq3o2LEjv//+O2ZmZixcuJDmzZujVL79UJ2lS5cyadIkrl+/TlxcHCqVCltb3R94Pz8/bGwyfhzc3NwwMjLS2Y+bmxthYZkXZAAFX7iTlytXLgDCwsIIDQ3lm2++oWvXrmzbto3q1avz6aef6qR/2ZgxYxgxQrff8fed2tC/y5dvzrSBzF27le2HTvD70F6Ymeq/CFu/5xC1ypfM9P2cJPxpGGf+Oco3/X7Q+36P734gMTGBOzevsmjOZFxXL6TBp19kur3Dezczd1pGE/a3gycaOmQdpSvVIW/hUkRHPmXLmvn8/kt/Bv30FyZ6up38W1iZm7JkSBcSk1M4evEG45dvxcvFgeIh/qif3VWuXDiU1jW0d+RCvHNx+vpdVuw7/kEVm3/rsbl3+xqTfuzDJ806kr9I6SyN6W3NX7WenQePMnnkAL03VlQqFUPHTQWNhr6d2378AN+RsbExgwYP5bffJtC82afaFqAiRSlWvIROX4kF8+cSHxfHDz/+jK2tLUcOH+LnMaP5eewE/Pz9M93+wT1bmPX7T+l/9x06IUvz8yaNm7dP/79f7hCSkxLZuHoBtRo0Q52WxtRxQ/m0ZSdyeWb9hej/CytzMxaP6kVCUjLHLlxjwuL1eLo4UTyP7mQdqao0+k9dgAYY8GWT7AnWALy8PPl9ymTi4+PZf+Ag48dPYOzYnw1euTl/bB1bFw1L//uzr6d/8Da3LRnBkwdXadU3YzKdq6d3cufyEdoOXP3B2xf/fe9UsWnQoAEajYaNGzdSokQJ9u/f/0o3stc5fPgwrVq1YsSIEdSqVQs7OzuWLFnC+PHjddK93HdUoVDoXfbyeJ+XvbjO8/EZz9fp0KEDtWrVYuPGjWzbto0xY8Ywfvx4nZndXjRgwAB69+6tsyzx4qHX7v9l9rbWGCmVr0wUEBEd88rd25ctWL+deWu3MmVQT4J89c9q9c/Fq9x+8Jgfen549wUbW3uUSqNXJgqIiYrEzl7/JBH29k6vpI+OisT+2YxAz/+NjorAwdH5hTQR+AYE8bJ9OzZgY2NH0ZIV9e7PyUXbdcjLxx+1Oo2/pv5EvUYtURoZ6U1fuGRFndmxVKkpz/IUjv0L8cRER+Dtr/9uno2N9nOJeTmf0RHYOrx0l8rKGksra9w9fMgdXIBuravw95HdlK5YW++2DcnB2lJ7rr00oDY8Nu6Vu50vUiqV+Lhq8xHinYubj54ya/N+iof442BtibFSSUAu3W4AAbmc+efanQ+K9994bO7fvcEvQ7+mcs3GfNLUcF2C7GxstMfmpYkCIqKicbJ//SxMi9ZsYuGqjUwc3o9Av1cvUlQqFUPGTeXRk6dMGtnfoK01ALa2tiiVSqIidcceREVF4uDoqHcdBweHVyYWiIqKwt4hI31gUDCTp/xBfHw8KlUqdnb29P62B0FB2mP98OEDNqxfy9RpM/D19QMgICA358+fY8OGdXTv0TPTmIuWrKAzc5lKpe36FvNSORQTFYGPnnIIMi8Po6Mi0ltx7OydUKlSiY+L1Wm1iY6K0JkV7WW5g/OxZuksUlNTSElO5ua1i9y+cYW508cBoNGo0Wg0tGlUlu9HTOL/uROOvY0VRkol4dEvlWvRcTjb2WSylrZc83bTHusQX09uPghj9oZdOhUbbaVmPg/DI/mjf+csba2BF79LUTrLo6KicPjAmQxNTEzw8PAAICgoiCtXr7Bm7Vp6ZnJ9874CC1bFwy9j1kyVSltux8eEY22X0csiITYcV6/MZ018bvuSkVw/t4eWvRdg65DR2+f25SNEPr3DxD66Xd3XzOiBV2BxWvae/6FZEf8h7zQrmrm5OU2aNGHhwoUsXryYkJAQihYtqjetqakpaS/NAHXo0CF8fX0ZNGgQxYsXJygoiNsfaaYOfby9venSpQurVq2iT58+zJyZ+axaZmZm2Nra6rzepRsagImxMaH+Phw/dzl9mVqt5vi5yxQIzrwr3Px125i1ahMTB3QnT27fTNOt332I0AAfgjOp+LwLYxMT/ANDOH/6uE6s584cJyhU/2DWwND8nD9zXGfZuVPHCHyW3sXNA3sHJ51tJiTEc/3KeYJeGiCr0WjYu3MD5avUeaspnDUaDWlpqvRWBX0sLKxwy+Wd/vLwDsDOwYkLL8ScmBDH9SvnMh2wa2xigl/uUC6cyRioqlaruXjmOIEhmbf4adCO1FO9MFFGVjIxNiaPTy6OXsoYu6VWqzl28SYFA7zfejsatYYUVVr6NvP6eXL7kW6XgtuPwz94qud/27G5f+c6Ywd3oVyVenzaWv/04+/LxMSY4Nx+/H0mY2CsWq3m7zMXyBcSmOl6C1dvZO6KtYwb0pfQwFfLi+eVmnsPHzFx+PfY2WR+off+sZsQGBjE6dOndGI/feoUoaH6+/CHhubl1Cnd/vX//HNSb3orKyvs7Oy5f/8+165dpVSZMgAkJ2m7ASsVuj9ZSqUSjeb1N7gsLK1w9/BOf3l6+2P3SjkUp7ccek5bHoa+Uh6eP3M8vXzzDwzFyNhYpwx8cO824U8eERSS/5VtPnfn5lWsrG0xMTHFwtKKMZMXMfq3+emvqrWbkMvTl9G/zSd3SOZT7f8/MDE2JtTPk+MXMsaiqdVqjl+4RoHAzH8bX6bRaEh9Nt4WMio1dx8/ZVq/TthbG25cWmZMTEwICgzk1EvfpVOnTpEn9M2VgHehUWt0JmkyFDNzaxxcfdNfzrkCsbJ14fbljMmQkhPjeHDzNB7+mXeP12g0bF8ykiunttP827nYO+v+RpWu1YmvBq2j3cA16S+Aqp8NoG6bnD+RgEweYFjv3IG3VatW1K9fn/Pnz9O6detM0/n5+bF161YuX76Mk5MTdnZ2BAUFcefOHZYsWUKJEiXYuHEjq1dnT9Pit99+S506dQgODiYyMpLdu3d/lMF1LepVY+S0ueQJ8CFvoB9LNu0iKTmZ+pW0P+DDp87BxdGebi0aATBv7VZmLN/AyB7t8HBxIjwqGgALczMszTPuKMUlJLLz6El6tv7UYLHWadiC6RNH4R+Yh9zBedmybinJSUlUqqYdtzTt1xE4OLrQ/MuvAajdoBk/DOzKxtULKVKiHIf3befGtYu076ad7lShUFD7k2asWTYHdw9vXNw8WLFwBvaOzhQrrdsqc/7MCZ48fkCVmp+8EtfBPVswMjbG2zc3Jiam3Lh2kaXzplG6fPV3eo6NQqGgRoMWrF/+F24e3ji7erJ60TQcHF0oWqpyerqxQ7pStHRlqtfT9oGv2bAVf/42HL/AvAQE5WPb+kUkJyVSvloDAMIe3ePYge3kL1waGzsHIsIfs2nlHEzMzClYrFz6dh8/vEtyYgLRUeGkpiRx54a2wuvhHWCQsTita5Rl6OzV5PX1JL+/J4t2HCYxJYWG5bQ/MINnrcLV3oZvmminm/5r8z7y+Xri5eJAiiqNA2evsPHIaQa0ypi44cta5fh+xnKKBvtSPMSfQ+euse/MFWb2afvB8b4oO4/NvdvXGDu0K/kLl6ZWw1ZER2orcgqlEbZ2hnkmTPMGtRk9eSahgf7kCQpg2fptJCYnU6+q9nsw6rfpuDg50KV1UwAWrNrAX0tWMaxXV3K5OhP+7C6vhbk5lhbmqFQqBv8ymSs3bvPzwN6o1er0NLbW1pgYcDruRo0/5dcJvxAUFERwcChr164iKTmJ6jVqATB+3FicnJxo207b5eqTho3o/31fVq1aQYkSJdm3dw/Xrl7RaWU5sH8ftnZ2uLq4cuvWTWZMn0bp0mUpWlQ71bGXtze5PDyYMnkiX3XohK2tLYcPH+LUPycZOnzUO8WvLYeas2bZbNw8vHF182DFwunPyqGMaZd/HNyN4qUrU7P+58Dz8nDkC+Xhkmflofb7YWllTeXqn7Dwr9+wtrbFwtKKeTPGExRaIL3yc/LYfqKjIggMyY+JiSnnTh1j3fI51G2snYBHqVTi7avbPcrWzgETU9P05fonBDcMIytLrAIzWgIt/b2wLRRKSkQ0SXffbvxXVmtduyLDZi4lj78X+QO8WbR1P4nJKXxSQXs3f+j0xbg42NGjaV0AZq3fRV5/L7xcnUhVqThw+hIbD/3NgDbarmapqjS+nzKPS7fvM7HXV6Sp1Tx91ppqZ22JyTs+G+1dNGncmHETJhAUFERIcDCr164lKTmJmjW0ZfIv48bj5OTEV+3aamNNTeXOHW3ruEql4ml4ONevX8fCwiK9hWbW7DmUKF4cF1cXEhMS2b1nD2fOnmX0qHf7nrwPhUJB8aptOLRpGg4uvtg7e7F//W9Y27nqPG9mycQvCSpcg2KVtdeQ25eM4MLxDTTp8jumZlbERWvH6phZ2GBiao61nYveCQNsHT1eqQQJ8c7f2KpVq+Lo6Mjly5dp2bJlpuk6duzInj17KF68OHFxcezevZtPPvmEXr160b17d5KTk6lXrx5Dhgxh+PDhH5KH95KWlka3bt24d+8etra21K5d+5261b2vGmWLExUTx4zlGwiPiiHY14uJ/Xvg9Kwr2uOnEShfmKN91fZ9pKpUDPhVtzWpw6f16Ph5xgXn9kMn0Gg01Cyn21T7IcpUqEFsdBQrFs0kOjIc34Agvh/+a3q3ivAnj3Tmkw/OU5BufUayfOF0ls3/A3cPb3oPHKvzQ12/yRckJyXx19SftA/Gy1uQ74dPfGW60z3b1xMUWgCPFx5o+ZzSyIj1K+fz6MFdNBoNzi7u1Kj3GXUaNn/nPNZt/CUpSUnM+f1HEuJjCc5TmN5DJ+mMtQh7dI+4mKj0v0uVr0lsdCRrFv/x7EF9wfQeNjm9i56JqRlXLvzD9vWLiY+PwdbOiZB8RRj00186A5ZnTxnF5fMn0/8e1lt7cfPL9HU4u3m8c15eVqtEfiJj45m2bhfhMXGEeLkz9ZsvcHo2ocCjiGidcy0pOZUfF20gLDIGMxMT/Nyd+aH9p9QqkXG3uWqRPAxqVZ9ZW/YzdslmfN2c+aVLM4oEvf3d0reVXcfmxKGdxEZHcnjvZg7v3Zy+bSeXXIybud4geatWvjRRMbH8uXgVEVHRBPr7MH7Idzg+64r2+Gk4SmXGsVmzdRepzyovL2rXtBHtmzfhSUQkB45rW0Xa9Rmsk2bSyAEUzW+4mzYVK1UmOiaaBfPnaR8qGBDAyJGj05+r8eRJmE7sefLm47t+A5g/bw7z5szGw9ODQUOG4+eXMS4mIiKcP2f+oe2G4+BI1WrVad4iY7ZNY2Njho8YzdzZfzFqxFASExPJ5eFJr97f6Tzo821py6FEZk0d86wcKkS/4b/plENhj+4T+8K5VbpCDWKio1i5aMaz8jCYfsMn6nQza9XhWxRKBb/9NABVagoFipSmbdeMiXGMjIzZsXEFC/+aiEajwS2XFy3b96RKzUbvnIesYFcsP2V2ZnTryTtuIAB3563iTPsB2RWWjpqlChMZE88fq7YSHh1LsI8Hk/t2wOlZV7RHEVEolC+Wayn8NG81YRFRmJma4JfLlR86t6BmqcIAPImMZu8/2mnTWwzRvQaY3r/LK+NwDKlSpYpEx0Qzf/6C9O/SDyNHpn+Xwp480clLeEQE3Xp8k/73ypWrWLlyFQUKFOCXn7XjyKKio/hl/HgiIyKwtLLC39+P0aNGUbToh00o9LZK1exIakoiWxcNJSkhBq/cxWja40+MTTK+W5FP7pIYl9E99Z99iwFY/KvuGNm6bcZQoEzOHev0tt4wqkK8I4Xm5XkmxVuL+mdXdodgUNcsP07B97GkqP87MwoVDtuY3SEY1CnXetkdgkEFqS9kdwgGE2Xu/uZEOUiUKuufHv8xheXPfCbQnKbS/l+yOwSDeuKSN7tDMKjdtzPvGpvTfFU1uyPI3HT9jy36KDrXzL59Z5V3GmMjhBBCCCGEEP9G/51b2kIIIYQQQuQg0m/KsKTFRgghhBBCCJHjSYuNEEIIIYQQ2UBabAxLWmyEEEIIIYQQOZ602AghhBBCCJEN1NJiY1DSYiOEEEIIIYTI8aRiI4QQQgghhMjxpCuaEEIIIYQQ2UCTrbMHKLJx31lDWmyEEEIIIYQQOZ602AghhBBCCJENZLpnw5IWGyGEEEIIIUSOJxUbIYQQQgghRI4nXdGEEEIIIYTIBmp1dkfw3yItNkIIIYQQQogcT1pshBBCCCGEyAYyeYBhSYuNEEIIIYQQIseTFhshhBBCCCGygVpabAxKWmyEEEIIIYQQOZ5UbIQQQgghhBA5nnRF+wApy+ZkdwgG5dvaKrtDEJlIs7DJ7hAMKjT1VHaHYFAxlm7ZHYLBeJ9dm90hGJS3uWV2h2BQqv2/ZHcIBrO3wnfZHYJBRe++lN0hGFR84n+pj5QiuwPIlEweYFjSYiOEEEIIIYTI8aTFRgghhBBCiGygydbZA/69LVnvS1pshBBCCCGEEDmeVGyEEEIIIYQQOZ50RRNCCCGEECIbyHNsDEtabIQQQgghhBA5nrTYCCGEEEIIkQ1kumfDkhYbIYQQQgghRI4nLTZCCCGEEEJkA7UMsjEoabERQgghhBBC5HhSsRFCCCGEEELkeNIVTQghhBBCiGwgkwcYlrTYCCGEEEIIIXI8abERQgghhBAiG0iLjWFJi40QQgghhBAix5OKjRBCCCGEECLHk65oQgghhBBCZAO19EUzKGmxEUIIIYQQQuR4Oapi4+fnx8SJE986/a1bt1AoFJw6dSrLYhJCCCGEEOJ9aNTZ9/ovylFd0Y4fP46VlZVBtzlnzhy+/fZboqKiDLrdd2FRuhqWFeuitLZD9egusevmo7p3Q29a+44DMA3I88ry5EuniJ47IatDfcXKzTtYvGYTEVHR5PbzpleHL8gblFtv2nXbd7Nlz0Fu3LkHQEhuPzq3+jw9vUqlYsailRw5eZoHj8OwsrSkeMF8dP2iKc6ODjkuPwB7jxxnzdbdXL5+k5i4eGaPH0WQv+9HyQvAsu0HmL9pN+HRsQR5e/Bdm8bkz61//7uOn2H2+h3cffwUlUqNj7szrepUpl754jppVu46xKVb94iOS2DhD30I8fX8KHlZsWUXC9dtJSIqmkBfb3p/1YJ8QQF6067dsY/New9z4+59AEICfOnSorFO+lFTZrFp7yGd9UoVysfEwb2yLhMvWLdhIytWriIiMpIAf3++7tKZ0JBgvWlv3b7NvAULuXbtOo/DwujcsQNNGjXMdNtLly1n1tx5NGr4CV07dcyqLOhYcugsc/f9w9PYBIJzOdG/YUUKeLu9cb3Np67Sf/E2quT1Z+KXdXXeu/E4gombD/P3jQeo1GpyuzkyvnVtcjnYZFU2AFiy/yRzdx3naUw8wZ6u9P+0GgV8c71xvc0nL9J/7gaqFAhkYofGAKSmpTFl4wEOXLjBvfBobMxNKRXiS88GlXC1s87SfDy3bMdB5m3e+6wcyEW/1o3In9tHb9pdJ84ya/0u7oY9RaVKw8fdmda1K1GvXDFtflRpTFu5hQNnLnE/LBxrSwtK5Q2kR9O6uDjYfZT8vA3H8sUJ6NMeu6L5Mfdw5cSnX/N43c7sDuutaDQa9qydzMl9y0lKiME7sCj1vhiGk5tfpuvs3zidSye38/ThDYxNzfHOXYTqn/fB2V1/GfkxaTQajm2ZzPkjy0lOjCGXf1EqfzYMexe/TNc5e3Ax5w4tJiZCW4Y7ugdSsmY3fPNU/EhRi5wqR7XYuLi4YGlpmd1hGJRZgVJY12tJ/M41REwZiurhHey/+g6Flf4f7ugFk3g6ukf6K/zXAWjS0kg+e+wjRw47DxxhyuxFtGvaiL/GjSTQz4feI38hMipGb/p/zl2ievnSTB45gOljhuLm5ETvEb/wJDwCgKTkFK7cuMWXnzdk1rhRjO73DXcePOT7Mb/myPwAJCalUDBPMF2/aPZR8vCibUf+4ddFa+nYuBYLRvUm2MeDHmNnEBEdqze9rbUlX31SndlDe7Lkx740qFiSkTOXcPjMpfQ0ickpFA72p0ez+h8rGwDsOHiMSXOX0f7zBsz5eShBvt70Gj2RiGj9x+bk+cvUKF+SKcP6MmP0ANycHPj2h18JC4/USVe6cH42zBif/hr5baePkR327NvPjJl/0qplC6ZOmkiAvz+DhgzN9AZLcnIyudzd+artlzg6vL6Sf/nKFTZu2YK/v5/hA8/EltNXGbfhAJ2rlWDJN00JyeVM17/WEx6X8Nr17kfEMGHjQYr6v1ppuBseTds/VuHv6sCfnRuxoldzOlUrjqmJUVZlA4AtJy8xbvUeOtcqy5Lv2hDi4ULXacsJj41/7Xr3w6OZsGYPRXN76SxPSlFx6e5jOtUqw9K+bZjQvhG3wiLpOXNVVmYj3bajp5iweD2dGtZg4YhvCfb2oPu4P4mIidOb3tbKkq8aVGXOkO4s+aE3DSqUYMSfyzh09vKz/KRw6fZ9OnxSnYUjv2VcjzbcevSEXhPnfJT8vC0jK0tizlzm3DcjsjuUd3Zw858c3TGfel8Mp8OgZZiaWbBgQgdUqcmZrnP7ynFKVGlJ+0FL+aLPLNRpKhaM70BK8uu/gx/DyV1/cnr/fCp/PpzPv12GiakF66a/Pj/W9m6UqdeHZr1X0rTXCryCSrNxVjfCH139iJF/HBqNJtte/0VZWrHZsGED9vb2pKWlAXDq1CkUCgX9+/dPT9OhQwdat24NwIEDB6hQoQIWFhZ4e3vzzTffEB+f8WPycle0S5cuUb58eczNzcmbNy87duxAoVCwZs0anThu3LhBlSpVsLS0pFChQhw+fBiAPXv20K5dO6Kjo1EoFCgUCoYPH541H0YmLCvUJvH4HpL+3k9a2ANi18xBk5KMRfFKetNrEuNRx0Wnv0yD8qNJTSEpGyo2S9ZvoUGNytSrVhF/b0++69wWczMzNuzaqzf9sF5daVKnOkH+vvh6efD91+1Ra9ScOHMBAGsrSyYO/55q5Urh45mL/CGB9O7QhsvXb/HoydMclx+A2pXL0a5pI4oXypfl8b9s4ea9NKpcmk8qliTA050B7T7D3MyEdfv0nyvF8wRSpXhB/D3d8HJzpkWtigR65+LUlZvpaeqVL07HxrUomU9/y0JWWbxhO59Uq0D9KuXx9/agX6fWmJmasmHXAb3pR/TsyKe1qhDs74OfZy4GdGmLWqPhxLmLOulMTYxxcrBLf9laG7ZFODOrVq+hdu1a1KpRHV8fH77p/jVm5mZs3bZdb/qQ4GA6tv+KypUqYmJikul2ExMT+fmX8Xzbowc21h+nNQBg/v5TNCmZj0Yl8pDbzZHBjStjbmLMmuMXM10nTa1m4JLtdK1REi/HV+/0T95yhPIhvvSqW5Y8ni54O9lROa8/TtZZe3Nr/p4TNClbkEalC5Db3ZnBTWtibmrCmiPnMl0nTa1m4PwNdK1TDi8n3bzYWJgxvVtTahUJxc/NkYJ+Hgz4tBoX7j7mYYT+irkhLdiyj8aVSvFJxRIEeLoxsG0TzE1NWJtpOZCbqsUL4O/hhrebMy1rVtApB2wsLfi9XydqliqEXy5XCgT68v0Xjbl46x4PX7pxkJ2ebN3HlWETebx2R3aH8k40Gg1Hd8yjYv0uhBaphpt3CI3a/0xsVBiXTmael9a9/qRw+Sa4egbh7h1Kw/ZjiI54wMNb5z9i9K/SaDSc3jeP4jW6EJC/Gs4eIVRv+TPxMWHcOJd5fvzzVcUvbyXsXfxwcPWnTN1emJha8vjW6Y8YvciJsrRiU6FCBWJjY/nnn38A2Lt3L87OzuzZsyc9zd69e6lcuTLXr1+ndu3afPrpp5w5c4alS5dy4MABunfvrnfbaWlpNGrUCEtLS44ePcqMGTMYNGiQ3rSDBg2ib9++nDp1iuDgYFq0aIFKpaJs2bJMnDgRW1tbHj58yMOHD+nbt6/BP4dMGRlh7OFHyrUXCh6NhpTrFzDxCXyrTVgUr0jymSOQmpJFQeqXmqriyvVbFC+YccGuVCopXjAv5y9fe6ttJKcko0pLw9Ym84vJuIQEFAoFNgbugviyj5WfjyVVpeLSrXuUeqEColQqKZkvmDPXbr1xfY1Gw7HzV7j98AlFQrK3K0NqqorLN25TomDe9GVKpZISBfNw7or+LpsvS0pJQaVKe6XicvL8Zeq270WzbwYxdsZ8omP138U2pNTUVK5eu0bRwoXSlymVSooULsyFS5c/aNtTpv1ByRLFKVqk8AdG+fZSVWlcvP+E0kEZLRVKpYLSgV6cufMo0/Wm7ziOg7UFTUrmfeU9tVrD/ku38XW2p8uf66g8chatpixn1/m3O97vK1WVxsW7jygdnNFdU6lUUDrYlzO3HmS63vQth3CwtqRJmYJvtZ+4pGQUCrCxNPvgmF9HWw7cp2S+oPRl2nIgiLPXbr9xfW05cJXbD8Mo+ppyIC4xUVtOW1oYJO7/Z1FP7xEX/YSAvGXTl5lb2uAVUJC710+99XaSE7Qt8xZW2ds9MCbiHgmxT/AOzsiPmYUNbj4FeXTr1FttQ61O48o/G0lNScDdr3DWBCoMKiIiglatWmFra4u9vT3t27cnLu7tfl81Gg116tTR21DxNrJ0jI2dnR2FCxdmz549FC9enD179tCrVy9GjBhBXFwc0dHRXLt2jUqVKjFmzBhatWrFt99+C0BQUBCTJk2iUqVKTJs2DXNzc51tb9++nevXr7Nnzx7c3d0BGD16NDVq1Hgljr59+1KvXj0ARowYQb58+bh27RqhoaHY2dmhUCjSt5GZ5ORkkpN1m02TVWmYGb9/twilpQ0KIyPUcbp37dSx0Ri7vLk/t7FXAMbu3sSs/Ou9Y3hf0bGxpKnVONrb6ix3tLfj9v2Hb7WN3+ctxdnBQacy8aLklBSmzV9G9fKlscriH8yPkZ+PKSo2XpsfO90ujY62Ntx6EJbpenEJidT5ZgQpKhVGSiXff/kppQuEZHW4rxUVG/csLy8dGztbbt/P/ML5Rb8vWIGLoz0lCmRcRJcukp/KpYqSy9WZ+4+f8MeiVfQaPZGZowdiZJR193xiYmJQq9XY2+t2KXOwt+fu3Xvvvd09e/dx7dp1Jk/8uGPtIhOSSFNrXmlJcbKx5OYT/XfwT958wOrjF1n2rf4umhHxCSSkpDJrz0m61yrFt3XLcPDyHXrP38yfnRpRPCBrxnVFxidq82KjJy9hEXrXOXn9HquPnGVZvy/fah/JqSomrttHnaJ5sDbP2orN83LA6aWxPE521tx6mHk5EJuQSJ1vf0gvB/q3aUzp/PpbaZNTUpm0dBO1ShfG2sJcbxrx9uKinwBgZeuks9zK1pn4mLfruaBRq9my5Ee8A4vi6vVxW9dflhCjzY+ljW5+LG2cSYh9fX6ePrjMykktUKmSMTG1pG67KTi6v91N35xE/R8cxN+qVSsePnzI9u3bSU1NpV27dnTq1IlFixa9cd2JEyeiUCjee99ZPnlApUqV2LNnD3369GH//v2MGTOGZcuWceDAASIiIvDw8CAoKIjTp09z5swZFi5cmL6uRqNBrVZz8+ZN8uTRHTB/+fJlvL29dSokJUuW1BtDwYIZd9Fy5dJWGMLCwggNDX3rfIwZM4YRI3T76vYtV5DvKhTKZI2sZ1G8IqqHdzKdaODfbP6q9ew8eJTJIwdgZmr6yvsqlYqh46aCRkPfzm0/foDv6E35ySkszc1YNLoPCUkpHD9/lV8XrcXT1YnieXLuj8m81ZvYfvAYv4/4DjPTjG5cNcpllBeBvl4E+nrxWfcBnLxwmRIFXp2g498s7MkTps2YyZgfRmL6Lz//4pNTGLR0B8M+rYKDlf4bFupnXb+r5PPniwqFAQj1cOH07UcsP3I+yyo27yo+KYVBCzYxrHktHN6ii1xqWhrfzVmHBg2Dmr56E+7fwsrcjMWjepGQlMyxC9eYsHg9ni5OFM+jO5FKqiqN/lMXoAEGfNkke4LN4c4cWc+GecPS/27Z848P3ubGhSMJu3+Vr/q/+SLS0C7/vZ49yzPyU7/D++fHwdWfZn1Wk5IUy7XTW9mxuD9Nus3/T1Zu/ksuXrzIli1bOH78OMWLaycfmjx5MnXr1mXcuHF4eHhkuu6pU6cYP348J06cSL9ef1dZXrGpXLkys2bN4vTp05iYmBAaGkrlypXZs2cPkZGRVKqkHUsSFxdH586d+eabb17Zho+P/tlb3taLfdKf1wLV71hFHjBgAL1799ZZFj2q6wfFpU6IRZOWhtJa90600sYOdWz061c2McWsUGnit3+cAagvs7OxwUipJOKlgfURUdE42b++6XvRmk0sXLWRicP7Eej36rFVqVQMGTeVR0+eMmlk/yxvrYGszU92sLex0ubnpYkCImJicbLPfEYppVKJt5sLACG+ntx88Jg563dma8XG3sb6WV5eOjbRMW88NgvXbWX+ms1MGtqHQF/v16b1dHPB3saae4/CsrRiY2tri1KpJCpKtzUjMioKhzdMDJCZa9euERUVRbdvvk1fplarOXvuPOvWb2DDmlUYGWXNoHsHS3OMlIpXJgoIj03A2ebVi/274dE8iIzlm7kbM2J9Noi16IDfWdu3Fe521hgrlQS4Ouqs6+/qwKlbb9eC+j4crCy0eYnVl5dXu5jefRrJg4hovnlhIoD0vPQax9pB7fF21h7T1LQ0vpu9jocRMczs3izLW2sgoxwIj9btAhIeHYez3ZvKAWfgeTkQxuwNu3QqNtpKzXwehkfyR//O0lrznkIKVcFrWMbNV5VK2608PiYcG3vX9OXxMU9x835zubRp4Uiunt5D2+8XYOv4+p4oWcE/XxXcfDLyk5amzU9CbDhWthn5SYh9irPn6/NjZGyKvYu2W6ird37C7p7j9L55VGk6Mgsizz7ZOYhfX28kMzMzzMzev3w6fPgw9vb26ZUagOrVq6NUKjl69CiNGzfWu15CQgItW7Zk6tSpb+xF9TpZXrF5Ps7m119/Ta/EVK5cmZ9++onIyEj69OkDQNGiRblw4QKBgW93ARUSEsLdu3d5/Pgxbm7aKUWPHz/+zvGZmpqmT27wOvoOdNIHdEMDIC0N1YNbmObOR8qFk9plCgWmufOSePj1Ax7NC5REYWRM0qlDr02XVUxMjAnO7cffZ85TsZR2GlC1Ws3fZy7QpG71TNdbuHoj81auY/yQ7wgNfLXP9vNKzb2Hj5g0cgB2Nlk7retzWZWf7GJibEyonxfHLlylcvECgDY/x89fpWmN8m+9HbVGQ0qqKqvCfCsmJsaEBPhy4uxFKpUsoo1LrebE2Ut8VrtKpustWLuZOSs3MXHwt+TJ7ffG/YSFRxAdF4/zGypLH8rExISgwED+OXWGsmXKANr8nDp1mk/q13uvbRYuVIjpU6foLBs/cSLeXl40/eyzLKvUAJgYG5HH04Wj1+5RNZ/2O6BWazh67R7NyxZ4Jb2/iwMrejXXWTZ161Hik1Po90kF3O2sMTE2Ip+XK7de6sp2+2lUlk71bGJsRB5vd45euU3VgkEZeblym+YVir6aFzcnVnzfVjcvmw4Qn5RCvyZVcX/WtfV5pebOkyj+7NEM+0xaqgxNWw54cvzCNaoUyw88KwcuXKNp9bJvWDuDRqMhVZVRDjyv1Nx9/JTp/btg/5Em3fgvMrOwxswio6ugRqPB2s6FGxcP4+6jvfBPTozj3o0zFK/cItPtaDQaNi8axaWTO/iy3zwcXLwyTZuVTM2tMTXXzY+ljQv3rh7G5VlFJiUpjsd3zpC/XOb50UejUadXlIRh6OuNNGzYsA+aSOvRo0e4urrqLDM2NsbR0ZFHjzLvPt6rVy/Kli1Lw4aZP8rgbWR5xcbBwYGCBQuycOFCpkzR/vBWrFiRpk2bkpqaml7Z+f777yldujTdu3enQ4cOWFlZceHCBbZv356+3otq1KhB7ty5+fLLLxk7diyxsbEMHjwY4J365vn5+REXF8fOnTspVKgQlpaWH3VK6YT9W7D9vCOq+zdJvXsDy3I1UZiakfj3PgBsPu+EOiaS+K3LddYzL16J5Asn0SRk/WDnzDRvUJvRk2cSGuhPnqAAlq3fRmJyMvWqaueZH/XbdFycHOjSuikAC1Zt4K8lqxjWqyu5XJ0Jj4wCwMLcHEsLc1QqFYN/mcyVG7f5eWBv1Gp1ehpba2tMTLL2dDV0fgBiYuN4/DScpxHa9+48G6/jaG+Hk4N9luanVZ1KDJ+xmLz+3uQL8GHR1r0kJqfQoKK2C9bQPxbh6mBL92dTN89et4M8/t54uTmTmqri4OmLbDp4ggFtP0vfZnRcPI/Co3gSqW1RvP2sn76TnQ3OL41PMqQW9WswauosQnP7ki/QnyUbd5CUnEz9KuUAGDH5L1wc7fm61acAzF+zmZlL1zKiZ0dyuTgT/ixeC3MzLC3MSUhM4q/l66lSuihO9nbce/yEqfOX4+XuSqnCWT9GqknjRoyb8CvBQYGEBAezeu1akpKSqFlDW4keO34Czk5OfNVWO24jNTWVO3fuav+vUhEeHs716zcwtzDH08MDS0tL/Px0n09kbm6Oja3tK8uzwhcVCjNk2U7yebmS38uVBQdOk5iqolFx7YXMoKU7cLW1omedMpiZGBPkrtvf3sZCe9PoxeVfVipCv0VbKebvQYncnhy8cod9F2/xZ6dGWZuXysUZsnAT+Xzcye+TiwV7T5CYkkqjUtqKwaAFG3G1s6Fng4ravHi46M/Ls+WpaWn0nbWOi/ceM7lTE9RqNU+fTbVsZ2mByYfeIHuD1rUrMmzmUvL4e5E/wJtFW/eTmJzCJxVKADB0+mJcHOzo0VT7DKFZ63eR198LL1cnUlUqDpy+xMZDfzOgjbarWaoqje+nzOPS7ftM7PUVaWo1T5+1dNtZW2Ji/O94PJ6RlSVWgRkt6Jb+XtgWCiUlIpqku1nX6vehFAoFpaq3Yf+GP3By88Pe2ZPdqydhY+9KaNGMm2zzfmlLaNHqlKymnVV204KRnD26geY9pmJmbpU+VsfMwgYT0+xrTVMoFBSq2IYT2//A3tkPG0dPjm6ZhJWtKwH5M/KzZlpbAvJXp2AFbX4ObRiPb56K2DjkIiUpnisnN3D/+jE+6fRndmXlP0lfb6TMWmv69+/Pzz///NrtXbyY+UyYr7Nu3Tp27dqVPtnYh/goJVClSpU4deoUlStXBsDR0ZG8efPy+PFjQkK0A5MLFizI3r17GTRoEBUqVECj0ZA7d26aNdM/uNTIyIg1a9bQoUMHSpQoQUBAAL/88gsNGjR4ZaKB1ylbtixdunShWbNmhIeHf3BN9V0lnz1KnLUNVtWboLSxQ/XwDlGzf0HzbEIBI3sneKmZ0sjZHVP/ECL/ev0JltWqlS9NVEwsfy5epX1oor8P44d8h+OzO96Pn4ajVGZUMtds3UXqs8rLi9o1bUT75k14EhHJgePak7pdn8E6aSaNHEDR/Fk77sHQ+QE4cPwffpwyM/29YRN+fyVNVqlZugiRsXH8sXIL4dExBPt4Mvm7Tjg964LyKDwS5Qs3ARKTU/h57krCIqIwMzXBL5cbo7q0ombpIulp9p08z4iZS9L/Hjh1PgAdG9ekc5PaWZaX6uVKEhkTx59L1xIeFUOQnze/DvpW99i8kJdV2/aQqlIxcPw0ne20/7wBHZo2RKlUcv3OPTbvPURsfALOjvaUKpiPTs0bYvqa6ZQNpXLFCkRHRzNvwUIiIyMJCAhg9MgR6V3Rnjx5opOf8IgIvv6mZ/rfK1atZsWq1RQskJ9ffhqT5fG+Se1CQUTGJ/L7tqM8jU0gxMOZ37+qnz4I/1FUrE5+3ka1/AEMblyJWbtP8vO6/fi52DO+dW2K+mfeP9sQahcNJTIugd83HeRpTDwhXq783uUznGy1rRKPIt8tL2FRcew5p51ZsenYuTrv/dm9GSWCsrb7as1ShYmMieePVVsJj44l2MeDyX07ZJQDEVEoXijXkpJT+Gne6hfKAVd+6NyCmqUKA/AkMpq9/2intG8xRPcZY9P7d3llHE52sSuWnzI756f/nXfcQADuzlvFmfYDsiust1KuTgdSUxJZP3coSQkx+AQVo3WvmRibZFxwRjy5Q0JcRovmiT2LAZg7to3Othq2+5HC5bN3/FPRqh1QpSSye/nQZw/oLEaDTrr5iX56h8T4jPwkxkWwY9H3xMc8wczCBqdcIXzS6U98QsplRxaylDr7eqK9U7ezPn360LZt29emCQgIwN3dnbAw3clJVCoVERERmXYx27VrF9evX8fe3l5n+aeffkqFChV0ZlN+E4XmP/SEnoMHD1K+fHmuXbtG7txZX7iGDWjz5kQ5iKJ1t+wOQWTCPD7rn+PzMaWaZ13rTnaIsXTL7hAMxv3cluwOwbDM/1sPdVbZu745UQ6xt8J32R2CQUXvvvTmRDlI+BuG+uYkPeq9/yxbWW3wnOzrXvdDW8NPNnPx4kXy5s3LiRMnKFZM27V/27Zt1K5dm3v37umdPODRo0c8fap7nVOgQAF+++03GjRogL+//1vv/9/RZvyeVq9ejbW1NUFBQVy7do2ePXtSrly5j1KpEUIIIYQQ4kNosrPJJgvkyZOH2rVr07FjR/744w9SU1Pp3r07zZs3T6/U3L9/n2rVqjFv3jxKliyJu7u73tYcHx+fd6rUQBY/oDOrxcbG0q1bN0JDQ2nbti0lSpRg7dq12R2WEEIIIYQQ/5cWLlxIaGgo1apVo27dupQvX54ZM2akv5+amsrly5dJSEh4zVbeT45usWnTpg1t2vy3uoMJIYQQQoj/D/+dASEZHB0dX/swTj8/vzdOc/2+I2VydIuNEEIIIYQQQoBUbIQQQgghhBD/ATm6K5oQQgghhBA5lfo/NnlAdpMWGyGEEEIIIUSOJy02QgghhBBCZIP/0OMk/xWkxUYIIYQQQgiR40nFRgghhBBCCJHjSVc0IYQQQgghsoFGnd0R/LdIi40QQgghhBAix5MWGyGEEEIIIbKBWiYPMChpsRFCCCGEEELkeNJiI4QQQgghRDaQ6Z4NS1pshBBCCCGEEDmeVGyEEEIIIYQQOZ50RRNCCCGEECIbqNXSFc2QpMVGCCGEEEIIkeNJi40QQgghhBDZQOYOMCyp2HyAyA6jszsEgzp42zu7QzAoG8v/zuN8i7nczO4QDGrsCsfsDsGgfi21JbtDMJhjQe2zOwSDWro5NbtDMKi+jZ9mdwgGE737UnaHYFB2VUKzOwTD+o8dH/H/QbqiCSGEEEIIIXI8abERQgghhBAiG2hk8gCDkhYbIYQQQgghRI4nLTZCCCGEEEJkA7XMHmBQ0mIjhBBCCCGEyPGkYiOEEEIIIYTI8aQrmhBCCCGEENlAJg8wLGmxEUIIIYQQQuR40mIjhBBCCCFENpAWG8OSFhshhBBCCCFEjictNkIIIYQQQmQDabAxLGmxEUIIIYQQQuR4UrERQgghhBBC5HjSFU0IIYQQQohsIJMHGJa02AghhBBCCCFyPGmxEUIIIYQQIhtoNNJiY0jSYiOEEEIIIYTI8aRiI4QQQgghhMjxpCuaEEIIIYQQ2UAtkwcYlFRsstjG9WtZvXIZkZER+PvnplPX7gSHhGaa/sD+vSycP4ewx4/w8PDky686UrxEqfT3ExMTmTv7T44ePkhsbAxubu7U/6Qxdeo1AODx40d0bNda77b7DRhC+QqVDJtBtP1DD2yYxOkDy0lOjMEzoCg1Ww7H0dUv03UOb5nOlVPbiHh0A2MTczxzF6FSo744uQfo3f7yKR25eWE/jTtPJbhwdYPn4cV97Vw9mRN7lpOUEItPUBE++XIYzu6Z5+XmpeMc2DyLB7fOExv1hJbfTCZvMd0Yk5Pi2bZsAhdP7iQhLgoHFy/K1GhNyarNsywvAOvXr2fFypVERkYS4O9P165dCQkJ0Zv29u3bzJ8/n6vXrhEWFkanTp1o3KiRTpqlS5dy8NAh7t27h6mpKXnz5OGrr77Cy8srS/PxogblzSlfyAwLMwXX76tYvC2BsEh1punrlzOnfnkLnWWPwtMY/mdM+t/lC5lSMq8p3m7GWJgp6DUxisTkrP2xWbL7GHO3HyQ8Oo5gL3e+b16HAv76P8edJy/w1+b93HkSgSpNjY+rI21qlKV+6ULpaQp3Hq533W+b1KBtrXIGjV2j0bBuyR/s376ahIRYAkML0arTQNw8fF673u7NS9m6Zh7RUeF4+wXTokM//IPy693+pB96cO6fQ3z9/XiKlKqS/t7FM0dZu3ga925fw8zcgjKV69O4VTeMjLL+56xeOXPKFTDFwkzBjQcqlmxP5ElU5ude3bLm1CtrrrPsUXgao2bHZnWoOtat36BTDnzdtUum5cCt27eZP39BejnQuVPHV8qBDRs3smHjJsIePwbAx9eXVi1aUKJE8azOil4ajYY9aydzct9ykhJi8A4sSr0vhuHk5pfpOvs3TufSye08fXgDY1NzvHMXofrnfXDW8xv0b+BYvjgBfdpjVzQ/5h6unPj0ax6v25ndYb2V/4fjI/49pCtaFtq/dzd/zfyD5i2/4NfJf+AXEMCwIf2JiorUm/7ihfOM+3k0NWrWZuLkPyhVphw/jhrG7Vs309P8NXMaJ/8+Tu/v+jN1+iwaNGrC9GmTOXrkEADOzi7MXbBM59Wy9ZdYWFhQrHjJLMnn0W0z+Xv3fGq1HM4X/ZZhYmbBskntUaUmZ7rO3avHKFqpFa37LaNZz9mkpalYNrk9KckJr6Q9sWsuCoUiS2J/2f5Nf3Jk+wIath1Ol6FLMTWzZO64jqSmZJ6X1ORE3L1DaPDFkEzTbF70M1fPHuCzzmPpOWYjZWu2YcP8H7h4cldWZAOAvXv3MmPmTFq1bMnkyZPxDwhg8JAhREVF6U2flJyMe65ctGvXDgcHB71pzp47R4P69fl1wgR+HD0aVVoagwYNIikpKcvy8aKapcyoUsyMRVsT+Hl+LCmpGno0tcbY6PXr3X+SRr8pUemvXxbqXliamig4fyOVLYcTszD6DFuPn2P8iq10rleZxYM6E+zlxteTFhARE6c3va2VBR3qVmTe9x1YPrQrDcsWYdjcNRw6fy09zY6xfXRew9s0RKGA6kXzGDz+LavnsnPjYlp3GcjAn+ZiambBxFHdXvs9OX5gK8tmT6BB004MGbcIL78gJo7sRkxUxCtpd2xYCHq+83dvXmHSD9+Qr0hZho5fRKc+P3H6+F5WzZ9s0PzpU6OkGZWLmLFkewK/LIwlJRW6f2b1xnPvwdM0Bvwenf6asET/Mc4qe/fuY+bMmbRu2ZIpkycREODPoNeUA8nJybjncuerdm0zLQecnZ35ql1bJk/6jUm//UbhQgUZMWoUt27fzsKcZO7g5j85umM+9b4YTodByzA1s2DBhA6v/Q26feU4Jaq0pP2gpXzRZxbqNBULxnfQ+xv0b2BkZUnMmcuc+2ZEdofyzv4fjs+H0Gg02fb6L/pXV2zUajVjx44lMDAQMzMzfHx8GD16NHv27EGhUOgUzKdOnUKhUHDr1i0A5syZg729PWvWrCEoKAhzc3Nq1arF3bt309c5ffo0VapUwcbGBltbW4oVK8aJEycMFv/a1SupWbsu1WvWxsfHl6+7f4uZmRk7tm3Rm3792lUULVaCJp81w9vHl9Zt2hGQO5CN69emp7l08QJVq9WkQMHCuLm5U7tOffwDcnP18iUAjIyMcHB01HkdPnSAchUqYWFhoXe/H0Kj0XBi1zzK1OlKUKHquHqFUr/tWOKiw7hyakem6zXt8RcFyjTBxSMIV69Q6rX5iZiIBzy+c14n3eO7Fzm2YxZ1vvjR4LG/TKPRcGjrPCo36EKeotVw9wnhs04/ERsVxsWTmecluFBFanz2LXmL18g0zZ1r/1CkfEMC8pTEwcWTElWa4u4dwr0bZ7IiKwCsXr2aOrVrU7NmTXx9fOjRvTtmZmZs27ZNb/qQ4GA6tG9P5UqVMDEx0Zvmh1GjqFGjBr6+vgQEBNC7d2/Cnjzh6tWrWZaPF1Urbs7mw0mcvpbK/SdpzN4Qj721ksLB+uN9Tq3WEBOf8YpP1C3Qd51IZuvRZG4+SMvK8NPN33GYJuWL0qhcEXJ7uDK4VX3MTU1Yc+gfvelLhPhTtUgeAnK54O3iSKtqpQnydOOfa3fS0zjb2ei89py+RIlgf7xcHA0au0ajYeeGRdT7rAOFS1bGyy+Yr74ZSVTEE/45tifT9bavX0iFGo0pV60hHt4BtO48CFMzcw7uWquT7s7Ny2xbu4C23Ya9so3jB7fi6RtEg6adcM3lQ0i+YnzWpie7tywjKTHeoPl8WZWiZmw5ksSZ6yoePFUzd1M8dtZKCgW+6dyDmARN+uvlcy+rrVq9mtq1a1OzZo0XygFztr6mHOj4hnKgdKlSlCxRAk9PT7y8PGn75ZeYm5tz6dKlrMyKXhqNhqM75lGxfhdCi1TDzTuERu1/JjYqjEuvKbdb9/qTwuWb4OoZhLt3KA3bjyE64gEPb53PdJ3s9GTrPq4Mm8jjtZnn6d/o/+X4iH+Pf3XFZsCAAfz0008MGTKECxcusGjRItzc3N56/YSEBEaPHs28efM4ePAgUVFRNG+e0fWnVatWeHl5cfz4cf7++2/69++faUH+rlJTU7l27QqFCxdNX6ZUKilUuCiXLl3Qu86lSxcoVKSozrKixUropA/Nk5djRw8R/vQpGo2GM6dP8eD+PQoX1d8F4NrVK9y8cZ0aNesYIFevin56j/iYJ/iFlk1fZmZhg4d/IR7c1H+Rpk9yovYOurmlXfqy1JRE1s/qQ83mQ7G2czFc0JmIfHKPuOin5M5XJn2ZuaUNXgEFuXvt9Adt2yewCJf+2U1MxGM0Gg03Lh7l6eNbBOY3bBeh51JTU7l67RqFCxdOX6ZUKilcuDAXDXjxkRCvvZi0sbEx2DYz42ynxM5aycVbqvRlSSlw84GKAI/Xd0NydTDip6/tGNXZlq/qW+Jg83FaAPVJVam4eOcBpfJkdKlQKpWUCg3gzI17b1xfo9Fw9OINbj0Op2iQr9404TFxHDh7lUblixgs7ueePr5PdNRT8hTK6CJraWVDQFB+blzWX1FXpaZy+/pF8hTMWEepVJKnYCmuv7BOcnIif/46kFad+mPn4Kx3OyampjrLTEzNSU1J5vb1ix+atUw5PTv3Lt/WPfduPUzD/w3nnouDktFdbBnRwYa2dT/uufe8HCjyUjlQxIDlQFpaGnv27iU5KYk8eQzfOvgmUU/vERf9hIC8Gb9B6eX29VNvvZ3kBO1vkIWV3RtSinchx+fNNGpNtr3+i/61Y2xiY2P57bffmDJlCl9++SUAuXPnpnz58uzZs+ettpGamsqUKVMoVUr7Yzp37lzy5MnDsWPHKFmyJHfu3OG7774jNFQ75iUoKMhg8cfERKNWq7F/qSnf3t6B+y+0Gr0oKjISe/uX09sTGZnRVaNz1+5MmfQr7do0x8jICIVCSfeevchfoKDebW7fthlvbx/y5M33gTnSLy7mCQBWtk46yy1tnIiPefpW29Co1exc/iOeuYvi4hmcvnzn8jF4BhQhqFDWjal5UVy0Nl5rO928WNs6Exv95IO2Xf+LwayZPZSxvSqjNDJGoVDQqN1I/ENLfNB2MxMTE4NarX6lK4mDvT33Mjn/3pVarWb69OnkzZsXPz8/g2zzdWyttReEMfG6YxpiEzTYWmV+j+bmQxVzN8XzOEKNnbWCeuUs6NvKhpGzYkhOydKQ9YqMSyBNrcHJxlpnuZOtFbceZf6diU1Moub340lNTUOpVDCwZT3K5M2tN+26w6ewNDelWhHDX2hGR4UDYGun2xJkY+9EdKT++ONio1Cr07C1113H1t6RR/dvpf+9bNZ4cocUonDJynq3k69IGXZsXMTR/VsoUbYG0VHhbFg+A4CoTPZtCLZWz869hJfPPXX6e/rceqhi/uY0HkekYWetpG4Zc3q3sOGH2TEkp2ZZuOmelwP2DvY6y+3t7XV6L7yPmzdv0atPH1JSUrCwsGDIkMH4+rx+jFVWiIvW/xtkZev8Tr9BW5b8iHdgUVy9gt+8gnhrcnzEx/avrdhcvHiR5ORkqlWr9t7bMDY2pkSJjAvH0NBQ7O3tuXjxIiVLlqR379506NCB+fPnU716dT7//HNy59Z/oZCcnExysm5/0JTkZEzNzN47vvexYd0arly6yOBho3BxdeP8uTNM/30yjo5OFC5STCdtcnIy+/bsomkL/ZMJvI/zx9axdVFGF5HPvp7+wdvctmQETx5cpVXfRenLrp7eyZ3LR2g7cPUHbz8zpw6tZ92c4el/f9F7Wpbt68j2Bdy7fprW3/6OvZMHty6fYP38Udg4uBKYr+ybN/AvNPX337l1+zbjxo3Lku2XzGtKy1qWGftb8X5jE87fyLjLfv8J3HwQx49d7SgWasqhM9lQs3lPVmamLB3chYTkFI5dusm45VvxdHagRIj/K2nXHvyHuiULYmaAFugjezexYPro9L97DJr0wdvU59SxvVw6d5wh4xZnmiZf4TJ81uZbFk7/kVm/DcHYxIT6n3fk6oV/UBpwHF6JPCa0qJFx7v2+6v3OvQs3M869B0/V3HoYz6hOthQNMeXwuZxz7unj5eXJ71MmEx8fz/4DBxk/fgJjx/6c5ZWbM0fWs2Fexm9Qy55/fPA2Ny4cSdj9q3zVf9GbE4vXkuMjstu/tmLzuvEgSqX27uyLA59SU9/99tfw4cNp2bIlGzduZPPmzQwbNowlS5bQuHHjV9KOGTOGESN0B+116/EtPXr21rttW1s7lEolUZG6EwVERUVi76h/QKa9g8MrEwtERUXh4KC9y5mcnMz8ubMYMHg4JUqWBsDfP4Cb16+zetXyVyo2hw7sIzk5marVMh/78a4CC1bFwy9jJiaVSvvjHB8TjrWda/ryhNhwXL0yn/3tue1LRnL93B5a9l6ArYN7+vLbl48Q+fQOE/votmismdEDr8DitOw9/0OzQp4iVfHOndHSpUrV5iUuOhwb+4y8xMU8JZfP+9/5Tk1JYvuKibT8ZhIhhSsD4O4TwsM7Fzm4eXaWVGxsbW1RKpVEvnT+RUZF4eD44WMufv/9d44dO8YvY8fi4vxqlyFDOH0thZsPMi4MjZ+VVrZWSmLiM8bC2FgquBf29mNjEpM1PI5Iw9U+e3riOlhbYqRUEB6re7EcHhOPs511Jmtpyz0fV+1dz1DvXNx8+IRZWw68UrE5efU2tx6H83PHzw0Sb+GSlQgIzpi57HlZGxMdgb1jRhfR2KhwvP31z7RlbWOPUmn0ykQBMVER2Npr83Tp7DGePLpHzy90Z26c9st3BOUpwnejZgJQ85PW1GjQiujIp1ha2RD+5AGrFkzG2c1wM/OduZbKrf+1d99hTV1vHMC/CXuFPWVvB6KIe++9rbPuXUXFiVtxWxWKP1tt1bqt1K1YtW5FFBUBlS0gqKDIFFkZ9/dHSjACCgjeBN/P8+R5yMm9yXtIcnPPPee8J6UkwURxggCe+qefPW6lP3tvM4Uw1P02n73i40BWZpZUeVZWFnTL+R2qKCUlJZiZmQEQj3aIiY3B6TNnMNvD46ue90ucXDvCfOVHx+2PfoM+Pm5/yHkHY4svH7cvHPZGbNgNjFt0CDw9ky9uTz6P3p/Kq61Dwtgisw0bBwcHqKmp4erVq5g0aZLUY4aG4h/TlJQUyVCb0NDQUs8hEAjw8OFDNGsmzgYWHR2NrKwsqXHAjo6OcHR0hKenJ0aMGIE///yzzIbN4sWLMXeudCPmxcu35cavpKQEe3tHhIWFoEUr8TwKkUiE8NDH6N23f5n7ODvXQ3joY/QfMFhSFvr4EZyd6wEAhEIBBAIBuBzpH0WuArfML8a/l/9Bs+Ytoa2tU26claWiqgkV1ZKTL4ZhoMEzxIvoIMlBqjA/F68TwtCo7Yhyn4dhGFw5tgYxof9ixNyD0DGwkHq8RfcpcG0tfWK2d21fdBqyGPYNO6I6qKhpQEVNQyomTW0DPI+4B1MrcV0K8nPxMj78q9IyC4UCCIV8cD553zhcBYhE5aeK/RpKSkpwsLdHaFgYWrUSN5xEIhFCQ0PRr2/fKj8vwzD47bffcDcoCJs2boSJSc390BQWAWlF0v+f7FwRnK0UJSeTqsqAjZkiboWWn13nUypKgKEOF/c/sPNjoqSoiLqWZgiOTECnRuLPmUgkQnBUPIZ3rHjmQhHDoEggKFV+KjAE9SxN4WRRPe+NqpoGVD/5nmjrGCAqPBiW/zVk8vNyER/7FO17lN2YUlRSgpVdXUSGB0tSN4tEIkSGB6NTr2EAgJ6DxqNtF+lj7yrPoRg2fh4aureTKudwOJJGVfDtS9AzMIGV7ZcvpFRUIR+l0jhn54rgZKWIl2klnz1rUwXcruRnz0Cbi5zcmvnef6rkOBCKVq3EcweLjwN9+/ap1tdiREyVLjBWloqaJlTUpH+DNLUNER8ZBBPLkt+gl/HhcO/w+d+gf46sQVTIFYxdeAC6ht8uZX1tRu8PYZvMNmxUVVWxaNEiLFy4EMrKymjdujXS0tLw7NkzjBkzBhYWFli1ahXWrVuHmJgYbN26tdRzKCkpwcPDA35+flBUVMTMmTPRokULNGvWDPn5+ViwYAGGDBkCGxsbvHz5Eg8ePMDgwYPLiAZQUVGByifDzpRVsj9bh/4DB8N322bYOzjB0dEJZ8+cREFhATp37QEA8NmyEXr6Bhg7Xtxw69t/EJYsmotTJ/9G06bNcevmdcTFxmCGhycAQF1dAw1cGuLPvb9DWUVZPBTtSTiuX/0XEyZPk3rt169f4dnTJ1ixeh1qEofDgXunMbh74TfoGlpBx8Act8/9Ak1tI6n1Zv7yHQuHRl3RpIN4WNy/f61GxIPzGDTtVyiraEjG4aqoaUFJWRWa2oZlJgzg6ZmVagRVZ11adR+DG2d3Qt/YCrqG5rh60g9aOkao61ZSl72bxqOeWxe06DoKgHiNmow3JdmpMtNeIuVFJNQ0taGjbwZVNU1YOzfFxWM/Q1FZFToGZkiMeoDQwDPoOWJRjdQFAAYOHIit27bBwcEBTo6OOH3mDAoLC9G1q7gHb8uWLdDX18f48eMBiK/EJyWJ6yEQCJCeno7nz59DTU1NcmV2x6+/4saNG1ixYgXU1NSQkSG+Aq+hoVHq+1ETrj4sQM9WqnibKcK7LCH6tVVDVq4IoTElJ1RzhmkiNJaPGyHiE87BHdUQHsdHRrYI2loc9G2jBhEDPIgoGQrE0+CAp8GVXEmvY6iAgiIGGTki5BVUfwNodJeWWL7vFOpZm6GBdR0cvnoP+UV89G8lnuy/7M+TMNLhYdZA8eduzz+3Uc/KDBaGuigSCHHnaSwC7oVjyajeUs+bm1+Afx9FYN6QbtUeczEOh4POfUYi4PhuGJlawsDYDGeO/gYdPUM0/mhuzNaVU9G4eUd06iW+KNC17yjs3b4S1vb1YONQH1fOHUFRYT5ad+oHANDWNSgzYYCegQkMjetI7l86vR/1G7cCh8PF43vX8M+pPzF13iZwFb6Qd/krXQ8pRI8WKnibKUR6tgh9WqshO1eEsLiSz96sHzQQFsfHzcfiz9bA9qp48pyPjBxGPL+rlSpEDPAw6htMsPnPoIEDseWj48CpM2dQUFiAbv8dB37eshX6+vqYMH4cgNLHgXdlHAf2/rkPTd3dYWhkiPy8fFy/cQPhT55g3Zo136xexTgcDpp3GYPb53dC39gaOgZ1cP2U+Ljt/NFx+8DP4+Ds1gXNOot/gy4c8saT++cx3GMHVFRL/wbJGgUNdWjYlwzzU7cxB8/VGUUZ2ShITmExss/7Xt6fryGqpWmX2SKzDRsAWL58ORQVFbFixQq8fv0apqammDZtGpSUlHD06FFMnz4dDRs2RNOmTbF27Vr88IP01UJ1dXUsWrQII0eOxKtXr9C2bVvs2bMHgDgtcnp6OsaMGYM3b97AwMAAgwYNKjXc7Gu0bd8R2TnZOHJwn3hhNFs7rPLeIOllSkt7Cw635Cp+3Xr1MW/hEhw+8CcO7tsLszp1sGT5alhZlww1WbBoGQ7s24OtP29A7vv3MDQyxo9jJqBnL+mr8FcuX4S+gQEal5MtrTo17zYZ/KJ8XDqyAgV5OTC3a4KhHruhqFRyopuZloz83JJhUY9vicfRH/UZLfVcvcZsgEvLQTUec3na9pqEosJ8nNm3EgV5ObB0cMPY+b9DSbmkLhlvk/Dho7q8SniGvRvHSu7/c3QTAKBxmwEYPHkDAGDY9K24/LcP/t65APkfsqFjYIauQ+bU6AKd7du3R3ZODg4dPIiMzEzY2dpijbe35PP3Ni1N6vOXkZGBmR8NIzlx4gROnDgBFxcXbN4krlNAQAAAYNEi6QbZXE9PSYOpJl2+XwgVJQ5GdVeHuioHcS8F2O6fC8FHo4EMdbnQVCuZb6GjxcXEvhrQUOMgN59B3EsBNh18j9yP0u62a6QitYjn/FHiLG/7Az7UyFyI7k0bIDP3A347ex3vcnLhZG6CX2f9CH2e+EpnSka21NpN+YVFWH80AG8zc6CipAhrEwOsmzAI3ZtKL2558cFTgGHQo5lLtcf8sR4Dx6KoMB8Hd65F3of3cKjbCLOX/0/qe5KW+hK5OVmS+03bdMf7nEycOfobcv4btjZ7+f8kQ9Eq6klIIAKO74FAwIe5lQNmePnAxa1msgt+7N/gQigrcTCym7pkcdgdJz5IffYMdBSgoVZSoKPFxfg+GtBQFX/2nr8SYMvhXKnPXk1r374dsnOycfDgof9+h2yxttRxoOSzlp6RgRkesyT3T5w4iRMnTsLFxQU/b9oIAMjKzsLPW7ciMyMD6hoasLGxxro1a+DmVv1Z+Cqidc9J4iya+1f8d9xugh89/5D6DcpIS0LeR8fthzfEv0H7N4+Req7+49ejURv2foPKo92kAVpeLRmCXW/LEgBA8oGTCJ+4mK2wKuR7eH+I7OAwtXSFnn379mHOnDnlLkJWHaKfV092KVkR+KJmekLYoqX+bYZ7fAtNDBO+vJEc2Xy8etdWYZtP87LXppJHDwz7sR1CtTr2z7frHfkW5g+suexv31pQStnJeuSVdsfqGw4pC7Kvf/t1iWrKyDbspfj/knGr3rD22vtWVXwJFXkh0z02hBBCCCGE1FaUPKB6yfQCnYQQQgghhBBSEbW2YTNu3LgaHYZGCCGEEELI12AYhrVbbVRrGzaEEEIIIYSQ7wfNsSGEEEIIIYQFIppjU62ox4YQQgghhBAi96hhQwghhBBCCJF7NBSNEEIIIYQQFlC65+pFPTaEEEIIIYQQuUc9NoQQQgghhLCgtqZdZgv12BBCCCGEEELkHjVsCCGEEEIIIdUiIyMDo0aNAo/Hg46ODiZOnIjc3Nwv7hcUFIROnTpBQ0MDPB4P7dq1Q35+fqVem4aiEUIIIYQQwgJGJGI7hGo3atQopKSk4N9//wWfz8f48eMxZcoUHDlypNx9goKC0KNHDyxevBjbt2+HoqIiwsLCwOVWrg+GGjaEEEIIIYSQrxYZGYmLFy/iwYMHcHd3BwBs374dvXr1wpYtW2BmZlbmfp6enpg1axa8vLwkZU5OTpV+fRqKRgghhBBCCAtEIoa1W2FhIXJycqRuhYWFX1WfoKAg6OjoSBo1ANClSxdwuVzcv3+/zH3evn2L+/fvw8jICK1atYKxsTHat2+PO3fuVPr1qWFDCCGEEELId2bDhg3Q1taWum3YsOGrnjM1NRVGRkZSZYqKitDT00NqamqZ+8THxwMAVq1ahcmTJ+PixYtwc3ND586dERsbW6nXp4YNIYQQQgghLGAYhrXb4sWLkZ2dLXVbvHhxmXF6eXmBw+F89hYVFVWl/4Hov3lGU6dOxfjx49G4cWP4+PjAyckJe/furdRz0RwbQgghhBBCvjMqKipQUVGp0Lbz5s3DuHHjPruNra0tTExM8PbtW6lygUCAjIwMmJiYlLmfqakpAKBevXpS5XXr1kVSUlKF4itGDRtCCCGEEEJIuQwNDWFoaPjF7Vq2bImsrCw8evQITZo0AQBcu3YNIpEIzZs3L3Mfa2trmJmZITo6Wqo8JiYGPXv2rFScNBSNEEIIIYQQFjAihrVbTahbty569OiByZMnIzg4GIGBgZg5cyaGDx8uyYj26tUrODs7Izg4GADA4XCwYMEC+Pn54fjx44iLi8Py5csRFRWFiRMnVur1qcfmK8zyTmc7hGp1pt9xtkOoVmuTZrAdQrV5Em3BdgjVaovmMrZDqFZJFh5sh1Btlsx5yHYI1erKjMpNPJV1R15MYjuEavMhv2ZOrFhzvWrzC2SVdkdntkOoPvzoL29Dqs3hw4cxc+ZMdO7cGVwuF4MHD4afn5/kcT6fj+joaOTl5UnK5syZg4KCAnh6eiIjIwOurq74999/YWdnV6nXpoYNIYQQQgghLKipnhM26enpfXYxTmtrazBM6Xp7eXlJrWNTFTQUjRBCCCGEECL3qGFDCCGEEEIIkXs0FI0QQgghhBAWiBgR2yHUKtRjQwghhBBCCJF71GNDCCGEEEIIC2pj8gA2UY8NIYQQQgghRO5Rjw0hhBBCCCEsoB6b6kU9NoQQQgghhBC5Rw0bQgghhBBCiNyjoWiEEEIIIYSwgGFoKFp1oh4bQgghhBBCiNyjHhtCCCGEEEJYIBLRAp3ViXpsCCGEEEIIIXKPGjaEEEIIIYQQuUdD0QghhBBCCGEBrWNTvajHhhBCCCGEECL3qMeGEEIIIYQQFjAMJQ+oTtRjQwghhBBCCJF7ct+wsba2hq+vL9thEEIIIYQQUimMiGHtVhvJzVC0ffv2Yc6cOcjKypIqf/DgATQ0NNgJ6iuMGWiCHh30oamugIjYD/Dbn4zXb4o+u4++rhImDjVF04Y8qChz8fpNIbbuTkJsYj4AQIeniIlDzdCkgRY01BXwNDoXOw69/OLzfo2/gp5i/+1QvMvNh6OJPrz6toaLhfEX9/snLA5ex66gY11r+I7uISl3XbKzzO09e7TAuHaNqivsz+rcSAHujlyoKgNJbxmcDRIg/X3F9m3nwkW3Joq4GyHEhWChpNzdkQtXWy5M9ThQVeZg7ZEiFNTc2/JZnRopoIlDSf3O3RMgo4L1a9uAi65NFBEUIcQ/D4Rf3qEa+YfF40BIHNLzCuFgwMPC9g3RwES3zG3PRiRh9ZXHUmXKClwEzegruZ9XJMD2uxG48TwF2QVFMOOpY3gjWwxxsan22APOncGpE/7IzMyAjY0dpkyfCUcn53K3v3P7Jg4f3Ie3b1JhZlYHYydMhnvT5pLH8/Pzsf/P3bgfFIj373NgbGyCPv0GomfvkvqlpLzGn7t3IeLZU/D5fLg1cceU6R7Q1S37f1YdJo6yRt9uJtDSUMSTyBxs+TUWL1Pyy93+793NYWqsWqr8ZMArbNsZJ7lf34mHKaOtUc+JB5GIQWx8LuaufIKiopoZwvHX7RDsv/YA73I+wLGOEbwGd4aLlekX9/snJBJe+8+jo4s9fCcNBADwhUL8L+AO7kTE42V6NrRUldHcyQqz+7aHkbZmjcT/KYZhcOe8H8Lu/I3C/BzUsXVDt5GroGdkXe4+QRd3ISb0MjJS46GopIo6do3RfsB86JvYlvn8f/9vMhIibmPg1B1wbNSlBmtTGsMwCL64Hc/uietnauOGDkNWQsfQutx9ngQexdO7R5GT8QoAoGdij2bdZsCqbrtvFHX5GIbBjTPbEXLrbxTk5cDC3g29R6+EvrF1ufvcDtiFqJB/8S4lHorKqrCwa4wuP8yDQRnvlyzQa+MO23kToe3WAKpmRng4+Ce8OXuV7bBILSATPTZFRVU/wzM0NIS6uno1RlPzhvYyQv+uhti+LxmzvWNQUCjC+vl2UFLilLuPproCti11gFDIYNnWeExeHIXf/3qN3LySk8uVs21gaqSMVb/EY8aKaLxJL8LGhfZQUa6Zt/lieBy2XLiLqZ3d8deMwXAy1cf0PwOQnlv+iQwAvMrMwbZ/guBmXfpE4eriMVK31YM7gMMBujT4Ngfntg24aFGPizNBAuwMEKBIAIztpgRFhS/vW0efg6aOCkjJKH2ypaQIxL4S4daTb9sY+FSbBlw0r8vFuXsC/H5BXL8xXZWgWIGPiJk+B+6OCkgto3417XLMK2y7/QxTmjvh8PD2cDTQxswzQcjIKyx3Hw1lRVya2F1yOz++q9Tj224/xd0Xb7GmexMcH90ZIxvbYfONJ7gZn1Ktsd++eR17/tiJ4SNHw2f7Tljb2mLlci9kZWWWuX1kxDNs2bQOXbv1gO/2nWjesjXWr1mJF4kJkm32/PEbQh49wNwFXtixay/6DhiEXb9tx/17dwEABQX5WLl0EcDhYO2Gn7Fpiy8EAgHWrl5WY4vBjRpsgSF96mDLr7GYMv8x8guE2ObtAuXPHNcmzw1Bv9F3Jbc5y8IAANfvpEm2qe/Ew9bVLngQmokp80IwaW4ITga8rrGrjRdDorDl1A1M7d4Kfy0YAyczQ0z/7W+kv//w2f1epWdj2+kbcLMzlyovKBIgKvkNpnRviWPzx2DbxAFIfJuJ2X+crJH4y3L/8h94dP0guo9chdEL/aGkogZ/v4kQ8Mv//iTHBsOt/Sj8uNAfw2b/CaFQAP/tE1FUmFdq24fX9oPDKf99rmkh13Yj7PZBdPhhFX6Y4w8lZTWc3TXps/XT1DFGy97zMGzuCQz1PA5zhxYI2DsD6amx3zDysgX+sxv3rxxE79GrMGmpP5RV1HBo2+fr8yLmAZp2HImJS49h9Ly9EAkFOLR1UpnvlyxQ0FBHTng0ns5azXYopJZhpWHToUMHzJw5E3PmzIGBgQG6d++Obdu2wcXFBRoaGrCwsMBPP/2E3NxcAMCNGzcwfvx4ZGdng8PhgMPhYNWqVQBKD0XjcDjYvXs3Bg4cCHV1dTg4OODs2bNSr3/27Fk4ODhAVVUVHTt2xP794oPyp71BNWVAd0McPZeKoMc5SEguwObfX0BfRwmt3LTL3WdobyO8yyjC1t3JiI7Pw5t3RQh5+h4pb8WNwjrGKqhnr4Ht+18iJiEfL1MLsX3/S6goc9CxpU6N1OPgnXAMaloXA5o4w85YD8v6t4OqsiJOP4oqdx+hSIQlx65iehd3mOtplXrcQEtd6nYjIhFNberAXI9XI3X4VKt6CrgRJkRUMoM3mQyO3xZASx2oa/n5r4qyIvBDO0WcvisosycmKEKEW09ESE5jt+u3ZV0F3Aovqd/JO+L6OVegfkPaKuJMkAD5LPQ0HXoch4ENrNCvnhVs9XlY0skVqooKOBPxotx9OAAMNFQlN3116Z6B8JQM9KlrAXdzA5jx1DGogTUcDHh49iarWmM/c+oEuvXohS7desDS0go/zZwDFRUVXLl8scztz505CbcmTTFoyDBYWFrhxzHjYWtnj4BzZyTbREVGoFPnbnBp2AjGxibo0bMPbGztEBst/u5FRjzD27dvMGfuAljb2MLaxhZz5i1EXGwMwsMel/m6X+uHfnVwwP8F7txPx/PED1jrEwV9PRW0bWFQ7j5ZOXxkZJXcWjXVx8vX+Xj8NFuyzaxJdjh+7hUOHU9GQlIekl/l49qdNPAFNfNdOnjjIQa1aogBLVxgZ2KAZUO7QVVZCafvPS13H6FIhCUHz2N6z9Yw15c+jmupqWDXjKHo3tgZ1sZ6aGhthsWDOyMi+Q1SMnJqpA4fYxgGD68dQMue0+Hg2gVG5s7oM24zcrPfIib0Srn7DfXYA5eWg2Bo5gAjc2f0HrMRORmv8SbpmdR2b5IjEXxlL3qOXl/TVSkTwzAIu3UA7l2nwbZBZxiYOaHLyE34kPMW8U/Lr59N/U6wrtceOobW0DWyQctenlBSVsebxLBvGH1pDMPg/pUDaNdnGpwbd4axhRMGTNyE91lvERVSfn1+9NyNRm0GwaiOA0wsnNF/4gZkZ7xGSuKzcvdhU9qlW4hZ6Ys3Z8qv0/eChqJVL9Z6bPbv3w9lZWUEBgZi586d4HK58PPzw7Nnz7B//35cu3YNCxcuBAC0atUKvr6+4PF4SElJQUpKCubPn1/uc69evRpDhw5FeHg4evXqhVGjRiEjIwMAkJCQgCFDhmDAgAEICwvD1KlTsXTp0m9SZwAwMVSGvo4SQp7lSsry8kWIis9DXfvyh9S1aKyNmMQ8LJ1hjWPb62OHtyN6tteTPF7c21PEL7kayzAAn8+gvkP1D3fgC4SIfJ2GFvYlVye5XA5a2JkjPOlNufvtuvYIuppqGORe94uvkf4+D7ejkzDQvfwhO9VJVxPQUufgeUrJl72QD7xMY2Bh+PmrkX1bKCD6pUhqX1kjqd9r6fq9qkD9ejdXQMwrEeJZqB9fKELU22w0szCUlHE5HDSzMMSTlLJ7PQAgny9E7z8vo9feS5h77j6ep0ufRDY01cOt+FS8zc0HwzB4kJyGpKxctLA0LOcZqxA7n4+4uBg0auRWEjuXC9dGboiKiihzn6ioCLg2dpMqc2vSVGp757r1EHz/LtLfvQPDMAgPC8XrVy/RyM1d8roAoKSkJNlHWVkZHA4HEc/KP0GvKjNjVRjoqeBBaMn78SFPiIiYHDRwrthFCUVFDrp1NEbAlVRJmY62Euo785CZXYTfNjfC2QMtsX2DKxrWq5kLHXyBEJHJqWjhaCUp43I5aOFohfDE1+Xut+viXehqqmNQy4YVep3cgkJwOICWuspXx/wl2e9e4kNOGqydW0nKVNS0YGbjitcJFW/kFuaLx6uqqpc03PhF+Ti3dx66DV8BTe3q+95URk7GS+S9T4OFo3T9jC0bIjUxtELPIRIJEfM4APyiPJhYN6qZQCso691L5GanwbZeSX1U1bVgbtsQyc9DK/w8hXni90tNo/wLpoTURqzNsXFwcMDmzZsl952cnCR/W1tbY+3atZg2bRp+/fVXKCsrQ1tbGxwOByYmJl987nHjxmHEiBEAgPXr18PPzw/BwcHo0aMHdu3aBScnJ/z888+S13369CnWrVv32ecsLCxEYaF0N7BIWASugnKF6wwAetrif3lWNl+qPCuHL3msLKaGyujT0QAnL6Xhr3Nv4Girjuk/moMvYHAlMBPJKQV4864IE34wxS9/vkRBoQiDuhvCUF8ZejrV/zZn5hVAKGKgr6kmVa6vqYaEtKwy9wlJTMGph1Hw9xhSodc4+zga6ipK6Fy/+uc8lEVTTXxyn5svffKem89AS62sPcRcbLgw1edg53lBTYb31ST1K/ikfgUMND9TvwbWXJjpc7CLpfpl5RdCyDDQ/+QkUF9dBYmZZU8OstbVxIoujeBgoI3cQj4OhsRh/N+38feoTjD+781c2N4Fa6+Foefey1DgcsAFB8s6u8KtTvk9DJWVk5MNkUgEnU/mtejo6OJVcnKZ+2RlZkJH59PtdZCZmSG5P3X6TPzPzwfjxwyHgoICOBwuZs72RAMX8Ym1k3NdqKqqYt/e3RgzdgIYMNj/526IRCKp56kuerri42BmlvRxLTOrSPLYl7RrYQBNDUVcuFrSsKljIu5lmzDCGjv2Pkdswgf06GQM37WuGDPj4Wfn71RF5od88XFNS3p4s76WOhLelv1/C3n+EqfuPYH/wrEVeo1CvgC+Z2+hp1tdaKrWfMMmN0c8rE+Dpy9Vrq6ljw857yr0HIxIhKt/r0cdOzcY1nGUlF/9ewPq2DaGg+u3nVPzsbz/6qeu9Wn9DJD3/vP1e/c6Gif8RkAgKISSsjp6jf8f9EzsayzWisjNLvv90uAZVOr9uvjXeljYu8HI3PHLOxBWiSjdc7VirWHTpEkTqftXrlzBhg0bEBUVhZycHAgEAhQUFCAvL6/Sc2gaNiy5aqahoQEej4e3b98CAKKjo9G0aVOp7Zs1a/bF59ywYQNWr5YeC2rbcCrsG0377H4dW+pi9riSXo3l2+K/+Fpl4XCB2IR8/HlcPP7/eVI+rOuooncnA1wJzIRQCHhvT8DcCZY48ZsLhEIGj5+9R3BYDlgc+izxobAIS/++hpUD20NX4zNn0R85/TAavVwdoKJUMx9TV1su+rUsmTxz8ErlT9y11YHezRTw52UBBOxOnymloQ0XfT+q3+Grla8fTx3o1UwB+/8VQCBHx96GpnpoaKondX/IoWs48TQRP7UU9xb+FZ6Ap6kZ8OnTHKY8NYS8SsemG+Ew1FBFc0sjtkKvkPNnTyMmKhLLVq6BoZExnj0Nx65ft0NPTx+NGjeBtrYOFi1Zgd/+9wvOnz0FDoeDdu07wc7eoVrmQnRtb4QFM0pOmBZ6P/nq5+zd1QT3H2UgPaNkrGNxrGcupuDCVXFPcGx8Lpo01EHvribYdSChzOf6Vj4UFGHpoQtYObw7dDW//DvFFwqxYN9ZMGCwdGjXL25fFc+Cz+LSkZWS+0N+2vXVz3n5r9VIex2LUfOPSMpiw64iKfoexi059dXPXxnRj87hxt8l9eszqeyEMxWha2SDYfNOoajgPeLCLuHKUS8MmnHwmzZuwu+dw/kDJfUZObvq9SkWcNgbb1/FYoLXkS9vTEgtw1rD5uNMZomJiejTpw+mT5+OdevWQU9PD3fu3MHEiRNRVFRU6YbNx8MvAPGP49dOmF28eDHmzp0rVTb4p/LnkhS79zgb0c9LJp0qKYlH/+loKyEju+REU4enhOdJ5V99zMgS4MXrAqmy5JQCtGla0s0cl5iPn1ZEQ12NCyVFDrLfC/HLCgfEJFT/5EFddVUocDmlEgWk5+bDQKv0+5WcnoPXme8x6+A/kjIRI+45cFu2C2c8h8Pio7HpIQkpSHyXhc0jau5KYGSSCMlpJZ8LRQXxSZSmGkeq10ZTjYOUjLKHYJkZcKCpxsFPfUu+SgpcDqyMGTR35mLVQT4YlkanRSWL8PJdSf0Uiuun+kn9VD9TP31x/ab1KV2/Zs5ceB+q+frpqKlAgcNB+ieJAtLzCmGgXjqjVlmUFLhwMtTGy2zxd7FAIMSOuxHY0rsZ2tqIe4EdDLQRnZaNgyHPq61hw+Npg8vlIitTeshcVlYmdPTKzk6mo6tbKrFAVlYWdHXFDbXCwkIc3L8Xi5etQtNmLQAANja2SHj+HKdO/o1GjcUXjRq7ueP3vQeRk50NroICNDU1MWbUD2hr0uGr63UnOB0RMQ8l95X/O67p6ighPbOkYaKro4y4+NxS+3/K2FAF7q66WLpBej5A8XMlJktP3H/xMg/GhtXf26GroSY+rr2XPmamv8+DgVbpocLJ7zLxOiMbsz5KBCA5rnluwZmlE2FhIH6f+UIhFvx5FikZOfhj5rAa662xb9gJZtaukvsCgfh/+CEnHZraJZ/rvPfpMDL/8jDff//yxvOnNzBy7iHwdEtGTLyIvofMd0nwnSd9ofD07x4wt3fHyLkHv7YqZbKp3xHGliUXL4VCcf3y3qdDg/dx/d7BoM7nhzwrKCpDx1A87NDIogHeJj9F2K0D6DjUuwYiL5uTa0eYryypz8fvl5ZOSX0+5LyDscWXh3BfOOyN2LAbGLfoEHh6Xx7hQkhtIxPpnh89egSRSIStW7eCyxX/QPr7+0tto6ysDKHw6y+JOzk54cKFC1JlDx48+OJ+KioqUFGR/iGqyDC0/AIR8j+ZTZ6exUfjepqI/68ho67KhbOtOs5fK7+bOSL2AyxMpF+/jokK3r7jl9o2L198MmtmrAwHG3XsP5laapuvpaSogLpmhrgf9wqd6omHiolEDO4/f4XhLRuU2t7GUAfHZw2VKtvxbzA+FPKxsE9rmHyS9vTUo0jUq2MIJ9PqGxb0qSIBPklzzOB9HgM7Uw5S/zvRV1ECzA05CI4uu2H8/DUDv9PS78GgNgp4l83g1hMRa40aoPz62ZpykJpZUr86n6lffAqD/52Rrt/A1gpIy2Zw5+m3qZ+SAhfORtp4kJyGjnbiTHqi/+bEDHWt2DBFoYhBXHoO2liJU5ELhCIIRAy4n/ReKHA5khPTaoldSQn29o4ICwtBi1atxbGLRAgPfYzeffuXuY+zcz2Ehz5G/wGDJWWhjx/B2bmeuC5CAQQCAbgc6SmSXAVumZNBedriCwZhoY+RnZWFZi1aldqmsvLzhXiVL308fpdRCHdXXcQliBsh6moKqOfIw+kL5c9NKda7iwkys4sQ9CBdqjzlTQHS0gthWUf6YomFmRruPSp/flVVKSkqoK6FCe7HvECnhg4A/juuxbzA8LZupba3MdbH8UXjpMp2XLiDDwVFWDioE0x0xHOBihs1SWlZ2O0xDDoV7LWuChVVTaiolhxPGYaBBs8QL6KDJCfGhfm5eJ0QhkZtR5T7PAzD4MqxNYgJ/Rcj5h6EjoGF1OMtuk+Ba+sfpMr2ru2LTkMWw75hx2qskTRlVU0of1I/dS1DvIwNguF/DZmigly8SQpHg9bl168sDCOSNJS+FRU1TaioSddHU9sQ8ZFBMLEseb9exofDvcPn369/jqxBVMgVjF14ALqG5uVuS2RLbZ3EzxaZaNjY29uDz+dj+/bt6Nu3ryShwMesra2Rm5uLq1evwtXVFerq6lVK8zx16lRs27YNixYtwsSJExEaGop9+/YBwDdLV3n6UhpG9DPGqzeFSE0rwthBpkjP4uNuSEkmoI0L7XA3JBtnr4gbOycvvYXPMkcM72OEW8FZcLJVR68O+vD986Vkn7ZNtZH9Xoi36UWwMVfFtFHmCHqUjZCnFVykpJJGt2mI5cevo765IRqYG+FQYDjyi/gY4CaeL7X072sw4mlgdvfmUFFShIOJntT+WmrihuGn5bkFRbj8JB7zerWskbg/526EEB0aKiA9h0Hme6CzmwLe54l7d4qN76aIiCQR7keJUCQA3mZJH5T4AiCvULpcU03c86OnJf6MGetwUCgAsnOZb5plLChSiPYNFZD+/r/6NRbXL+qj+o37r37B5dSvSADkF5Yur0k/NrbHyn9DUNdYBw2MdXEk9DnyBUL0q2cJAFhx+REMNdTg0Vp88v/7/Wi4mOjCQkcD7/+bY5Oak4cB9cXba6oooUkdffxy5xlUFBVgqqWGR6/SERCZDM+2pRvmX6P/wMHw3bYZ9g5OcHR0wtkzJ1FQWIDOXcXrN/ls2Qg9fQOMHT8JANC3/yAsWTQXp07+jaZNm+PWzeuIi43BDA9PAIC6ugYauDTEn3t/h7KKsngo2pNwXL/6LyZMLhkae+XyRZhbWkJbWwdRkRHYvWsH+g0YDHNzi9JBVoO/z77C2GGWSH6dj5Q3BZj0ozXSMwpx+17JBRvftQ1xK+gdTgaUNHY4HKBXFxNcvPYGwjLa10dOJmPiSGvEJeQiNiEXPTuZwMpcHcs2lp184WuN7uCO5YcvoL6lCRpYmuLQzYfi41pz8edi6aEAGGlrYXbfduLjmpn0pHktNfEFqOJyvlCI+XvPIvLlG2yfMggikQjvcsS9WNrqalCqSC75r8DhcODeaQzuXvgNuoZW0DEwx+1zv0BT20hqvZm/fMfCoVFXNOnwIwDg379WI+LBeQya9iuUVTQkcz9U1LSgpKwKTW3DMhMG8PTMSjWCahKHw4FruzF4+O9O6BhYQ0uvDu5f9IMGzwi2DUrqd/q3cbBt0AUN24rrd/f8VljVbQctXVMUFXxATMh5vHoejH5Tdn+z2MvC4XDQvMsY3D6/E/rG1tAxqIPrp/ygpWMEZ7eS+hz4eRyc3bqgWWdxfS4c8saT++cx3GMHVFRLv1+yRkFDHRr2lpL76jbm4Lk6oygjGwXJ1Ztyn3xfZKJh4+rqim3btmHTpk1YvHgx2rVrhw0bNmDMmDGSbVq1aoVp06Zh2LBhSE9Px8qVKyUpnyvDxsYGx48fx7x58/DLL7+gZcuWWLp0KaZPn16qR6am+F94C1UVLmaPs4CmugKexX7A0i3x4PNLThRNjVTA0yx5e2IS8uHtl4DxP5hiVH8TpL4rws7Dr3A9qOSqpZ6OEqaOqAMdbUVkZAlwJTADR86Un6Hsa/VoaI/MDwX49coDvHufBydTA/w6vrdk4m1q1ntwq9BWvBguXpivp+u3n8R5+6kIyooc9G+lKF7A8g2D/f/ypebP6PE40FCtXMWaOSmgU6OSE5jJvcTDJU/cEeBx3LebvHLnv/r1a1lSv4NX+FLzZ3S1ONBQkYGJWR/p5lgHmfmF2HkvCukfCuFoyMP2/i0kKZxT3+dLXZh4X1iEtddCkf6hEDxVJTgb6WDvD21hq1+STWt9D3f8724Ell16hJyCIpjw1PFTy7oY4mJdrbG3bd8R2TnZOHJwHzIzM2Fra4dV3hskC2Wmpb0Fh1vS+1K3Xn3MW7gEhw/8iYP79sKsTh0sWb4aVtYlvVMLFi3DgX17sPXnDch9/x6GRsb4ccwE9OxVskDnq1fJOLB/D3Lfv4eRkTF+GDYK/QeW9AJVt8MnkqGqqoCFMx2hqaGIJxHZmLfyCYo+Oq7VMVGDDk96qLB7I12YGKki4N+ye5b/PvsKKspceEyyA09LCXEJufBcEY7XqQVlbv+1erg5IzM3D79eCMS7nA9wMjfCr9OGQJ8nHoqWmvm+VE/f57zNysWNp+Jj2tDN+6Ue2z1zGJo6WJa1W7Vq3m0y+EX5uHRkBQrycmBu1wRDPXZDUankNy8zLRn5uSW/J49vHQUAHPUZLfVcvcZsgEvLQTUec2W4dZoEQVE+rv+94r8FOpug75Q/pOqX/S4J+R9K6pefm4ErRxbhQ04aVNS0oG/qhH5TdsPSqTUbVZDSuuckcca5/eL3y9KhCX70lK5PRloS8j56vx7eEL9f+zePkXqu/uPXo1Eb2Xq/AEC7SQO0vFoyXLHeliUAgOQDJxE+cTFbYbGCqaG1xb5XHIZhc7CMbFi3bh127tyJ5HKyFJWn+9jQmgmIJWf6XWc7hGq19v0MtkOoNlVpIMqyhbnL2A6hWr3q4cF2CNVm4pyqJTiRVVdmsL/gYnU6ojyJ7RCqzYf82nX68ckSRnJPu+O3WWrhW+jNj2Y7hHJ1HfWItdf+93CTL28kZ2Six+Zb+/XXX9G0aVPo6+sjMDAQP//8M2bOnMl2WIQQQgghhJAq+i4bNrGxsVi7di0yMjJgaWmJefPmYfHi76vrkxBCCCGEsIuSB1Sv77Jh4+PjAx8fH7bDIIQQQgghhFST77JhQwghhBBCCNsYhpIHVCfulzchhBBCCCGEENlGPTaEEEIIIYSwQERzbKoV9dgQQgghhBBC5B41bAghhBBCCCFyj4aiEUIIIYQQwgJGRMkDqhP12BBCCCGEEELkHvXYEEIIIYQQwgJaoLN6UY8NIYQQQgghRO5Rw4YQQgghhBAi92goGiGEEEIIISxgGEoeUJ2ox4YQQgghhBAi96jHhhBCCCGEEBZQ8oDqRT02hBBCCCGEELlHPTaEEEIIIYSwgBborF7UY0MIIYQQQgiRe9SwIYQQQgghhMg/hsi0goICZuXKlUxBQQHboVSL2lSf2lQXhqH6yLLaVBeGofrIstpUF4ah+siy2lQXIjs4DMNQOgYZlpOTA21tbWRnZ4PH47EdzlerTfWpTXUBqD6yrDbVBaD6yLLaVBeA6iPLalNdiOygoWiEEEIIIYQQuUcNG0IIIYQQQojco4YNIYQQQgghRO5Rw0bGqaioYOXKlVBRUWE7lGpRm+pTm+oCUH1kWW2qC0D1kWW1qS4A1UeW1aa6ENlByQMIIYQQQgghco96bAghhBBCCCFyjxo2hBBCCCGEELlHDRtCCCGEEEKI3KOGDSGEEEIIIUTuUcOGEEIIIYQQIveoYSMHhEIhQkNDkZmZyXYo371OnTohKyurVHlOTg46der07QMiAAA+nw9FRUU8ffqU7VCqlVAoxIkTJ7B27VqsXbsWp06dglAoZDusKklOTsbLly8l94ODgzFnzhz8/vvvLEZFaiNvb2/k5eWVKs/Pz4e3tzcLEVVdSEgInjx5Irl/5swZDBgwAEuWLEFRURGLkREimyjdswyaM2cOXFxcMHHiRAiFQrRv3x53796Furo6zp8/jw4dOrAd4neLy+UiNTUVRkZGUuVv375FnTp1wOfzWYqs6l6/fo07d+7g7du3EIlEUo/NmjWLpagqz9bWFqdOnYKrqyvboVSLuLg49O7dGy9fvoSTkxMAIDo6GhYWFggICICdnR3LEVZO27ZtMWXKFIwePRqpqalwcnJC/fr1ERsbCw8PD6xYsYLtEL9aVlYWdHR02A6j0i5evAhNTU20adMGALBjxw788ccfqFevHnbs2AFdXV2WI6wcBQUFpKSklDpOp6enw8jISK4uDjRt2hReXl4YPHgw4uPjUb9+fQwcOBAPHjxA79694evry3aIlZaTk1NmOYfDgYqKCpSVlb9xRKQ2oYaNDDI3N8fp06fh7u6O06dPY8aMGbh+/ToOHjyIa9euITAwkO0QKy0rKwvBwcFlnjyPGTOGpagqLjw8HADQqFEjXLt2DXp6epLHhEIhLl68iF27diExMZGlCKtm3759mDp1KpSVlaGvrw8OhyN5jMPhID4+nsXoKmfPnj04efIkDh48KPX+yKtevXqBYRgcPnxYUp/09HT8+OOP4HK5CAgIYDnCytHV1cW9e/fg5OQEPz8/HDt2DIGBgbh8+TKmTZsmV581ANi0aROsra0xbNgwAMDQoUNx4sQJmJiY4MKFC3LVwHZxccGmTZvQq1cvPHnyBE2bNsXcuXNx/fp1ODs7488//2Q7xErhcrl48+YNDA0NpcqvXbuGYcOGIS0tjaXIKk9bWxshISGws7PDpk2bcO3aNVy6dAmBgYEYPnw4kpOT2Q6x0rhcrtRvzafMzc0xbtw4rFy5ElwuDSwilcQQmaOiosIkJyczDMMwkydPZmbPns0wDMPEx8czWlpaLEZWNWfPnmW0tLQYDofDaGtrMzo6OpKbrq4u2+FVCIfDYbhcLsPlchkOh1Pqpq6uzuzZs4ftMCvN3NycWbt2LSMUCtkO5as1atSI0dTUZFRUVBhHR0emcePGUjd5o66uzoSHh5cqDw0NZTQ0NFiI6OtoaGgwCQkJDMMwTN++fZmNGzcyDMMwL168YFRVVVmMrGqsra2ZwMBAhmEY5vLly4yOjg5z6dIlZuLEiUzXrl1Zjq5yPn5vVq5cyQwePJhhGIZ59OgRY2xszGJklVP8m8LlciV/F994PB7D5XKZn376ie0wK0VLS4uJiYlhGIZhunTpwvj6+jIMI7/fG4ZhmP379zPm5ubMsmXLmLNnzzJnz55lli1bxlhYWDC7du1i1q5dy+jo6DDr1q1jO1QihxTZbliR0oyNjREREQFTU1NcvHgRv/32GwAgLy8PCgoKLEdXefPmzcOECROwfv16qKursx1OlSQkJIBhGNja2iI4OFjqSqCysjKMjIzk8r3Jy8vD8OHDa8VVsQEDBrAdQrVSUVHB+/fvS5Xn5ubK5VCN+vXrY+fOnejduzf+/fdfrFmzBoB4KKS+vj7L0VVeamoqLCwsAADnz5/H0KFD0a1bN1hbW6N58+YsR1c5ysrKkjkpV65ckfSi6+nplTtsSBb5+vqCYRhMmDABq1evhra2tuQxZWVlWFtbo2XLlixGWHnu7u5Yu3YtunTpgps3b0rOBxISEmBsbMxydFWzf/9+bN26FUOHDpWU9e3bFy4uLti1axeuXr0KS0tLrFu3DkuWLGExUiKX2G5ZkdJWrlzJaGtrM87OzoylpSVTUFDAMAzD7Nmzh2nRogXL0VWeuro68/z5c7bDIGVYsGABs2HDBrbDIGUYPXo0U79+febevXuMSCRiRCIRExQUxDRo0IAZO3Ys2+FV2vXr1xkdHR2Gy+Uy48ePl5QvXryYGThwIIuRVY2pqamkx8bR0ZHx9/dnGIZhoqKi5K5nvW/fvkz37t0Zb29vRklJiXn58iXDMAxz6dIlxsHBgeXoKu/GjRtMUVER22FUi7CwMKZBgwYMj8djVq1aJSmfOXMmM2LECBYjqzpVVVVJL9THYmJiGDU1NYZhxCNUiv8mpDJojo2MOn78OJKTk/HDDz/A3NwcgPgqh46ODvr3789ydJUzaNAgDB8+XOrqjLyLiIhAUlJSqaw0/fr1YymiqhEKhejTpw/y8/Ph4uICJSUlqce3bdvGUmRVk5WVhePHj+P58+dYsGAB9PT0EBISAmNjY9SpU4ft8ColKysLY8eOxblz5yTvi0AgQL9+/bBv3z6pq9GyjmEYJCcnQ1dXFwKBQGoyemJiItTV1UtN9JZ1M2fOxPnz5+Hg4IDHjx8jMTERmpqa+Ouvv7B582aEhISwHWKFJSUl4aeffkJycjJmzZqFiRMnAgA8PT0hFArh5+fHcoSVJxKJEBcXV+a8znbt2rEUVfUpKCiAgoJCqWO2PHB0dMSgQYOwceNGqXIvLy+cOnUK0dHRePjwIfr3749Xr16xFCWRV9SwkXEFBQVQVVVlO4yvsmfPHnh7e2P8+PFlnjzLU2MgPj4eAwcOxJMnT8DhcFD89SmeCClP2XYAYO3atVixYgWcnJxgbGxcKnnAtWvXWIyucsLDw9GlSxdoa2sjMTER0dHRsLW1xbJly5CUlIQDBw6wHWKVxMbGIjIyEhwOB3Xr1oW9vT3bIVWaSCSCqqoqnj17BgcHB7bDqRZ8Ph+//PILkpOTMW7cODRu3BgA4OPjAy0tLUyaNInlCL9f9+7dw8iRI/HixQt8eorD4XDk7jgNAA8fPkRkZCQAoG7dunB3d2c5oqo7e/YsfvjhBzg7O6Np06YAxPWLiorC8ePH0adPH/z222+IjY2Vu4trhH3UsJFBQqEQ69evx86dO/HmzRvExMTA1tYWy5cvh7W1teRqmrz43PwNefuR6du3LxQUFLB7927Y2NggODgY6enpmDdvHrZs2YK2bduyHWKl6OrqwsfHB+PGjWM7lK/WpUsXuLm5YfPmzdDS0kJYWBhsbW1x9+5djBw5Uu4y1n3s0wa0PKpfvz727NmDFi1asB0KKUNt6uFo1KgRHB0dsXr1apiampb63shTb+fLly8xYsQIBAYGSlKJZ2VloVWrVvjrr78kIzrkTUJCAnbt2oWYmBgAgJOTE6ZOnQpra2t2AyPyj60xcKR8q1evZmxtbZlDhw4xampqkvkpf/31l1zOsalN9PX1mbCwMIZhGIbH4zFRUVEMwzDM1atXmUaNGrEZWpUYGxuXOdZZHvF4PCYuLo5hGIbR1NSUfG8SExMZFRUVNkOrst27dzP169dnlJWVGWVlZaZ+/frMH3/8wXZYVXL27FmmTZs2zJMnT9gOpVrs27ePOX/+vOT+ggULGG1tbaZly5ZMYmIii5FVXlBQEGNjY1Nm1kcul8t2eJWmrq7OxMbGsh1GtejevTvTvHlzyW8Nw4jncbVs2ZLp3r07i5ERIpsoK5oMOnDgAH7//Xd07twZ06ZNk5S7uroiKiqKxciIUCiElpYWAMDAwACvX7+Gk5MTrKysEB0dzXJ0lTd79mxs375dLsfQf0pFRaXMDE4xMTGl1rOQBytWrMC2bdvg4eEhyeQUFBQET09PJCUlyd0K6mPGjEFeXh5cXV2hrKwMNTU1qcczMjJYiqxq1q9fL8lQFRQUhB07dsDHxwfnz5+Hp6cnTp48yXKEFTdt2jS4u7sjICCgzB4OedO8eXPExcXJ5bDNT928eRN3796VLNILiHs3tm/fLncjBD4m72vbEdlFDRsZ9OrVqzIPyCKRSG5Wtvfz88OUKVOgqqr6xZNmeVrdvkGDBggLC4ONjQ2aN2+OzZs3Q1lZGb///jtsbW3ZDq/SgoODce3aNZw/fx7169cvNf9Jnk7O+vXrB29vb/j7+wMQD9tKSkrCokWLMHjwYJajq7zffvsNf/zxB0aMGCEp69evHxo2bAgPDw+5a9jI4wrpn5OcnCw5Tp8+fRqDBw/GlClT0Lp1a3To0IHd4CopNjYWx48fl+uGQPEiygDg4eGBefPmITU1tcx5nQ0bNvzW4VWZhYVFmb/7QqEQZmZmLET09c6dO4dRo0YhNzcXPB6v1NxOatiQr0ENGxlUr1493L59G1ZWVlLlx48fl0xQlXU+Pj4YNWoUVFVV4ePjU+52HA5H5hs24eHhaNCgAbhcLpYtWyZZ78Hb2xt9+vRB27Ztoa+vj2PHjrEcaeXp6Ohg0KBBbIdRLbZu3YohQ4bAyMgI+fn5aN++PVJTU9GyZUusW7eO7fAqjc/nlzlBuEmTJhAIBCxE9HXGjh3LdgjVSlNTE+np6bC0tMTly5cxd+5cAICqqiry8/NZjq5yakMPR6NGjaQSugDAhAkTJH8XPyZv8zp//vlneHh4YMeOHZLjwcOHDzF79mxs2bKF5eiqpjasbUdkFyUPkEFnzpzB2LFjsXjxYnh7e2P16tWIjo7GgQMHcP78eXTt2pXtEL8rCgoKSElJgZGREWxtbfHgwQOpBQUzMjKgq6sr98M3aos7d+4gPDwcubm5cHNzQ5cuXdgOqUo8PDygpKRUKivQ/PnzkZ+fjx07drAU2dcrKCgolSqdx+OxFE3VjBo1ClFRUWjcuDGOHj2KpKQk6Ovr4+zZs1iyZAmePn3KdogVdurUKSxbtgwLFiyQ2x6OFy9eVHjbTy8ayjJdXV3k5eVBIBBAUVF8Lbr4bw0NDalt5WU4p4aGBp48eSKXoxyI7KOGjYy6ffs2vL29ERYWJjlBW7FiBbp168Z2aFVWVFSEhIQE2NnZSQ7Q8kBfXx8XLlxA8+bNweVy8ebNG7mcs0FkX/FVf0B88rJv3z5YWlpKMondv38fSUlJGDNmDLZv385WmFXy4cMHLFq0CP7+/khPTy/1uDxdRQfEcwSWLVuG5ORkTJ8+HT169AAArFy5EsrKyli6dCnLEVZcWZkr5bWHo7bZv39/hbeVl17R2ri2HZEd1LAhNS4vLw8eHh6SA3Rx+moPDw/UqVMHXl5eLEf4eVOmTMGBAwdgamqKpKQkmJubQ0FBocxt4+Pjv3F0X8fGxuazPU3yVp+rV6/Cx8dHar2HOXPmyE2vTceOHSu0nbytMQQAM2bMwPXr17FmzRqMHj0aO3bswKtXr7Br1y5s3LgRo0aNYjvE79aXejvkqYcDEK+TUhYOhwNVVVXY29vDxsbmG0dFitWmte2I7KGGDalxs2fPRmBgIHx9fdGjRw+Eh4fD1tYWZ86cwapVq/D48WO2Q/yiixcvIi4uDrNmzYK3t7ckM9qnZs+e/Y0j+zq//PKL1H0+n4/Hjx/j4sWLWLBggcw3Oj/266+/Yvbs2RgyZIgki9i9e/dw/Phx+Pj4YMaMGSxH+H2ztLTEgQMH0KFDB/B4PISEhMDe3h4HDx7E0aNHceHCBbZDrJK8vDwkJSWVGlonD8O3aisul1tqvg0g3QvVpk0bnD59Grq6uixFWTFJSUmffdzS0vIbRVJ9atPadkT2UMNGRujp6SEmJgYGBgZfnK8hL+Noi1lZWeHYsWNo0aKF1MKJcXFxcHNzKzNFr6waP348/Pz8ym3Y1BY7duzAw4cP8eeff7IdSoWZm5vDy8sLM2fOlCrfsWMH1q9fj1evXrEUWeXx+XyoqakhNDQUDRo0YDucaqGpqYmIiAhYWlrC3NwcJ0+eRLNmzZCQkAAXFxfk5uayHWKlpKWlYdy4cbh48WKZj8v6ydnZs2fRs2dPKCkpldvDUUzerqBfvXoVS5cuxbp169CsWTMA4gyQy5cvx7Jly6CtrY2pU6eiefPm2LNnD8vRfl5xI608sv45I+Rbk5+JDrWcj4+P5GS5tqVFTUtLg5GRUanyDx8+yN2Ee3k60f8aPXv2xOLFi+WqvllZWZJ5Dh/r1q0bFi1axEJEVaekpARLS8taddJia2uLhIQEWFpawtnZGf7+/mjWrBnOnTsnWVFdnsyZMwfZ2dm4f/8+OnTogFOnTuHNmzdYu3Yttm7dynZ4XzRgwACkpqbCyMgIAwYMKHc7ebyCPnv2bPz+++9o1aqVpKxz585QVVXFlClT8OzZM/j6+kplTZNVn45oKO5V37Ztm1xmeySkplHDRkYUT/oTCATgcDjo3r07jI2NWY6qehQv/Obh4QEAksbM7t27JUOGiGw5fvw49PT02A6jUvr164dTp05hwYIFUuVnzpxBnz59WIqq6pYuXYolS5bg4MGDcvdelGX8+PEICwtD+/bt4eXlhb59++J///sf+Hx+qcxv8uDatWs4c+YM3N3dweVyYWVlha5du4LH42HDhg3o3bs32yF+1seLIn66QKK8e/78eZlZ9ng8nmTeoIODA969e/etQ6s0V1fXUmXu7u4wMzPDzz//LDfp+mvr2nZE9tBQNBmkrq6OyMhIuZuwWZ47d+6gZ8+e+PHHH7Fv3z5MnToVERERuHv3Lm7evIkmTZqwHeJ3q3HjxlK9ZgzDIDU1FWlpafj1118xZcoUFqP7so9/IHNycrBlyxa0bt1aao5NYGAg5s2bh2XLlrEVZpU0btwYcXFx4PP5sLKyKpXaNSQkhKXIqseLFy/w6NEj2Nvby+V8FB6Ph/DwcFhbW8PKygpHjhxB69atkZCQgPr160vWuyLfXps2baClpYUDBw5IMlimpaVhzJgx+PDhA27duoUrV65gxowZiI6OZjnaqomLi4Orqys+fPjAdigVYmNjg4cPH0JfX/+ziRs4HI7cJa0hsoV6bGRQs2bN8Pjx41rTsGnTpg1CQ0OxceNGuLi44PLly3Bzc0NQUBBcXFzYDu+79ukQFC6XC0NDQ3To0AHOzs7sBFUJny7+qquri4iICEREREjKdHR0sHfvXrlr2HxueFBtYGVlJdfHOCcnJ0RHR8Pa2hqurq7YtWsXrK2tsXPnTpiamrIdXqU9ePAA169fx9u3b0v14Mhbj9qePXvQv39/mJubw8LCAgCQnJwsSVoDALm5uXJxTPh0DirDMEhJScGqVavg4ODAUlSVl5CQUObfhFQ36rGRQf7+/li8eDE8PT3RpEmTUldq5fHqJiHk+1be8JOPU/C2a9eu3FTqsubQoUMQCAQYN24cHj16hB49eiAjIwPKysrYt28fhg0bxnaIFbZ+/XosW7YMTk5OMDY2lurFlcfU4oB4eN3ly5cRExMDQNwQ7dq162czcsmispIHMAwDCwsLHD16VGoekbzw9vbG/Pnzoa6uLlWen5+Pn3/+GStWrGApMlIbUMNGBtW2xdIUFBSQkpJSKoFAeno6jIyM5K4+8i4nJ0cy/vxLGenkbTV4IrtsbGyQlpaGvLw8SYrdzMxMqKurQ1NTE2/fvoWtrS2uX78uucouT/Ly8hAVFQVLS0sYGBiwHU6lGBsbY9OmTRg3bhzboZBP3Lx5U+p+ca+6vb29XC10/TE6JyA1ST6/FbVcbeumLa/tXFhYCGVl5W8cDdHV1ZX8qOjo6JSZmU5eGtFz587FmjVroKGhgblz5352W3kbTiMUCuHj4wN/f/8y10mRt7Tv69evx++//47du3fDzs4OgHiewNSpUzFlyhS0bt0aw4cPh6enJ44fP85ytF/26VVndXV1uLm5IT8/H97e3nJ11ZnL5aJ169Zsh/FVauvk9Lt378LY2LhUBre9e/ciLS1N7jI+AiW/L58KCwurFYlSCLuox4bUmOIfF09PT6xZswaampqSx4RCIW7duoXExES5WKCzNrl58yZat24NRUXFUlcDP9W+fftvFFXVfLz+U8eOHcvdTh6H06xYsQK7d++WJD5YunQpEhMTcfr0aaxYsUKuTs4AwM7ODidOnECjRo2kyh8/fozBgwcjPj4ed+/exeDBg5GSksJOkJVQm646b968Ga9fv5brpQZq6+R0a2trHDlypNSQs/v372P48OFydSG0eI2+7Oxs8Hg8qcaNUChEbm4upk2bhh07drAYJZF31LCRUc+fP4evry8iIyMBAPXq1cPs2bMlVzrlQfGPy4sXL2Bubi41dl5ZWRnW1tbw9vZG8+bN2QqRyDkulytZi8PW1hYPHjyAvr4+22FVCzs7O/j5+aF3797Q0tJCaGiopOzevXs4cuQI2yFWirq6Om7dugV3d3ep8gcPHqB9+/bIy8tDYmIiGjRoIBeLdXK5XLx580aSdavYtWvXMGzYMKSlpbEUWeWJRCL07t0bMTExqFevHpSUlKQeP3nyJEuREVVVVURGRpZqrMXHx6NevXooKChgKbLK279/PxiGwYQJE+Dr6wttbW3JY8XnBLQEBPlaNBRNBl26dAn9+vVDo0aNJMMDAgMDUb9+fZw7dw5du3ZlOcKKKb6S1LFjR5w8eVIyrp6wKzw8vMLbynqiCl1dXSQkJMDIyAiJiYm1aj2O1NRUSdZATU1NZGdnAwD69OmD5cuXsxlalXTs2BFTp07F7t270bhxYwDi3prp06ejU6dOAIAnT5589mq7LCi+6szhcODo6FjuVWd5MmvWLFy/fh0dO3aEvr6+3C2cXJ6ioiIkJCTAzs5ObuejWFhYIDAwsNT3IjAwEGZmZixFVTXF6/XZ2NigVatWpRrQhFQH+fym13JeXl7w9PTExo0bS5UvWrRIbho2xa5fvy75u7iDsLb8cMqjRo0aSSWj+BxZH04zePBgtG/fHqampuBwOHB3dy83q5Y8DT8BAHNzc6SkpMDS0hJ2dnaSNOkPHjyAiooK2+FV2p49ezB69Gg0adJEckIjEAjQuXNn7NmzB4C4Abd161Y2w/wiX19fyVXn1atX14qrzvv378eJEydkflHRisrLy4OHhwf2798PAIiJiYGtrS08PDxQp04deHl5sRxhxU2ePBlz5swBn8+XXAC4evUqFi5ciHnz5rEcXdV8PMS5oKCg1PxBSlpDvgYNRZNBqqqqePLkSakc9TExMWjYsKFcdT0XO3DgAH7++WfExsYCABwdHbFgwQKMHj2a5ci+Py9evJD8/fjxY8yfPx8LFiyQnIwFBQVh69at2Lx5s1yspXLx4kXExcVh1qxZ8Pb2hpaWVpnbzZ49+xtH9nW8vLzA4/GwZMkSHDt2DD/++COsra2RlJRU5oUPeREVFSWVgtfJyYnliKrm5s2bteaqs5WVFS5duiQXa1dVxOzZsxEYGAhfX1/06NED4eHhkjVsVq1aJVfzOhmGgZeXF/z8/CQNAFVVVSxatEiuElR8LC8vDwsXLoS/vz/S09NLPS7rF9SIjGOIzDE3N2f8/f1LlR87doyxsLBgIaKvs3XrVkZdXZ1ZuHAhc+bMGebMmTPMggULGHV1dWbbtm1sh/dda9q0KRMQEFCqPCAggHFzc2MhoqobN24ck5OTw3YYNSYoKIjZunUrc/bsWbZDIf8RCATM8ePHmTVr1jBr1qxhTp48yQgEArbDqrS9e/cyQ4cOZT58+MB2KNXC0tKSCQoKYhiGYTQ1NZnnz58zDMMwsbGxjJaWFpuhVdn79++Z4OBg5smTJ0xBQQHb4XyVn376ialbty5z/PhxRk1Njdm7dy+zZs0axtzcnDl06BDb4RE5Rz02Msjb2xs+Pj7w8vKSZEIJDAzEpk2bMHfuXLkbX29jY4PVq1djzJgxUuX79+/HqlWr5CqrS22jpqaGkJAQ1K1bV6o8MjJSkrqWsGPDhg21Ks3rp/X41N69e79RJNUjLi4OvXr1wqtXryS9TtHR0bCwsEBAQIBcJXpp3Lgxnj9/DoZhYG1tXaoXKiQkhKXIqkZdXR1Pnz6Fra0ttLS0EBYWBltbW4SFhaFdu3aS+WqEHZaWljhw4AA6dOgAHo+HkJAQ2Nvb4+DBgzh69CguXLjAdohEjtEcGxm0fPlyaGlpYevWrVi8eDEAwMzMDKtWrZK7FK8AkJKSUubqyK1atZKLtK61Wd26dbFhwwbs3r1bsqZQUVERNmzYUKqxQ76tXbt2lZn5rH79+hg+fLjcNWwyMzOl7vP5fDx9+hRZWVmSuQPyZNasWbCzs8O9e/cka2+kp6fjxx9/xKxZsxAQEMByhBUnD0NOK8Pd3R0BAQHw8PAAUDKnc/fu3XI3/6k2ysjIgK2tLQDxfJriNbnatGmD6dOnsxkaqQWoYSODOBwOPD094enpiffv3wNAufMG5IG9vT38/f2xZMkSqfJjx46VmkdEvq2dO3eib9++MDc3l2RACw8PB4fDwblz51iO7vuWmpoKU1PTUuWGhoZyeUHg1KlTpcpEIhGmT58uV70bxW7evCnVqAEAfX19bNy4Ue4Wu1y5ciXbIVSr9evXo2fPnoiIiIBAIMAvv/yCiIgI3L1794trd5GaZ2tri4SEBFhaWsLZ2Rn+/v5o1qwZzp07Bx0dHbbDI3KOGjYyTp4bNMVWr16NYcOG4datW1Lpq69evQp/f3+Wo/u+NWvWDPHx8Th8+DCioqIAAMOGDcPIkSOhoaHBcnTft9qU5rU8XC4Xc+fORYcOHbBw4UK2w6kUFRUVyYWnj+Xm5kp6Pwk72rRpg7CwMGzYsAEuLi6SjIJBQUGSFOqEPePHj0dYWBjat28PLy8v9O3bF//73//A5/Oxbds2tsMjco4aNjKicePGFU6BLG/jnQcPHozg4GBs27YNp0+fBiAeAhUcHCxZz4KwR0NDA1OmTGE7DPKJ2pjmtSzPnz+HQCBgO4xK69OnD6ZMmYI9e/agWbNmAMSrwU+bNg39+vVjObrKEQqF8PHxgb+/P5KSkkql3y0eKiQvxowZg44dO8LLy0suewNrMz6fj/Pnz2Pnzp0AgC5duiAqKgqPHj2Cvb29zK+dRmQfNWxkRG0b41yMz+dj6tSpWL58OQ4dOsR2OKQMz58/h6+vLyIjIwGI53AUzx8g7FmwYAHS09Px008/lUrzWjz3Tp7MnTtX6j7DMEhJSUFAQIBk4T554ufnh7Fjx6Jly5aSyfZ8Ph/9+/fHL7/8wnJ0lbN69Wrs3r0b8+bNw7Jly7B06VIkJibi9OnTcplSWFlZGRs2bMCkSZNgZmaG9u3bo0OHDmjfvj0Nf2aZkpJSqUWiraysYGVlxVJEpLahrGikxmlrayM0NFTmVxT/Hl26dAn9+vVDo0aNpIYJhoWF4dy5c3K3GGxtlJubi8jISKipqcHBwUEuF+cEgI4dO0rd53K5MDQ0RKdOnTBhwgS5XRk+Li4OERERAIB69erB3t6e5Ygqz87ODn5+fujduze0tLQQGhoqKbt3716ZSSzkwatXr3Dr1i3cvHkTN2/eRExMDExNTfHy5Uu2Q/uueXp6QkVFRW7X4iKyTT5/SYhcGTBgAE6fPg1PT0+2QyGf8PLyKnOxRy8vLyxatIgaNjJAU1MTTZs2ZTuMrxYQEACGYSRzt4p7BKysrOS2UbNnzx74+PhIFh52cHDAnDlzMGnSJJYjq5zU1FTJ3BNNTU1JOuQ+ffrI3fICH9PV1YW+vj50dXWho6MDRUVFGBoash3Wd08gEGDv3r24cuUKmjRpUmo+J82zIV9DPn9NarnaNt7ZwcEB3t7eCAwMLPMgJo8prGuLyMjIMhM4TJgwAb6+vt8+IFJrDRgwAIMGDcK0adOQlZWFFi1aQElJCe/evcO2bdvkLs3rihUrsG3bNnh4eEhSCAcFBcHT0xNJSUnw9vZmOcKKMzc3R0pKCiwtLWFnZyeZbP/gwQO57CFcsmQJbty4gcePH6Nu3bqSSert2rWDrq4u2+F9954+fQo3NzcAQExMjNRjFZ1rTEi5WFwclJRj+fLljKmpKbNlyxZGVVWVWbNmDTNx4kRGX1+f+eWXX9gOr9Ksra3LvdnY2LAd3nfN3Nyc8ff3L1V+7NgxxsLCgoWISG2lr6/PPH36lGEYhvnjjz+Yhg0bMkKhkPH392ecnZ1Zjq7yDAwMmCNHjpQqP3LkCKOvr89CRFW3aNEiZt26dQzDMMxff/3FKCoqMvb29oyysjKzaNEilqOrPA6HwxgZGTEbNmxgoqOj2Q6HEPINUY+NDDp8+DD++OMP9O7dG6tWrcKIESNgZ2eHhg0b4t69e3LXw5GQkCD5m/lvShddlZENkydPxpQpUxAfHy9ZRDUwMBAbN26sVZm3CPvy8vIk6esvX76MQYMGgcvlokWLFnjx4gXL0VUen8+Hu7t7qfImTZrIXZa3j4eiDhs2DFZWVrh79y4cHBzQt29fFiOrmsePH+PmzZu4ceMGtm7dCmVlZUkCgQ4dOsDR0ZHtEAkhNYSSB8ggDQ0NREZGwtLSEqampggICICbmxvi4+PRuHFjyfhneVJbxqLXNgzDwNfXF1u3bsXr168BAHXq1MH8+fMxa9YsaoCSatOwYUNMmjQJAwcORIMGDXDx4kW0bNkSjx49Qu/evZGamsp2iJXi4eEBJSWlUvMB5s+fj/z8fOzYsYOlyCrv1q1baNWqVam5TgKBAHfv3kW7du1Yiqx6hIWFwcfHB4cPH4ZIJIJQKGQ7JEJIDaEeGxlU28Y716ax6LVNQUEBpk6dCk9PT7x//x4JCQm4evUqnJ2dqVFDqtWKFSswcuRIeHp6onPnzpJjweXLl+V2Pas9e/bg8uXLaNGiBQDxOjZJSUkYM2aMVHprWZ8M3bFjR6SkpMDIyEiqPDs7Gx07dpS7hgDDMHj8+DFu3LiBGzdu4M6dO8jJyUHDhg3Rvn17tsMjhNQg6rGRQV5eXuDxeFiyZAmOHTuGH3/8EdbW1khKSiozg5WsMzQ0hJ+fH0aMGCFVfvToUXh4eODdu3csRUa6desmNaHb2dlZrid0E9mWmpqKlJQUuLq6gsvlAgCCg4PB4/Hg7OzMcnSV82n66vJwOBxcu3athqP5OlwuF2/evCmVMSwmJgbu7u7IyclhKbKq0dXVRW5uLlxdXSVD0Nq2bQsdHR22QyOE1DBq2MiBe/fuyfV4Zx0dHTx48KDUwmgxMTFo1qwZsrKy2AmMwMDAADdv3kT9+vWxe/dubN++HY8fP8aJEyewYsUKyaKdhJDaZ9CgQQCAM2fOoEePHlIjAoRCIcLDw+Hk5ISLFy+yFWKVBAQEoG3btuDxeGyHQgj5xrhsB0BK27BhA/bu3Su536JFC8ydOxdpaWnYtGkTi5FVzejRo/Hbb7+VKv/9998xatQoFiIixWrbhG5CSMVpa2tDW1sbDMNAS0tLcl9bWxsmJiaYMmUKDh06xHaYlda7d29q1BDynaIeGxlkbW2NI0eOSLJUFbt//z6GDx8ulWVMHnh4eODAgQOwsLAocyy6kpKSZFtZH4te29S2Cd2EkMpbvXo15s+fX2qNMUIIkTfUsJFBqqqqiIyMhI2NjVR5fHw86tWrh4KCApYiq5raNBa9tjl+/DhGjhwJoVCIzp074/LlywDEvYa3bt3CP//8w3KEhBBCCCEVQ1nRZJCFhQUCAwNLNWwCAwNhZmbGUlRVd/36dbZDIOUYMmQI2rRpI5nQXaxz584YOHAgi5ERQmqSm5sbrl69Cl1dXTRu3PizWRBDQkK+YWSEEFJ11LCRQZMnT8acOXPA5/PRqVMnAMDVq1excOFCWjSRVDsTExOYmJhIlTVr1oylaAgh30L//v0lyQIGDBjAbjCEEFJNaCiaDGIYBl5eXvDz80NRUREA8fC0RYsWYcWKFSxHRwghpDaZNGkSRo0aVeFhw4QQIquoYSPDcnNzERkZCTU1NTg4OMjl4pyEEEJkW//+/XHp0iUYGhpixIgRGDVqlNTQVEIIkRfUsCGEEEK+c5mZmfj7779x5MgR3L59G87Ozhg1ahRGjhwJa2trtsMjhJAKoYYNIYQQQiRevnyJo0ePYu/evYiNjYVAIGA7JEIIqRBaoJMQQgghAAA+n4+HDx/i/v37SExMhLGxMdshEUJIhVHDhhBCCPnOXb9+HZMnT4axsTHGjRsHHo+H8+fP4+XLl2yHRgghFUZD0QghhJDvWJ06dZCRkYEePXpg1KhR6Nu3LyWrIYTIJWrYEEIIId+xP/74Az/88AN0dHTYDoUQQr4KNWwIIYQQQgghco/m2BBCCCGEEELkHjVsCCGEEEIIIXKPGjaEEEIIIYQQuUcNG0IIIYQQQojco4YNIYQQQgghRO5Rw4YQQgghhBAi96hhQwghhBBCCJF7/wcs/qvGWkv8UAAAAABJRU5ErkJggg==",
            "text/plain": [
              "<Figure size 1000x800 with 2 Axes>"
            ]
          },
          "metadata": {},
          "output_type": "display_data"
        }
      ],
      "source": [
        "plt.subplots(figsize=(10, 8))\n",
        "# Elabora un heatmap de la correlacion de las variables numericas\n",
        "sns.heatmap(cereals_df[numericas].corr(method='pearson'), annot=True, cmap='coolwarm')\n",
        "# Ajusta el tamaño de la grafica\n",
        "\n",
        "\n",
        "plt.title('Correlacion de variables numericas')\n",
        "plt.show()\n"
      ]
    },
    {
      "cell_type": "code",
      "execution_count": null,
      "metadata": {
        "colab": {
          "base_uri": "https://localhost:8080/"
        },
        "id": "1u5aZ9cgFLib",
        "outputId": "4f438493-fff0-4230-b6b2-848084f05643"
      },
      "outputs": [
        {
          "name": "stdout",
          "output_type": "stream",
          "text": [
            "Variables con correlacion alta:\n",
            "          calories  protein  fat  sodium    fiber  carbo    sugars   potass  \\\n",
            "calories       NaN      NaN  NaN     NaN      NaN    NaN       NaN      NaN   \n",
            "protein        NaN      NaN  NaN     NaN      NaN    NaN       NaN      NaN   \n",
            "fat            NaN      NaN  NaN     NaN      NaN    NaN       NaN      NaN   \n",
            "sodium         NaN      NaN  NaN     NaN      NaN    NaN       NaN      NaN   \n",
            "fiber          NaN      NaN  NaN     NaN      NaN    NaN       NaN 0.911528   \n",
            "carbo          NaN      NaN  NaN     NaN      NaN    NaN       NaN      NaN   \n",
            "sugars         NaN      NaN  NaN     NaN      NaN    NaN       NaN      NaN   \n",
            "potass         NaN      NaN  NaN     NaN 0.911528    NaN       NaN      NaN   \n",
            "vitamins       NaN      NaN  NaN     NaN      NaN    NaN       NaN      NaN   \n",
            "weight    0.696091      NaN  NaN     NaN      NaN    NaN       NaN      NaN   \n",
            "cups           NaN      NaN  NaN     NaN      NaN    NaN       NaN      NaN   \n",
            "rating   -0.689376      NaN  NaN     NaN      NaN    NaN -0.763902      NaN   \n",
            "\n",
            "          vitamins   weight  cups    rating  \n",
            "calories       NaN 0.696091   NaN -0.689376  \n",
            "protein        NaN      NaN   NaN       NaN  \n",
            "fat            NaN      NaN   NaN       NaN  \n",
            "sodium         NaN      NaN   NaN       NaN  \n",
            "fiber          NaN      NaN   NaN       NaN  \n",
            "carbo          NaN      NaN   NaN       NaN  \n",
            "sugars         NaN      NaN   NaN -0.763902  \n",
            "potass         NaN      NaN   NaN       NaN  \n",
            "vitamins       NaN      NaN   NaN       NaN  \n",
            "weight         NaN      NaN   NaN       NaN  \n",
            "cups           NaN      NaN   NaN       NaN  \n",
            "rating         NaN      NaN   NaN       NaN  \n"
          ]
        }
      ],
      "source": [
        "# Calcular la matriz de correlación de variables numéricas\n",
        "matriz_correlacion = cereals_df[numericas].corr()\n",
        "\n",
        "# Imprimir aquellas que tienen una correlacion alta cercana a 1\n",
        "print('Variables con correlacion alta:')\n",
        "print(matriz_correlacion[((matriz_correlacion > 0.6) & (matriz_correlacion < 1)) | ((matriz_correlacion < -0.6) & (matriz_correlacion > -1))])\n"
      ]
    },
    {
      "cell_type": "markdown",
      "metadata": {
        "id": "x7hUwwjEFLib"
      },
      "source": [
        "**La variable con mayor correlacion con rating es: Sugar con una correlación negativa de -0.76 y en segundo Calories con -0.69**"
      ]
    },
    {
      "cell_type": "code",
      "execution_count": null,
      "metadata": {
        "colab": {
          "base_uri": "https://localhost:8080/",
          "height": 564
        },
        "id": "fbzLDCQEO8bl",
        "outputId": "e8a98c9b-8eba-4530-b1af-03da064c2880"
      },
      "outputs": [
        {
          "name": "stderr",
          "output_type": "stream",
          "text": [
            "C:\\Users\\edwin\\AppData\\Local\\Temp\\ipykernel_21000\\1485434978.py:6: FutureWarning: \n",
            "\n",
            "Passing `palette` without assigning `hue` is deprecated and will be removed in v0.14.0. Assign the `y` variable to `hue` and set `legend=False` for the same effect.\n",
            "\n",
            "  sns.barplot(x=correlation_with_rating.values, y=correlation_with_rating.index, palette=\"viridis\")\n"
          ]
        },
        {
          "data": {
            "image/png": "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",
            "text/plain": [
              "<Figure size 1000x600 with 1 Axes>"
            ]
          },
          "metadata": {},
          "output_type": "display_data"
        }
      ],
      "source": [
        "# Filter the correlation with 'rating', excluding the correlation with 'rating' itself\n",
        "correlation_with_rating = matriz_correlacion['rating'].drop('rating')\n",
        "\n",
        "# Create a barplot to visualize the correlations\n",
        "plt.figure(figsize=(10, 6))\n",
        "sns.barplot(x=correlation_with_rating.values, y=correlation_with_rating.index, palette=\"viridis\")\n",
        "plt.xlabel('Correlation with Rating')\n",
        "plt.ylabel('Variables')\n",
        "plt.title('Correlation of Variables with Rating')\n",
        "\n",
        "# Add values to each bar\n",
        "for i in range(len(correlation_with_rating)):\n",
        "    plt.text(correlation_with_rating.values[i], i, f'{correlation_with_rating.values[i]:.2f}', va='center')\n",
        "\n",
        "plt.show()"
      ]
    },
    {
      "cell_type": "markdown",
      "metadata": {
        "id": "itJ9anNUiTE5"
      },
      "source": [
        "5. Elimina todos los registros con algún dato faltante y reinicia el índice del dataframe para que quede con valores consecutivos."
      ]
    },
    {
      "cell_type": "code",
      "execution_count": null,
      "metadata": {
        "id": "_V__MFtiod9w"
      },
      "outputs": [],
      "source": [
        "dataframe_backup1 = cereals_df.copy()\n",
        "# Elimina los registros que tienen valores faltantes\n",
        "cereals_df.dropna(inplace=True)\n",
        "\n",
        "# reinicia el indice del dataframe\n",
        "cereals_df.reset_index(drop=True, inplace=True)\n"
      ]
    },
    {
      "cell_type": "code",
      "execution_count": null,
      "metadata": {
        "id": "nL_g0uRWFLib",
        "outputId": "12d8be42-1de2-4221-f2ac-31747ac6b3d9"
      },
      "outputs": [
        {
          "data": {
            "text/plain": [
              "(77, 16)"
            ]
          },
          "execution_count": 23,
          "metadata": {},
          "output_type": "execute_result"
        }
      ],
      "source": [
        "dataframe_backup1.shape"
      ]
    },
    {
      "cell_type": "code",
      "execution_count": null,
      "metadata": {
        "id": "jQL4LDInFLib",
        "outputId": "2ff9a32c-3aea-44f3-c951-20a59a966550"
      },
      "outputs": [
        {
          "data": {
            "text/plain": [
              "(74, 16)"
            ]
          },
          "execution_count": 24,
          "metadata": {},
          "output_type": "execute_result"
        }
      ],
      "source": [
        "cereals_df.shape\n"
      ]
    },
    {
      "cell_type": "markdown",
      "metadata": {
        "id": "S51rfjbMicoY"
      },
      "source": [
        "# **Parte 2**. Ingeniería de características"
      ]
    },
    {
      "cell_type": "markdown",
      "metadata": {
        "id": "-MQjqqisihp5"
      },
      "source": [
        "6. Considerando que `rating` es la variable de salida, almacénala en una variable `y` y separa los predictores **numéricos** en `X`. Escala los valores de `X` y aplica `PCA` para proyectar los datos en el nuevo espacio de vectores."
      ]
    },
    {
      "cell_type": "code",
      "execution_count": null,
      "metadata": {
        "id": "EO3YfZOxFLie"
      },
      "outputs": [],
      "source": [
        "# Separating out the features\n",
        "x = cereals_df.iloc[:,0:-1]\n",
        "# Mantener only numeric values\n",
        "x = x.select_dtypes(include=['float64','int64'])\n",
        "# Separating out the target\n",
        "y = cereals_df.loc[:,'rating']"
      ]
    },
    {
      "cell_type": "code",
      "execution_count": null,
      "metadata": {
        "id": "C4s7u9tEFLie",
        "outputId": "816eb6fb-d09a-4422-b4d5-08541794a69b"
      },
      "outputs": [
        {
          "data": {
            "text/html": [
              "<div>\n",
              "<style scoped>\n",
              "    .dataframe tbody tr th:only-of-type {\n",
              "        vertical-align: middle;\n",
              "    }\n",
              "\n",
              "    .dataframe tbody tr th {\n",
              "        vertical-align: top;\n",
              "    }\n",
              "\n",
              "    .dataframe thead th {\n",
              "        text-align: right;\n",
              "    }\n",
              "</style>\n",
              "<table border=\"1\" class=\"dataframe\">\n",
              "  <thead>\n",
              "    <tr style=\"text-align: right;\">\n",
              "      <th></th>\n",
              "      <th>calories</th>\n",
              "      <th>protein</th>\n",
              "      <th>fat</th>\n",
              "      <th>sodium</th>\n",
              "      <th>fiber</th>\n",
              "      <th>carbo</th>\n",
              "      <th>sugars</th>\n",
              "      <th>potass</th>\n",
              "      <th>vitamins</th>\n",
              "      <th>weight</th>\n",
              "      <th>cups</th>\n",
              "    </tr>\n",
              "  </thead>\n",
              "  <tbody>\n",
              "    <tr>\n",
              "      <th>count</th>\n",
              "      <td>74.000000</td>\n",
              "      <td>74.000000</td>\n",
              "      <td>74.000000</td>\n",
              "      <td>74.000000</td>\n",
              "      <td>74.000000</td>\n",
              "      <td>74.000000</td>\n",
              "      <td>74.000000</td>\n",
              "      <td>74.000000</td>\n",
              "      <td>74.000000</td>\n",
              "      <td>74.000000</td>\n",
              "      <td>74.000000</td>\n",
              "    </tr>\n",
              "    <tr>\n",
              "      <th>mean</th>\n",
              "      <td>107.027027</td>\n",
              "      <td>2.513514</td>\n",
              "      <td>1.000000</td>\n",
              "      <td>162.364865</td>\n",
              "      <td>2.175676</td>\n",
              "      <td>14.729730</td>\n",
              "      <td>7.108108</td>\n",
              "      <td>98.513514</td>\n",
              "      <td>29.054054</td>\n",
              "      <td>1.030811</td>\n",
              "      <td>0.821622</td>\n",
              "    </tr>\n",
              "    <tr>\n",
              "      <th>std</th>\n",
              "      <td>19.843893</td>\n",
              "      <td>1.075802</td>\n",
              "      <td>1.006826</td>\n",
              "      <td>82.769787</td>\n",
              "      <td>2.423391</td>\n",
              "      <td>3.891675</td>\n",
              "      <td>4.359111</td>\n",
              "      <td>70.878681</td>\n",
              "      <td>22.294352</td>\n",
              "      <td>0.153416</td>\n",
              "      <td>0.235715</td>\n",
              "    </tr>\n",
              "    <tr>\n",
              "      <th>min</th>\n",
              "      <td>50.000000</td>\n",
              "      <td>1.000000</td>\n",
              "      <td>0.000000</td>\n",
              "      <td>0.000000</td>\n",
              "      <td>0.000000</td>\n",
              "      <td>5.000000</td>\n",
              "      <td>0.000000</td>\n",
              "      <td>15.000000</td>\n",
              "      <td>0.000000</td>\n",
              "      <td>0.500000</td>\n",
              "      <td>0.250000</td>\n",
              "    </tr>\n",
              "    <tr>\n",
              "      <th>25%</th>\n",
              "      <td>100.000000</td>\n",
              "      <td>2.000000</td>\n",
              "      <td>0.000000</td>\n",
              "      <td>135.000000</td>\n",
              "      <td>0.250000</td>\n",
              "      <td>12.000000</td>\n",
              "      <td>3.000000</td>\n",
              "      <td>41.250000</td>\n",
              "      <td>25.000000</td>\n",
              "      <td>1.000000</td>\n",
              "      <td>0.670000</td>\n",
              "    </tr>\n",
              "    <tr>\n",
              "      <th>50%</th>\n",
              "      <td>110.000000</td>\n",
              "      <td>2.500000</td>\n",
              "      <td>1.000000</td>\n",
              "      <td>180.000000</td>\n",
              "      <td>2.000000</td>\n",
              "      <td>14.500000</td>\n",
              "      <td>7.000000</td>\n",
              "      <td>90.000000</td>\n",
              "      <td>25.000000</td>\n",
              "      <td>1.000000</td>\n",
              "      <td>0.750000</td>\n",
              "    </tr>\n",
              "    <tr>\n",
              "      <th>75%</th>\n",
              "      <td>110.000000</td>\n",
              "      <td>3.000000</td>\n",
              "      <td>1.000000</td>\n",
              "      <td>217.500000</td>\n",
              "      <td>3.000000</td>\n",
              "      <td>17.000000</td>\n",
              "      <td>11.000000</td>\n",
              "      <td>120.000000</td>\n",
              "      <td>25.000000</td>\n",
              "      <td>1.000000</td>\n",
              "      <td>1.000000</td>\n",
              "    </tr>\n",
              "    <tr>\n",
              "      <th>max</th>\n",
              "      <td>160.000000</td>\n",
              "      <td>6.000000</td>\n",
              "      <td>5.000000</td>\n",
              "      <td>320.000000</td>\n",
              "      <td>14.000000</td>\n",
              "      <td>23.000000</td>\n",
              "      <td>15.000000</td>\n",
              "      <td>330.000000</td>\n",
              "      <td>100.000000</td>\n",
              "      <td>1.500000</td>\n",
              "      <td>1.500000</td>\n",
              "    </tr>\n",
              "  </tbody>\n",
              "</table>\n",
              "</div>"
            ],
            "text/plain": [
              "        calories   protein       fat     sodium     fiber     carbo    sugars  \\\n",
              "count  74.000000 74.000000 74.000000  74.000000 74.000000 74.000000 74.000000   \n",
              "mean  107.027027  2.513514  1.000000 162.364865  2.175676 14.729730  7.108108   \n",
              "std    19.843893  1.075802  1.006826  82.769787  2.423391  3.891675  4.359111   \n",
              "min    50.000000  1.000000  0.000000   0.000000  0.000000  5.000000  0.000000   \n",
              "25%   100.000000  2.000000  0.000000 135.000000  0.250000 12.000000  3.000000   \n",
              "50%   110.000000  2.500000  1.000000 180.000000  2.000000 14.500000  7.000000   \n",
              "75%   110.000000  3.000000  1.000000 217.500000  3.000000 17.000000 11.000000   \n",
              "max   160.000000  6.000000  5.000000 320.000000 14.000000 23.000000 15.000000   \n",
              "\n",
              "          potass   vitamins    weight      cups  \n",
              "count  74.000000  74.000000 74.000000 74.000000  \n",
              "mean   98.513514  29.054054  1.030811  0.821622  \n",
              "std    70.878681  22.294352  0.153416  0.235715  \n",
              "min    15.000000   0.000000  0.500000  0.250000  \n",
              "25%    41.250000  25.000000  1.000000  0.670000  \n",
              "50%    90.000000  25.000000  1.000000  0.750000  \n",
              "75%   120.000000  25.000000  1.000000  1.000000  \n",
              "max   330.000000 100.000000  1.500000  1.500000  "
            ]
          },
          "execution_count": 26,
          "metadata": {},
          "output_type": "execute_result"
        }
      ],
      "source": [
        "x.describe()"
      ]
    },
    {
      "cell_type": "code",
      "execution_count": null,
      "metadata": {
        "id": "wwtv3P4sFLie",
        "outputId": "e1c81e2a-62e4-4b45-bddf-f218fd3757fd"
      },
      "outputs": [
        {
          "data": {
            "text/plain": [
              "count   74.000000\n",
              "mean    42.371787\n",
              "std     14.033712\n",
              "min     18.042851\n",
              "25%     32.449210\n",
              "50%     40.253086\n",
              "75%     50.520611\n",
              "max     93.704912\n",
              "Name: rating, dtype: float64"
            ]
          },
          "execution_count": 27,
          "metadata": {},
          "output_type": "execute_result"
        }
      ],
      "source": [
        "y.describe()"
      ]
    },
    {
      "cell_type": "code",
      "execution_count": null,
      "metadata": {
        "id": "WAWysX8cFLif",
        "outputId": "3e7ba697-c0e1-4269-cdb2-d2b5d175c9c5"
      },
      "outputs": [
        {
          "data": {
            "text/plain": [
              "11"
            ]
          },
          "execution_count": 28,
          "metadata": {},
          "output_type": "execute_result"
        }
      ],
      "source": [
        "total_components = x.shape[1]\n",
        "total_components"
      ]
    },
    {
      "cell_type": "code",
      "execution_count": null,
      "metadata": {
        "id": "enMxBTS2FLif",
        "outputId": "ed523e5f-632a-401c-b8ad-460683f58ee8"
      },
      "outputs": [
        {
          "data": {
            "text/plain": [
              "array([[-1.87865227,  1.3911796 ,  0.        , -0.39369182,  3.25070642,\n",
              "        -2.51720557, -0.25594026,  2.57800107, -0.18308346, -0.20220332,\n",
              "        -2.09989497],\n",
              "       [ 0.65821393,  0.45529514,  4.        , -1.79257173, -0.0729865 ,\n",
              "        -1.74106718,  0.2060007 ,  0.51828763, -1.31209813, -0.20220332,\n",
              "         0.76191901],\n",
              "       [-1.87865227,  1.3911796 ,  0.        ,  1.18765068,  2.8352448 ,\n",
              "        -1.99977998, -0.48691074,  3.14619788, -0.18308346, -0.20220332,\n",
              "        -2.09989497],\n",
              "       [-2.89339875,  1.3911796 , -1.        , -0.27205009,  4.91255287,\n",
              "        -1.74106718, -1.64176313,  3.28824708, -0.18308346, -0.20220332,\n",
              "        -1.37376306],\n",
              "       [ 0.15084069, -0.48058932,  1.        ,  0.21451684, -0.28071731,\n",
              "        -1.0942852 ,  0.66794165, -0.40503219, -0.18308346, -0.20220332,\n",
              "        -0.30592203]])"
            ]
          },
          "execution_count": 29,
          "metadata": {},
          "output_type": "execute_result"
        }
      ],
      "source": [
        "# Escala los valores de X normalizando con Sandard Scaler\n",
        "from sklearn.preprocessing import StandardScaler\n",
        "escalar = StandardScaler()\n",
        "x_scaled = escalar.fit_transform(x)\n",
        "x_scaled[0:5]\n"
      ]
    },
    {
      "cell_type": "code",
      "execution_count": null,
      "metadata": {
        "id": "kB91LTPLFLif",
        "outputId": "bd8caf76-064b-45e1-e8dc-e279e7418e23"
      },
      "outputs": [
        {
          "data": {
            "text/plain": [
              "[[-1.8786522659120883,\n",
              "  1.3911795995424103,\n",
              "  0.0,\n",
              "  -0.39369181871426506,\n",
              "  3.2507064153167637,\n",
              "  -2.5172055650170226,\n",
              "  -0.2559402597663102,\n",
              "  2.5780010674632012,\n",
              "  -0.18308345930920594,\n",
              "  -0.20220331817247392,\n",
              "  -2.0998949653889816]]"
            ]
          },
          "execution_count": 30,
          "metadata": {},
          "output_type": "execute_result"
        }
      ],
      "source": [
        "# Se observan los valores escalados en X\n",
        "x_scaled.tolist()[:1]"
      ]
    },
    {
      "cell_type": "code",
      "execution_count": null,
      "metadata": {
        "id": "VrsIXH3gFLif",
        "outputId": "5a9c0f56-fa39-4f32-8178-ddd320dda1d5"
      },
      "outputs": [
        {
          "data": {
            "text/html": [
              "<div>\n",
              "<style scoped>\n",
              "    .dataframe tbody tr th:only-of-type {\n",
              "        vertical-align: middle;\n",
              "    }\n",
              "\n",
              "    .dataframe tbody tr th {\n",
              "        vertical-align: top;\n",
              "    }\n",
              "\n",
              "    .dataframe thead th {\n",
              "        text-align: right;\n",
              "    }\n",
              "</style>\n",
              "<table border=\"1\" class=\"dataframe\">\n",
              "  <thead>\n",
              "    <tr style=\"text-align: right;\">\n",
              "      <th></th>\n",
              "      <th>0</th>\n",
              "      <th>1</th>\n",
              "      <th>2</th>\n",
              "      <th>3</th>\n",
              "      <th>4</th>\n",
              "      <th>5</th>\n",
              "      <th>6</th>\n",
              "    </tr>\n",
              "  </thead>\n",
              "  <tbody>\n",
              "    <tr>\n",
              "      <th>0</th>\n",
              "      <td>5.041308</td>\n",
              "      <td>2.470097</td>\n",
              "      <td>-0.054581</td>\n",
              "      <td>-1.129434</td>\n",
              "      <td>0.667588</td>\n",
              "      <td>0.640401</td>\n",
              "      <td>0.022399</td>\n",
              "    </tr>\n",
              "    <tr>\n",
              "      <th>1</th>\n",
              "      <td>1.503568</td>\n",
              "      <td>-0.310316</td>\n",
              "      <td>-3.014154</td>\n",
              "      <td>3.202758</td>\n",
              "      <td>1.344651</td>\n",
              "      <td>0.066992</td>\n",
              "      <td>-0.396573</td>\n",
              "    </tr>\n",
              "    <tr>\n",
              "      <th>2</th>\n",
              "      <td>4.866598</td>\n",
              "      <td>1.946814</td>\n",
              "      <td>0.869813</td>\n",
              "      <td>-1.225550</td>\n",
              "      <td>0.358265</td>\n",
              "      <td>1.832924</td>\n",
              "      <td>-0.232872</td>\n",
              "    </tr>\n",
              "    <tr>\n",
              "      <th>3</th>\n",
              "      <td>5.468886</td>\n",
              "      <td>3.899001</td>\n",
              "      <td>1.883856</td>\n",
              "      <td>-1.628993</td>\n",
              "      <td>0.601691</td>\n",
              "      <td>0.374002</td>\n",
              "      <td>-0.811525</td>\n",
              "    </tr>\n",
              "    <tr>\n",
              "      <th>4</th>\n",
              "      <td>0.088378</td>\n",
              "      <td>-0.391583</td>\n",
              "      <td>-1.490079</td>\n",
              "      <td>0.054716</td>\n",
              "      <td>0.331903</td>\n",
              "      <td>0.848360</td>\n",
              "      <td>0.271351</td>\n",
              "    </tr>\n",
              "  </tbody>\n",
              "</table>\n",
              "</div>"
            ],
            "text/plain": [
              "         0         1         2         3        4        5         6\n",
              "0 5.041308  2.470097 -0.054581 -1.129434 0.667588 0.640401  0.022399\n",
              "1 1.503568 -0.310316 -3.014154  3.202758 1.344651 0.066992 -0.396573\n",
              "2 4.866598  1.946814  0.869813 -1.225550 0.358265 1.832924 -0.232872\n",
              "3 5.468886  3.899001  1.883856 -1.628993 0.601691 0.374002 -0.811525\n",
              "4 0.088378 -0.391583 -1.490079  0.054716 0.331903 0.848360  0.271351"
            ]
          },
          "execution_count": 31,
          "metadata": {},
          "output_type": "execute_result"
        }
      ],
      "source": [
        "# Creamos un modelo con PCA explicando el 90% de la varianza de X\n",
        "from sklearn.decomposition import PCA\n",
        "pca = PCA(n_components=0.90)\n",
        "x_projected = pca.fit_transform(x_scaled)\n",
        "x_projected = pd.DataFrame(x_projected)\n",
        "x_projected.head(5)\n"
      ]
    },
    {
      "cell_type": "markdown",
      "metadata": {
        "id": "cYeQ6zwSit8I"
      },
      "source": [
        "7. Obtén la curva del porcentaje de varianza acumulada y determine el número mínimo de componentes principales que explique más del 90% de la varianza. Imprime la información de dichos componentes."
      ]
    },
    {
      "cell_type": "code",
      "execution_count": null,
      "metadata": {
        "id": "WfKiKsGnFLif",
        "outputId": "0415589c-045d-43bb-9261-bebc97de8d42"
      },
      "outputs": [
        {
          "name": "stdout",
          "output_type": "stream",
          "text": [
            "The eigen values for the covariance matrix of our data are [3.12424, 2.67116, 1.81049, 1.00253, 0.73121, 0.68051, 0.59632]\n"
          ]
        }
      ],
      "source": [
        "print(\"The eigen values for the covariance matrix of our data are\", list(np.round(pca.explained_variance_, decimals=5)))"
      ]
    },
    {
      "cell_type": "code",
      "execution_count": null,
      "metadata": {
        "id": "CBxRYYFyFLif",
        "outputId": "d5862a57-9d76-4027-a393-5e497c9d8132"
      },
      "outputs": [
        {
          "data": {
            "image/png": "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",
            "text/plain": [
              "<Figure size 800x600 with 1 Axes>"
            ]
          },
          "metadata": {},
          "output_type": "display_data"
        },
        {
          "name": "stdout",
          "output_type": "stream",
          "text": [
            "Porcentaje de varianza acumulada explicada por cada componente:\n",
            "[0.28018344 0.51973448 0.68210045 0.77200833 0.83758401 0.89861296\n",
            " 0.95209159]\n",
            "Porcentaje de varianza explicada por cada componente:\n",
            "[0.28018344 0.23955104 0.16236596 0.08990788 0.06557569 0.06102895\n",
            " 0.05347863]\n",
            "Numero de componentes que explican mas del 90% de la varianza:\n",
            "7\n"
          ]
        }
      ],
      "source": [
        "# Genera la curva de porcentaje de varianza acumulada por cada componente\n",
        "plt.figure(figsize=(8, 6))  # Ajusta el tamaño de la figura\n",
        "plt.plot(np.cumsum(pca.explained_variance_ratio_))\n",
        "plt.xlabel('Numero de componentes')\n",
        "plt.ylabel('Varianza acumulada')\n",
        "plt.title('Porcentaje de varianza acumulada explicada por cada componente')\n",
        "plt.grid()  # Agrega un grid a la gráfica\n",
        "# Agrega etiquetas con los valores de cada varianza\n",
        "varianza_acumulada = np.cumsum(pca.explained_variance_ratio_)\n",
        "for i, varianza in enumerate(varianza_acumulada):\n",
        "    plt.text(i, varianza, str(round(varianza, 2)))\n",
        "\n",
        "plt.show()\n",
        "\n",
        "# Se observa el porcentaje de varianza acumulada explicada por cada componente\n",
        "np.cumsum(pca.explained_variance_ratio_)\n",
        "print('Porcentaje de varianza acumulada explicada por cada componente:')\n",
        "print(np.cumsum(pca.explained_variance_ratio_))\n",
        "\n",
        "# Se observa el porcentaje de varianza explicada por cada componente\n",
        "pca.explained_variance_ratio_\n",
        "\n",
        "# Se observa el porcentaje de varianza explicada por cada componente\n",
        "print('Porcentaje de varianza explicada por cada componente:')\n",
        "print(pca.explained_variance_ratio_)\n",
        "\n",
        "# Se observa el numero de componentes que explican el 90% de la varianza\n",
        "print('Numero de componentes que explican mas del 90% de la varianza:')\n",
        "print(pca.n_components_)"
      ]
    },
    {
      "cell_type": "markdown",
      "metadata": {
        "id": "dmCLWDJwi3P2"
      },
      "source": [
        "8. ¿Cuáles son las tres variables más importantes en el cálculo del primer componente?\n"
      ]
    },
    {
      "cell_type": "code",
      "execution_count": null,
      "metadata": {
        "id": "cYsUhJD_FLif",
        "outputId": "4f736821-86b9-4256-f91c-18bc941e2a6e"
      },
      "outputs": [
        {
          "data": {
            "text/html": [
              "<div>\n",
              "<style scoped>\n",
              "    .dataframe tbody tr th:only-of-type {\n",
              "        vertical-align: middle;\n",
              "    }\n",
              "\n",
              "    .dataframe tbody tr th {\n",
              "        vertical-align: top;\n",
              "    }\n",
              "\n",
              "    .dataframe thead th {\n",
              "        text-align: right;\n",
              "    }\n",
              "</style>\n",
              "<table border=\"1\" class=\"dataframe\">\n",
              "  <thead>\n",
              "    <tr style=\"text-align: right;\">\n",
              "      <th></th>\n",
              "      <th>calories</th>\n",
              "      <th>protein</th>\n",
              "      <th>fat</th>\n",
              "      <th>sodium</th>\n",
              "      <th>fiber</th>\n",
              "      <th>carbo</th>\n",
              "      <th>sugars</th>\n",
              "      <th>potass</th>\n",
              "      <th>vitamins</th>\n",
              "      <th>weight</th>\n",
              "      <th>cups</th>\n",
              "    </tr>\n",
              "  </thead>\n",
              "  <tbody>\n",
              "    <tr>\n",
              "      <th>Principal component 1</th>\n",
              "      <td>0.010406</td>\n",
              "      <td>0.356782</td>\n",
              "      <td>0.190272</td>\n",
              "      <td>0.064721</td>\n",
              "      <td>0.499986</td>\n",
              "      <td>0.295779</td>\n",
              "      <td>0.058735</td>\n",
              "      <td>0.531454</td>\n",
              "      <td>0.037347</td>\n",
              "      <td>0.237423</td>\n",
              "      <td>0.388687</td>\n",
              "    </tr>\n",
              "  </tbody>\n",
              "</table>\n",
              "</div>"
            ],
            "text/plain": [
              "                       calories  protein      fat   sodium    fiber    carbo  \\\n",
              "Principal component 1  0.010406 0.356782 0.190272 0.064721 0.499986 0.295779   \n",
              "\n",
              "                        sugars   potass  vitamins   weight     cups  \n",
              "Principal component 1 0.058735 0.531454  0.037347 0.237423 0.388687  "
            ]
          },
          "execution_count": 34,
          "metadata": {},
          "output_type": "execute_result"
        }
      ],
      "source": [
        "# Select the number of components\n",
        "num_components = 1\n",
        "pc_df = pd.DataFrame(abs(pca.components_[:num_components]), columns = x.columns, index=['Principal component {}'.format(i) for i in range(1, num_components + 1)])\n",
        "pc_df\n"
      ]
    },
    {
      "cell_type": "code",
      "execution_count": null,
      "metadata": {
        "id": "KrW3UPe5FLif",
        "outputId": "6fa71378-5262-424e-f3dc-a5c16b39db0f"
      },
      "outputs": [
        {
          "data": {
            "text/plain": [
              "array([10,  5,  3,  8,  0,  6,  2,  9,  1,  4,  7], dtype=int64)"
            ]
          },
          "execution_count": 35,
          "metadata": {},
          "output_type": "execute_result"
        }
      ],
      "source": [
        "# Obtiene los valores de los componentes principales\n",
        "pc_num = 1\n",
        "pc_idx = pc_num -1\n",
        "pca.components_[pc_idx].argsort()"
      ]
    },
    {
      "cell_type": "markdown",
      "metadata": {
        "id": "IHYZj8-hFLif"
      },
      "source": [
        "Con siete componentes principales podemos proyectar y explicar el 90% de la varianza."
      ]
    },
    {
      "cell_type": "code",
      "execution_count": null,
      "metadata": {
        "id": "RDHX0DQ6ojB-",
        "outputId": "b3482df0-4f07-4d80-a3df-46ea6927153c"
      },
      "outputs": [
        {
          "name": "stdout",
          "output_type": "stream",
          "text": [
            "Las tres variables mas importantes para el primer componente principal son:\n",
            "[7 4 1]\n"
          ]
        }
      ],
      "source": [
        "# Mostrar las tres variables mas importantes para el primer componente principal\n",
        "Num_Best = 3\n",
        "pc_num = 1\n",
        "pc_idx = pc_num -1\n",
        "print('Las tres variables mas importantes para el primer componente principal son:')\n",
        "print(pca.components_[pc_idx].argsort()[-Num_Best:][::-1])\n"
      ]
    },
    {
      "cell_type": "code",
      "execution_count": null,
      "metadata": {
        "id": "dq1cbQeJFLif",
        "outputId": "270e3c40-56b9-4959-a784-784295f0308a"
      },
      "outputs": [
        {
          "data": {
            "text/plain": [
              "potass   0.531454\n",
              "fiber    0.499986\n",
              "cups     0.388687\n",
              "Name: Principal component 1, dtype: float64"
            ]
          },
          "execution_count": 37,
          "metadata": {},
          "output_type": "execute_result"
        }
      ],
      "source": [
        "# obten los 3 valores mas importantes para el primer componente principal\n",
        "Num_Best = 3\n",
        "pc_num = 1\n",
        "pc_idx = pc_num -1\n",
        "pcx = pc_df.iloc[pc_idx].sort_values(ascending=False)[:Num_Best]\n",
        "pcx"
      ]
    },
    {
      "cell_type": "markdown",
      "metadata": {
        "id": "5WZyrFu0FLig"
      },
      "source": [
        "Para el primer componente podemos observar que potass, fiber y cups son las variables mas importantes."
      ]
    },
    {
      "cell_type": "code",
      "execution_count": null,
      "metadata": {
        "id": "4ApkkpLfFLig",
        "outputId": "9a6bcb42-a032-427d-a081-5b8d353a06fb"
      },
      "outputs": [
        {
          "name": "stderr",
          "output_type": "stream",
          "text": [
            "C:\\Users\\edwin\\AppData\\Local\\Temp\\ipykernel_21000\\298426098.py:3: FutureWarning: \n",
            "\n",
            "The `ci` parameter is deprecated. Use `errorbar=None` for the same effect.\n",
            "\n",
            "  sns.barplot(data=pc_df.iloc[0:1],ci=None)\n"
          ]
        },
        {
          "data": {
            "image/png": "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",
            "text/plain": [
              "<Figure size 800x600 with 1 Axes>"
            ]
          },
          "metadata": {},
          "output_type": "display_data"
        }
      ],
      "source": [
        "# Muestra la distribución de las variables en el primer componente principal\n",
        "plt.figure(figsize=(8, 6))  # Ajusta el tamaño de la figura\n",
        "sns.barplot(data=pc_df.iloc[0:1],ci=None)\n",
        "plt.xlabel('Features')\n",
        "plt.ylabel('feature importance for PC1')\n",
        "\n",
        "# Agrega los valores de cada barra\n",
        "for i, valor in enumerate(pc_df.iloc[0]):\n",
        "    plt.text(i, valor, round(valor, 2), ha='center', va='bottom')\n",
        "\n",
        "plt.show()"
      ]
    },
    {
      "cell_type": "markdown",
      "metadata": {
        "id": "yIUm9oVPjw6Q"
      },
      "source": [
        "9. ¿Todas las variables categóricas son predictores? Aplica una técnica de encoding a las que sí lo sean. Justifica la elección de tu técnica."
      ]
    },
    {
      "cell_type": "code",
      "execution_count": null,
      "metadata": {
        "id": "uCfzOaL4PlHf"
      },
      "outputs": [],
      "source": [
        "# Realizar el análisis de varianza (ANOVA) entre variables categoricas y variables numericas.\n",
        "def categoricalEvaluationPerNumericVariable(df, categoricVariable, numericVariable, messages=True  ):\n",
        "    # Crear un diccionario para almacenar los datos de cada categoría\n",
        "    categoria_data = {}\n",
        "    # Crea un diccionario que guardara el nombre de la categoria y su valor de p al rechazar la hipotesis nula\n",
        "    lista = []\n",
        "    # Dividir los datos en grupos según la variable categórica\n",
        "    for categoria in df[categoricVariable].unique():\n",
        "        categoria_data[categoria] = df[df[categoricVariable] == categoria][numericVariable]\n",
        "\n",
        "    # Realizar el análisis de varianza (ANOVA)\n",
        "    f_statistic, p_value = stats.f_oneway(*categoria_data.values())\n",
        "\n",
        "    # Imprimir los resultados\n",
        "    #print(\"Estadística F:\", f_statistic)\n",
        "    #print(\"Valor p:\", p_value)\n",
        "\n",
        "    # Interpretar los resultado\n",
        "    if p_value < 0.05:  # Significancia típica del 0.05\n",
        "        # Guarda en una lista los valores de la variable que recharon la hipotesis nula\n",
        "        lista.append((categoricVariable, numericVariable, p_value))\n",
        "        if (messages):\n",
        "            print(\"Hay evidencia de diferencias significativas entre las categorías de {0} y la variable numérica {1}.\".format(categoricVariable, numericVariable))\n",
        "            print(\"Se rechaza la hipótesis nula.\")\n",
        "    else:\n",
        "        if (messages):\n",
        "            print(\"No hay evidencia de diferencias significativas entre las categorías de {0} y la variable numérica {1}.\".format(categoricVariable, numericVariable))\n",
        "            print(\"Se acepta la hipótesis nula.\")\n",
        "\n",
        "    return lista"
      ]
    },
    {
      "cell_type": "code",
      "execution_count": null,
      "metadata": {
        "id": "yxiA7rf_Pqxe"
      },
      "outputs": [],
      "source": [
        "pd.options.display.float_format = '{:.2f}'.format\n",
        "#Itera por cada categoria del dataframe cereals_df excepto la catergoria name\n",
        "Significativos = []\n",
        "for categoria in categoricas:\n",
        "    if categoria != 'name':\n",
        "        for variable in numericas:\n",
        "            Significativo = categoricalEvaluationPerNumericVariable(cereals_df, categoria, variable, False)\n",
        "            if (len(Significativo) > 0):\n",
        "                Significativos.append(Significativo)"
      ]
    },
    {
      "cell_type": "code",
      "execution_count": null,
      "metadata": {
        "id": "Q4pzwnTiokLs",
        "outputId": "18f68984-3318-436d-d661-ad8b80e5d4b5"
      },
      "outputs": [
        {
          "name": "stdout",
          "output_type": "stream",
          "text": [
            "Las correlaciones que rechazan la hipotesis nula y confirman una diferencia significativa entre las categorias de la variable categorica y la variable numerica son:\n"
          ]
        },
        {
          "data": {
            "text/plain": [
              "[[('mfr', 'calories', 0.04613652398098882)],\n",
              " [('mfr', 'fat', 0.03150374872530851)],\n",
              " [('mfr', 'sodium', 1.862504044431734e-05)],\n",
              " [('mfr', 'weight', 0.034113469061026906)],\n",
              " [('mfr', 'rating', 4.276260419305319e-05)],\n",
              " [('type', 'sodium', 0.04752524648813714)],\n",
              " [('shelf', 'protein', 0.0019129307928349877)],\n",
              " [('shelf', 'fat', 0.0461501284748102)],\n",
              " [('shelf', 'fiber', 0.0010959442200781165)],\n",
              " [('shelf', 'carbo', 0.01819467709520834)],\n",
              " [('shelf', 'sugars', 0.00047758408098590654)],\n",
              " [('shelf', 'potass', 0.00010720512511016125)],\n",
              " [('shelf', 'vitamins', 0.04208670590086219)],\n",
              " [('shelf', 'cups', 0.002930237484832204)],\n",
              " [('shelf', 'rating', 0.003077694811369888)]]"
            ]
          },
          "execution_count": 41,
          "metadata": {},
          "output_type": "execute_result"
        }
      ],
      "source": [
        "# Se imprime las correlaciones que rechazan la hipotesis nula y confirman una diferencia significativa entre las categorias de la variable categorica y la variable numerica\n",
        "print('Las correlaciones que rechazan la hipotesis nula y confirman una diferencia significativa entre las categorias de la variable categorica y la variable numerica son:')\n",
        "Significativos"
      ]
    },
    {
      "cell_type": "markdown",
      "metadata": {
        "id": "PURpggDvFLig"
      },
      "source": [
        "Conforme el estudio ANOVA realizado en el paso 4b para observar de manera significativa aquellas categorias que tienen correlación con las variables númericas, la categoria mfr tiene mayor significancia al ser evaluada con rating."
      ]
    },
    {
      "cell_type": "markdown",
      "metadata": {
        "id": "oVReo-B8FLig"
      },
      "source": [
        "[('mfr', 'rating', 4.276260419305319e-05)],"
      ]
    },
    {
      "cell_type": "code",
      "execution_count": null,
      "metadata": {
        "id": "OUYTpTTgFLig",
        "outputId": "55d55104-c3f2-468a-9bd2-dfa650520842"
      },
      "outputs": [
        {
          "data": {
            "text/plain": [
              "['N', 'Q', 'K', 'G', 'R', 'P', 'A']\n",
              "Categories (7, object): ['A', 'G', 'K', 'N', 'P', 'Q', 'R']"
            ]
          },
          "execution_count": 42,
          "metadata": {},
          "output_type": "execute_result"
        }
      ],
      "source": [
        "cereals_df[\"mfr\"].unique()"
      ]
    },
    {
      "cell_type": "markdown",
      "metadata": {
        "id": "CFu2R2KLFLig"
      },
      "source": [
        "Se justifica el uso de One Hot Enconding debido a lo siguiente:\n",
        "- La variable categorica mfr es de tipo nominal ya que sus valores no tiene un orden inherente.\n",
        "- No cuenta con muchas categorias.\n",
        "- Este metodo es compatible tanto con relaciones lineales y no lineales."
      ]
    },
    {
      "cell_type": "code",
      "execution_count": null,
      "metadata": {
        "id": "iNp0Hcc5FLig",
        "outputId": "268cce5c-8d35-48ff-cd48-60cf790189a8"
      },
      "outputs": [
        {
          "data": {
            "text/html": [
              "<div>\n",
              "<style scoped>\n",
              "    .dataframe tbody tr th:only-of-type {\n",
              "        vertical-align: middle;\n",
              "    }\n",
              "\n",
              "    .dataframe tbody tr th {\n",
              "        vertical-align: top;\n",
              "    }\n",
              "\n",
              "    .dataframe thead th {\n",
              "        text-align: right;\n",
              "    }\n",
              "</style>\n",
              "<table border=\"1\" class=\"dataframe\">\n",
              "  <thead>\n",
              "    <tr style=\"text-align: right;\">\n",
              "      <th></th>\n",
              "      <th>mfr</th>\n",
              "    </tr>\n",
              "  </thead>\n",
              "  <tbody>\n",
              "    <tr>\n",
              "      <th>count</th>\n",
              "      <td>74</td>\n",
              "    </tr>\n",
              "    <tr>\n",
              "      <th>unique</th>\n",
              "      <td>7</td>\n",
              "    </tr>\n",
              "    <tr>\n",
              "      <th>top</th>\n",
              "      <td>K</td>\n",
              "    </tr>\n",
              "    <tr>\n",
              "      <th>freq</th>\n",
              "      <td>23</td>\n",
              "    </tr>\n",
              "  </tbody>\n",
              "</table>\n",
              "</div>"
            ],
            "text/plain": [
              "       mfr\n",
              "count   74\n",
              "unique   7\n",
              "top      K\n",
              "freq    23"
            ]
          },
          "execution_count": 43,
          "metadata": {},
          "output_type": "execute_result"
        }
      ],
      "source": [
        "cereals_df[[\"mfr\"]].describe()"
      ]
    },
    {
      "cell_type": "code",
      "execution_count": null,
      "metadata": {
        "id": "mXCkI6cnFLig",
        "outputId": "eeb919dd-3677-4319-fefd-0ecaa5fa465d"
      },
      "outputs": [
        {
          "name": "stderr",
          "output_type": "stream",
          "text": [
            "c:\\git\\TecMonterrrey\\CienciaAnaliticaDatos\\actividades-edwinhdez\\venv2\\Lib\\site-packages\\sklearn\\preprocessing\\_encoders.py:975: FutureWarning: `sparse` was renamed to `sparse_output` in version 1.2 and will be removed in 1.4. `sparse_output` is ignored unless you leave `sparse` to its default value.\n",
            "  warnings.warn(\n"
          ]
        }
      ],
      "source": [
        "# Aplicar one hot encoding a la variable mfr usando\n",
        "import pandas as pd\n",
        "from sklearn.preprocessing import OneHotEncoder\n",
        "\n",
        "# Inicializar el codificador one-hot\n",
        "encoder = OneHotEncoder(sparse=False)\n",
        "\n",
        "# Ajustar y transformar las columnas categóricas\n",
        "one_hot = encoder.fit_transform(cereals_df[[\"mfr\"]])\n",
        "\n",
        "# Crear un DataFrame con las columnas one-hot\n",
        "one_hot_df = pd.DataFrame(one_hot, columns=encoder.get_feature_names_out([\"mfr\"]))"
      ]
    },
    {
      "cell_type": "code",
      "execution_count": null,
      "metadata": {
        "id": "Vqj2Ai33FLig",
        "outputId": "19238842-a716-4f34-d4ca-9671688437fe"
      },
      "outputs": [
        {
          "data": {
            "text/html": [
              "<div>\n",
              "<style scoped>\n",
              "    .dataframe tbody tr th:only-of-type {\n",
              "        vertical-align: middle;\n",
              "    }\n",
              "\n",
              "    .dataframe tbody tr th {\n",
              "        vertical-align: top;\n",
              "    }\n",
              "\n",
              "    .dataframe thead th {\n",
              "        text-align: right;\n",
              "    }\n",
              "</style>\n",
              "<table border=\"1\" class=\"dataframe\">\n",
              "  <thead>\n",
              "    <tr style=\"text-align: right;\">\n",
              "      <th></th>\n",
              "      <th>mfr_A</th>\n",
              "      <th>mfr_G</th>\n",
              "      <th>mfr_K</th>\n",
              "      <th>mfr_N</th>\n",
              "      <th>mfr_P</th>\n",
              "      <th>mfr_Q</th>\n",
              "      <th>mfr_R</th>\n",
              "    </tr>\n",
              "  </thead>\n",
              "  <tbody>\n",
              "    <tr>\n",
              "      <th>0</th>\n",
              "      <td>0.00</td>\n",
              "      <td>0.00</td>\n",
              "      <td>0.00</td>\n",
              "      <td>1.00</td>\n",
              "      <td>0.00</td>\n",
              "      <td>0.00</td>\n",
              "      <td>0.00</td>\n",
              "    </tr>\n",
              "    <tr>\n",
              "      <th>1</th>\n",
              "      <td>0.00</td>\n",
              "      <td>0.00</td>\n",
              "      <td>0.00</td>\n",
              "      <td>0.00</td>\n",
              "      <td>0.00</td>\n",
              "      <td>1.00</td>\n",
              "      <td>0.00</td>\n",
              "    </tr>\n",
              "    <tr>\n",
              "      <th>2</th>\n",
              "      <td>0.00</td>\n",
              "      <td>0.00</td>\n",
              "      <td>1.00</td>\n",
              "      <td>0.00</td>\n",
              "      <td>0.00</td>\n",
              "      <td>0.00</td>\n",
              "      <td>0.00</td>\n",
              "    </tr>\n",
              "    <tr>\n",
              "      <th>3</th>\n",
              "      <td>0.00</td>\n",
              "      <td>0.00</td>\n",
              "      <td>1.00</td>\n",
              "      <td>0.00</td>\n",
              "      <td>0.00</td>\n",
              "      <td>0.00</td>\n",
              "      <td>0.00</td>\n",
              "    </tr>\n",
              "    <tr>\n",
              "      <th>4</th>\n",
              "      <td>0.00</td>\n",
              "      <td>1.00</td>\n",
              "      <td>0.00</td>\n",
              "      <td>0.00</td>\n",
              "      <td>0.00</td>\n",
              "      <td>0.00</td>\n",
              "      <td>0.00</td>\n",
              "    </tr>\n",
              "    <tr>\n",
              "      <th>...</th>\n",
              "      <td>...</td>\n",
              "      <td>...</td>\n",
              "      <td>...</td>\n",
              "      <td>...</td>\n",
              "      <td>...</td>\n",
              "      <td>...</td>\n",
              "      <td>...</td>\n",
              "    </tr>\n",
              "    <tr>\n",
              "      <th>69</th>\n",
              "      <td>0.00</td>\n",
              "      <td>1.00</td>\n",
              "      <td>0.00</td>\n",
              "      <td>0.00</td>\n",
              "      <td>0.00</td>\n",
              "      <td>0.00</td>\n",
              "      <td>0.00</td>\n",
              "    </tr>\n",
              "    <tr>\n",
              "      <th>70</th>\n",
              "      <td>0.00</td>\n",
              "      <td>1.00</td>\n",
              "      <td>0.00</td>\n",
              "      <td>0.00</td>\n",
              "      <td>0.00</td>\n",
              "      <td>0.00</td>\n",
              "      <td>0.00</td>\n",
              "    </tr>\n",
              "    <tr>\n",
              "      <th>71</th>\n",
              "      <td>0.00</td>\n",
              "      <td>0.00</td>\n",
              "      <td>0.00</td>\n",
              "      <td>0.00</td>\n",
              "      <td>0.00</td>\n",
              "      <td>0.00</td>\n",
              "      <td>1.00</td>\n",
              "    </tr>\n",
              "    <tr>\n",
              "      <th>72</th>\n",
              "      <td>0.00</td>\n",
              "      <td>1.00</td>\n",
              "      <td>0.00</td>\n",
              "      <td>0.00</td>\n",
              "      <td>0.00</td>\n",
              "      <td>0.00</td>\n",
              "      <td>0.00</td>\n",
              "    </tr>\n",
              "    <tr>\n",
              "      <th>73</th>\n",
              "      <td>0.00</td>\n",
              "      <td>1.00</td>\n",
              "      <td>0.00</td>\n",
              "      <td>0.00</td>\n",
              "      <td>0.00</td>\n",
              "      <td>0.00</td>\n",
              "      <td>0.00</td>\n",
              "    </tr>\n",
              "  </tbody>\n",
              "</table>\n",
              "<p>74 rows × 7 columns</p>\n",
              "</div>"
            ],
            "text/plain": [
              "    mfr_A  mfr_G  mfr_K  mfr_N  mfr_P  mfr_Q  mfr_R\n",
              "0    0.00   0.00   0.00   1.00   0.00   0.00   0.00\n",
              "1    0.00   0.00   0.00   0.00   0.00   1.00   0.00\n",
              "2    0.00   0.00   1.00   0.00   0.00   0.00   0.00\n",
              "3    0.00   0.00   1.00   0.00   0.00   0.00   0.00\n",
              "4    0.00   1.00   0.00   0.00   0.00   0.00   0.00\n",
              "..    ...    ...    ...    ...    ...    ...    ...\n",
              "69   0.00   1.00   0.00   0.00   0.00   0.00   0.00\n",
              "70   0.00   1.00   0.00   0.00   0.00   0.00   0.00\n",
              "71   0.00   0.00   0.00   0.00   0.00   0.00   1.00\n",
              "72   0.00   1.00   0.00   0.00   0.00   0.00   0.00\n",
              "73   0.00   1.00   0.00   0.00   0.00   0.00   0.00\n",
              "\n",
              "[74 rows x 7 columns]"
            ]
          },
          "execution_count": 45,
          "metadata": {},
          "output_type": "execute_result"
        }
      ],
      "source": [
        "one_hot_df"
      ]
    },
    {
      "cell_type": "markdown",
      "metadata": {
        "id": "kJU_vJExj2Lh"
      },
      "source": [
        "10. Conjunta, en un dataframe, las valores proyectados en los componentes seleccionados (mínimo), las transformaciones obtenidas de las variables categóricas que serán predictores y la variable de salida. Almacena el dataframe resultante en archivo."
      ]
    },
    {
      "cell_type": "code",
      "execution_count": null,
      "metadata": {
        "id": "CQSO9aGwFLig"
      },
      "outputs": [],
      "source": [
        "df_proyectados = pd.DataFrame(x_projected)\n",
        "df_categoricas = pd.DataFrame(one_hot_df)\n",
        "df_salida = pd.DataFrame(y)"
      ]
    },
    {
      "cell_type": "code",
      "execution_count": null,
      "metadata": {
        "id": "DLcbTOUtolGR",
        "outputId": "f6ce71c9-050c-4897-f41c-2c851091e2d3"
      },
      "outputs": [
        {
          "name": "stdout",
          "output_type": "stream",
          "text": [
            "       0     1     2     3     4     5     6  mfr_A  mfr_G  mfr_K  mfr_N  \\\n",
            "0   5.04  2.47 -0.05 -1.13  0.67  0.64  0.02   0.00   0.00   0.00   1.00   \n",
            "1   1.50 -0.31 -3.01  3.20  1.34  0.07 -0.40   0.00   0.00   0.00   0.00   \n",
            "2   4.87  1.95  0.87 -1.23  0.36  1.83 -0.23   0.00   0.00   1.00   0.00   \n",
            "3   5.47  3.90  1.88 -1.63  0.60  0.37 -0.81   0.00   0.00   1.00   0.00   \n",
            "4   0.09 -0.39 -1.49  0.05  0.33  0.85  0.27   0.00   1.00   0.00   0.00   \n",
            "..   ...   ...   ...   ...   ...   ...   ...    ...    ...    ...    ...   \n",
            "69 -1.44 -0.26  1.16  0.53 -1.05  0.82  0.67   0.00   1.00   0.00   0.00   \n",
            "70 -1.63 -0.42 -1.67 -0.59  0.13 -0.08 -0.26   0.00   1.00   0.00   0.00   \n",
            "71  0.39  0.48  1.18  0.33 -0.49  0.82  0.33   0.00   0.00   0.00   0.00   \n",
            "72 -0.17  0.49  1.16  0.58  0.15  0.29 -0.63   0.00   1.00   0.00   0.00   \n",
            "73 -0.74 -0.26 -0.21 -0.09 -0.49  0.49  0.34   0.00   1.00   0.00   0.00   \n",
            "\n",
            "    mfr_P  mfr_Q  mfr_R  rating  \n",
            "0    0.00   0.00   0.00   68.40  \n",
            "1    0.00   1.00   0.00   33.98  \n",
            "2    0.00   0.00   0.00   59.43  \n",
            "3    0.00   0.00   0.00   93.70  \n",
            "4    0.00   0.00   0.00   29.51  \n",
            "..    ...    ...    ...     ...  \n",
            "69   0.00   0.00   0.00   39.11  \n",
            "70   0.00   0.00   0.00   27.75  \n",
            "71   0.00   0.00   1.00   49.79  \n",
            "72   0.00   0.00   0.00   51.59  \n",
            "73   0.00   0.00   0.00   36.19  \n",
            "\n",
            "[74 rows x 15 columns]\n"
          ]
        }
      ],
      "source": [
        "# Combinar los DataFrames en uno solo\n",
        "df_completo = pd.concat([df_proyectados, df_categoricas, df_salida], axis=1)\n",
        "\n",
        "# Guardar el DataFrame resultante en un archivo CSV\n",
        "df_completo.to_csv('datos_completos.csv', index=False)\n",
        "\n",
        "# Ver el DataFrame resultante\n",
        "print(df_completo)"
      ]
    }
  ],
  "metadata": {
    "colab": {
      "provenance": [],
      "include_colab_link": true
    },
    "kernelspec": {
      "display_name": "Python 3 (ipykernel)",
      "language": "python",
      "name": "python3"
    },
    "language_info": {
      "codemirror_mode": {
        "name": "ipython",
        "version": 3
      },
      "file_extension": ".py",
      "mimetype": "text/x-python",
      "name": "python",
      "nbconvert_exporter": "python",
      "pygments_lexer": "ipython3",
      "version": "3.11.6"
    }
  },
  "nbformat": 4,
  "nbformat_minor": 0
}
