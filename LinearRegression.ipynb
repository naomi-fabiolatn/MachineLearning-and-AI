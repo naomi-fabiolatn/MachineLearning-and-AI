{
  "cells": [
    {
      "cell_type": "markdown",
      "metadata": {
        "id": "view-in-github",
        "colab_type": "text"
      },
      "source": [
        "<a href=\"https://colab.research.google.com/github/naomi-fabiolatn/Masters/blob/main/LinearRegression.ipynb\" target=\"_parent\"><img src=\"https://colab.research.google.com/assets/colab-badge.svg\" alt=\"Open In Colab\"/></a>"
      ]
    },
    {
      "cell_type": "markdown",
      "metadata": {
        "id": "zZeKeQlF-0tP"
      },
      "source": [
        "**MAESTRÍA EN INTELIGENCIA ARTIFICIAL APLICADA**\n",
        "\n",
        "**Curso: TC4029 - Ciencia y analítica de datos**\n",
        "\n",
        "Tecnológico de Monterrey\n",
        "\n",
        "Prof Grettel Barceló Alonso\n",
        "\n",
        "**Semana 8**\n",
        "Regresión Lineal\n",
        "\n",
        "---"
      ]
    },
    {
      "cell_type": "markdown",
      "metadata": {
        "id": "_jPAgA5K_Atl"
      },
      "source": [
        "*   NOMBRE, MATRÍCULA: Naomi Fabiola Tokunaga Nuñez. A00826875\n"
      ]
    },
    {
      "cell_type": "code",
      "execution_count": null,
      "metadata": {
        "id": "QElz-qw8_Aa7",
        "colab": {
          "base_uri": "https://localhost:8080/"
        },
        "outputId": "1c5a2715-ecdd-4c9e-d744-8446132d4da5"
      },
      "outputs": [
        {
          "output_type": "stream",
          "name": "stdout",
          "text": [
            "Mounted at /content/drive\n"
          ]
        }
      ],
      "source": [
        "#Habilitar solo si se usa google colab\n",
        "from google.colab import drive\n",
        "drive.mount('/content/drive')"
      ]
    },
    {
      "cell_type": "code",
      "execution_count": null,
      "metadata": {
        "id": "KYozDMGz_EzL",
        "colab": {
          "base_uri": "https://localhost:8080/",
          "height": 210
        },
        "outputId": "eb201018-7621-4485-d5dd-b14f0944d3c8"
      },
      "outputs": [
        {
          "output_type": "error",
          "ename": "FileNotFoundError",
          "evalue": "ignored",
          "traceback": [
            "\u001b[0;31m---------------------------------------------------------------------------\u001b[0m",
            "\u001b[0;31mFileNotFoundError\u001b[0m                         Traceback (most recent call last)",
            "\u001b[0;32m<ipython-input-8-ebed9765a2a7>\u001b[0m in \u001b[0;36m<cell line: 4>\u001b[0;34m()\u001b[0m\n\u001b[1;32m      2\u001b[0m \u001b[0;32mimport\u001b[0m \u001b[0mos\u001b[0m\u001b[0;34m\u001b[0m\u001b[0;34m\u001b[0m\u001b[0m\n\u001b[1;32m      3\u001b[0m \u001b[0mDIR\u001b[0m \u001b[0;34m=\u001b[0m \u001b[0;34m\"C:\\\\Git\\\\TecMonterrrey\\\\CienciaAnaliticaDatos\\\\actividades-edwinhdez\"\u001b[0m\u001b[0;34m\u001b[0m\u001b[0;34m\u001b[0m\u001b[0m\n\u001b[0;32m----> 4\u001b[0;31m \u001b[0mos\u001b[0m\u001b[0;34m.\u001b[0m\u001b[0mchdir\u001b[0m\u001b[0;34m(\u001b[0m\u001b[0mDIR\u001b[0m\u001b[0;34m)\u001b[0m\u001b[0;34m\u001b[0m\u001b[0;34m\u001b[0m\u001b[0m\n\u001b[0m",
            "\u001b[0;31mFileNotFoundError\u001b[0m: [Errno 2] No such file or directory: 'C:\\\\Git\\\\TecMonterrrey\\\\CienciaAnaliticaDatos\\\\actividades-edwinhdez'"
          ]
        }
    {
      "cell_type": "code",
      "execution_count": null,
      "metadata": {
        "id": "wMArpaFx_Mbd"
      },
      "outputs": [],
      "source": [
        "import pandas as pd\n",
        "import numpy as np\n",
        "import matplotlib.pyplot as plt\n",
        "import seaborn as sns"
      ]
    },
    {
      "cell_type": "code",
      "source": [
        "import os\n",
        "DIR = \"/content/drive/MyDrive/Colab Notebooks/MNA/TC4029 - Ciencia y analítica de datos/Semana 8/Actividad8_RLineal\"\n",
        "os.chdir(DIR)"
      ],
      "metadata": {
        "id": "0vU57J5JU6q0"
      },
      "execution_count": null,
      "outputs": []
    },
    {
      "cell_type": "code",
      "execution_count": null,
      "metadata": {
        "colab": {
          "base_uri": "https://localhost:8080/",
          "height": 423
        },
        "id": "jenoVKNN_OhH",
        "outputId": "73c99048-9eb8-4a0b-b371-b1204c69df1f"
      },
      "outputs": [
        {
          "output_type": "execute_result",
          "data": {
            "text/plain": [
              "      age     sex     bmi  children smoker     region      charges\n",
              "0      19  female  27.900         0    yes  southwest  16884.92400\n",
              "1      18    male  33.770         1     no  southeast   1725.55230\n",
              "2      28    male  33.000         3     no  southeast   4449.46200\n",
              "3      33    male  22.705         0     no  northwest  21984.47061\n",
              "4      32    male  28.880         0     no  northwest   3866.85520\n",
              "...   ...     ...     ...       ...    ...        ...          ...\n",
              "1333   50    male  30.970         3     no  northwest  10600.54830\n",
              "1334   18  female  31.920         0     no  northeast   2205.98080\n",
              "1335   18  female  36.850         0     no  southeast   1629.83350\n",
              "1336   21  female  25.800         0     no  southwest   2007.94500\n",
              "1337   61  female  29.070         0    yes  northwest  29141.36030\n",
              "\n",
              "[1338 rows x 7 columns]"
            ],
            "text/html": [
              "\n",
              "  <div id=\"df-61325066-a745-46b2-906a-388c3c277318\" class=\"colab-df-container\">\n",
              "    <div>\n",
              "<style scoped>\n",
              "    .dataframe tbody tr th:only-of-type {\n",
              "        vertical-align: middle;\n",
              "    }\n",
              "\n",
              "    .dataframe tbody tr th {\n",
              "        vertical-align: top;\n",
              "    }\n",
              "\n",
              "    .dataframe thead th {\n",
              "        text-align: right;\n",
              "    }\n",
              "</style>\n",
              "<table border=\"1\" class=\"dataframe\">\n",
              "  <thead>\n",
              "    <tr style=\"text-align: right;\">\n",
              "      <th></th>\n",
              "      <th>age</th>\n",
              "      <th>sex</th>\n",
              "      <th>bmi</th>\n",
              "      <th>children</th>\n",
              "      <th>smoker</th>\n",
              "      <th>region</th>\n",
              "      <th>charges</th>\n",
              "    </tr>\n",
              "  </thead>\n",
              "  <tbody>\n",
              "    <tr>\n",
              "      <th>0</th>\n",
              "      <td>19</td>\n",
              "      <td>female</td>\n",
              "      <td>27.900</td>\n",
              "      <td>0</td>\n",
              "      <td>yes</td>\n",
              "      <td>southwest</td>\n",
              "      <td>16884.92400</td>\n",
              "    </tr>\n",
              "    <tr>\n",
              "      <th>1</th>\n",
              "      <td>18</td>\n",
              "      <td>male</td>\n",
              "      <td>33.770</td>\n",
              "      <td>1</td>\n",
              "      <td>no</td>\n",
              "      <td>southeast</td>\n",
              "      <td>1725.55230</td>\n",
              "    </tr>\n",
              "    <tr>\n",
              "      <th>2</th>\n",
              "      <td>28</td>\n",
              "      <td>male</td>\n",
              "      <td>33.000</td>\n",
              "      <td>3</td>\n",
              "      <td>no</td>\n",
              "      <td>southeast</td>\n",
              "      <td>4449.46200</td>\n",
              "    </tr>\n",
              "    <tr>\n",
              "      <th>3</th>\n",
              "      <td>33</td>\n",
              "      <td>male</td>\n",
              "      <td>22.705</td>\n",
              "      <td>0</td>\n",
              "      <td>no</td>\n",
              "      <td>northwest</td>\n",
              "      <td>21984.47061</td>\n",
              "    </tr>\n",
              "    <tr>\n",
              "      <th>4</th>\n",
              "      <td>32</td>\n",
              "      <td>male</td>\n",
              "      <td>28.880</td>\n",
              "      <td>0</td>\n",
              "      <td>no</td>\n",
              "      <td>northwest</td>\n",
              "      <td>3866.85520</td>\n",
              "    </tr>\n",
              "    <tr>\n",
              "      <th>...</th>\n",
              "      <td>...</td>\n",
              "      <td>...</td>\n",
              "      <td>...</td>\n",
              "      <td>...</td>\n",
              "      <td>...</td>\n",
              "      <td>...</td>\n",
              "      <td>...</td>\n",
              "    </tr>\n",
              "    <tr>\n",
              "      <th>1333</th>\n",
              "      <td>50</td>\n",
              "      <td>male</td>\n",
              "      <td>30.970</td>\n",
              "      <td>3</td>\n",
              "      <td>no</td>\n",
              "      <td>northwest</td>\n",
              "      <td>10600.54830</td>\n",
              "    </tr>\n",
              "    <tr>\n",
              "      <th>1334</th>\n",
              "      <td>18</td>\n",
              "      <td>female</td>\n",
              "      <td>31.920</td>\n",
              "      <td>0</td>\n",
              "      <td>no</td>\n",
              "      <td>northeast</td>\n",
              "      <td>2205.98080</td>\n",
              "    </tr>\n",
              "    <tr>\n",
              "      <th>1335</th>\n",
              "      <td>18</td>\n",
              "      <td>female</td>\n",
              "      <td>36.850</td>\n",
              "      <td>0</td>\n",
              "      <td>no</td>\n",
              "      <td>southeast</td>\n",
              "      <td>1629.83350</td>\n",
              "    </tr>\n",
              "    <tr>\n",
              "      <th>1336</th>\n",
              "      <td>21</td>\n",
              "      <td>female</td>\n",
              "      <td>25.800</td>\n",
              "      <td>0</td>\n",
              "      <td>no</td>\n",
              "      <td>southwest</td>\n",
              "      <td>2007.94500</td>\n",
              "    </tr>\n",
              "    <tr>\n",
              "      <th>1337</th>\n",
              "      <td>61</td>\n",
              "      <td>female</td>\n",
              "      <td>29.070</td>\n",
              "      <td>0</td>\n",
              "      <td>yes</td>\n",
              "      <td>northwest</td>\n",
              "      <td>29141.36030</td>\n",
              "    </tr>\n",
              "  </tbody>\n",
              "</table>\n",
              "<p>1338 rows × 7 columns</p>\n",
              "</div>\n",
              "    <div class=\"colab-df-buttons\">\n",
              "\n",
              "  <div class=\"colab-df-container\">\n",
              "    <button class=\"colab-df-convert\" onclick=\"convertToInteractive('df-61325066-a745-46b2-906a-388c3c277318')\"\n",
              "            title=\"Convert this dataframe to an interactive table.\"\n",
              "            style=\"display:none;\">\n",
              "\n",
              "  <svg xmlns=\"http://www.w3.org/2000/svg\" height=\"24px\" viewBox=\"0 -960 960 960\">\n",
              "    <path d=\"M120-120v-720h720v720H120Zm60-500h600v-160H180v160Zm220 220h160v-160H400v160Zm0 220h160v-160H400v160ZM180-400h160v-160H180v160Zm440 0h160v-160H620v160ZM180-180h160v-160H180v160Zm440 0h160v-160H620v160Z\"/>\n",
              "  </svg>\n",
              "    </button>\n",
              "\n",
              "  <style>\n",
              "    .colab-df-container {\n",
              "      display:flex;\n",
              "      gap: 12px;\n",
              "    }\n",
              "\n",
              "    .colab-df-convert {\n",
              "      background-color: #E8F0FE;\n",
              "      border: none;\n",
              "      border-radius: 50%;\n",
              "      cursor: pointer;\n",
              "      display: none;\n",
              "      fill: #1967D2;\n",
              "      height: 32px;\n",
              "      padding: 0 0 0 0;\n",
              "      width: 32px;\n",
              "    }\n",
              "\n",
              "    .colab-df-convert:hover {\n",
              "      background-color: #E2EBFA;\n",
              "      box-shadow: 0px 1px 2px rgba(60, 64, 67, 0.3), 0px 1px 3px 1px rgba(60, 64, 67, 0.15);\n",
              "      fill: #174EA6;\n",
              "    }\n",
              "\n",
              "    .colab-df-buttons div {\n",
              "      margin-bottom: 4px;\n",
              "    }\n",
              "\n",
              "    [theme=dark] .colab-df-convert {\n",
              "      background-color: #3B4455;\n",
              "      fill: #D2E3FC;\n",
              "    }\n",
              "\n",
              "    [theme=dark] .colab-df-convert:hover {\n",
              "      background-color: #434B5C;\n",
              "      box-shadow: 0px 1px 3px 1px rgba(0, 0, 0, 0.15);\n",
              "      filter: drop-shadow(0px 1px 2px rgba(0, 0, 0, 0.3));\n",
              "      fill: #FFFFFF;\n",
              "    }\n",
              "  </style>\n",
              "\n",
              "    <script>\n",
              "      const buttonEl =\n",
              "        document.querySelector('#df-61325066-a745-46b2-906a-388c3c277318 button.colab-df-convert');\n",
              "      buttonEl.style.display =\n",
              "        google.colab.kernel.accessAllowed ? 'block' : 'none';\n",
              "\n",
              "      async function convertToInteractive(key) {\n",
              "        const element = document.querySelector('#df-61325066-a745-46b2-906a-388c3c277318');\n",
              "        const dataTable =\n",
              "          await google.colab.kernel.invokeFunction('convertToInteractive',\n",
              "                                                    [key], {});\n",
              "        if (!dataTable) return;\n",
              "\n",
              "        const docLinkHtml = 'Like what you see? Visit the ' +\n",
              "          '<a target=\"_blank\" href=https://colab.research.google.com/notebooks/data_table.ipynb>data table notebook</a>'\n",
              "          + ' to learn more about interactive tables.';\n",
              "        element.innerHTML = '';\n",
              "        dataTable['output_type'] = 'display_data';\n",
              "        await google.colab.output.renderOutput(dataTable, element);\n",
              "        const docLink = document.createElement('div');\n",
              "        docLink.innerHTML = docLinkHtml;\n",
              "        element.appendChild(docLink);\n",
              "      }\n",
              "    </script>\n",
              "  </div>\n",
              "\n",
              "\n",
              "<div id=\"df-b95ae28c-74ff-4224-aff0-fc4c2a6bda34\">\n",
              "  <button class=\"colab-df-quickchart\" onclick=\"quickchart('df-b95ae28c-74ff-4224-aff0-fc4c2a6bda34')\"\n",
              "            title=\"Suggest charts.\"\n",
              "            style=\"display:none;\">\n",
              "\n",
              "<svg xmlns=\"http://www.w3.org/2000/svg\" height=\"24px\"viewBox=\"0 0 24 24\"\n",
              "     width=\"24px\">\n",
              "    <g>\n",
              "        <path d=\"M19 3H5c-1.1 0-2 .9-2 2v14c0 1.1.9 2 2 2h14c1.1 0 2-.9 2-2V5c0-1.1-.9-2-2-2zM9 17H7v-7h2v7zm4 0h-2V7h2v10zm4 0h-2v-4h2v4z\"/>\n",
              "    </g>\n",
              "</svg>\n",
              "  </button>\n",
              "\n",
              "<style>\n",
              "  .colab-df-quickchart {\n",
              "      --bg-color: #E8F0FE;\n",
              "      --fill-color: #1967D2;\n",
              "      --hover-bg-color: #E2EBFA;\n",
              "      --hover-fill-color: #174EA6;\n",
              "      --disabled-fill-color: #AAA;\n",
              "      --disabled-bg-color: #DDD;\n",
              "  }\n",
              "\n",
              "  [theme=dark] .colab-df-quickchart {\n",
              "      --bg-color: #3B4455;\n",
              "      --fill-color: #D2E3FC;\n",
              "      --hover-bg-color: #434B5C;\n",
              "      --hover-fill-color: #FFFFFF;\n",
              "      --disabled-bg-color: #3B4455;\n",
              "      --disabled-fill-color: #666;\n",
              "  }\n",
              "\n",
              "  .colab-df-quickchart {\n",
              "    background-color: var(--bg-color);\n",
              "    border: none;\n",
              "    border-radius: 50%;\n",
              "    cursor: pointer;\n",
              "    display: none;\n",
              "    fill: var(--fill-color);\n",
              "    height: 32px;\n",
              "    padding: 0;\n",
              "    width: 32px;\n",
              "  }\n",
              "\n",
              "  .colab-df-quickchart:hover {\n",
              "    background-color: var(--hover-bg-color);\n",
              "    box-shadow: 0 1px 2px rgba(60, 64, 67, 0.3), 0 1px 3px 1px rgba(60, 64, 67, 0.15);\n",
              "    fill: var(--button-hover-fill-color);\n",
              "  }\n",
              "\n",
              "  .colab-df-quickchart-complete:disabled,\n",
              "  .colab-df-quickchart-complete:disabled:hover {\n",
              "    background-color: var(--disabled-bg-color);\n",
              "    fill: var(--disabled-fill-color);\n",
              "    box-shadow: none;\n",
              "  }\n",
              "\n",
              "  .colab-df-spinner {\n",
              "    border: 2px solid var(--fill-color);\n",
              "    border-color: transparent;\n",
              "    border-bottom-color: var(--fill-color);\n",
              "    animation:\n",
              "      spin 1s steps(1) infinite;\n",
              "  }\n",
              "\n",
              "  @keyframes spin {\n",
              "    0% {\n",
              "      border-color: transparent;\n",
              "      border-bottom-color: var(--fill-color);\n",
              "      border-left-color: var(--fill-color);\n",
              "    }\n",
              "    20% {\n",
              "      border-color: transparent;\n",
              "      border-left-color: var(--fill-color);\n",
              "      border-top-color: var(--fill-color);\n",
              "    }\n",
              "    30% {\n",
              "      border-color: transparent;\n",
              "      border-left-color: var(--fill-color);\n",
              "      border-top-color: var(--fill-color);\n",
              "      border-right-color: var(--fill-color);\n",
              "    }\n",
              "    40% {\n",
              "      border-color: transparent;\n",
              "      border-right-color: var(--fill-color);\n",
              "      border-top-color: var(--fill-color);\n",
              "    }\n",
              "    60% {\n",
              "      border-color: transparent;\n",
              "      border-right-color: var(--fill-color);\n",
              "    }\n",
              "    80% {\n",
              "      border-color: transparent;\n",
              "      border-right-color: var(--fill-color);\n",
              "      border-bottom-color: var(--fill-color);\n",
              "    }\n",
              "    90% {\n",
              "      border-color: transparent;\n",
              "      border-bottom-color: var(--fill-color);\n",
              "    }\n",
              "  }\n",
              "</style>\n",
              "\n",
              "  <script>\n",
              "    async function quickchart(key) {\n",
              "      const quickchartButtonEl =\n",
              "        document.querySelector('#' + key + ' button');\n",
              "      quickchartButtonEl.disabled = true;  // To prevent multiple clicks.\n",
              "      quickchartButtonEl.classList.add('colab-df-spinner');\n",
              "      try {\n",
              "        const charts = await google.colab.kernel.invokeFunction(\n",
              "            'suggestCharts', [key], {});\n",
              "      } catch (error) {\n",
              "        console.error('Error during call to suggestCharts:', error);\n",
              "      }\n",
              "      quickchartButtonEl.classList.remove('colab-df-spinner');\n",
              "      quickchartButtonEl.classList.add('colab-df-quickchart-complete');\n",
              "    }\n",
              "    (() => {\n",
              "      let quickchartButtonEl =\n",
              "        document.querySelector('#df-b95ae28c-74ff-4224-aff0-fc4c2a6bda34 button');\n",
              "      quickchartButtonEl.style.display =\n",
              "        google.colab.kernel.accessAllowed ? 'block' : 'none';\n",
              "    })();\n",
              "  </script>\n",
              "</div>\n",
              "    </div>\n",
              "  </div>\n"
            ]
          },
          "metadata": {},
          "execution_count": 6
        }
      ],
      "source": [
        "insurance_df = pd.read_csv('insurance.csv')\n",
        "insurance_df"
      ]
    },
    {
      "cell_type": "markdown",
      "metadata": {
        "id": "VYwGAFlVgYCp"
      },
      "source": [
        "# **Parte 1**. EDA"
      ]
    },
    {
      "cell_type": "markdown",
      "metadata": {
        "id": "OPfTGSQBgw5C"
      },
      "source": [
        "Efectúa una exploración inicial de los datos a través de:\n",
        "\n",
        "1a) Estadísticas descriptivas para todas las variables del dataframe."
      ]
    },
    {
      "cell_type": "code",
      "execution_count": null,
      "metadata": {
        "id": "OVG3yRj0k1SW",
        "outputId": "ce37a2c3-7c3c-40cd-bf0f-1d711a15b9c9",
        "colab": {
          "base_uri": "https://localhost:8080/"
        }
      },
      "outputs": [
        {
          "output_type": "execute_result",
          "data": {
            "text/plain": [
              "(1338, 7)"
            ]
          },
          "metadata": {},
          "execution_count": 7
        }
      ],
      "source": [
        "insurance_df.shape\n"
      ]
    },
    {
      "cell_type": "code",
      "execution_count": null,
      "metadata": {
        "id": "wiRn9BXQlagU",
        "outputId": "8a125f00-c5fd-4296-a42c-33b45eaed548",
        "colab": {
          "base_uri": "https://localhost:8080/",
          "height": 300
        }
      },
      "outputs": [
        {
          "output_type": "execute_result",
          "data": {
            "text/plain": [
              "               age          bmi     children       charges\n",
              "count  1338.000000  1338.000000  1338.000000   1338.000000\n",
              "mean     39.207025    30.663397     1.094918  13270.422265\n",
              "std      14.049960     6.098187     1.205493  12110.011237\n",
              "min      18.000000    15.960000     0.000000   1121.873900\n",
              "25%      27.000000    26.296250     0.000000   4740.287150\n",
              "50%      39.000000    30.400000     1.000000   9382.033000\n",
              "75%      51.000000    34.693750     2.000000  16639.912515\n",
              "max      64.000000    53.130000     5.000000  63770.428010"
            ],
            "text/html": [
              "\n",
              "  <div id=\"df-5f23f995-5c64-40f7-aedc-e1f9026a0f6f\" class=\"colab-df-container\">\n",
              "    <div>\n",
              "<style scoped>\n",
              "    .dataframe tbody tr th:only-of-type {\n",
              "        vertical-align: middle;\n",
              "    }\n",
              "\n",
              "    .dataframe tbody tr th {\n",
              "        vertical-align: top;\n",
              "    }\n",
              "\n",
              "    .dataframe thead th {\n",
              "        text-align: right;\n",
              "    }\n",
              "</style>\n",
              "<table border=\"1\" class=\"dataframe\">\n",
              "  <thead>\n",
              "    <tr style=\"text-align: right;\">\n",
              "      <th></th>\n",
              "      <th>age</th>\n",
              "      <th>bmi</th>\n",
              "      <th>children</th>\n",
              "      <th>charges</th>\n",
              "    </tr>\n",
              "  </thead>\n",
              "  <tbody>\n",
              "    <tr>\n",
              "      <th>count</th>\n",
              "      <td>1338.000000</td>\n",
              "      <td>1338.000000</td>\n",
              "      <td>1338.000000</td>\n",
              "      <td>1338.000000</td>\n",
              "    </tr>\n",
              "    <tr>\n",
              "      <th>mean</th>\n",
              "      <td>39.207025</td>\n",
              "      <td>30.663397</td>\n",
              "      <td>1.094918</td>\n",
              "      <td>13270.422265</td>\n",
              "    </tr>\n",
              "    <tr>\n",
              "      <th>std</th>\n",
              "      <td>14.049960</td>\n",
              "      <td>6.098187</td>\n",
              "      <td>1.205493</td>\n",
              "      <td>12110.011237</td>\n",
              "    </tr>\n",
              "    <tr>\n",
              "      <th>min</th>\n",
              "      <td>18.000000</td>\n",
              "      <td>15.960000</td>\n",
              "      <td>0.000000</td>\n",
              "      <td>1121.873900</td>\n",
              "    </tr>\n",
              "    <tr>\n",
              "      <th>25%</th>\n",
              "      <td>27.000000</td>\n",
              "      <td>26.296250</td>\n",
              "      <td>0.000000</td>\n",
              "      <td>4740.287150</td>\n",
              "    </tr>\n",
              "    <tr>\n",
              "      <th>50%</th>\n",
              "      <td>39.000000</td>\n",
              "      <td>30.400000</td>\n",
              "      <td>1.000000</td>\n",
              "      <td>9382.033000</td>\n",
              "    </tr>\n",
              "    <tr>\n",
              "      <th>75%</th>\n",
              "      <td>51.000000</td>\n",
              "      <td>34.693750</td>\n",
              "      <td>2.000000</td>\n",
              "      <td>16639.912515</td>\n",
              "    </tr>\n",
              "    <tr>\n",
              "      <th>max</th>\n",
              "      <td>64.000000</td>\n",
              "      <td>53.130000</td>\n",
              "      <td>5.000000</td>\n",
              "      <td>63770.428010</td>\n",
              "    </tr>\n",
              "  </tbody>\n",
              "</table>\n",
              "</div>\n",
              "    <div class=\"colab-df-buttons\">\n",
              "\n",
              "  <div class=\"colab-df-container\">\n",
              "    <button class=\"colab-df-convert\" onclick=\"convertToInteractive('df-5f23f995-5c64-40f7-aedc-e1f9026a0f6f')\"\n",
              "            title=\"Convert this dataframe to an interactive table.\"\n",
              "            style=\"display:none;\">\n",
              "\n",
              "  <svg xmlns=\"http://www.w3.org/2000/svg\" height=\"24px\" viewBox=\"0 -960 960 960\">\n",
              "    <path d=\"M120-120v-720h720v720H120Zm60-500h600v-160H180v160Zm220 220h160v-160H400v160Zm0 220h160v-160H400v160ZM180-400h160v-160H180v160Zm440 0h160v-160H620v160ZM180-180h160v-160H180v160Zm440 0h160v-160H620v160Z\"/>\n",
              "  </svg>\n",
              "    </button>\n",
              "\n",
              "  <style>\n",
              "    .colab-df-container {\n",
              "      display:flex;\n",
              "      gap: 12px;\n",
              "    }\n",
              "\n",
              "    .colab-df-convert {\n",
              "      background-color: #E8F0FE;\n",
              "      border: none;\n",
              "      border-radius: 50%;\n",
              "      cursor: pointer;\n",
              "      display: none;\n",
              "      fill: #1967D2;\n",
              "      height: 32px;\n",
              "      padding: 0 0 0 0;\n",
              "      width: 32px;\n",
              "    }\n",
              "\n",
              "    .colab-df-convert:hover {\n",
              "      background-color: #E2EBFA;\n",
              "      box-shadow: 0px 1px 2px rgba(60, 64, 67, 0.3), 0px 1px 3px 1px rgba(60, 64, 67, 0.15);\n",
              "      fill: #174EA6;\n",
              "    }\n",
              "\n",
              "    .colab-df-buttons div {\n",
              "      margin-bottom: 4px;\n",
              "    }\n",
              "\n",
              "    [theme=dark] .colab-df-convert {\n",
              "      background-color: #3B4455;\n",
              "      fill: #D2E3FC;\n",
              "    }\n",
              "\n",
              "    [theme=dark] .colab-df-convert:hover {\n",
              "      background-color: #434B5C;\n",
              "      box-shadow: 0px 1px 3px 1px rgba(0, 0, 0, 0.15);\n",
              "      filter: drop-shadow(0px 1px 2px rgba(0, 0, 0, 0.3));\n",
              "      fill: #FFFFFF;\n",
              "    }\n",
              "  </style>\n",
              "\n",
              "    <script>\n",
              "      const buttonEl =\n",
              "        document.querySelector('#df-5f23f995-5c64-40f7-aedc-e1f9026a0f6f button.colab-df-convert');\n",
              "      buttonEl.style.display =\n",
              "        google.colab.kernel.accessAllowed ? 'block' : 'none';\n",
              "\n",
              "      async function convertToInteractive(key) {\n",
              "        const element = document.querySelector('#df-5f23f995-5c64-40f7-aedc-e1f9026a0f6f');\n",
              "        const dataTable =\n",
              "          await google.colab.kernel.invokeFunction('convertToInteractive',\n",
              "                                                    [key], {});\n",
              "        if (!dataTable) return;\n",
              "\n",
              "        const docLinkHtml = 'Like what you see? Visit the ' +\n",
              "          '<a target=\"_blank\" href=https://colab.research.google.com/notebooks/data_table.ipynb>data table notebook</a>'\n",
              "          + ' to learn more about interactive tables.';\n",
              "        element.innerHTML = '';\n",
              "        dataTable['output_type'] = 'display_data';\n",
              "        await google.colab.output.renderOutput(dataTable, element);\n",
              "        const docLink = document.createElement('div');\n",
              "        docLink.innerHTML = docLinkHtml;\n",
              "        element.appendChild(docLink);\n",
              "      }\n",
              "    </script>\n",
              "  </div>\n",
              "\n",
              "\n",
              "<div id=\"df-c74e389e-edec-4e22-a37b-c053515cb70f\">\n",
              "  <button class=\"colab-df-quickchart\" onclick=\"quickchart('df-c74e389e-edec-4e22-a37b-c053515cb70f')\"\n",
              "            title=\"Suggest charts.\"\n",
              "            style=\"display:none;\">\n",
              "\n",
              "<svg xmlns=\"http://www.w3.org/2000/svg\" height=\"24px\"viewBox=\"0 0 24 24\"\n",
              "     width=\"24px\">\n",
              "    <g>\n",
              "        <path d=\"M19 3H5c-1.1 0-2 .9-2 2v14c0 1.1.9 2 2 2h14c1.1 0 2-.9 2-2V5c0-1.1-.9-2-2-2zM9 17H7v-7h2v7zm4 0h-2V7h2v10zm4 0h-2v-4h2v4z\"/>\n",
              "    </g>\n",
              "</svg>\n",
              "  </button>\n",
              "\n",
              "<style>\n",
              "  .colab-df-quickchart {\n",
              "      --bg-color: #E8F0FE;\n",
              "      --fill-color: #1967D2;\n",
              "      --hover-bg-color: #E2EBFA;\n",
              "      --hover-fill-color: #174EA6;\n",
              "      --disabled-fill-color: #AAA;\n",
              "      --disabled-bg-color: #DDD;\n",
              "  }\n",
              "\n",
              "  [theme=dark] .colab-df-quickchart {\n",
              "      --bg-color: #3B4455;\n",
              "      --fill-color: #D2E3FC;\n",
              "      --hover-bg-color: #434B5C;\n",
              "      --hover-fill-color: #FFFFFF;\n",
              "      --disabled-bg-color: #3B4455;\n",
              "      --disabled-fill-color: #666;\n",
              "  }\n",
              "\n",
              "  .colab-df-quickchart {\n",
              "    background-color: var(--bg-color);\n",
              "    border: none;\n",
              "    border-radius: 50%;\n",
              "    cursor: pointer;\n",
              "    display: none;\n",
              "    fill: var(--fill-color);\n",
              "    height: 32px;\n",
              "    padding: 0;\n",
              "    width: 32px;\n",
              "  }\n",
              "\n",
              "  .colab-df-quickchart:hover {\n",
              "    background-color: var(--hover-bg-color);\n",
              "    box-shadow: 0 1px 2px rgba(60, 64, 67, 0.3), 0 1px 3px 1px rgba(60, 64, 67, 0.15);\n",
              "    fill: var(--button-hover-fill-color);\n",
              "  }\n",
              "\n",
              "  .colab-df-quickchart-complete:disabled,\n",
              "  .colab-df-quickchart-complete:disabled:hover {\n",
              "    background-color: var(--disabled-bg-color);\n",
              "    fill: var(--disabled-fill-color);\n",
              "    box-shadow: none;\n",
              "  }\n",
              "\n",
              "  .colab-df-spinner {\n",
              "    border: 2px solid var(--fill-color);\n",
              "    border-color: transparent;\n",
              "    border-bottom-color: var(--fill-color);\n",
              "    animation:\n",
              "      spin 1s steps(1) infinite;\n",
              "  }\n",
              "\n",
              "  @keyframes spin {\n",
              "    0% {\n",
              "      border-color: transparent;\n",
              "      border-bottom-color: var(--fill-color);\n",
              "      border-left-color: var(--fill-color);\n",
              "    }\n",
              "    20% {\n",
              "      border-color: transparent;\n",
              "      border-left-color: var(--fill-color);\n",
              "      border-top-color: var(--fill-color);\n",
              "    }\n",
              "    30% {\n",
              "      border-color: transparent;\n",
              "      border-left-color: var(--fill-color);\n",
              "      border-top-color: var(--fill-color);\n",
              "      border-right-color: var(--fill-color);\n",
              "    }\n",
              "    40% {\n",
              "      border-color: transparent;\n",
              "      border-right-color: var(--fill-color);\n",
              "      border-top-color: var(--fill-color);\n",
              "    }\n",
              "    60% {\n",
              "      border-color: transparent;\n",
              "      border-right-color: var(--fill-color);\n",
              "    }\n",
              "    80% {\n",
              "      border-color: transparent;\n",
              "      border-right-color: var(--fill-color);\n",
              "      border-bottom-color: var(--fill-color);\n",
              "    }\n",
              "    90% {\n",
              "      border-color: transparent;\n",
              "      border-bottom-color: var(--fill-color);\n",
              "    }\n",
              "  }\n",
              "</style>\n",
              "\n",
              "  <script>\n",
              "    async function quickchart(key) {\n",
              "      const quickchartButtonEl =\n",
              "        document.querySelector('#' + key + ' button');\n",
              "      quickchartButtonEl.disabled = true;  // To prevent multiple clicks.\n",
              "      quickchartButtonEl.classList.add('colab-df-spinner');\n",
              "      try {\n",
              "        const charts = await google.colab.kernel.invokeFunction(\n",
              "            'suggestCharts', [key], {});\n",
              "      } catch (error) {\n",
              "        console.error('Error during call to suggestCharts:', error);\n",
              "      }\n",
              "      quickchartButtonEl.classList.remove('colab-df-spinner');\n",
              "      quickchartButtonEl.classList.add('colab-df-quickchart-complete');\n",
              "    }\n",
              "    (() => {\n",
              "      let quickchartButtonEl =\n",
              "        document.querySelector('#df-c74e389e-edec-4e22-a37b-c053515cb70f button');\n",
              "      quickchartButtonEl.style.display =\n",
              "        google.colab.kernel.accessAllowed ? 'block' : 'none';\n",
              "    })();\n",
              "  </script>\n",
              "</div>\n",
              "    </div>\n",
              "  </div>\n"
            ]
          },
          "metadata": {},
          "execution_count": 8
        }
      ],
      "source": [
        "insurance_df.shape\n",
        "insurance_df.describe()"
      ]
    },
    {
      "cell_type": "code",
      "execution_count": null,
      "metadata": {
        "id": "aikEsmNDk1SX",
        "outputId": "a143598e-3e30-48fa-de01-71225af2914e",
        "colab": {
          "base_uri": "https://localhost:8080/",
          "height": 174
        }
      },
      "outputs": [
        {
          "output_type": "execute_result",
          "data": {
            "text/plain": [
              "         sex smoker     region\n",
              "count   1338   1338       1338\n",
              "unique     2      2          4\n",
              "top     male     no  southeast\n",
              "freq     676   1064        364"
            ],
            "text/html": [
              "\n",
              "  <div id=\"df-0d4e2354-eb13-45f4-8786-12f49a1288ad\" class=\"colab-df-container\">\n",
              "    <div>\n",
              "<style scoped>\n",
              "    .dataframe tbody tr th:only-of-type {\n",
              "        vertical-align: middle;\n",
              "    }\n",
              "\n",
              "    .dataframe tbody tr th {\n",
              "        vertical-align: top;\n",
              "    }\n",
              "\n",
              "    .dataframe thead th {\n",
              "        text-align: right;\n",
              "    }\n",
              "</style>\n",
              "<table border=\"1\" class=\"dataframe\">\n",
              "  <thead>\n",
              "    <tr style=\"text-align: right;\">\n",
              "      <th></th>\n",
              "      <th>sex</th>\n",
              "      <th>smoker</th>\n",
              "      <th>region</th>\n",
              "    </tr>\n",
              "  </thead>\n",
              "  <tbody>\n",
              "    <tr>\n",
              "      <th>count</th>\n",
              "      <td>1338</td>\n",
              "      <td>1338</td>\n",
              "      <td>1338</td>\n",
              "    </tr>\n",
              "    <tr>\n",
              "      <th>unique</th>\n",
              "      <td>2</td>\n",
              "      <td>2</td>\n",
              "      <td>4</td>\n",
              "    </tr>\n",
              "    <tr>\n",
              "      <th>top</th>\n",
              "      <td>male</td>\n",
              "      <td>no</td>\n",
              "      <td>southeast</td>\n",
              "    </tr>\n",
              "    <tr>\n",
              "      <th>freq</th>\n",
              "      <td>676</td>\n",
              "      <td>1064</td>\n",
              "      <td>364</td>\n",
              "    </tr>\n",
              "  </tbody>\n",
              "</table>\n",
              "</div>\n",
              "    <div class=\"colab-df-buttons\">\n",
              "\n",
              "  <div class=\"colab-df-container\">\n",
              "    <button class=\"colab-df-convert\" onclick=\"convertToInteractive('df-0d4e2354-eb13-45f4-8786-12f49a1288ad')\"\n",
              "            title=\"Convert this dataframe to an interactive table.\"\n",
              "            style=\"display:none;\">\n",
              "\n",
              "  <svg xmlns=\"http://www.w3.org/2000/svg\" height=\"24px\" viewBox=\"0 -960 960 960\">\n",
              "    <path d=\"M120-120v-720h720v720H120Zm60-500h600v-160H180v160Zm220 220h160v-160H400v160Zm0 220h160v-160H400v160ZM180-400h160v-160H180v160Zm440 0h160v-160H620v160ZM180-180h160v-160H180v160Zm440 0h160v-160H620v160Z\"/>\n",
              "  </svg>\n",
              "    </button>\n",
              "\n",
              "  <style>\n",
              "    .colab-df-container {\n",
              "      display:flex;\n",
              "      gap: 12px;\n",
              "    }\n",
              "\n",
              "    .colab-df-convert {\n",
              "      background-color: #E8F0FE;\n",
              "      border: none;\n",
              "      border-radius: 50%;\n",
              "      cursor: pointer;\n",
              "      display: none;\n",
              "      fill: #1967D2;\n",
              "      height: 32px;\n",
              "      padding: 0 0 0 0;\n",
              "      width: 32px;\n",
              "    }\n",
              "\n",
              "    .colab-df-convert:hover {\n",
              "      background-color: #E2EBFA;\n",
              "      box-shadow: 0px 1px 2px rgba(60, 64, 67, 0.3), 0px 1px 3px 1px rgba(60, 64, 67, 0.15);\n",
              "      fill: #174EA6;\n",
              "    }\n",
              "\n",
              "    .colab-df-buttons div {\n",
              "      margin-bottom: 4px;\n",
              "    }\n",
              "\n",
              "    [theme=dark] .colab-df-convert {\n",
              "      background-color: #3B4455;\n",
              "      fill: #D2E3FC;\n",
              "    }\n",
              "\n",
              "    [theme=dark] .colab-df-convert:hover {\n",
              "      background-color: #434B5C;\n",
              "      box-shadow: 0px 1px 3px 1px rgba(0, 0, 0, 0.15);\n",
              "      filter: drop-shadow(0px 1px 2px rgba(0, 0, 0, 0.3));\n",
              "      fill: #FFFFFF;\n",
              "    }\n",
              "  </style>\n",
              "\n",
              "    <script>\n",
              "      const buttonEl =\n",
              "        document.querySelector('#df-0d4e2354-eb13-45f4-8786-12f49a1288ad button.colab-df-convert');\n",
              "      buttonEl.style.display =\n",
              "        google.colab.kernel.accessAllowed ? 'block' : 'none';\n",
              "\n",
              "      async function convertToInteractive(key) {\n",
              "        const element = document.querySelector('#df-0d4e2354-eb13-45f4-8786-12f49a1288ad');\n",
              "        const dataTable =\n",
              "          await google.colab.kernel.invokeFunction('convertToInteractive',\n",
              "                                                    [key], {});\n",
              "        if (!dataTable) return;\n",
              "\n",
              "        const docLinkHtml = 'Like what you see? Visit the ' +\n",
              "          '<a target=\"_blank\" href=https://colab.research.google.com/notebooks/data_table.ipynb>data table notebook</a>'\n",
              "          + ' to learn more about interactive tables.';\n",
              "        element.innerHTML = '';\n",
              "        dataTable['output_type'] = 'display_data';\n",
              "        await google.colab.output.renderOutput(dataTable, element);\n",
              "        const docLink = document.createElement('div');\n",
              "        docLink.innerHTML = docLinkHtml;\n",
              "        element.appendChild(docLink);\n",
              "      }\n",
              "    </script>\n",
              "  </div>\n",
              "\n",
              "\n",
              "<div id=\"df-442e4725-0d98-4699-aeb9-6538b522e550\">\n",
              "  <button class=\"colab-df-quickchart\" onclick=\"quickchart('df-442e4725-0d98-4699-aeb9-6538b522e550')\"\n",
              "            title=\"Suggest charts.\"\n",
              "            style=\"display:none;\">\n",
              "\n",
              "<svg xmlns=\"http://www.w3.org/2000/svg\" height=\"24px\"viewBox=\"0 0 24 24\"\n",
              "     width=\"24px\">\n",
              "    <g>\n",
              "        <path d=\"M19 3H5c-1.1 0-2 .9-2 2v14c0 1.1.9 2 2 2h14c1.1 0 2-.9 2-2V5c0-1.1-.9-2-2-2zM9 17H7v-7h2v7zm4 0h-2V7h2v10zm4 0h-2v-4h2v4z\"/>\n",
              "    </g>\n",
              "</svg>\n",
              "  </button>\n",
              "\n",
              "<style>\n",
              "  .colab-df-quickchart {\n",
              "      --bg-color: #E8F0FE;\n",
              "      --fill-color: #1967D2;\n",
              "      --hover-bg-color: #E2EBFA;\n",
              "      --hover-fill-color: #174EA6;\n",
              "      --disabled-fill-color: #AAA;\n",
              "      --disabled-bg-color: #DDD;\n",
              "  }\n",
              "\n",
              "  [theme=dark] .colab-df-quickchart {\n",
              "      --bg-color: #3B4455;\n",
              "      --fill-color: #D2E3FC;\n",
              "      --hover-bg-color: #434B5C;\n",
              "      --hover-fill-color: #FFFFFF;\n",
              "      --disabled-bg-color: #3B4455;\n",
              "      --disabled-fill-color: #666;\n",
              "  }\n",
              "\n",
              "  .colab-df-quickchart {\n",
              "    background-color: var(--bg-color);\n",
              "    border: none;\n",
              "    border-radius: 50%;\n",
              "    cursor: pointer;\n",
              "    display: none;\n",
              "    fill: var(--fill-color);\n",
              "    height: 32px;\n",
              "    padding: 0;\n",
              "    width: 32px;\n",
              "  }\n",
              "\n",
              "  .colab-df-quickchart:hover {\n",
              "    background-color: var(--hover-bg-color);\n",
              "    box-shadow: 0 1px 2px rgba(60, 64, 67, 0.3), 0 1px 3px 1px rgba(60, 64, 67, 0.15);\n",
              "    fill: var(--button-hover-fill-color);\n",
              "  }\n",
              "\n",
              "  .colab-df-quickchart-complete:disabled,\n",
              "  .colab-df-quickchart-complete:disabled:hover {\n",
              "    background-color: var(--disabled-bg-color);\n",
              "    fill: var(--disabled-fill-color);\n",
              "    box-shadow: none;\n",
              "  }\n",
              "\n",
              "  .colab-df-spinner {\n",
              "    border: 2px solid var(--fill-color);\n",
              "    border-color: transparent;\n",
              "    border-bottom-color: var(--fill-color);\n",
              "    animation:\n",
              "      spin 1s steps(1) infinite;\n",
              "  }\n",
              "\n",
              "  @keyframes spin {\n",
              "    0% {\n",
              "      border-color: transparent;\n",
              "      border-bottom-color: var(--fill-color);\n",
              "      border-left-color: var(--fill-color);\n",
              "    }\n",
              "    20% {\n",
              "      border-color: transparent;\n",
              "      border-left-color: var(--fill-color);\n",
              "      border-top-color: var(--fill-color);\n",
              "    }\n",
              "    30% {\n",
              "      border-color: transparent;\n",
              "      border-left-color: var(--fill-color);\n",
              "      border-top-color: var(--fill-color);\n",
              "      border-right-color: var(--fill-color);\n",
              "    }\n",
              "    40% {\n",
              "      border-color: transparent;\n",
              "      border-right-color: var(--fill-color);\n",
              "      border-top-color: var(--fill-color);\n",
              "    }\n",
              "    60% {\n",
              "      border-color: transparent;\n",
              "      border-right-color: var(--fill-color);\n",
              "    }\n",
              "    80% {\n",
              "      border-color: transparent;\n",
              "      border-right-color: var(--fill-color);\n",
              "      border-bottom-color: var(--fill-color);\n",
              "    }\n",
              "    90% {\n",
              "      border-color: transparent;\n",
              "      border-bottom-color: var(--fill-color);\n",
              "    }\n",
              "  }\n",
              "</style>\n",
              "\n",
              "  <script>\n",
              "    async function quickchart(key) {\n",
              "      const quickchartButtonEl =\n",
              "        document.querySelector('#' + key + ' button');\n",
              "      quickchartButtonEl.disabled = true;  // To prevent multiple clicks.\n",
              "      quickchartButtonEl.classList.add('colab-df-spinner');\n",
              "      try {\n",
              "        const charts = await google.colab.kernel.invokeFunction(\n",
              "            'suggestCharts', [key], {});\n",
              "      } catch (error) {\n",
              "        console.error('Error during call to suggestCharts:', error);\n",
              "      }\n",
              "      quickchartButtonEl.classList.remove('colab-df-spinner');\n",
              "      quickchartButtonEl.classList.add('colab-df-quickchart-complete');\n",
              "    }\n",
              "    (() => {\n",
              "      let quickchartButtonEl =\n",
              "        document.querySelector('#df-442e4725-0d98-4699-aeb9-6538b522e550 button');\n",
              "      quickchartButtonEl.style.display =\n",
              "        google.colab.kernel.accessAllowed ? 'block' : 'none';\n",
              "    })();\n",
              "  </script>\n",
              "</div>\n",
              "    </div>\n",
              "  </div>\n"
            ]
          },
          "metadata": {},
          "execution_count": 9
        }
      ],
      "source": [
        "insurance_df.describe(include=\"object\")"
      ]
    },
    {
      "cell_type": "code",
      "execution_count": null,
      "metadata": {
        "id": "doh3HTcwk1SY",
        "outputId": "98eb8b94-2eda-454d-d73a-089fdb311da7",
        "colab": {
          "base_uri": "https://localhost:8080/"
        }
      },
      "outputs": [
        {
          "output_type": "execute_result",
          "data": {
            "text/plain": [
              "object     3\n",
              "int64      2\n",
              "float64    2\n",
              "dtype: int64"
            ]
          },
          "metadata": {},
          "execution_count": 10
        }
      ],
      "source": [
        "insurance_df.dtypes.value_counts()"
      ]
    },
    {
      "cell_type": "code",
      "execution_count": null,
      "metadata": {
        "id": "qPRyX4-ek1SY",
        "outputId": "651e40be-8e23-458f-e0ed-ff5fe94fd358",
        "colab": {
          "base_uri": "https://localhost:8080/"
        }
      },
      "outputs": [
        {
          "output_type": "stream",
          "name": "stdout",
          "text": [
            "Hay 1338 observaciones en la base de datos.\n",
            "Hay 7 variables en la base de datos.\n",
            "Las variables de la base de datos son: ['age', 'sex', 'bmi', 'children', 'smoker', 'region', 'charges']\n",
            "Los tipos de datos de las variables son: [dtype('int64'), dtype('O'), dtype('float64'), dtype('int64'), dtype('O'), dtype('O'), dtype('float64')]\n",
            "Hay 3 variables categoricas y 4 variables numericas.\n"
          ]
        }
      ],
      "source": [
        "# Disabling warnings\n",
        "import warnings\n",
        "warnings.simplefilter(\"ignore\")\n",
        "\n",
        "# 1. Obtiene el numero de registros del dataframe\n",
        "insurance_df.shape[0]\n",
        "print('Hay', insurance_df.shape[0], 'observaciones en la base de datos.')\n",
        "\n",
        "# 2. Obtiene el numero de variables del dataframe\n",
        "insurance_df.shape[1]\n",
        "print('Hay', insurance_df.shape[1], 'variables en la base de datos.')\n",
        "\n",
        "# 3. Obtiene el nombre de las variables del dataframe\n",
        "insurance_df.columns\n",
        "print('Las variables de la base de datos son:', list(insurance_df.columns))\n",
        "\n",
        "# 4. Obtiene el tipo de dato de cada variable\n",
        "insurance_df.dtypes\n",
        "print('Los tipos de datos de las variables son:', list(insurance_df.dtypes))\n",
        "\n",
        "# 5. Obtiene el numero de variables categoricas y numericas\n",
        "insurance_df.dtypes.value_counts()\n",
        "print('Hay', insurance_df.dtypes.value_counts()[0], 'variables categoricas y', insurance_df.dtypes.value_counts()[1] + insurance_df.dtypes.value_counts()[2], 'variables numericas.')\n",
        "\n",
        "\n"
      ]
    },
    {
      "cell_type": "markdown",
      "metadata": {
        "id": "EOo8M9uqQahu"
      },
      "source": [
        "1b) Búsqueda de valores faltantes."
      ]
    },
    {
      "cell_type": "code",
      "execution_count": null,
      "metadata": {
        "id": "yFLsn2zKlb_V",
        "outputId": "e8d7e6b1-3a36-43a6-f981-f11fe3a101e3",
        "colab": {
          "base_uri": "https://localhost:8080/"
        }
      },
      "outputs": [
        {
          "output_type": "stream",
          "name": "stdout",
          "text": [
            "El porcentaje de valores faltantes por columna es: \n",
            " age         0.0\n",
            "sex         0.0\n",
            "bmi         0.0\n",
            "children    0.0\n",
            "smoker      0.0\n",
            "region      0.0\n",
            "charges     0.0\n",
            "dtype: float64\n"
          ]
        }
      ],
      "source": [
        "# Calcula el porcentaje de valores faltantes por columna.\n",
        "missing_values = insurance_df.isnull().sum() / len(insurance_df) * 100\n",
        "print('El porcentaje de valores faltantes por columna es: \\n', missing_values)"
      ]
    },
    {
      "cell_type": "markdown",
      "metadata": {
        "id": "HRDq4NY5QgRy"
      },
      "source": [
        "1c) Histrogramas y boxplots para las variables cuantitativas y diagramas de barras con la frecuencia para las variables categóricas."
      ]
    },
    {
      "cell_type": "code",
      "execution_count": null,
      "metadata": {
        "id": "m8HEk1-3lkcv",
        "outputId": "8d335138-ccc8-4ad5-aefa-3c949fddd0b7",
        "colab": {
          "base_uri": "https://localhost:8080/",
          "height": 1000
        }
      },
      "outputs": [
        {
          "output_type": "display_data",
          "data": {
            "text/plain": [
              "<Figure size 800x800 with 4 Axes>"
            ],
            "image/png": "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\n"
          },
          "metadata": {}
        },
        {
          "output_type": "display_data",
          "data": {
            "text/plain": [
              "<Figure size 1000x400 with 4 Axes>"
            ],
            "image/png": "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\n"
          },
          "metadata": {}
        }
      ],
      "source": [
        "# Genera Histogramas y boxplots para las variables numericas\n",
        "insurance_df.hist(figsize=(8,8))\n",
        "plt.tight_layout()\n",
        "plt.show()\n",
        "\n",
        "fig, axes = plt.subplots(1, 4, figsize=(10, 4))\n",
        "\n",
        "sns.boxplot(data=insurance_df, x='bmi', ax=axes[0])\n",
        "axes[0].set_title('Box Plot de BMI')\n",
        "\n",
        "sns.boxplot(data=insurance_df, x='age', ax=axes[1])\n",
        "axes[1].set_title('Box Plot de Age')\n",
        "\n",
        "sns.boxplot(data=insurance_df, x='children', ax=axes[2])\n",
        "axes[2].set_title('Box Plot de Children')\n",
        "\n",
        "sns.boxplot(data=insurance_df, x='charges', ax=axes[3])\n",
        "axes[3].set_title('Box Plot de Charges')\n",
        "\n",
        "plt.tight_layout()\n",
        "plt.show()"
      ]
    },
    {
      "cell_type": "code",
      "execution_count": null,
      "metadata": {
        "id": "Qf_qsrbCk1SZ",
        "outputId": "fde44431-8ead-4786-877e-c0354ed43d11",
        "colab": {
          "base_uri": "https://localhost:8080/",
          "height": 1000
        }
      },
      "outputs": [
        {
          "output_type": "display_data",
          "data": {
            "text/plain": [
              "<Figure size 1000x500 with 1 Axes>"
            ],
            "image/png": "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\n"
          },
          "metadata": {}
        },
        {
          "output_type": "display_data",
          "data": {
            "text/plain": [
              "<Figure size 1000x500 with 1 Axes>"
            ],
            "image/png": "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\n"
          },
          "metadata": {}
        },
        {
          "output_type": "display_data",
          "data": {
            "text/plain": [
              "<Figure size 1000x500 with 1 Axes>"
            ],
            "image/png": "iVBORw0KGgoAAAANSUhEUgAAA1wAAAHfCAYAAABEXtmbAAAAOXRFWHRTb2Z0d2FyZQBNYXRwbG90bGliIHZlcnNpb24zLjcuMSwgaHR0cHM6Ly9tYXRwbG90bGliLm9yZy/bCgiHAAAACXBIWXMAAA9hAAAPYQGoP6dpAABKoUlEQVR4nO3deXQUZf7+/as7IWFLJ0G2kTWJptkCCYTNBBh22RcBV0QHQRTQoGAiX2BEkQiK7MPIIrihsokLiAgqDMggKA6D4AiGfQwokI0Es3Q9f/Ckf/QkbHYq3Uner3M8pqvuvutTferu5uqqu9piGIYhAAAAAECRs3q6AAAAAAAorQhcAAAAAGASAhcAAAAAmITABQAAAAAmIXABAAAAgEkIXAAAAABgEgIXAAAAAJiEwAUAAAAAJiFwAQAAAIBJCFwAAPwBp06dkt1u17p16zxdCgDAixG4AAAAAMAkFsMwDE8XAQBASWMYhrKzs+Xr6ysfHx9PlwMA8FKc4QIAlHqZmZlF3qfFYpG/vz9hCwBwTQQuAECpMn/+fNntdh05ckRPP/20WrZsqfvuu0+S9OGHH2rgwIFq2rSpWrVqpXHjxumXX34p0Mc777yjzp07q2nTpho0aJD27t2roUOHaujQoc42V5vDtWvXLt13332KjIxUdHS0HnvsMf3888+F1nj8+HElJCQoOjpaLVq00LPPPqusrCwTXhUAgKcQuAAApdKTTz6prKwsjRs3ToMHD9aiRYsUHx+vevXqKSEhQQ8++KB27dql+++/X2lpac7nrVy5Us8//7xq1qypCRMmKDo6WqNHj1ZycvJ1t/n111/rkUce0blz5zRmzBg99NBD2rdvn+69916dOnWqQPu4uDhdvHhRTz31lHr06KF169ZpwYIFRfo6AAA8y9fTBQAAYIYGDRpo1qxZkqTTp0+ra9euiouL06hRo5xtunXrpgEDBmjlypUaNWqUsrOzNXfuXEVEROiNN96Qr+/lj0m73a6EhATVrFnzmtucOXOmAgMD9f777ysoKEiS1KVLFw0YMEDz58/XjBkzXNo3bNhQ06dPdz5OSUnRmjVrNGHChKJ4CQAAXoAzXACAUumee+5x/v3555/L4XCoR48eOn/+vPO/qlWrql69etq9e7ck6cCBA0pJSdGQIUOcYUuS+vTpo8DAwGtu7+zZszp06JAGDBjgDFvS5eB3xx13aNu2bdesUZKio6OVkpKijIyMP7LLAAAvxBkuAECpVLt2beffx44dk2EY6tatW6Ft88PVf//7X0lS3bp1C6yvVavWNbeX/9yQkJAC68LCwrRjxw5lZmaqYsWKzuW33nqrSzubzSZJSk1NVeXKla+5PQBAyUDgAgCUSv7+/s6/HQ6HLBaLlixZUuhdBa8MQcXJai38QhN+sQUASg8CFwCg1Ktbt64Mw1Dt2rULPQOVL/+M04kTJ9SmTRvn8tzcXJ0+fVp2u/26zz169GiBdUlJSQoODvZYsAMAeA5zuAAApV63bt3k4+OjBQsWFDh7ZBiGLly4IElq0qSJgoKCtGrVKuXm5jrbfPzxx0pNTb3mNqpXr66GDRtq/fr1Lnc9/Omnn7Rz50516NChCPcIAFBScIYLAFDq1a1bV3FxcZo1a5ZOnz6tLl26qFKlSjp16pS2bNmiIUOGaPjw4fLz89PYsWP1wgsvaNiwYerRo4dOnz6tdevWFZjXVZhnnnlGI0aM0N13361Bgwbp0qVLevvttxUQEKAxY8YUw54CALwNgQsAUCaMHDlS9evX14oVK7Rw4UJJUs2aNRUTE6NOnTo52z3wwAMyDEPLly/XjBkz1KBBAy1atEjTpk1zmRdWmDvuuENLly7VvHnzNG/ePPn6+qply5aaMGGC6tSpY+r+AQC8k8VgZi4AANfkcDjUtm1bde3aVdOmTfN0OQCAEoQ5XAAAXOH3338vMM9r/fr1SklJUatWrTxUFQCgpOKSQgAArvD9998rMTFRd955p4KCgnTw4EGtWbNG4eHhuvPOOz1dHgCghCFwAQBwhVq1aqlmzZp66623lJqaqsDAQPXr10/jx4+Xn5+fp8sDAJQwzOECAAAAAJMwhwsAAAAATELgAgAAAACTELgAAAAAwCTcNOMmGYYhh4NpbwAAAEBZZrVaZLFYrtuOwHWTHA5D589f9HQZAAAAADyoSpVK8vG5fuDikkIAAAAAMAmBCwAAAABMQuACAAAAAJMQuAAAAADAJAQuAAAAADAJgQsAAAAATELgAgAAAACTELgAAAAAwCQELgAAAAAwCYELAAAAAExC4AIAAAAAkxC4AAAAAMAkBC4AAAAAMAmBCwAAAABMQuACAAAAAJMQuAAAAADAJL6eLgBA2Wa1WmS1WjxdBsoAh8OQw2F4ugwAQBlD4ALgMVarRcHBFWS1+ni6FJQBDkeeLlzIInQBAIoVgQuAx1w+u+Wj/3wcp8xzRzxdDkqxirfcJnufObJaLQQuAECxInAB8LjMc0d08cwPni4DAACgyHHTDAAAAAAwCYELAAAAAExC4AIAAAAAkxC4AAAAAMAkBC4AAAAAMIlXBa5t27bpgQceUJs2bdSkSRN17txZiYmJSk9Pd7ZJSEiQ3W4v8N/27dtd+srOztaMGTMUExOjyMhIPfzww0pKSiruXQIAAABQhnnVbeFTUlLUtGlTDR06VEFBQTp8+LDmz5+vw4cP6/XXX3e2q1Onjl555RWX54aFhbk8njZtmjZu3KiEhATVqFFDf//73/XQQw9pw4YNCggIKJb9AQAAAFC2eVXg6tevn8vj1q1by8/PT5MnT9aZM2dUo0YNSVL58uUVGRl51X6Sk5O1Zs0a/fWvf9WgQYMkSREREerYsaPee+89jRgxwrR9AAAAAIB8XnVJYWGCgoIkSTk5OTf8nB07dsjhcOjOO+906ScmJqbApYcAAAAAYBavDFx5eXn6/fff9cMPP2jhwoXq1KmTateu7Vx//PhxtWjRQk2aNNHAgQO1ZcsWl+cnJSXplltuUWBgoMvysLAw5nEBAAAAKDZedUlhvo4dO+rMmTOSpHbt2mnWrFnOdQ0bNlRERIRuu+02paen691339Xo0aM1d+5c5xmttLS0Qudp2Ww2paamul2fr69X5lSgxPHxYSyheHHMAQCKm1cGrsWLFysrK0tHjhzRokWLNGrUKC1fvlw+Pj4aNmyYS9tOnTrpnnvu0bx581wuITSL1WpRcHAl07cDACh6NlsFT5cAAChjvDJwNWjQQJIUFRWliIgI9evXT59//nmhgcpqtapbt256+eWXdenSJZUvX142m00ZGRkF2qalpRW4zPBmORyG0tIy3eoDwGU+Plb+AYxilZaWpbw8h6fLAACUAjZbhRu6csIrA9eV7Ha7ypUrpxMnTtzwc0JDQ/Xbb78pNTXVJWAlJSUpNDTU7Zpyc/mwBoCSKC/PwXs4AKBYef3F7P/617+Uk5PjctOMKzkcDm3atEm33367ypcvL0mKjY2V1WrV5s2bne1SU1O1Y8cOtW/fvljqBgAAAACvOsM1ZswYNWnSRHa7XeXLl9ePP/6oZcuWyW63q0uXLjp9+rQSEhLUq1cv1atXT6mpqXr33Xd14MABzZ8/39lPzZo1NWjQIM2cOVNWq1U1atTQa6+9poCAAN1zzz0e3EMAAAAAZYlXBa6mTZtq48aNWrx4sQzDUK1atTR48GANHz5cfn5+qlSpkipXrqxFixbp3LlzKleunJo0aaIlS5aoXbt2Ln1NmjRJlSpV0qxZs3Tx4kU1b95cy5cvL/TuhQAAAABgBothGIaniyhJ8vIcOn/+oqfLAEoFX1+rgoMrad+K3rp45gdPl4NSrFKNxop66BNduHCROVwAgCJRpUqlG7pphtfP4QIAAACAkorABQAAAAAmIXABAAAAgEkIXAAAAABgEgIXAAAAAJiEwAUAAAAAJiFwAQAAAIBJCFwAAAAAYBICFwAAAACYhMAFAAAAACYhcAEAAACASQhcAAAAAGASAhcAAAAAmITABQAAAAAmIXABAAAAgEkIXAAAAABgEgIXAAAAAJjE19MFlGVWq0VWq8XTZaAMcDgMORyGp8sAcBV8HqC48HkAFD8Cl4dYrRYFBlWUrw8nGWG+3DyHUlMy+ZAFvJDValFgcAX5Wn08XQrKgFxHnlIvZHnd5wFfOqC4eOJLBwKXh1itFvn6WPX4m1/pcHKKp8tBKXZ7zSD97cE/y2q1eN0HLID///PA6qPHNqzQT+eSPV0OSrHwW2pqUa+HvO7zwGq1KDiogqw+fOkA8zny8nQhpXi/dCBwedjh5BT9+9Q5T5cBAPCwn84l699nT3q6DKDYWa0WWX189O/FY3Xxv4c9XQ5KsUq33q6IkfOL/UsHAhcAAAA87uJ/Dyv9xAFPlwEUOSYQAQAAAIBJCFwAAAAAYBICFwAAAACYhMAFAAAAACYhcAEAAACASQhcAAAAAGASAhcAAAAAmITABQAAAAAmIXABAAAAgEkIXAAAAABgEgIXAAAAAJiEwAUAAAAAJiFwAQAAAIBJCFwAAAAAYBICFwAAAACYxKsC17Zt2/TAAw+oTZs2atKkiTp37qzExESlp6e7tPviiy/Ut29fRUREqHv37lq7dm2BvrKzszVjxgzFxMQoMjJSDz/8sJKSkoprVwAAAADAuwJXSkqKmjZtqqlTp2rZsmV6+OGHtX79ej355JPONnv37tWYMWMUGRmpJUuWqEePHvq///s/bdq0yaWvadOmafXq1Ro3bpzmz5+v7OxsPfTQQwXCGwAAAACYxdfTBVypX79+Lo9bt24tPz8/TZ48WWfOnFGNGjW0aNEiNW3aVM8//7wkqU2bNjp58qTmzZunO++8U5KUnJysNWvW6K9//asGDRokSYqIiFDHjh313nvvacSIEcW7YwAAAADKJK86w1WYoKAgSVJOTo6ys7O1e/duZ7DK17NnT/388886deqUJGnHjh1yOBwu7YKCghQTE6Pt27cXW+0AAAAAyjavDFx5eXn6/fff9cMPP2jhwoXq1KmTateurRMnTignJ0ehoaEu7cPCwiTJOUcrKSlJt9xyiwIDAwu0Yx4XAAAAgOLiVZcU5uvYsaPOnDkjSWrXrp1mzZolSUpNTZUk2Ww2l/b5j/PXp6WlKSAgoEC/NpvN2cYdvr7u51QfH6/MuijFvPGY88aaULp54zHnjTWhdPO2Y87b6kHpV9zHnFcGrsWLFysrK0tHjhzRokWLNGrUKC1fvtzTZUmSrFaLgoMreboM4KbZbBU8XQLgcYwDgHEAFPcY8MrA1aBBA0lSVFSUIiIi1K9fP33++ee67bbbJKnAnQbT0tIkyXkJoc1mU0ZGRoF+09LSClxmeLMcDkNpaZlu9SFdTta84aE4paVlKS/P4ekyXDAOUNwYB4D3jQPGAIpbUY0Bm63CDZ0t88rAdSW73a5y5crpxIkT6tSpk8qVK6ekpCS1a9fO2SZ/Xlb+3K7Q0FD99ttvSk1NdQlYSUlJBeZ//RG5ud7zJgXcqLw8B8cuyjzGAcA4AIp7DHj9RbP/+te/lJOTo9q1a8vPz0+tW7fWZ5995tJm48aNCgsLU+3atSVJsbGxslqt2rx5s7NNamqqduzYofbt2xdr/QAAAADKLq86wzVmzBg1adJEdrtd5cuX148//qhly5bJbrerS5cukqTHHntMDz74oJ577jn16NFDu3fv1ieffKLZs2c7+6lZs6YGDRqkmTNnymq1qkaNGnrttdcUEBCge+65x1O7BwAAAKCM8arA1bRpU23cuFGLFy+WYRiqVauWBg8erOHDh8vPz0+SFB0drfnz52vOnDlas2aNbr31Vk2bNk09evRw6WvSpEmqVKmSZs2apYsXL6p58+Zavnx5oXcvBAAAAAAzeFXgGjlypEaOHHnddp07d1bnzp2v2cbPz0/x8fGKj48vqvIAAAAA4KZ4/RwuAAAAACipCFwAAAAAYBICFwAAAACYhMAFAAAAACYhcAEAAACASQhcAAAAAGASAhcAAAAAmITABQAAAAAmIXABAAAAgEkIXAAAAABgEgIXAAAAAJiEwAUAAAAAJiFwAQAAAIBJCFwAAAAAYBICFwAAAACYhMAFAAAAACYhcAEAAACASQhcAAAAAGASAhcAAAAAmITABQAAAAAmIXABAAAAgEkIXAAAAABgEgIXAAAAAJiEwAUAAAAAJiFwAQAAAIBJCFwAAAAAYBICFwAAAACYhMAFAAAAACYhcAEAAACASQhcAAAAAGASAhcAAAAAmITABQAAAAAmIXABAAAAgEkIXAAAAABgEgIXAAAAAJiEwAUAAAAAJiFwAQAAAIBJCFwAAAAAYBJfTxdwpU8//VQfffSRfvjhB6WlpalevXoaOnSo7rrrLlksFknS0KFD9c033xR47saNGxUWFuZ8nJ6ersTERG3ZskU5OTlq166dJk2apOrVqxfb/gAAAAAo27wqcK1YsUK1atVSQkKCgoOD9fXXX2vy5MlKTk7WmDFjnO2aN2+u+Ph4l+fWrl3b5XFcXJyOHDmi5557Tv7+/pozZ45GjBihtWvXytfXq3YbAAAAQCnlVclj0aJFqlKlivNx27ZtlZKSouXLl+vxxx+X1Xr5CkibzabIyMir9rNv3z7t2LFDy5YtU2xsrCQpJCREPXv21ObNm9WzZ09T9wMAAAAAJC+bw3Vl2MrXsGFDZWRkKDMz84b72b59u2w2m2JiYpzLQkND1bBhQ23fvr1IagUAAACA6/GqM1yF+fbbb1WjRg1VrlzZueybb75RZGSk8vLy1KxZMz355JNq2bKlc31SUpJCQkKc877yhYaGKikpye2afH3dz6k+Pl6VdVEGeOMx5401oXTzxmPOG2tC6eZtx5y31YPSr7iPOa8OXHv37tXGjRtd5mu1bNlS/fr1U/369XX27FktW7ZMDz/8sN566y1FRUVJktLS0hQQEFCgv8DAQB04cMCtmqxWi4KDK7nVB+AJNlsFT5cAeBzjAGAcAMU9Brw2cCUnJ2vcuHFq3bq1HnzwQefyJ554wqXdn//8Z/Xu3Vt/+9vftGTJEtPrcjgMpaXd+OWNV+PjY+UND8UqLS1LeXkOT5fhgnGA4sY4ALxvHDAGUNyKagzYbBVu6GyZVwautLQ0jRgxQkFBQZo/f77zZhmFqVixojp06KDPPvvMucxmsyk5OblA29TUVAUGBrpdX26u97xJATcqL8/BsYsyj3EAMA6A4h4DXnfR7KVLl/Too48qPT1dS5cuLfTSwOsJDQ3V0aNHZRiGy/KjR48qNDS0qEoFAAAAgGvyqsCVm5uruLg4JSUlaenSpapRo8Z1n5OZmamvvvpKERERzmXt27dXamqqdu3a5Vx29OhRHTx4UO3btzeldgAAAAD4X151SeHUqVP15ZdfKiEhQRkZGfr++++d6xo1aqT9+/dr6dKl6tq1q2rVqqWzZ89q+fLl+vXXXzV37lxn26ioKMXGxmrixImKj4+Xv7+/Zs+eLbvdrm7dunlgzwAAAACURV4VuHbu3ClJeumllwqs27p1q6pVq6acnBzNnj1bKSkpqlChgqKiojR16lQ1bdrUpf2cOXOUmJioKVOmKDc3V7GxsZo0aZJ8fb1qlwEAAACUYl6VPr744ovrtlm2bNkN9RUQEKDp06dr+vTp7pYFAAAAAH+IV83hAgAAAIDShMAFAAAAACYhcAEAAACASQhcAAAAAGASAhcAAAAAmITABQAAAAAmIXABAAAAgEkIXAAAAABgEgIXAAAAAJiEwAUAAAAAJiFwAQAAAIBJCFwAAAAAYBK3AtfZs2eLqg4AAAAAKHXcClx//vOf9Ze//EXr169XZmZmUdUEAAAAAKWCW4HriSee0NmzZ5WQkKCYmBiNHz9e27dvl8PhKKr6AAAAAKDE8nXnyaNGjdKoUaN08OBBffzxx9qwYYM++eQT3XLLLerVq5f69OmjiIiIoqoVAAAAAEoUtwJXvkaNGqlRo0Z65pln9M9//lMff/yx1q1bp7feekshISHq27ev+vbtq1tvvbUoNgcAAAAAJUKR3qXQYrGoRYsW6tChg5o1aybDMHT8+HEtWLBAXbp0cV6CCAAAAABlQZGc4ZLkPLO1efNmZWRkKDw8XPHx8erTp498fHy0bt06vfbaa3rmmWe0YsWKotosAAAAAHgttwLXjz/+qI8++kgbNmzQ2bNnVbVqVQ0aNEj9+/eX3W53aTt8+HD5+/trxowZbhUMAAAAACWFW4Grf//+Kl++vDp37qz+/fsrJiZGVuvVr1K87bbbFBkZ6c4mAQAAAKDEcCtwTZ8+Xd27d1elSpVuqH2bNm3Upk0bdzYJAAAAACWGW4Fr4MCBRVUHAAAAAJQ6bt2l8M0339Tw4cOvuv6RRx7RypUr3dkEAAAAAJRYbgWuNWvWKCws7Krrb7vtNq1atcqdTQAAAABAieVW4Dp58uQ1A1doaKhOnDjhziYAAAAAoMRyK3CVK1dOv/7661XXnz179pp3LQQAAACA0sytNNSsWTN98MEHysjIKLAuPT1d69atU7NmzdzZBAAAAACUWG7dpXDMmDF64IEH1L9/fw0bNky33XabJOnw4cN644039Ouvv2rWrFlFUigAAAAAlDRuBa5mzZrp73//u6ZMmaIXX3xRFotFkmQYhmrXrq1FixYpKiqqSAoFAAAAgJLGrcAlSTExMfr888918OBB5w0y6tatq8aNGzsDGAAAAACURW4HLkmyWq1q0qSJmjRpUhTdAQAAAECpUCSB68iRIzp58qRSU1MLXd+/f/+i2AwAAAAAlChuBa4TJ05owoQJ2r9/vwzDKLSNxWIhcAEAAAAok9wKXFOmTNFPP/2kiRMnKjo6WjabrajqAgAAAIASz63A9d133+nRRx/V0KFDi6oeAAAAACg13Prh4+DgYAUEBBRVLQAAAABQqrgVuO655x599NFHysvLK5JiPv30Uz322GNq3769IiMj1a9fP61Zs6bA/LDVq1ere/fuioiIUN++ffXll18W6Cs9PV0TJ05Uq1atFBUVpSeeeEJnz54tkjoBAAAA4Ea4dUlh/fr15XA41K9fP911112qWbOmfHx8CrTr1q3bDfW3YsUK1apVSwkJCQoODtbXX3+tyZMnKzk5WWPGjJEkbdiwQZMnT9aoUaPUpk0bbdy4UWPGjNE777yjyMhIZ19xcXE6cuSInnvuOfn7+2vOnDkaMWKE1q5dK1/fIrk5IwAAAABck1vJY9y4cc6/Z8yYUWgbi8WiQ4cO3VB/ixYtUpUqVZyP27Ztq5SUFC1fvlyPP/64rFar5s2bp169eikuLk6S1KZNG/30009auHChlixZIknat2+fduzYoWXLlik2NlaSFBISop49e2rz5s3q2bPnH9ldAAAAALgpbgWuN998s6jqkCSXsJWvYcOGWrVqlTIzM3XhwgUdO3ZMEyZMcGnTs2dPzZw5U9nZ2fLz89P27dtls9kUExPjbBMaGqqGDRtq+/btBC4AAAAAxcKtwNWqVauiquOqvv32W9WoUUOVK1fWt99+K+ny2aorhYWFKScnRydPnlRYWJiSkpIUEhIii8Xi0i40NFRJSUmm1wwAAAAAkpuBK192drZ++OEHnTt3Ts2bNy/0TNUfsXfvXm3cuFHx8fGSpNTUVEkq8Htf+Y/z16elpRV698TAwEAdOHDA7bp8fd2614gkycfH/T6Am+GNx5w31oTSzRuPOW+sCaWbtx1z3lYPSr/iPubcDlxvvvmmFixYoPT0dEnS66+/rrZt2+r8+fPq0aOHJkyYoEGDBt10v8nJyRo3bpxat26tBx980N0yi4zValFwcCVPlwHcNJutgqdLADyOcQAwDoDiHgNuBa61a9dq+vTp6tWrl2JiYjRx4kTnuipVqjjvInizgSstLU0jRoxQUFCQ5s+fL6v1cgoNDAyUdPmW79WqVXNpf+V6m82m5OTkAv2mpqY62/xRDoehtLRMt/qQLidr3vBQnNLSspSX5/B0GS4YByhujAPA+8YBYwDFrajGgM1W4YbOlrkVuJYvX67OnTtr1qxZunDhQoH1jRs31ltvvXVTfV66dEmPPvqo0tPT9f7777tcGhgaGipJSkpKcv6d/7hcuXKqU6eOs92uXbtkGIbLPK6jR48qPDz8puopTG6u97xJATcqL8/BsYsyj3EAMA6A4h4Dbl3AePz4cbVv3/6q64OCgpSSknLD/eXm5iouLk5JSUlaunSpatSo4bK+Tp06ql+/vjZt2uSyfOPGjWrbtq38/PwkSe3bt1dqaqp27drlbHP06FEdPHjwmvUCAAAAQFFy6wyXzWYr9MxWviNHjrhc+nc9U6dO1ZdffqmEhARlZGTo+++/d65r1KiR/Pz8NHbsWI0fP15169ZV69attXHjRu3fv19vv/22s21UVJRiY2M1ceJExcfHy9/fX7Nnz5bdbr/hH2EGAAAAAHe5Fbjat2+vVatW6b777iuw7vDhw1q9erXuuuuuG+5v586dkqSXXnqpwLqtW7eqdu3a6t27t7KysrRkyRItXrxYISEhWrBggaKiolzaz5kzR4mJiZoyZYpyc3MVGxurSZMmyde3SG7MCAAAAADX5Vb6iIuL05AhQ9S7d2917NhRFotF69ev19q1a7V582ZVq1ZNjz/++A3398UXX9xQu8GDB2vw4MHXbBMQEKDp06dr+vTpN7x9AAAAAChKbs3hqlGjhtatW6d27drp008/lWEY+vDDD/Xll1+qV69eWrVqVZH9JhcAAAAAlDRuX193yy236MUXX9SLL76o8+fPy+FwqEqVKs5buQMAAABAWVWkE5o4mwUAAAAA/49bgWvBggXXbWOxWDR69Gh3NgMAAAAAJZJpgctisTh/eJjABQAAAKAscitw/fjjjwWWORwOnT59WitXrtSePXu0ZMkSdzYBAAAAACVWkd/Zwmq1qk6dOoqPj1e9evU0bdq0ot4EAAAAAJQIpt5KsGXLltq2bZuZmwAAAAAAr2Vq4Dpw4AC3hwcAAABQZrk1h2v9+vWFLk9LS9PevXu1efNmDR482J1NAAAAAECJ5VbgSkhIuOq64OBgjRw5kjsUAgAAACiz3ApcW7duLbDMYrHIZrOpcuXK7nQNAAAAACWeW4GrVq1aRVUHAAAAAJQ63NECAAAAAEzi1hmuBg0ayGKx3NRzLBaLDh486M5mAQAAAKBEcCtwjR49Wlu2bNGRI0cUGxurkJAQSVJSUpJ27typ22+/XV26dCmSQgEAAACgpHErcFWvXl3nzp3Txx9/rNDQUJd1P//8s4YNG6bq1atryJAhbhUJAAAAACWRW3O4li1bpgceeKBA2JKksLAw3X///Vq6dKk7mwAAAACAEsutwJWcnCxf36ufJPP19VVycrI7mwAAAACAEsutwHX77bdr5cqVOnPmTIF1ycnJevfddxUeHu7OJgAAAACgxHJrDtezzz6rRx55RN27d1eXLl1Ur149SdKxY8e0detWGYahmTNnFkmhAAAAAFDSuBW4oqOjtWrVKs2dO1dbtmzRpUuXJEnly5dXbGysxo4dK7vdXiSFAgAAAEBJ41bgkqTw8HAtXLhQDodD58+flyRVqVJFViu/qQwAAACgbHM7cOWzWq3y9/dXxYoVCVsAAAAAIDdvmiFJ//73vzV8+HA1a9ZMrVu31jfffCNJOn/+vB577DHt3r3b7SIBAAAAoCRyK3B99913uu+++3T8+HH17dtXDofDua5KlSrKyMjQ+++/73aRAAAAAFASuRW4Zs+erbCwMG3cuFHjxo0rsL5169b617/+5c4mAAAAAKDEcitw/fvf/9bAgQPl5+cni8VSYH2NGjX022+/ubMJAAAAACix3Apcvr6+LpcR/q8zZ86oYsWK7mwCAAAAAEostwJXs2bN9NlnnxW6LjMzU+vWrVPLli3d2QQAAAAAlFhuBa4nnnhCBw4c0MiRI7V9+3ZJ0n/+8x+tXr1aAwcO1Pnz5/X4448XSaEAAAAAUNK4fYZr8eLFOn78uOLj4yVJL730kiZPniyHw6HFixerQYMGRVIoAAAAAJQ0f/iHjw3D0MWLF9W8eXN99tlnOnTokI4dOybDMFSnTh01adKk0BtpAAAAAEBZ8YcDV05Ojlq1aqVx48ZpxIgRatiwoRo2bFiUtQEAAABAifaHLyn08/NT1apV5efnV5T1AAAAAECp4dYcrgEDBujDDz9UdnZ2UdUDAAAAAKXGH76kUJLsdru2bt2q3r17a8CAAapVq5bKly9foF23bt3c2QwAAAAAlEhuBa6nnnrK+ffcuXMLbWOxWHTo0KEb6u/48eNatmyZ/vWvf+nw4cMKDQ3VJ5984tJm6NCh+uabbwo8d+PGjQoLC3M+Tk9PV2JiorZs2aKcnBy1a9dOkyZNUvXq1W+oFgAAAABw100HrldffVU9e/ZUgwYN9OabbxZpMYcPH9a2bdvUrFkzORwOGYZRaLvmzZs7b0Ofr3bt2i6P4+LidOTIET333HPy9/fXnDlzNGLECK1du1a+vm7lTAAAAAC4ITedPBYvXqzbb79dDRo0UKtWrXThwgXdcccdev3119W2bVu3iunUqZO6dOkiSUpISNCBAwcKbWez2RQZGXnVfvbt26cdO3Zo2bJlio2NlSSFhISoZ8+e2rx5s3r27OlWnQAAAABwI9y6aUa+q52JullWa5GUo+3bt8tmsykmJsa5LDQ0VA0bNtT27duLZBsAAAAAcD1Fk3CK2TfffKPIyEhFRETogQce0J49e1zWJyUlKSQkpMAPL4eGhiopKak4SwUAAABQhpW4yUwtW7ZUv379VL9+fZ09e1bLli3Tww8/rLfeektRUVGSpLS0NAUEBBR4bmBg4FUvU7wZvr7u51QfnxKZdVGCeeMx5401oXTzxmPOG2tC6eZtx5y31YPSr7iPuT8UuE6fPq0ffvhB0uW7AUqX7zBos9kKbd+4ceM/WF5BTzzxhMvjP//5z+rdu7f+9re/acmSJUW2nauxWi0KDq5k+naAomazVfB0CYDHMQ4AxgFQ3GPgDwWuuXPnFrgN/NSpUwu0Mwzjpm4L/0dUrFhRHTp00GeffeZcZrPZlJycXKBtamqqAgMD3dqew2EoLS3TrT6ky8maNzwUp7S0LOXlOTxdhgvGAYob4wDwvnHAGEBxK6oxYLNVuKGzZTcduBITE/9QQcUpNDRUu3btcga+fEePHlV4eLjb/efmes+bFHCj8vIcHLso8xgHAOMAKO4xcNOBa8CAAWbU8YdlZmbqq6++UkREhHNZ+/bt9be//U27du3SHXfcIely2Dp48KAeeeQRT5UKAAAAoIzxqptmZGVladu2bZIuzxPLyMjQpk2bJEmtWrVSUlKSli5dqq5du6pWrVo6e/asli9frl9//dXlEseoqCjFxsZq4sSJio+Pl7+/v2bPni273a5u3bp5ZN8AAAAAlD1eFbjOnTunJ5980mVZ/uM333xTNWvWVE5OjmbPnq2UlBRVqFBBUVFRmjp1qpo2beryvDlz5igxMVFTpkxRbm6uYmNjNWnSJPn6etUuAwAAACjFvCp91K5dW//5z3+u2WbZsmU31FdAQICmT5+u6dOnF0VpAAAAAHDT+OEDAAAAADAJgQsAAAAATELgAgAAAACTELgAAAAAwCQELgAAAAAwCYELAAAAAExC4AIAAAAAkxC4AAAAAMAkBC4AAAAAMAmBCwAAAABMQuACAAAAAJMQuAAAAADAJAQuAAAAADAJgQsAAAAATELgAgAAAACTELgAAAAAwCQELgAAAAAwCYELAAAAAExC4AIAAAAAkxC4AAAAAMAkBC4AAAAAMAmBCwAAAABMQuACAAAAAJMQuAAAAADAJAQuAAAAADAJgQsAAAAATELgAgAAAACTELgAAAAAwCQELgAAAAAwCYELAAAAAExC4AIAAAAAkxC4AAAAAMAkBC4AAAAAMAmBCwAAAABMQuACAAAAAJMQuAAAAADAJAQuAAAAADAJgQsAAAAATOJVgev48eOaMmWK+vXrp0aNGql3796Ftlu9erW6d++uiIgI9e3bV19++WWBNunp6Zo4caJatWqlqKgoPfHEEzp79qzZuwAAAAAATl4VuA4fPqxt27apXr16CgsLK7TNhg0bNHnyZPXo0UNLlixRZGSkxowZo++//96lXVxcnHbu3KnnnntOr7zyio4ePaoRI0YoNze3GPYEAAAAACRfTxdwpU6dOqlLly6SpISEBB04cKBAm3nz5qlXr16Ki4uTJLVp00Y//fSTFi5cqCVLlkiS9u3bpx07dmjZsmWKjY2VJIWEhKhnz57avHmzevbsWTw7BAAAAKBM86ozXFbrtcs5efKkjh07ph49ergs79mzp3bt2qXs7GxJ0vbt22Wz2RQTE+NsExoaqoYNG2r79u1FXzgAAAAAFMKrAtf1JCUlSbp8tupKYWFhysnJ0cmTJ53tQkJCZLFYXNqFhoY6+wAAAAAAs3nVJYXXk5qaKkmy2Wwuy/Mf569PS0tTQEBAgecHBgYWepnizfL1dT+n+viUqKyLUsAbjzlvrAmlmzcec95YE0o3bzvmvK0elH7FfcyVqMDlDaxWi4KDK3m6DOCm2WwVPF0C4HGMA4BxABT3GChRgSswMFDS5Vu+V6tWzbk8LS3NZb3NZlNycnKB56empjrb/FEOh6G0tEy3+pAuJ2ve8FCc0tKylJfn8HQZLhgHKG6MA8D7xgFjAMWtqMaAzVbhhs6WlajAFRoaKunyHK38v/MflytXTnXq1HG227VrlwzDcJnHdfToUYWHh7tdR26u97xJATcqL8/BsYsyj3EAMA6A4h4DJeqi2Tp16qh+/fratGmTy/KNGzeqbdu28vPzkyS1b99eqamp2rVrl7PN0aNHdfDgQbVv375YawYAAABQdnnVGa6srCxt27ZNknT69GllZGQ4w1WrVq1UpUoVjR07VuPHj1fdunXVunVrbdy4Ufv379fbb7/t7CcqKkqxsbGaOHGi4uPj5e/vr9mzZ8tut6tbt24e2TcAAAAAZY9XBa5z587pySefdFmW//jNN99U69at1bt3b2VlZWnJkiVavHixQkJCtGDBAkVFRbk8b86cOUpMTNSUKVOUm5ur2NhYTZo0Sb6+XrXLAAAAAEoxr0oftWvX1n/+85/rths8eLAGDx58zTYBAQGaPn26pk+fXlTlAQAAAMBNKVFzuAAAAACgJCFwAQAAAIBJCFwAAAAAYBICFwAAAACYhMAFAAAAACYhcAEAAACASQhcAAAAAGASAhcAAAAAmITABQAAAAAmIXABAAAAgEkIXAAAAABgEgIXAAAAAJiEwAUAAAAAJiFwAQAAAIBJCFwAAAAAYBICFwAAAACYhMAFAAAAACYhcAEAAACASQhcAAAAAGASAhcAAAAAmITABQAAAAAmIXABAAAAgEkIXAAAAABgEgIXAAAAAJiEwAUAAAAAJiFwAQAAAIBJCFwAAAAAYBICFwAAAACYhMAFAAAAACYhcAEAAACASQhcAAAAAGASAhcAAAAAmITABQAAAAAmIXABAAAAgEkIXAAAAABgEgIXAAAAAJiEwAUAAAAAJilxgWvdunWy2+0F/nvllVdc2q1evVrdu3dXRESE+vbtqy+//NJDFQMAAAAoq3w9XcAftXTpUgUEBDgf16hRw/n3hg0bNHnyZI0aNUpt2rTRxo0bNWbMGL3zzjuKjIz0QLUAAAAAyqISG7gaN26sKlWqFLpu3rx56tWrl+Li4iRJbdq00U8//aSFCxdqyZIlxVglAAAAgLKsxF1SeD0nT57UsWPH1KNHD5flPXv21K5du5Sdne2hygAAAACUNSU2cPXu3VsNGzZU586d9dprrykvL0+SlJSUJEkKCQlxaR8WFqacnBydPHmy2GsFAAAAUDaVuEsKq1WrprFjx6pZs2ayWCz64osvNGfOHJ05c0ZTpkxRamqqJMlms7k8L/9x/np3+Pq6n1N9fEps1kUJ5Y3HnDfWhNLNG485b6wJpZu3HXPeVg9Kv+I+5kpc4GrXrp3atWvnfBwbGyt/f3+98cYbGjVqlOnbt1otCg6uZPp2gKJms1XwdAmAxzEOAMYBUNxjoMQFrsL06NFDr7/+ug4dOqTAwEBJUnp6uqpVq+Zsk5aWJknO9X+Uw2EoLS3TrT6ky8maNzwUp7S0LOXlOTxdhgvGAYob4wDwvnHAGEBxK6oxYLNVuKGzZaUicF0pNDRU0uW5XPl/5z8uV66c6tSp4/Y2cnO9500KuFF5eQ6OXZR5jAOAcQAU9xgoFRfNbty4UT4+PmrUqJHq1Kmj+vXra9OmTQXatG3bVn5+fh6qEgAAAEBZU+LOcA0fPlytW7eW3W6XJG3dulWrVq3Sgw8+6LyEcOzYsRo/frzq1q2r1q1ba+PGjdq/f7/efvttT5YOAAAAoIwpcYErJCREa9euVXJyshwOh+rXr6+JEydq6NChzja9e/dWVlaWlixZosWLFyskJEQLFixQVFSUBysHAAAAUNaUuMA1adKkG2o3ePBgDR482ORqAAAAAODqSsUcLgAAAADwRgQuAAAAADAJgQsAAAAATELgAgAAAACTELgAAAAAwCQELgAAAAAwCYELAAAAAExC4AIAAAAAkxC4AAAAAMAkBC4AAAAAMAmBCwAAAABMQuACAAAAAJMQuAAAAADAJAQuAAAAADAJgQsAAAAATELgAgAAAACTELgAAAAAwCQELgAAAAAwCYELAAAAAExC4AIAAAAAkxC4AAAAAMAkBC4AAAAAMAmBCwAAAABMQuACAAAAAJMQuAAAAADAJAQuAAAAADAJgQsAAAAATELgAgAAAACTELgAAAAAwCQELgAAAAAwCYELAAAAAExC4AIAAAAAkxC4AAAAAMAkBC4AAAAAMAmBCwAAAABMQuACAAAAAJMQuAAAAADAJKU6cP388896+OGHFRkZqZiYGM2cOVPZ2dmeLgsAAABAGeHr6QLMkpqaqmHDhql+/fqaP3++zpw5o5deekmXLl3SlClTPF0eAAAAgDKg1Aau9957TxcvXtSCBQsUFBQkScrLy9PUqVP16KOPqkaNGp4tEAAAAECpV2ovKdy+fbvatm3rDFuS1KNHDzkcDu3cudNzhQEAAAAoM0pt4EpKSlJoaKjLMpvNpmrVqikpKclDVQEAAAAoS0rtJYVpaWmy2WwFlgcGBio1NfUP92u1WlSlSiV3SpMkWSyX///uY92Vk+dwuz/gasr5XP5eJTCwggzDw8X8j/xx0HjwChmOXM8Wg1LNYr38cefN4+D9QaOVnZfn2WJQqvn5+EjyvnGQPwaaP/W2HHk5ni0GpZrVp5ykohsDVqvlhtqV2sBlFovFIh+fG3txb0TVgApF1hdwLVar957Q9qtU1dMloIzw5nFQtWKAp0tAGeGt48DPxmcBikdxjwHvHHFFwGazKT09vcDy1NRUBQYGeqAiAAAAAGVNqQ1coaGhBeZqpaen69dffy0wtwsAAAAAzFBqA1f79u319ddfKy0tzbls06ZNslqtiomJ8WBlAAAAAMoKi2F407TJopOamqpevXopJCREjz76qPOHj/v06cMPHwMAAAAoFqU2cEnSzz//rBdeeEH79u1TpUqV1K9fP40bN05+fn6eLg0AAABAGVCqAxcAAAAAeFKpncMFAAAAAJ5G4AIAAAAAkxC4AAAAAMAkBC4AAAAAMAmBCwAAAABMQuACAAAAAJMQuAAAAADAJAQueNyWLVv0zjvvFFiekJCg3r17e6CiGzN//nx99913ni4DpUhJGQtpaWmaP3++jhw54ulSUEqcOnVK8+fP15kzZ1yW7969W3a7Xf/+9789VNm1XW3MAn9USRoL69at08cff+zpMkoEAhc8bsuWLXr33Xc9XcZNW7Bggfbt2+fpMlCKlJSxkJaWpgULFhC4UGROnz6tBQsW6OzZs54u5aaUlDGLkqMkjYUPPvhAn3zyiafLKBF8PV0AAAAomwzDUE5OjqfLADyOsVC6cYYLV3X48GGNGDFCrVu3VrNmzdS9e3ctWbLEuX7z5s3q16+fIiIiFBsbq8TERP3+++/O9evWrZPdbtf58+dd+u3Xr58SEhIkXb5U6oMPPtDhw4dlt9tlt9ud6/Lt3r1b/fv3V2RkpAYNGqQDBw44102cOFH33Xef8/H58+fVoEED3XXXXc5lFy9eVOPGjfXpp586l/3888967LHH1KJFC0VGRmrkyJE6ceKEy3bXrFmjXr16qWnTpmrdurXuvfde7d+/X5Jkt9slSTNnznTWvXv37pt7gVFilISxIF3+wF62bJm6d++uJk2aqHPnzlqxYoVLm59//lnjxo1Thw4d1KxZM/Xs2VOvv/66HA6HS7vFixera9euioiIUJs2bfTQQw/p5MmTOnXqlDp37ixJevLJJ521njp16o+9uCgR8i9rvdYx+PvvvysxMVGxsbGKiIhQv3799Pnnnxfaz7Zt29S3b19FREToiy++0IMPPihJGjRokPOYulJaWpqefvppRUVFqWPHji7jb+/evbLb7S7v4aNGjZLdbtfhw4edy5566imNHDnS+Tg7O1uvvvqqOnbsqCZNmqhHjx4FLo+61ti/kTGL0sebx0K+ffv26cEHH1RkZKRatGihp59+WufOnXNp88orr6hPnz6KiopSu3bt9NRTTxU4q/btt9/q/vvvV4sWLRQVFaU+ffrogw8+kCQNHTpU33zzjb766itnnfPnz//jL2wpxxkuXNWoUaNUtWpVvfjii6pcubJOnDih5ORkSdLWrVv1xBNPqFevXnr66aeVlJSk2bNn65dfftG8efNueBuPP/64zp8/r6SkJL3yyiuSpCpVqjjX//rrr5o2bZpGjhypgIAAzZo1S2PGjNHnn3+ucuXKqWXLlvr444/1+++/y9/fX3v37pWfn58OHTqkjIwMVa5cWfv27VNubq5atmwpSTp58qTuuece3X777XrppZdksVj097//XQ899JA2bdokPz8/7dmzR//3f/+nv/zlL+rQoYMuXbqk/fv3Kz09XZL0/vvv6+6779bQoUOdc2tuu+22Innd4X1KwliQpBdffFGrV6/WqFGj1KxZM3333Xd65ZVX5O/vr3vvvVeSdPbsWYWEhKhPnz6qVKmSDh06pPnz5yszM1NjxoyRJK1fv15z587VE088ocjISKWnp+vbb7/VxYsXFRoaqgULFmjMmDF66qmn1Lp1a0lS9erV3X+h4dWudwyOHz9e//jHPxQXF6fQ0FB9+OGHGjt2rBYuXOgM6dLlY3DatGl67LHH9Kc//UnBwcGaMmWKnn/+eSUmJio0NLTAtv/617+qX79+WrhwobZs2aJXXnlFdrtd7du3V9OmTeXv7689e/aobt26cjgc+vbbb53Lbr/9dknSnj17NHToUGefTz75pL777juNHj1aYWFh2rZtmyZMmCCbzaYOHTpIuvbYv96YRenlrWNBuhy2hg4dqg4dOmj27NnKysrSnDlz9Pjjj+v999939nPu3Dk9+uijql69us6fP6/ly5dr6NCh2rBhg3x9fZWRkaFHH31ULVq00Kuvvio/Pz8dOXJEaWlpzjomTJig8uXLKz4+XpJUs2ZNM1/2ks0ACnHu3DkjPDzc2Lp1a6Hr+/fvb9x9990uy9577z0jPDzc+PHHHw3DMIy1a9ca4eHhxrlz51za9e3b14iPj3c+jo+PN3r16lVgG/Hx8Ybdbjd++ukn57J//vOfRnh4uLFnzx7DMAzjxIkTRnh4uLF7927DMAxj2rRpxlNPPWW0atXK2LZtm2EYhvHqq68a3bp1c/bxzDPPGJ07dzYuXbrksr+RkZHG22+/bRiGYSxdutRo1arVNV+j8PBwY+nSpddsg5KvpIyF48ePG3a73Xjvvfdcnvvyyy8bMTExRl5eXoF+HQ6HkZOTYyxatMiIiYlxLp86daoxYMCAQvfXMAzj5MmTRnh4uPHpp59etQ1Kl+sdg4cOHTLCw8ONd9991+V5d999t8uxFB8fb4SHhxvff/+9S7v8vvbv31/o8hkzZjiXORwOo2PHjsbEiROdy+6//34jISHBMAzDOHjwoNG4cWNj8uTJRlxcnGEYhnHs2DEjPDzc+O677wzDMIxdu3YZ4eHhxj/+8Q+X7cXFxRl33XWXYRjXH/v5+1PYmEXpVRLGwt133204HA7nssOHDxt2u9346quvCt2n3NxcIzk52WVM7N+/3+VzrDAPPPCAMXLkyKuux//DJYUoVHBwsGrVqqVXX31VH3zwgfMbPenyJXqHDh1S9+7dXZ7Ts2dPSZdPQReV6tWrO7+dlP7fWaT8u/fUqVNHNWvW1J49eyRdvrSkVatWio6OdlmWf3ZLknbu3KlOnTrJx8dHubm5ys3Nlc1mU6NGjZyXBDRq1EgpKSlKSEjQzp07lZWVVWT7hJKlpIyFr7/+WpLUrVs353Gdm5urO+64Q7/++qt++eUXSZcvdZk3b57zcsHGjRtr9uzZ+vXXX3Xx4kVJl4//gwcPKjExUXv37mVeASRd+xjMP9bvvPNOl+f06NFDBw8eVGZmpnNZUFCQmjVrdlPbjo2Ndf5tsVgUFhbmMhavfM/fs2ePmjRpovbt27ssq1Chgpo0aSLp8udAUFCQ2rRpU2C8HDp0SHl5edcc+yjbvHUsZGVl6bvvvtOdd96pvLw853Fdv359/elPf3K5w+G2bdt0zz33qEWLFmrUqJHzDNmxY8ckSXXr1lXlypX13HPPaePGjQUuicfN4ZJCFMpisWjZsmWaPXu2nn/+eWVmZqpx48Z69tlnVadOHRmGoVtuucXlOQEBAfLz81NqamqR1WGz2Vwe5186deX8mJYtW2rv3r3KyMjQjz/+qOjoaGVlZWnTpk3Kzs7W/v37NXjwYGf7Cxcu6I033tAbb7xRYHv5/bdt21YzZ87Um2++qeHDh8vf31/du3fXxIkTFRQUVGT7B+9XUsbChQsXZBiG2rRpU+jzf/nlF9WqVUsvv/yyVq9erdGjR6tJkyYKCAjQ1q1btWjRIv3++++qVKmSBg4cqIsXL2rVqlVasWKFAgIC1L9/f40fP17ly5cvsn1CyXKtYzA1NVXlypUr8P5YtWpVGYah9PR0VaxY0bnsZgUEBBTYdv4l3pLUqlUrLVq0SGfOnNHevXsVHR2t6Oho/fbbbzp27Jj27t2rZs2aOWu+cOGCUlJS1Lhx40K39+uvv6pmzZpXHftXfomHssdbx0JaWpry8vKUmJioxMTEAs/N/+Jt//79evzxx9W5c2eNGDFCt9xyiywWi4YMGeL8TAkMDNTy5cs1b948PfPMM8rLy1N0dLQmTZpUYF4Zro/AhasKCQnRvHnzlJOTo3379unVV1/VqFGjtH37dlkslgLfdqSnpys7O1uBgYGSJH9/f0kq8O14/vW/RaVly5Z66aWXtHv3bgUHByssLExZWVl65ZVX9M9//lPZ2dmKjo52tg8MDFSHDh1cbraRr1KlSs6/+/Xrp379+un8+fPaunWrEhMT5evrq+nTpxdp/fB+JWEsBAYGymKxaOXKlc4P///dB0natGmT7r77bpebB2zbts2lrdVq1bBhwzRs2DCdOXNGGzZs0KxZsxQcHKzRo0cXWc0oPQIDA5WTk6PU1FTncS9Jv/32mywWi8s/Ei0WS5FvPzIyUuXKldOePXu0d+9e3XXXXQoKCtLtt9+uPXv2aM+ePerfv79LvVWqVNHixYsL7S9/Lta1xv6VnxdAPk+OhYCAAFksFj366KPq0qVLgfXBwcGSLv+cQeXKlTVnzhxZrZcvdjt9+nSB9k2bNtXSpUt16dIl7d69WzNmzNDo0aO1ZcuWIq27LOCSQlxXuXLl1KpVK40cOVIZGRk6e/asGjZsqE2bNrm0y78LYIsWLSRJNWrUkCQlJSU52/z888/Ob1iu7P/KM1Y3Kzo6WpmZmVqxYoUzWDVs2FD+/v5asmSJ/vSnP6l27drO9m3bttXhw4fVqFEjRUREuPxX2ATVKlWqaPDgwYqJiXHZF3frRsnjzWOhbdu2kqSUlJQCx3VERIQqV64s6fI3sFcGsry8PG3YsOGq/daoUUN/+ctfZLfbnfUXdqYZZVv+sf6/Y2HTpk1q1KiR8xv9q3H3mKpYsaIaNWqk999/XykpKc56WrZsqY8++kinTp1y+eLtjjvu0Pnz51WuXLlCx4ufn1+B+v537OcvZxzgSp4cCxUrVlRkZKSSkpIKPa7z/y106dIllStXziXwXesHjMuXL68OHTro3nvv1alTp5y1cfzfOM5woVA//vijZsyYoZ49e6pOnTrKyMjQa6+9plq1aqlu3boaM2aMRo8erfHjx6tv3746evSoZs+ere7duztPNTdr1kx/+tOfNH36dD399NPKyMjQ4sWLC5xmDwsL09q1a/XJJ5+oXr16Cg4OdglI1xMWFqZbbrlF33zzjSZNmiRJ8vHxUfPmzbV9+3b16dPHpf0TTzyhQYMGafjw4RoyZIiqVq2q3377Td98842io6PVu3dvzZs3TykpKWrVqpVuueUW/fTTT/rHP/6hhx56yNlPaGiotm7dqujoaFWoUEEhISHOf9Si9CgpYyEkJET333+/nnnmGQ0fPlzNmjVTTk6Ojh07pt27d+tvf/ubpMv/0Fy9erVuu+02BQcHa+XKlcrOznbpa8qUKbLZbIqMjJTNZtN3332nH3/80Xmnw2rVqslms2nDhg2qXbu2/Pz8ZLfbC/wjFWVHgwYN1K1bN7300ku6dOmSQkJC9NFHH2nfvn3OY+9a6tevLx8fH61du1a+vr7y8fFRRETETdUQHR2tZcuWqXHjxs734ujoaL3zzjsqV66coqKinG1jYmLUsWNHPfLII3rkkUdkt9uVlZWlI0eO6Pjx43rxxRevO/Yl9z+/UPp4eiw888wzGjZsmOLi4tSrVy/ZbDYlJyfr66+/1sCBA9W6dWvFxMTojTfe0AsvvKCuXbtq3759+vDDD136+eqrr7RmzRp16dJFt956q3777Te9/fbbat68ufOqjdDQUK1fv15ffPGFqlWrpurVqzu/YIQrAhcKVa1aNVWtWlWvvfaazpw5o4CAAEVHR+vll1+Wj4+POnfurLlz52rhwoV6/PHHFRQUpCFDhujpp5929lGuXDktWLBAzz33nJ588knVrVtXEydO1EsvveSyrUGDBmn//v164YUXlJKSogEDBhRocz3R0dH67LPPXK6rb9mypbZv317gWvt69epp9erVmjNnjqZOnarMzExVq1ZNLVu2dP4DOSIiQm+88YY+/fRTZWRkqGbNmho+fLgee+wxZz9TpkzR9OnTNWLECF26dElvvvmm8xbZKD1K0liYNGmSQkJC9P7772vhwoWqVKmSQkJCXCZvT548WX/961/1wgsvqEKFChowYIC6du3q/LJCkqKiorRq1SqtXr1aWVlZqlOnjp599lnnXEir1arExES9+uqreuihh5Sdna2tW7fyD80y7uWXX9arr76qJUuWKCUlRaGhoZo3b546dep03edWqVJFU6ZM0dKlS/XRRx8pNzdX//nPf25q+61atdKyZctczmTlv/83adKkwPzDefPmafHixXr33Xd1+vRpBQQE6Pbbb9fAgQMlXX/sS0Xz+YXSx5NjoXnz5lq5cqXmz5+vZ599Vjk5OapZs6batGmjevXqSZI6dOig8ePH6+2339a6devUvHlzvfbaay43gKpbt66sVqvmzJmjc+fOKSgoSLGxsXrqqaecbUaMGKETJ04oPj5eaWlpGjNmjMaOHXsTr1TZYTEMw/B0EQAAAABQGjGHCwAAAABMQuACAAAAAJMQuAAAAADAJAQuAAAAADAJgQsAAAAATELgAgAAAACTELgAAAAAwCQELgAA/oBTp07Jbrdr3bp1ni4FAODFCFwAAAAAYBKLYRiGp4sAAKCkMQxD2dnZ8vX1lY+Pj6fLAQB4Kc5wAQBKvczMzCLv02KxyN/fn7AFALgmAhcAoFSZP3++7Ha7jhw5oqefflotW7bUfffdJ0n68MMPNXDgQDVt2lStWrXSuHHj9MsvvxTo45133lHnzp3VtGlTDRo0SHv37tXQoUM1dOhQZ5urzeHatWuX7rvvPkVGRio6OlqPPfaYfv7550JrPH78uBISEhQdHa0WLVro2WefVVZWlgmvCgDAUwhcAIBS6cknn1RWVpbGjRunwYMHa9GiRYqPj1e9evWUkJCgBx98ULt27dL999+vtLQ05/NWrlyp559/XjVr1tSECRMUHR2t0aNHKzk5+brb/Prrr/XII4/o3LlzGjNmjB566CHt27dP9957r06dOlWgfVxcnC5evKinnnpKPXr00Lp167RgwYIifR0AAJ7l6+kCAAAwQ4MGDTRr1ixJ0unTp9W1a1fFxcVp1KhRzjbdunXTgAEDtHLlSo0aNUrZ2dmaO3euIiIi9MYbb8jX9/LHpN1uV0JCgmrWrHnNbc6cOVOBgYF6//33FRQUJEnq0qWLBgwYoPnz52vGjBku7Rs2bKjp06c7H6ekpGjNmjWaMGFCUbwEAAAvwBkuAECpdM899zj//vzzz+VwONSjRw+dP3/e+V/VqlVVr1497d69W5J04MABpaSkaMiQIc6wJUl9+vRRYGDgNbd39uxZHTp0SAMGDHCGLely8Lvjjju0bdu2a9YoSdHR0UpJSVFGRsYf2WUAgBfiDBcAoFSqXbu28+9jx47JMAx169at0Lb54eq///2vJKlu3boF1teqVeua28t/bkhISIF1YWFh2rFjhzIzM1WxYkXn8ltvvdWlnc1mkySlpqaqcuXK19weAKBkIHABAEolf39/598Oh0MWi0VLliwp9K6CV4ag4mS1Fn6hCb/YAgClB4ELAFDq1a1bV4ZhqHbt2oWegcqXf8bpxIkTatOmjXN5bm6uTp8+Lbvdft3nHj16tMC6pKQkBQcHeyzYAQA8hzlcAIBSr1u3bvLx8dGCBQsKnD0yDEMXLlyQJDVp0kRBQUFatWqVcnNznW0+/vhjpaamXnMb1atXV8OGDbV+/XqXux7+9NNP2rlzpzp06FCEewQAKCk4wwUAKPXq1q2ruLg4zZo1S6dPn1aXLl1UqVIlnTp1Slu2bNGQIUM0fPhw+fn5aezYsXrhhRc0bNgw9ejRQ6dPn9a6desKzOsqzDPPPKMRI0bo7rvv1qBBg3Tp0iW9/fbbCggI0JgxY4phTwEA3obABQAoE0aOHKn69etrxYoVWrhwoSSpZs2aiomJUadOnZztHnjgARmGoeXLl2vGjBlq0KCBFi1apGnTprnMCyvMHXfcoaVLl2revHmaN2+efH191bJlS02YMEF16tQxdf8AAN7JYjAzFwCAa3I4HGrbtq26du2qadOmebocAEAJwhwuAACu8PvvvxeY57V+/XqlpKSoVatWHqoKAFBScUkhAABX+P7775WYmKg777xTQUFBOnjwoNasWaPw8HDdeeedni4PAFDCELgAALhCrVq1VLNmTb311ltKTU1VYGCg+vXrp/Hjx8vPz8/T5QEAShjmcAEAAACASZjDBQAAAAAmIXABAAAAgEkIXAAAAABgEgIXAAAAAJiEwAUAAAAAJiFwAQAAAIBJCFwAAAAAYBICFwAAAACYhMAFAAAAACb5/wAhkC5nEO83awAAAABJRU5ErkJggg==\n"
          },
          "metadata": {}
        }
      ],
      "source": [
        "# Grafica la frecuencia en grafico de barras de las variables categorica usando seaborn usando hue\n",
        "sns.set(style=\"darkgrid\")\n",
        "for col in insurance_df.select_dtypes(include=['object']).columns:\n",
        "    plt.figure(figsize=(10,5))\n",
        "    sns.countplot(x=col, data=insurance_df,palette=\"colorblind\" )\n",
        "    plt.xlabel(col)\n",
        "    plt.ylabel('Frequency')\n",
        "    plt.title(col)\n",
        "    plt.show()\n"
      ]
    },
    {
      "cell_type": "markdown",
      "metadata": {
        "id": "IctCTEc-Qk2X"
      },
      "source": [
        "Para responder los siguientes cuestionamientos, genera los gráficos indicados:\n",
        "\n",
        "2a) ¿Hay diferencias significativas de las primas según el sexo? Compara la distribución de la variable `charges` por medio de un boxplot."
      ]
    },
    {
      "cell_type": "code",
      "execution_count": null,
      "metadata": {
        "id": "Dj2GMnvKk1Sa"
      },
      "outputs": [],
      "source": [
        "# Calcula el numero de datos entre cuartiels para una variable numerica y una categorica\n",
        "def count_between_quantiles(df, numeric_variable, categoric_variable, category, q1, q2):\n",
        "    \"\"\"\n",
        "    Esta función calcula la cantidad de datos entre dos cuartiles especificados\n",
        "    de una variable para una categoría específica.\n",
        "\n",
        "    Parámetros:\n",
        "    df (pandas.DataFrame): El DataFrame que contiene los datos.\n",
        "    variable (str): La variable para la cual calcular la cantidad de datos.\n",
        "    category (str): La categoría para la cual calcular la cantidad de datos.\n",
        "    q1, q2 (float): Los cuartiles entre los cuales contar los datos.\n",
        "\n",
        "    Devuelve:\n",
        "    count (int): La cantidad de datos entre q1 y q2 para la categoría especificada en la variable.\n",
        "    \"\"\"\n",
        "    lower_bound = df[df[categoric_variable] == category][numeric_variable].quantile(q1)\n",
        "    upper_bound = df[df[categoric_variable] == category][numeric_variable].quantile(q2)\n",
        "\n",
        "    # Filtrar los datos entre los cuartiles especificados\n",
        "    filtered_data = df[(df[categoric_variable] == category) & (df[numeric_variable] >= lower_bound) & (df[numeric_variable] <= upper_bound)]\n",
        "\n",
        "    # Calcular la cantidad de datos\n",
        "    count = len(filtered_data)\n",
        "\n",
        "    print(f'La cantidad de datos entre {q1} y {q2} para {numeric_variable} en {category} es: {count}')\n",
        "\n",
        "    return count"
      ]
    },
    {
      "cell_type": "code",
      "execution_count": null,
      "metadata": {
        "id": "BOvJImgfk1Sa",
        "outputId": "a8a63788-4ea9-44ad-a1c9-990b3b5c3652",
        "colab": {
          "base_uri": "https://localhost:8080/",
          "height": 1000
        }
      },
      "outputs": [
        {
          "output_type": "display_data",
          "data": {
            "text/plain": [
              "<Figure size 1000x600 with 2 Axes>"
            ],
            "image/png": "iVBORw0KGgoAAAANSUhEUgAAA9gAAAJICAYAAACaO0yGAAAAOXRFWHRTb2Z0d2FyZQBNYXRwbG90bGliIHZlcnNpb24zLjcuMSwgaHR0cHM6Ly9tYXRwbG90bGliLm9yZy/bCgiHAAAACXBIWXMAAA9hAAAPYQGoP6dpAABedUlEQVR4nO3deXgUVaL+8bc7kLCEBHAYVBYFxjQhISSshkAYQMRABK9ewUEWQVQUQfDnvQIjoKNe0AviCoLIIm6Aoo4SEAExyDaO4IaOsm8qKkJ2kpA+vz+46UmnO9AJ1d0k+X6eJw909alzTlWddOXt2mzGGCMAAAAAAHBB7MHuAAAAAAAAVQEBGwAAAAAACxCwAQAAAACwAAEbAAAAAAALELABAAAAALAAARsAAAAAAAsQsAEAAAAAsAABGwAAAAAACxCwAQAAAACwAAEbAKqg5557Tg6HIyBtDRs2TMOGDXO93rFjhxwOh9auXRuQ9idNmqRevXoFpK2KysnJ0V//+lclJSXJ4XDo8ccf91tbR48elcPh0Msvv+y3NiqrgwcPatSoUerQoYMcDofWr1/v1/Z+++03jR8/Xl26dJHD4dCSJUv82l5FVYbfIQCoLGoEuwMAgHNbtWqVJk+e7HodGhqqyMhIORwO9ejRQzfeeKPCw8MvuJ3jx49rxYoVuuaaaxQdHX3B9VnpYu6bL+bPn6933nlH99xzj5o1a6ZWrVqVWbZXr176j//4D40bN07Dhg1TkyZNNHPmzAD29uK3Y8cODR8+XBs2bJAk9e7dW6+88oq6dOlyzvkmTZqko0ePauLEiapXr55iY2P92s8ZM2Zo8+bNuvfee/WHP/zB7+0BAIKPgA0AlcT48ePVtGlTnTlzRr/99pv+8Y9/6H/+53+0ZMkSzZ07V61bt3aVvfvuu3XnnXeWq/5ffvlFzz//vJo0aVKuEBuII6Xn6tujjz4qY4zf+3Ahtm/frnbt2unee+8NdleqrdOnT2vXrl0aM2aMhg4dGpA2t2/frt69e+v2228PSHsAgOAjYANAJZGcnKy2bdu6Xt91113atm2bxowZo3vuuUdpaWmqVauWJKlGjRqqUcO/H/F5eXmqXbu2QkND/drO+dSsWTOo7fvixIkT+tOf/hTsblgqNzdXderUCXY3fPb7779LkiIiIiyr83zr4MSJE5a2BwC4+HENNgBUYomJibrnnnt07Ngx/f3vf3dN93YN9pYtW/SXv/xFHTt2VEJCgvr27aunnnpK0tlTbv/zP/9TkjR58mQ5HA45HA6tWrVK0tnrrFNTU/XNN9/o1ltvVbt27Vzzlr4Gu5jT6dRTTz2lpKQkxcfHa8yYMfrpp5/cyvTq1UuTJk3ymLdknefrm7frR3NzczVz5kz16NFDsbGx6tu3r15++WWPI90Oh0N/+9vftH79eqWmpio2Nlb9+/dXenr6uVa7y4kTJzRlyhR17dpVbdu21YABA/TOO++43i++Hv3o0aPatGmTq+9Hjx71qX5v8vPz9dxzz6lv375q27atunXrpnvvvVeHDx/2KLt8+XJdc801io2N1U033aSvvvrK7f1//etfmjRpknr37q22bdsqKSlJkydP1smTJ93KFY+nvXv36v/9v/+nTp06aciQIZLObufnnntO3bp1U7t27TRs2DDt3bvX67bNzMzU448/7touffr00YIFC+R0Ot3KrV69WjfeeKMSEhLUvn17XX/99Vq6dGmF19lzzz2nnj17SpKefPJJORwOtzHz7bffavTo0Wrfvr0SEhI0YsQIffHFF251rFq1Sg6HQ//4xz/08MMPKzExUT169PDaXnFZY4xee+0113Yvz3ooeS39a6+9pt69e6tdu3YaNWqUfvrpJxlj9MILLyg5OVlxcXG6++67derUKbd+rF+/Xnfeeae6deum2NhYXXPNNXrhhRdUVFR03nXmdDq1ZMkS9e/fX23btlXXrl01bdo0ZWRkuJX7+uuvdfvtt6tLly6Ki4tTr1693C5pAYDqhiPYAFDJDRw4UE899ZQ+/fRTDRo0yGuZPXv26K677pLD4dD48eMVGhqqQ4cOaefOnZKkVq1aafz48Xr22Wc1ePBgdejQQZLUvn17Vx2nTp3SHXfcof79+2vAgAG65JJLztmvefPmyWaz6Y477tCJEye0dOlS3XbbbXrvvfdcR9p94UvfSjLG6O6773YF8+joaG3evFlPPvmkjh8/rilTpriV//zzz7Vu3ToNGTJEdevW1bJlyzR+/Hh9/PHHatCgQZn9On36tIYNG6bDhw/r1ltvVdOmTbV27VpNmjRJmZmZGjFihFq1aqUnn3xSM2bM0KWXXqqRI0dKkho2bOjz8pdUVFTkOnOhf//+Gj58uHJycrRlyxb98MMPat68uavsBx98oJycHA0ePFg2m00LFy7UuHHjtH79etdR/61bt+rIkSO68cYb1ahRI+3Zs0crVqzQ3r17tWLFCtlsNrf277vvPl1xxRWaOHGi68uK2bNna+HCherZs6e6d++uf/3rX7r99tuVn5/vNm9eXp6GDh2q48eP65ZbbtFll12mXbt26amnntKvv/6qv/71r5LOfhF0//33KzExUQ888IAkaf/+/dq5c6dGjBhRofXWp08f1atXTzNmzFBqaqqSk5NVt25dSWd/N2699VbVrVtXo0ePVo0aNbR8+XINGzZMr776qtq1a+dW1yOPPKKGDRtq7Nixys3N9dpep06d9OSTT+q///u/lZSUpIEDB5Z7PRR7//33VVhYqGHDhunUqVNauHChJkyYoKuvvlo7duzQHXfcoUOHDunVV1/VE088oRkzZrjmfeedd1SnTh2NHDlSderU0fbt2/Xss88qOztbDz744DnX2bRp0/TOO+/oxhtv1LBhw3T06FG99tpr+vbbb/XGG2+oZs2aOnHihG6//XY1aNBAd955pyIiInT06FF99NFH5do+AFClGADARe3tt982UVFR5quvviqzTIcOHcwNN9zgev3ss8+aqKgo1+vFixebqKgoc+LEiTLr+Oqrr0xUVJR5++23Pd4bOnSoiYqKMm+88YbX94YOHep6vX37dhMVFWW6d+9usrKyXNPT0tJMVFSUWbp0qWtaz549zYMPPnjeOs/VtwcffND07NnT9fqjjz4yUVFRZu7cuW7lxo0bZxwOhzl06JBrWlRUlImJiXGb9t1335moqCizbNkyj7ZKWrJkiYmKijLvvfeea1pBQYEZPHiwiY+Pd1v2nj17mjvvvPOc9fnirbfeMlFRUWbx4sUe7zmdTmOMMUeOHDFRUVGmc+fO5tSpU673169fb6KioszGjRtd0/Ly8jzq+eCDD0xUVJT57LPPXNOKx9P999/vVvbXX381bdq0Mffcc4/b9Oeee85ERUW5bdsXXnjBxMfHmwMHDriVnTVrlomOjjY//vijMcaYxx57zLRv396cOXPmPGujfIrXy8KFC92m33PPPSYmJsYcPnzYNe348eMmISHB3Hrrra5pxb+Hf/nLX3zuW1RUlHnkkUfcpvm6Hor7e/XVV5vMzExXudmzZ5uoqCgzYMAAU1hY6Jp+//33m5iYGJOfn++a5m37Tp061bRr186tXOnfoc8++8xERUWZv//9727zpqenu00v/l0712cTAFQ3nCIOAFVAnTp1lJOTU+b7xdeBbtiwweN0XF+Fhobqxhtv9Ln8DTfc4HZ38+uuu06NGjXSJ598UqH2fZWenq6QkBCP09ZHjRolY4zH6d9du3Z1O/LbunVrhYeH68iRI+dtp1GjRkpNTXVNq1mzpoYNG6bc3Fx99tlnFiyNu3Xr1qlBgwZeb9JV+mhzv379FBkZ6XrdsWNHSXJbrpJnEuTn5+v33393HbHdvXu3Rxu33HKL2+tt27bpzJkzrtPFi3nr39q1a9WhQwdFRETo999/d/107dpVRUVFrvUVERGhvLw8bdmyxftKsFBRUZG2bNmia665Rs2aNXNN/+Mf/6jU1FR9/vnnys7Odptn0KBBCgkJqXCbvq6HYtddd53q1avneh0XFydJGjBggNt9FuLi4lRYWKjjx4+7ppXcvtnZ2fr999/VsWNH5eXlaf/+/efsY7169ZSUlOTWx5iYGNWpU0c7duyQJFe/Nm3apMLCwgqvEwCoSjhFHACqgNzc3HOest2vXz+tXLlSDz30kGbPnq3ExET16dNH1113nex2375rbdy4cbluaHbFFVe4vbbZbLriiit07Ngxn+uoiGPHjumPf/yjx6PLih+NVbr9yy67zKOOyMhIZWZmnredK664wmP9Fbfz448/lrvv53P48GG1aNHCpxvYlV6u4rBdcrlOnTql559/XmlpaTpx4oRb+aysLI86mzZt6va6eBlLfkEhSfXr13cL95J06NAhff/990pMTPTa3+KbkA0ZMkRr1qzRHXfcocaNGyspKUkpKSlKTk4uc1kr6vfff1deXp5atGjh8V6rVq3kdDr1008/6aqrrnJNL70OysvX9VCs9HYsDrVlTc/IyHB9WbBnzx49/fTT2r59u8cXBd62b8k+ZmVlldnH4rHSuXNn9e3bV88//7yWLFmizp0765prrtH1118f9JsfAkCwELABoJL7+eeflZWV5RFySqpVq5Zee+017dixQ5s2bdLmzZuVlpam5cuXa9GiRT4dkSvPddMXqqio6IKOEpZHWe2Yi/zRX+fjy3JNmDBBu3bt0u23367o6GjVqVNHTqdTo0eP9rr8YWFhFe6P0+lUUlKSRo8e7fX9K6+8UpJ0ySWX6N1339Wnn36q9PR0paena9WqVbrhhhv0xBNPVLh9q1zIOpB8Xw/FytqOZX0xVrzdMjMzNXToUIWHh2v8+PFq3ry5wsLCtHv3bs2aNeucZ7I4nU5dcsklmjVrltf3i+8hYLPZ9Oyzz+qLL77Qxx9/rM2bN2vKlClavHixli9f7rrOHQCqEwI2AFRy7733niSpW7du5yxnt9uVmJioxMRETZ48WS+++KLmzJmjHTt2qGvXrh6nGF+oQ4cOub02xujQoUNud1Mu60jxjz/+6HbKbnn61qRJE23btk3Z2dluR7GLT4lt0qSJz3Wdr53vv/9eTqfTLewUt3P55Zdb0k5JzZs315dffqnCwsILfjxZRkaGtm3bpnHjxrk9n/vgwYM+11G8jIcPH3bbXidPnvS423Tz5s2Vm5urrl27nrfe0NBQ9erVS7169ZLT6dTDDz+s5cuX65577vE4M+JCNGzYULVr19aBAwc83tu/f7/sdrvXMxwuRHnWw4X4xz/+4TpDoVOnTq7pvtzBvnnz5tq2bZvat2/v0xdr8fHxio+P18SJE/X+++/rgQceUFpamm6++eYLWgYAqIy4BhsAKrFt27Zp7ty5atq0qQYMGFBmudKP75Gk6OhoSVJBQYEkqXbt2pJ03lOjffXuu++6nZa6du1a/frrr26n+jZr1kxffvmlqw+S9PHHH3s8zqs8fUtOTlZRUZFee+01t+lLliyRzWaz7FTj5ORk/frrr0pLS3NNO3PmjJYtW6Y6deq4hRqrXHvttTp58qTHsknlP+Je1pHR8jwOKzExUTVq1NAbb7zhNt1b/1JSUrRr1y5t3rzZ473MzEydOXNGkjweEWa3211fypQcJ1YICQlRUlKSNmzY4BY8f/vtN33wwQfq0KGDx6UGF8rX9XChir/0KTkuCgoK9Prrr/vUx6KiIs2dO9fjvTNnzrh+DzMyMjzGXenPFQCobjiCDQCVRHp6uvbv36+ioiL99ttv2rFjh7Zs2aLLL79c8+bNO+epqy+88IL++c9/qkePHmrSpIlOnDih119/XZdeeqnrsVfNmzdXRESE3nzzTdWtW1d16tRRXFyc25HJ8oiMjNSQIUN04403uh7TdcUVV7g9Suzmm2/Whx9+qNGjRyslJUWHDx/W+++/73G6e3n61qtXL3Xp0kVz5szRsWPH5HA4tGXLFm3YsEEjRow456n05TF48GAtX75ckyZN0u7du9WkSRN9+OGH2rlzp6ZMmWJ5MJPO3jju3Xff1YwZM/TVV1+pQ4cOysvL07Zt2/SXv/xF11xzjc91hYeHq1OnTlq4cKEKCwvVuHFjbdmypVzP6P7DH/6g4cOHa9GiRRozZoy6d++u77//Xunp6WrQoIHbmQe33367Nm7cqDFjxug//uM/FBMTo7y8PP3www/68MMPtWHDBjVs2FAPPfSQMjIydPXVV6tx48b68ccf9eqrryo6Otp1fbuVJkyYoK1bt2rIkCEaMmSIQkJCtHz5chUUFOi//uu/LG/P1/VwoRISEhQZGalJkyZp2LBhstlseu+993z6IqZz584aPHiw5s+fr++++05JSUmqWbOmDh48qLVr1+qvf/2rrrvuOr3zzjt64403dM0116h58+bKycnRihUrFB4e7pdr5gGgMiBgA0Al8eyzz0o6e6fq+vXrKyoqSlOmTNGNN9543jDXq1cvHTt2TG+//bZOnjypBg0aqHPnzho3bpzr5kg1a9bUzJkz9dRTT+nhhx/WmTNnNGPGjAoH7DFjxuj777/XggULlJOTo8TERE2fPt11NFqSunfvrkmTJmnx4sX6n//5H8XGxurFF1/0uNa2PH2z2+2aN2+enn32WaWlpWnVqlVq0qSJ/vu//1ujRo2q0LJ4U6tWLS1btkyzZs3SO++8o+zsbLVo0UIzZswo193WyyMkJEQvvfSS5s2bpw8++EDr1q1T/fr11b59e7dT7301e/ZsPfroo3r99ddljFFSUpJeeuklde/e3ec6HnjgAdWqVUsrV67Utm3bFB8fr5dffllDhgxxu9FV7dq1tWzZMs2fP19r167Vu+++q/DwcF155ZVu43DAgAFasWKFXn/9dWVmZqpRo0ZKSUnRuHHjfL4hX3lcddVVeu211zR79mzNnz9fxhjFxcXpf//3fz2egW0FX9fDhWrQoIHrd+npp59WRESEBgwYoMTERN1+++3nnf9vf/ubYmNj9eabb2rOnDkKCQlRkyZNNGDAANcz6Dt37qyvv/5aaWlp+u2331SvXj3FxcVp1qxZFf7cAIDKzmYq+11cAADARSUzM1OdOnXShAkTdPfddwe7OwAABAzXYAMAgAo7ffq0x7Ti67g7d+4c6O4AABBUnCIOAAAqLC0tTe+8846Sk5NVp04d7dy5Ux988IG6devmur4fAIDqgoANAAAqzOFwKCQkRAsXLlROTo4uueQSDR8+XBMmTAh21wAACDiuwQYAAAAAwAJcgw0AAAAAgAUI2AAAAAAAWICADQAAAACABarcTc6MMXI6rbus3G63WVofqg7GBsrC2EBZGBsoC2MD3jAuUBbGRmDZ7TbZbDafyla5gO10Gv3+e44lddWoYVeDBnWVmZmrM2ecltSJqoGxgbIwNlAWxgbKwtiAN4wLlIWxEXgNG9ZVSIhvAZtTxAEAAAAAsAABGwAAAAAAC1S5U8QrC5tNPp/HbwVjjHjiOQAAAAD4DwE7CGw2KT8/VFlZgTuBoF49p8LCCgjZAAAAAOAnBOwgsNlsysqyKy3NKDvb/4k3PNymfv3sqlXLJkPCBgAAAAC/IGAHUXa2UVZWIFoykgJ3OjoAAAAAVEfc5AwAAAAAAAsQsAEAAAAAsAABGwAAAAAAC5Q7YB86dEjTpk3TwIED1aZNG6Wmpnott3LlSvXt21dt27bVgAED9PHHH3uUycrK0pQpU9S5c2clJCRo/Pjx+uWXX8q/FAAAAAAABFm5A/aePXv0ySef6IorrlCrVq28llm9erWmTp2qlJQUvfTSS4qPj9e9996rL774wq3chAkTtGXLFj388MOaNWuWDhw4oDvuuENnzpyp0MIAAAAAABAs5b6LeK9evXTNNddIkiZNmqRvvvnGo8yzzz6r/v37a8KECZKkq6++Wj/88INeeOEFvfTSS5KkXbt26dNPP9XLL7+sbt26SZJatGihfv36ad26derXr19FlwkAAAAAgIAr9xFsu/3csxw5ckQHDx5USkqK2/R+/fpp27ZtKigokCSlp6crIiJCSUlJrjItW7ZUdHS00tPTy9stAAAAAACCyvKbnO3fv1/S2aPRJbVq1UqFhYU6cuSIq1yLFi1ks7k/n7lly5auOgAAAAAAqCzKfYr4+WRkZEiSIiIi3KYXvy5+PzMzU/Xq1fOYPzIy0utp5+VRo4Y13xuEhNjd/rWKzWaTzSbZ7Tad54QAS9jtks12djnsduP/BqsBf40NVH6MDZSFsYGyMDbgDeMCZWFsXNwsD9jBZrfb1KBBXUvrjIiobWl9knTqlFSrlhSI+7nVqiWFhUn169f0f2PVjD/GBqoGxgbKwthAWRgb8IZxgbIwNi5OlgfsyMhISWcfwdWoUSPX9MzMTLf3IyIi9PPPP3vMn5GR4SpTEU6nUWZmboXnLykkxK6IiNrKzMxTUZHTkjqls0ew8/Nr6vRpo7w8y6otU40aUn6+TadOFcoYjmBbwV9jA5UfYwNlYWygLIwNeMO4QFkYG4EXEVHb5zMGLA/YLVu2lHT2Guvi/xe/rlmzppo1a+Yqt23bNhlj3K7DPnDggKKioi6oD2fOWDvQioqcltZpt9tkzNkvA5wB+J1wOiVjbCoqcsrpJGBbyeqxgaqDsYGyMDZQFsYGvGFcoCyMjYuT5SfuN2vWTFdeeaXWrl3rNj0tLU2JiYkKDQ2VJCUnJysjI0Pbtm1zlTlw4IC+/fZbJScnW90tAAAAAAD8qtxHsPPy8vTJJ59Iko4dO6bs7GxXmO7cubMaNmyocePG6YEHHlDz5s3VpUsXpaWl6auvvtKrr77qqichIUHdunXTlClT9OCDDyosLExz5syRw+HQtddea9HiAQAAAAAQGOUO2CdOnNB9993nNq349SuvvKIuXbooNTVVeXl5eumll7RgwQK1aNFCzz//vBISEtzme/rppzVjxgxNmzZNZ86cUbdu3fTQQw+pRo0qd+81AAAAAEAVZzNV7K5XRUVO/f57jiV11ahhV4MGdXXyZI7l12D/+muYVqxwKivLsmrLVK+eNGiQXY0a5XMNtkX8NTZQ+TE2UBbGBsrC2IA3jAuUhbEReA0b1g3eTc5wcTr7LOzAPHdbkowxqlpf3QAAAADAuRGwq4GwsLO38//ll9CAtVmvnlNhYQWEbAAAAADVBgG7GqhZU8rOtmnDBik72/+nkYSH29Svn121atl47jYAAACAaoOAXY3k5JiAXPMtGUm285YCAAAAgKokQFfkAgAAAABQtRGwAQAAAACwAAEbAAAAAAALELABAAAAALAAARsAAAAAAAsQsAEAAAAAsAABGwAAAAAACxCwAQAAAACwAAEbAAAAAAALELABAAAAALBAjWB3AFWT3S7ZbDbZA/QVjjFGxgSmLQAAAADwhoANy4WFSSEhdv3yS2jA2oyIcCosrDBg7QEAAABAaQRsWK5mTSk726YNG6TsbKff22vY0KaUlBrKzAzcFQ+RkRwuBwAAAOCOgA2/yckxysryfzvh4SaggT483Kb+/W267DK/NwUAAACgEiFgo8oIVKCXjCRbIBoCAAAAUIlwF3EAAAAAACzAEWygAorvjn72Tun+P5rNXdIBAACAix8BGyinsDDJbrfr4EEpP79mQIJvvXpOhYUVELIBAACAixgBGyin4rukb90qnThh5HT6N/WGh9vUr59dtWrZZEjYAAAAwEWLgA1UUE6OlJUlOf1+43JuqgYAAABUBtzkDAAAAAAAC3AEG6gE7PbiG6oFpj1uqgYAAACUHwEbuMiFhUkhIXb98ktowNrkpmoAAABA+RGwgYtc8U3VNmyQsrP9fsE3N1UDAAAAKoiADVQSOTlGWVmBaImbqgEAAAAVwU3OAAAAAACwgF8C9qpVq+RwODx+Zs2a5VZu5cqV6tu3r9q2basBAwbo448/9kd3AAAAAADwO7+eIr5w4ULVq1fP9bpx48au/69evVpTp07VmDFjdPXVVystLU333nuvXnvtNcXHx/uzWwAAAAAAWM6vATsmJkYNGzb0+t6zzz6r/v37a8KECZKkq6++Wj/88INeeOEFvfTSS/7sFgAAAAAAlgvKNdhHjhzRwYMHlZKS4ja9X79+2rZtmwoKCoLRLQAAAAAAKsyvATs1NVXR0dHq3bu35s+fr6KiIknS/v37JUktWrRwK9+qVSsVFhbqyJEj/uwWAAAAAACW88sp4o0aNdK4cePUrl072Ww2bdy4UU8//bSOHz+uadOmKSMjQ5IUERHhNl/x6+L3K6pGDWu+NwgJsbv9axWbzSabTbLbbbIH4ByC4jZoz9r2itsMVHuBXD6b7ey4t9t5DnZ5+etzA5UfYwNlYWzAG8YFysLYuLj5JWB3795d3bt3d73u1q2bwsLCtHTpUo0ZM8YfTbrY7TY1aFDX0jojImpbWp8knTol1aolnTljedUewsKkkBApLMyu2tYvSrVt7+z/awasvUAtX61aZ9usX9//y1aV+eNzA1UDYwNlYWzAG8YFysLYuDj59SZnJaWkpGjRokX67rvvFBkZKUnKyspSo0aNXGUyMzMlyfV+RTidRpmZuRfW2f8TEmJXRERtZWbmqajIaUmd0tkj2Pn5NXX6tFFenmXVlik/XyoqqqH8/CLl5fn/iGR1aU+yKz+/UE6nf9sM9PLVqCHl59t06lShjOEIdnn563MDlR9jA2VhbMAbxgXKwtgIvIiI2j6fMRCwgF1Sy5YtJZ29Frv4/8Wva9asqWbNml1Q/WfOWDvQioqcltZpt9tkzNkvA5wB+J0obuNse/4PTNWlvUC1GYzlM8amoiJnQNqrqqz+3EDVwdhAWRgb8IZxgbIwNi5OATtxPy0tTSEhIWrTpo2aNWumK6+8UmvXrvUok5iYqNDQ0EB1CwAAAAAAS/jlCPbtt9+uLl26yOFwSJI2bNigFStWaPjw4a5TwseNG6cHHnhAzZs3V5cuXZSWlqavvvpKr776qj+6BAAAAACAX/klYLdo0UJvv/22fv75ZzmdTl155ZWaMmWKhg0b5iqTmpqqvLw8vfTSS1qwYIFatGih559/XgkJCf7oEgAAAAAAfuWXgP3QQw/5VO7mm2/WzTff7I8uAAAAAAAQUDw8DQAAAAAACxCwAQAAAACwAAEbAAAAAAALELABAAAAALAAARsAAAAAAAsQsAEAAAAAsAABGwAAAAAACxCwAQAAAACwAAEbAAAAAAALELABAAAAALAAARsAAAAAAAvUCHYHAFx87HbJZrPJHqCv4IwxMiYwbQEAAAD+QsAG4CYsTAoJseuXX0ID1ma9ek6FhRUQsgEAAFCpEbABuKlZU8rOtmnDBik72+n39sLDberXz65atWwyJGwAAABUYgRsAF7l5BhlZQWiJSPJFoiGAAAAAL/iJmcAAAAAAFiAI9gAqhWb7ewN3PxXv831r91u4wZuAAAA1QgBG0C1YbNJ+fmhysry38k7Npt06pSUn19TxnADNwAAgOqEgA2g2rDZbMrKsistzSg72z+J1263qVYt6fRpozp1xA3cAAAAqhECNoBqJzvbfzdws9ulM2ekvDzJ6eQGbgAAANUJARtA0Nntxdcs+7cdf157DQAAABCwAQRVWJgUEmLXL7+E+r2tkBCpqMgum83/z/cGAABA9UPABhBUNWtK2dk2bdggZWf7N/g2bmzT1VfbdPa0ba6JtoK/78peGndlBwAAFzMCNoCLQk6O/66LLhYeTjKzUiDuyl4ad2UHAAAXMwI2AFQhgTyiHIi7spcUHm7jruwAAOCiRsAGAD8K1A3cpLPh+vTpmsrMDMwR5eJr2nNyzvj97IOzuCs7AAC4uBGwAcBPAnkDN+ls4C0osOvDD4sCckSZa9oBAADcEbABwE8CeQM36d+BNydHATmizDXtgLuKXqJRPM/Zs118n5+b/gHAxYeADQB+FogbuEnVI/AG8pR7iQBT2QX2ngQVv0TDZpNOnZLy82uWa7xx0z8AuPgQsAEAlUKgT7mXqn6ACfRj1gJ5HX0w7klQ0Us07HabatWSTp82cjp9mzcYN/2r6o/lq+rLByAwghqw9+3bp8cee0y7du1S3bp1NXDgQE2YMEGhoYH74wkAUDkE+pT78HCbUlPtql3bbkmA8eU04ED+wR3ox6zZ7VKtWjbl5gZmAYN1T4KKXKJht0tnzkh5eZLT56Ed2Jv+BeOxfBERToWFFQakrUB/ISNV/S/wgOoqaAE7IyNDI0aM0JVXXqnnnntOx48f18yZM3X69GlNmzYtWN0CAFzkAnXKfViYUUhIiGVHzH05DTiQf3AH+jFrZwNoiDZsKOKeBBYJ7FMKAjteGja0KSWlRqU4A6EieOwgUHUFLWC/+eabysnJ0fPPP6/69etLkoqKivTII4/orrvuUuPGjYPVNQAALD9ifr7TgIP1B3d2dmDvEcA9CawRjKcUBPKxfOHhpkrfJJLHDgJVV9ACdnp6uhITE13hWpJSUlI0ffp0bdmyRTfeeGOwugYAgItVgfD8pwEb2e22gB6RROUVrKcUBPqxfHwhA6CyCVrA3r9/v2666Sa3aREREWrUqJH2798fpF4BABAcwToiabP5P5zBfwiguBhV9RvGsXzWqmo3/LOZIF34ERMTo/vuu0933nmn2/TU1FQlJCTo0UcfrVC9xvh+B87zsdkku90up9Np+UYvKrKV82YmFRcScvYPt9Onac/K9vLzbSoq8v+vT3VZn4FoL1Bt2WxnT/GtyuuS9iqmeGycq738fAXkDw27XQoNrdzrsyq1d66x4Y/2yov2rGW3S7VrSzVqlB0s/Pl3qL8ZYwvIeix29n4EgVtJwV4+f4+NYC/fxaj4DDNfVLnHdNlsNoWEWPuNi90P5+qFhJz9wyaQwsJoz/r2AvftXvVYn1WprX+Pjaq8LmmvIs79uVH5l4/2Kq78+5TKtXy05+n829wff4dWTVX9shfP5ataY6PqbL+gbZWIiAhleTmnKSMjQ5GRkUHoEQAAAAAAFRe0gN2yZUuPa62zsrL066+/qmXLlkHqFQAAAAAAFRO0gJ2cnKytW7cqMzPTNW3t2rWy2+1KSkoKVrcAAAAAAKiQoN3kLCMjQ/3791eLFi1011136fjx45o5c6auv/56TZs2LRhdAgAAAACgwoIWsCVp3759evTRR7Vr1y7VrVtXAwcO1MSJExUa6Lt/AQAAAABwgYIasAEAAAAAqCqq0r3dAQAAAAAIGgI2AAAAAAAWIGADAAAAAGABAjYAAAAAABYgYAMAAAAAYAECNgAAAAAAFiBge7Fv3z6NHDlS8fHxSkpK0pNPPqmCgoJgdwsVdOjQIU2bNk0DBw5UmzZtlJqa6rXcypUr1bdvX7Vt21YDBgzQxx9/7FEmKytLU6ZMUefOnZWQkKDx48frl19+8Si3c+dODR48WHFxcerZs6cWLFig0k/EM8ZowYIF+vOf/6y4uDgNHjxYX3zxhSXLjPNbs2aN7r77biUnJys+Pl4DBw7UW2+95bGdGBfVzyeffKKhQ4fq6quvVmxsrHr37q0ZM2YoKyvLrdzGjRs1YMAAtW3bVn379tXbb7/tUVdBQYGeeOIJJSUlKT4+XiNHjtT+/fs9yvm63/FlPCIwcnJylJycLIfDoa+//trtPT43qpdVq1bJ4XB4/MyaNcutHOOi+nrnnXd0ww03qG3bturSpYtGjx6t06dPu95nf1LFGLg5deqUSUpKMrfeeqtJT083K1euNB06dDCPPPJIsLuGCvroo49McnKyGTdunElNTTX9+/f3KPPBBx8Yh8Nh5syZY7Zt22amTp1q2rRpY3bt2uVWbtSoUSY5OdmsXr3arF+/3qSmppoBAwaYwsJCV5mDBw+a+Ph4M3bsWLN161azePFiExMTYxYuXOhW1/z5801MTIxZvHix2bp1qxk7dqxJSEgwhw8f9st6gLtBgwaZiRMnmtWrV5utW7eaWbNmmdatW5vnnnvOVYZxUT29++675oknnjBr164127dvN8uWLTOdO3c2I0eOdJX57LPPTHR0tJk6darZtm2bmTNnjnE4HGbNmjVudU2dOtV06NDBrFy50qSnp5shQ4aY7t27m8zMTFcZX/c7vo5HBMaTTz5punbtaqKiosxXX33lms7nRvXz9ttvm6ioKJOenm527drl+vnxxx9dZRgX1dfcuXNNQkKCmT9/vtmxY4dZu3atmT59usnOzjbGsD+pigjYpbz44osmPj7enDx50jXtzTffNNHR0ebnn38OXsdQYUVFRa7/P/jgg14D9rXXXmvuv/9+t2mDBw82o0ePdr3euXOniYqKMps3b3ZN27dvn3E4HGb16tWuaVOnTjU9e/Y0+fn5rmmzZ882HTt2dE07ffq0ad++vZk9e7arTH5+vunZs6eZPn16xRcWPjtx4oTHtIceesi0b9/eNWYYFyi2fPlyExUV5doPjBo1ygwePNitzP33329SUlJcr3/66ScTHR1t3nzzTde0kydPmvj4eLNgwQLXNF/3O76MRwTG3r17TXx8vHnjjTc8AjafG9VPccD2tl8pxrionvbt22fatGljNm3aVGYZ9idVD6eIl5Kenq7ExETVr1/fNS0lJUVOp1NbtmwJXsdQYXb7uYf5kSNHdPDgQaWkpLhN79evn7Zt2+Y6rSY9PV0RERFKSkpylWnZsqWio6OVnp7umpaenq7evXsrNDTUra7MzEzt2rVL0tlTu7Kzs93aDA0NVZ8+fdzqgv80bNjQY1p0dLSys7OVm5vLuICb4n1CYWGhCgoKtGPHDl133XVuZfr166d9+/bp6NGjkqRPP/1UTqfTrVz9+vWVlJTkMTbOt9/xdTwiMB577DHdcsstatGihdt0PjfgDeOi+lq1apWaNm2qHj16eH2f/UnVRMAuZf/+/WrZsqXbtIiICDVq1MjrdQ6o/Iq3a+k/lFq1aqXCwkIdOXLEVa5Fixay2Wxu5Vq2bOmqIzc3Vz/99JPHGGrZsqVsNpurXPG/pcu1atVKP/74o9t1OQiczz//XI0bN1Z4eDjjAioqKlJ+fr52796tF154Qb169VLTpk11+PBhFRYWet1Okty25yWXXKLIyEiPciX3J77sd3wdj/C/tWvX6ocfftDYsWM93uNzo3pLTU1VdHS0evfurfnz56uoqEgS46I6+/LLLxUVFaW5c+cqMTFRsbGxuuWWW/Tll19KEvuTKqpGsDtwscnMzFRERITH9MjISGVkZAShR/C34u1aersXvy5+PzMzU/Xq1fOYPzIyUt98840kuW6CVLqu0NBQ1a5d262u0NBQhYWFebRpjFFGRoZq1ap1oYuGcvjnP/+ptLQ0Pfjgg5IYF5B69uyp48ePS5K6d++u2bNnS7rwsREREeG2P/Flv+Nrm/CvvLw8zZw5UxMnTlR4eLjH+3xuVE+NGjXSuHHj1K5dO9lsNm3cuFFPP/20jh8/rmnTpjEuqrFff/1V33zzjX744QdNnz5dtWvX1osvvqhRo0Zp3bp17E+qKAI2gGrv559/1sSJE9WlSxcNHz482N3BRWLBggXKy8vT3r17NW/ePI0ZM0aLFy8OdrcQRPPmzdMll1yim266KdhdwUWke/fu6t69u+t1t27dFBYWpqVLl2rMmDFB7BmCzRij3NxcPfPMM2rdurUkqV27durVq5deffVVdevWLcg9hD9wingpERERHo9ikc5+m1P6tAxUDcXbtfR2z8zMdHs/IiJC2dnZHvOXHBvF3y6WrqugoEB5eXludRUUFCg/P9+jTZvNxlgLoMzMTN1xxx2qX7++nnvuOdc1+4wLtG7dWgkJCbr55ps1d+5c7dixQx999NEFj43MzEy3benLfsfXNuE/x44d06JFizR+/HhlZWUpMzNTubm5ks6etpuTk8PnBlxSUlJUVFSk7777jnFRjUVERKh+/fqucC2dvXa6TZs22rt3L/uTKoqAXUrJ61yKZWVl6ddff/W4pgFVQ/F2Lb3d9+/fr5o1a6pZs2aucgcOHPB4zuSBAwdcddSpU0eXXXaZR13F8xWXK/73wIEDHm1efvnlnLYVIKdPn9Zdd92lrKwsLVy40O30K8YFSnI4HKpZs6YOHz6s5s2bq2bNml7HhiS37fnbb795nG5X+ho5X/Y7vo5H+M/Ro0dVWFioO++8U506dVKnTp1cRyeHDx+ukSNH8rkBrxgX1def/vSnMt/Lz89nf1JFEbBLSU5O1tatW13f4khnb2hit9vd7uqIqqNZs2a68sortXbtWrfpaWlpSkxMdN2lMzk5WRkZGdq2bZurzIEDB/Ttt98qOTnZNS05OVkbNmxQYWGhW10RERFKSEiQJLVv317h4eFas2aNq0xhYaHWrVvnVhf858yZM5owYYL279+vhQsXqnHjxm7vMy5Q0pdffqnCwkI1bdpUoaGh6tKliz788EO3MmlpaWrVqpWaNm0q6expona7XevWrXOVycjI0KeffuoxNs633/F1PMJ/oqOj9corr7j9TJ48WZL0yCOPaPr06XxuwCUtLU0hISFq06YN46Ia69mzp06dOqXvvvvONe3kyZPavXu3YmJi2J9UVUF5ONhFrPgB7UOHDjWbN282b731lunYsaPHA9pReeTm5po1a9aYNWvWmKFDh5oePXq4Xhc/s/L99983DofDPPPMM2b79u1m2rRppk2bNmbnzp1udY0aNcr06NHDpKWlmQ0bNpjU1FQzYMAAU1hY6Cpz8OBBEx8fb8aNG2e2bt1qlixZYmJiYszChQvd6po/f76JjY01S5YsMVu3bjXjxo0zCQkJ5vDhw/5fKTAPPfSQiYqKMosWLTK7du1y+yl+jijjonoaO3asmTdvntm4caPZunWrWbRokUlKSjLXX3+9a2x89tlnJjo62kyfPt1s377dPPPMM8bhcJi0tDS3uqZOnWo6duxo3nrrLbN582YzdOhQ0717d5OZmekq4+t+x9fxiMDZvn27x3Ow+dyofkaNGmXmz59vNm3aZDZt2mSmTp1qHA6Hefzxx11lGBfVU1FRkbnpppvMNddcY1avXm3Wr19vBg0aZDp37mx++eUXYwz7k6qIgO3F3r17zYgRI0xcXJxJTEw0M2fOdP1RhcrnyJEjJioqyuvP9u3bXeVWrFhh+vTpY2JiYkxqaqrZuHGjR12ZmZlm8uTJpmPHjiY+Pt7ce++95ueff/Yo9/nnn5ubb77ZxMbGmuTkZDN//nzjdDrdyjidTvPiiy+a5ORkExsba26++WY+2AKoZ8+eZY6LI0eOuMoxLqqf+fPnm4EDB5qEhAQTHx9v+vfvb55++mmTlZXlVm79+vUmNTXVxMTEmD59+piVK1d61JWfn29mzpxpEhMTTVxcnLntttvM3r17Pcr5ut/xZTwicLwFbGP43KhuHn30UXPttdeauLg4Exsba1JTU83SpUs9thPjono6ceKEeeCBB0yHDh1MXFycGTVqlNmzZ49bGfYnVYvNmFIXegAAAAAAgHLjGmwAAAAAACxAwAYAAAAAwAIEbAAAAAAALEDABgAAAADAAgRsAAAAAAAsQMAGAAAAAMACBGwAAAAAACxAwAYAAAAAwAIEbAAAAAAALEDABgAAAADAAgRsAAAAAAAsQMAGAAAAAMACBGwAAAAAACxAwAYAAAAAwAIEbAAAAAAALEDABgAAAADAAgRsAAAAAAAsQMAGAAAAAMACBGwAAAAAACxAwAYAAAAAwAI1gt0Bqxlj5HQay+qz222W1oeqg7GBsjA2UBbGBsrC2IA3jAuUhbERWHa7TTabzaeyVS5gO51Gv/+eY0ldNWrY1aBBXWVm5urMGacldaJqYGygLIwNlIWxgbIwNuAN4wJlYWwEXsOGdRUS4lvA5hRxAAAAAAAsQMAGAAAAAMACBGwAAAAAACxAwAYAAAAAwAIEbAAAAAAALEDABgAAAADAAgRsAAAAAAAsQMAGAAAAAMACBGwAAAAAACxAwAYAAAAAwAIEbAAAAAAALEDABgAAAADAAgRsAAAAAAAsQMAGAAAAAMACBGwAAAAAACxAwAYAAAAAwAIEbAAAAAAALEDABgAAAADAAgRsAAAAAAAsQMAGAAAAAMACBGwAAAAAACxAwAYAAAAAwAIEbAAAAAAALEDABgAAAADAAgRsAAAAAAAsQMAGAAAAAMACBGwAAAAAACxAwAYAAAAAwAIEbAAAAAAALEDABgAAAADAAjWC3QFc3IwxKijID3Y3As4YI0my2Wxe3y8qsuv06RDl55/WmTPOQHYtqEJDw8pcJwAAAEB1R8DGORUU5Ovuu0cFuxu4SMybt0hhYbWC3Q0AAADgosQp4gAAAAAAWIAj2PDZd9/9j5zO0GB3w+9stny1afNXSdK33z4uY8KC3KPgstsLFB09JdjdAAAAAC56BGz4zOkMrXZh05iwarfMpTmrzyXmAAAAwAXhFHEAAAAAACxAwAYAAAAAwAIEbAAAAAAALEDABgAAAADAAgRsAAAAAAAsQMAGAAAAAMACBGwAAAAAACxAwAYAAAAAwAIEbAAAAAAALEDABgAAAADAAgRsAAAAAAAsQMAGAAAAAMACBGwAAAAAACxAwAYAAAAAwAIEbAAAAAAALEDABgAAAADAAgRsAAAAAAAsQMAGAAAAAMACBGwAAAAAACxAwAYAAAAAwAIEbAAAAAAALEDABgAAAADAAgRsAAAAAAAsQMAGAAAAAMACBGwAAAAAACxAwAYAAAAAwAIEbAAAAAAALEDABgAAAADAAgRsAAAAAAAsQMAGAAAAAMACBGwAAAAAACxAwAYAAAAAwAIEbAAAAAAALEDABgAAAADAAgRsAAAAAAAsQMAGAAAAAMACBGwAAAAAACxAwAYAAAAAwAIEbAAAAAAALEDABgAAAADAAgRsAAAAAAAsQMAGAAAAAMACBGwAAAAAACxAwAYAAAAAwAIEbAAAAAAALEDABgAAAADAAgRsAAAAAAAsQMAGAAAAAMACBGwAAAAAACxAwAYAAAAAwAIEbAAAAAAALEDABgAAAADAAgRsAAAAAAAsQMAGAAAAAMACBGwAAAAAACxAwAYAAAAAwAIEbAAAAAAALEDABgAAAADAAgRsAAAAAAAsQMAGAAAAAMACBGwAAAAAACxAwAYAAAAAwAIEbAAAAAAALEDADgJjjIwxwe4GAKAMfE4DAICKIGAHmDFGM2Y8ohkzHuGPNwC4CPE5DQAAKqpGsDtQ3RQU5Gvv3h9c/w8LqxXkHgEASuJzGgAAVBRHsAEAAAAAsAABGwAAAAAACxCwAQAAAACwAAEbAAAAAAALELABAAAAALAAARsAAAAAAAsQsAEAAAAAsAABGwAAAAAACxCwAQAAAACwAAEbAAAAAAALELABAAAAALAAARsAAAAAAAsQsAEAAAAAsAABGwAAAAAACxCwAQAAAACwAAEbAAAAAAALELABAAAAALAAARsAAAAAAAsQsAEAAAAAsAABGwAAAAAACxCwAQAAAACwAAEbAAAAAAALELABAAAAALAAARsAAAAAAAsQsAEAAAAAsAABGwAAAAAACxCwAQAAAACwAAEbAAAAAAALELABAAAAALAAARsAAAAAAAsQsAEAAAAAsAABGwAAAAAACxCwAQAAAACwAAEbAAAAAAALELABAAAAALAAARsAAAAAAAsQsAEAAAAAsAABGwAAAAAACxCwAQAAAACwAAEbAAAAAAALELABAAAAALAAARsAAAAAAAsQsAEAAAAAsAABGwAAAAAACxCwAQAAAACwAAEbAAAAAAALELABAAAAALAAARsAAAAAAAsQsAEAAAAAsAABGwAAAAAACxCwAQAAAACwAAEbAAAAAAALELABAAAAALAAARsAAAAAAAsQsAEAAAAAsAABGwAAAAAACxCwAQAAAACwAAEbAAAAAAALELABAAAAALAAARsAAAAAAAsQsAEAAAAAsAABGwAAAAAACxCwAQAAAACwAAEbAAAfffHF57rvvrt03313adWqFW7//6//Gu/694svPrekLV/q8rVceect+Z63cqtWrdDo0UO1atUKr3V5m8eXMr5ML7mevU0r3cd5857x2Fa+tnm+9VaR9V96HI0de4eGDh2qXbvKXlclzZv3jEaNGqIxY247Z7vlXb9lKb2tz9dOyeUr3UbJunwZI+dTelvcd99dGjv2do+2fan3fMtZ3vXgyzwovwv5zAumytpvf6uK64WADQCAD/Lz87V06cvKyspSVlaWVq9+z/X/Dz54VydO/KbVq9/TiRO/admyRcrPz7+gtl55ZdF56/K1XHnnLfneK68s0tKlL7uVy8rK1OrV78npdLqWuWRdWVmZHnWXbs9bmXP1q+T0f7f5ssc0b3387LMdbtvN1zbPt95Ktu/r+i+ev+TYycrKUkZGhhYvXuh1XZWs98SJ3/TZZzskSQUFBVqyZKHXdn1Zj770ufS2zsrKPGc7xdu1ePleeeVlVxsl6/rgg3c9xlV5+1Z6WxT/fubl5f1f277Xe77lLO968PZ7UnoelN+FfOYFU2Xtt79V1fVCwAYAwAerV7+njIxTrtfGGI8yxdNOnTqltLS/W9LWuerytVx553V/76RHueeff8q1rMYYzZjxiFuZ55+f4zFP6fa8lTlXv0pOL7meT5066TGtdB9L8raNyrMeS5ctbt/X9b969XuueUo7deqk13VVst4ZMx52myczM8Nru76sR1/6XHpbP//8nHO28/zzc9yWr2QbpbfJ+cbI+fpWunzJ38+z086/Pn1dzvKuB2+/J6XnQfldyGdeMFXWfvtbVV0vNYLdgeqsMnxLUxn6iMBhPJxfUZFdp0+HKD//tM6ccQa7O6gAb+P8+PGftXq17zt+Y4zS0v6url27q3HjS8vV/vHjPyst7X23P8y91eVrufK2IcntvdLL9cEH73q89/vvJ9zK7Nnzvdvr1av/LmOMW3uly6Sl/V1RUa299qv09HMpq4/eyp2rTW/rsfR681bfudb/2fnPPY4++OA92Wzy2p89e77X77//7jHP+++/69ZuWdu3PMsqSbt3f609e35wm7Znz/favftrxcS09dpOye1abPXq99So0R896ipW1hg5V9/OtS1KOtf6LK73fMtZkfXwwQfvyRhnmfOg/C7kMy+YKmu//a0qrxeb8WVvVYkUFTn1++85ltRVo4ZdDRrU1cmTOZb9oXz6dJ7uued2S+oKtN27/1fG1Ap2N/zOZstXTMwDkqTdu2fJmLAg9yi4bLbTion5r2B3AwiKuXNfVlhYLT311Ezt3v11uea12WyKiWmriRMflM1m82mfYozRnDlP6Ntvv5HT+e8ydrtdbdrEuurytVx524iOjpEkfffdbrf3AsFms6lu3brKzc316FedOnWUk5PjU8Auj7Lq9rYey1pvpesra/0bYyo0jorrdTii9f33/5LTWeS1THR0jB54YIoklbl9fV1WSXI6nZowYYyys7M92goPD9ecOfP0zDP/e871UXoZyjumyuqbL9vC13qNMedczqeemqv777/HsvUQHh6up59+UXb7+U8i9cffoZXVhXzmBZO/+l3Zx0Zl3J4NG9ZVSIhvJ39zijgAAOfw008/VigUGWP0zTdf6aeffixXW99885XHH+pOp9OtLl/LlbeN3bu/1u7dXwc8XEtn11d2drbXfmVnZ1sers9Vt7f1WNZ6O998JeevyDgqrvfslx7ew7V09kuRn3768Zzb19dllaSvvvrCa6iUpOzsbH3yycbzro/S7ZRXWX3zZVv4Wu/5lvP999+xdD1kZ2frq6++qFC/q7ML+cwLpsrab3+r6uuFU8QDrOS3MU8/PU9hYRf30dH8/HxNmHD3/726uL5JQqBUrjEbbDVq2FW/fl2dOlU5v1WG++eezWbTZZdd7jpNtDyKj2BfdtnlPs9z2WWXKzY2rsxv9Yvr8rVcedvgCPa/p5dej2Wtt9L1lbX+KzqOiutt3bqN/vWv78oM2SXbLWv7+rqskhQXF6/w8PAyj9z26NFLX3zxeUCOYJfumy/bwtd6L730snMu5/XX/4c+/vgjy9ZDeHi44uLiy93n6u5CPvOCqbL229+q+nrhCHYQhYWFKSys1kX+Q5jCv1WOMRv8n1q1gt8Hfi7kx/1zz2azaejQkbLZyrfLtNvt/zef719O2mw23XrrbSr9hea/+2ArV7nytjFs2CgNHTrS473S5crLbg857/qz2+0aM2a8136NGTO+XOvf1z6WVbe39VjWejvffKXfO9+pwTab3aOMzWbT8OG367bbRpc1l4YPv102m+2c29fXZZXObo+77hrntbW7775PISEh510fJesaOfLO85TxHCNl9c2XbfHvst7XZ3G951vOGjVqVGg9lDVe7777Pp9OD4e7C/nMC6bK2m9/q+rrhd9wAADOo3HjS9W//wCfy9tsNvXrN0B//GPjCrXVr9/1bmHaW12+litvG6XfK71cqak36KqrotymN2x4iVtdV13lcHvdv/8A9e8/4Jxl+vUboDZtYr32q/T0cymrj97KnatNb+vxfOvmfOv/7PznHkepqQPVr98Ar/3p1q2HGjZs6DHP9dff4NZuWdu3PMsqSTExbT3W41VXOVxnOnhr56qrHB719O8/UElJyWVuk7LGyLn6dq5tUdK51qevy1mR9ZCaOvCc86D8LuQzL5gqa7/9rSqvFwI2AAA+6N9/oCIj67telxWyJKl+/QbnDVK+tnWuunwtV955S79Xuty9997v9kfR5MnT3crce+9Ej3lK1+mtzLn6VXJ6yfVcv34Dj2ml+1iSt21UnvVYumxx+76u//79B7rmKa1BA+/rqmS9kyc/7DZPRESk13Z9WY++9Ln0tr733onnbOfeeye6LV/JNkpvk/ONkfP1raxxWrptX+o933KWdz14+z0pPQ/K70I+84Kpsvbb36rqeiFgAwDgg7CwMI0Ycbvq1aunevXqqX//ga7/p6beoEsu+YP69x+oSy75g4YNG+lxqnl52xo+fNR56/K1XHnnLfne8OGjNGLE7W7l6tWLUP/+A2W3213LXLKuevUiPOou3Z63MufqV8npJdssPc1bHzt16uK23Xxt83zrrWT7vq7/4vlLjp169eopMjJSt9022uu6KlnvJZf8QZ06dZEkhYaGuubxdfuWd8yU3tb16kWcs53i7Vq8fMOHj3K1UbKu1NQbPMZVefvmbZzWq1dPtWvXdmvbl3rPt5zlXQ/efk9Kz4Pyu5DPvGCqrP32t6q6XnhM1zn44xb4+fmndffdoyRJ8+YtUljYxf3Yq5L9rS6PrOIxXe5Kro/KMGaDrbI/OgP++5xmbKAsjA14w7hAWRgbgcdjugAAAAAACDACNgAAAAAAFiBgAwAAAABgAQI2AAAAAAAWIGADAAAAAGABAjYAAAAAABYgYAMAAAAAYAECNgAAAAAAFiBgAwAAAABgAQI2AAAAAAAWIGADAAAAAGABAjYAAAAAABYgYAMAAAAAYAECNgAAAAAAFiBgAwAAAABgAQI2AAAAAAAWIGADAAAAAGABAjYAAAAAABYgYAMAAAAAYAECNgAAAAAAFiBgAwAAAABgAQI2AAAAAAAWIGADAAAAAGABAjYAAAAAABYgYAMAAAAAYAECNgAAAAAAFiBgAwAAAABgAQI2AAAAAAAWIGADAAAAAGABAjYAAAAAABYgYAMAAAAAYAECNgAAAAAAFiBgAwAAAABgAQI2AAAAAAAWIGADAAAAAGABAjYAAAAAABYgYAMAAAAAYAECNgAAAAAAFiBgAwAAAABgAQI2AAAAAAAWIGADAAAAAGABAjYAAAAAABYgYAMAAAAAYAECNgAAAAAAFiBgAwAAAABgAQI2AAAAAAAWIGADAAAAAGABAjYAAAAAABYgYAMAAAAAYAECNgAAAAAAFiBgAwAAAABgAQI2AAAAAAAWIGADAAAAAGABAjYAAAAAABYgYAMAAAAAYAECNgAAAAAAFiBgAwAAAABgAQI2AAAAAAAWIGADAAAAAGABAjYAAAAAABYgYAMAAAAAYIEawe5AdRMaGqY//SnK9X8AwMWFz2kAAFBRBOwAs9lsmjx5uuv/AICLC5/TAACgogjYQcAfbABwceNzGgAAVATXYAMAAAAAYAECNgAAAAAAFiBgAwAAAABgAQI2AAAAAAAWIGADAAAAAGABAjYAAAAAABYgYAMAAAAAYAECNgAAAAAAFiBgAwAAAABgAQI2AAAAAAAWIGADAAAAAGABAjYAAAAAABYgYAMAAAAAYAECNgAAAAAAFiBgAwAAAABgAQI2AAAAAAAWIGADAAAAAGABAjYAAAAAABYgYAMAAAAAYAECNgAAAAAAFiBgAwAAAABgAQI2AAAAAAAWIGADAAAAAGABAjYAAAAAABYgYAMAAAAAYAECNgAAAAAAFiBgAwAAAABgAQI2AAAAAAAWIGADAAAAAGABAjYAAAAAABYgYAMAAAAAYAECNgAAAAAAFiBgAwAAAABgAQI2AAAAAAAWIGADAAAAAGABAjYAAAAAABYgYAMAAAAAYAECNgAAAAAAFiBgAwAAAABgAQI2AAAAAAAWIGADAAAAAGABAjYAAAAAABYgYAMAAAAAYAECNgAAAAAAFiBgAwAAAABgAQI2AAAAAAAWIGADAAAAAGABAjYAAAAAABYgYAMAAAAAYAECNgAAAAAAFiBgAwAAAABgAQI2AAAAAAAWIGADAAAAAGABAjYAAAAAABYgYAMAAAAAYAECNgAAAAAAFiBgAwAAAABgAQI2AAAAAAAWIGADAAAAAGABAjYAAAAAABYgYAMAAAAAYAECNgAAAAAAFiBgAwAAAABggRrB7gAqD7u9QE5nsHvhfzZbvtf/V1d2e0GwuwAAAABUCgRs+Cw6ekqwuxBwbdr8NdhdAAAAAFBJcIo4AAAAAAAW4Ag2zik0NEzz5i0KdjcCzhgjSbLZbF7fr1HDrvr16+rUqRydOVMNzpv/P6GhYcHuAgAAAHDRImDjnGw2m8LCagW7GxedGjXsqlWrlsLCihQSUn0CNgAAAICycYo4AAAAAAAWIGADAAAAAGABAjYAAAAAABYgYAMAAAAAYAECNgAAAAAAFiBgAwAAAABgAQI2AAAAAAAWIGADAAAAAGABAjYAAAAAABYgYAMAAAAAYAECNgAAAAAAFiBgAwAAAABgAQI2AAAAAAAWIGADAAAAAGABAjYAAAAAABYgYAMAAAAAYAECNgAAAAAAFiBgAwAAAABgAQI2AAAAAAAWIGADAAAAAGABAjYAAAAAABYgYAMAAAAAYAECNgAAAAAAFiBgAwAAAABgAQI2AAAAAAAWIGADAAAAAGABAjYAAAAAABYgYAMAAAAAYAECNgAAAAAAFiBgAwAAAABgAZsxxgS7E1YyxsjptG6RQkLsKipyWlYfqg7GBsrC2EBZGBsoC2MD3jAuUBbGRmDZ7TbZbDafyla5gA0AAAAAQDBwijgAAAAAABYgYAMAAAAAYAECNgAAAAAAFiBgAwAAAABgAQI2AAAAAAAWIGADAAAAAGABAjYAAAAAABYgYAMAAAAAYAECNgAAAAAAFiBgAwAAAABgAQI2AAAAAAAWIGADAAAAAGABArYX+/bt08iRIxUfH6+kpCQ9+eSTKigoCHa3UEGHDh3StGnTNHDgQLVp00apqaley61cuVJ9+/ZV27ZtNWDAAH388cceZbKysjRlyhR17txZCQkJGj9+vH755RePcjt37tTgwYMVFxennj17asGCBTLGuJUxxmjBggX685//rLi4OA0ePFhffPGFJcuM81uzZo3uvvtuJScnKz4+XgMHDtRbb73lsZ0YF9XPJ598oqFDh+rqq69WbGysevfurRkzZigrK8ut3MaNGzVgwAC1bdtWffv21dtvv+1RV0FBgZ544gklJSUpPj5eI0eO1P79+z3K+brf8WU8IjBycnKUnJwsh8Ohr7/+2u09Pjeql1WrVsnhcHj8zJo1y60c46L6euedd3TDDTeobdu26tKli0aPHq3Tp0+73md/UsUYuDl16pRJSkoyt956q0lPTzcrV640HTp0MI888kiwu4YK+uijj0xycrIZN26cSU1NNf379/co88EHHxiHw2HmzJljtm3bZqZOnWratGljdu3a5VZu1KhRJjk52axevdqsX7/epKammgEDBpjCwkJXmYMHD5r4+HgzduxYs3XrVrN48WITExNjFi5c6FbX/PnzTUxMjFm8eLHZunWrGTt2rElISDCHDx/2y3qAu0GDBpmJEyea1atXm61bt5pZs2aZ1q1bm+eee85VhnFRPb377rvmiSeeMGvXrjXbt283y5YtM507dzYjR450lfnss89MdHS0mTp1qtm2bZuZM2eOcTgcZs2aNW51TZ061XTo0MGsXLnSpKenmyFDhpju3bubzMxMVxlf9zu+jkcExpNPPmm6du1qoqKizFdffeWazudG9fP222+bqKgok56ebnbt2uX6+fHHH11lGBfV19y5c01CQoKZP3++2bFjh1m7dq2ZPn26yc7ONsawP6mKCNilvPjiiyY+Pt6cPHnSNe3NN9800dHR5ueffw5ex1BhRUVFrv8/+OCDXgP2tddea+6//363aYMHDzajR492vd65c6eJiooymzdvdk3bt2+fcTgcZvXq1a5pU6dONT179jT5+fmuabNnzzYdO3Z0TTt9+rRp3769mT17tqtMfn6+6dmzp5k+fXrFFxY+O3HihMe0hx56yLRv3941ZhgXKLZ8+XITFRXl2g+MGjXKDB482K3M/fffb1JSUlyvf/rpJxMdHW3efPNN17STJ0+a+Ph4s2DBAtc0X/c7voxHBMbevXtNfHy8eeONNzwCNp8b1U9xwPa2XynGuKie9u3bZ9q0aWM2bdpUZhn2J1UPp4iXkp6ersTERNWvX981LSUlRU6nU1u2bAlex1Bhdvu5h/mRI0d08OBBpaSkuE3v16+ftm3b5jqtJj09XREREUpKSnKVadmypaKjo5Wenu6alp6ert69eys0NNStrszMTO3atUvS2VO7srOz3doMDQ1Vnz593OqC/zRs2NBjWnR0tLKzs5Wbm8u4gJvifUJhYaEKCgq0Y8cOXXfddW5l+vXrp3379uno0aOSpE8//VROp9OtXP369ZWUlOQxNs633/F1PCIwHnvsMd1yyy1q0aKF23Q+N+AN46L6WrVqlZo2baoePXp4fZ/9SdVEwC5l//79atmypdu0iIgINWrUyOt1Dqj8irdr6T+UWrVqpcLCQh05csRVrkWLFrLZbG7lWrZs6aojNzdXP/30k8cYatmypWw2m6tc8b+ly7Vq1Uo//vij23U5CJzPP/9cjRs3Vnh4OOMCKioqUn5+vnbv3q0XXnhBvXr1UtOmTXX48GEVFhZ63U6S3LbnJZdcosjISI9yJfcnvux3fB2P8L+1a9fqhx9+0NixYz3e43OjektNTVV0dLR69+6t+fPnq6ioSBLjojr78ssvFRUVpblz5yoxMVGxsbG65ZZb9OWXX0oS+5MqqkawO3CxyczMVEREhMf0yMhIZWRkBKFH8Lfi7Vp6uxe/Ln4/MzNT9erV85g/MjJS33zzjSS5boJUuq7Q0FDVrl3bra7Q0FCFhYV5tGmMUUZGhmrVqnWhi4Zy+Oc//6m0tDQ9+OCDkhgXkHr27Knjx49Lkrp3767Zs2dLuvCxERER4bY/8WW/42ub8K+8vDzNnDlTEydOVHh4uMf7fG5UT40aNdK4cePUrl072Ww2bdy4UU8//bSOHz+uadOmMS6qsV9//VXffPONfvjhB02fPl21a9fWiy++qFGjRmndunXsT6ooAjaAau/nn3/WxIkT1aVLFw0fPjzY3cFFYsGCBcrLy9PevXs1b948jRkzRosXLw52txBE8+bN0yWXXKKbbrop2F3BRaR79+7q3r2763W3bt0UFhampUuXasyYMUHsGYLNGKPc3Fw988wzat26tSSpXbt26tWrl1599VV169YtyD2EP3CKeCkREREej2KRzn6bU/q0DFQNxdu19HbPzMx0ez8iIkLZ2dke85ccG8XfLpauq6CgQHl5eW51FRQUKD8/36NNm83GWAugzMxM3XHHHapfv76ee+451zX7jAu0bt1aCQkJuvnmmzV37lzt2LFDH3300QWPjczMTLdt6ct+x9c24T/Hjh3TokWLNH78eGVlZSkzM1O5ubmSzp62m5OTw+cGXFJSUlRUVKTvvvuOcVGNRUREqH79+q5wLZ29drpNmzbau3cv+5MqioBdSsnrXIplZWXp119/9bimAVVD8XYtvd3379+vmjVrqlmzZq5yBw4c8HjO5IEDB1x11KlTR5dddplHXcXzFZcr/vfAgQMebV5++eWcthUgp0+f1l133aWsrCwtXLjQ7fQrxgVKcjgcqlmzpg4fPqzmzZurZs2aXseGJLft+dtvv3mcblf6Gjlf9ju+jkf4z9GjR1VYWKg777xTnTp1UqdOnVxHJ4cPH66RI0fyuQGvGBfV15/+9Kcy38vPz2d/UkURsEtJTk7W1q1bXd/iSGdvaGK3293u6oiqo1mzZrryyiu1du1at+lpaWlKTEx03aUzOTlZGRkZ2rZtm6vMgQMH9O233yo5Odk1LTk5WRs2bFBhYaFbXREREUpISJAktW/fXuHh4VqzZo2rTGFhodatW+dWF/znzJkzmjBhgvbv36+FCxeqcePGbu8zLlDSl19+qcLCQjVt2lShoaHq0qWLPvzwQ7cyaWlpatWqlZo2bSrp7Gmidrtd69atc5XJyMjQp59+6jE2zrff8XU8wn+io6P1yiuvuP1MnjxZkvTII49o+vTpfG7AJS0tTSEhIWrTpg3johrr2bOnTp06pe+++8417eTJk9q9e7diYmLYn1RVQXk42EWs+AHtQ4cONZs3bzZvvfWW6dixo8cD2lF55ObmmjVr1pg1a9aYoUOHmh49erheFz+z8v333zcOh8M888wzZvv27WbatGmmTZs2ZufOnW51jRo1yvTo0cOkpaWZDRs2mNTUVDNgwABTWFjoKnPw4EETHx9vxo0bZ7Zu3WqWLFliYmJizMKFC93qmj9/vomNjTVLliwxW7duNePGjTMJCQnm8OHD/l8pMA899JCJiooyixYtMrt27XL7KX6OKOOieho7dqyZN2+e2bhxo9m6datZtGiRSUpKMtdff71rbHz22WcmOjraTJ8+3Wzfvt0888wzxuFwmLS0NLe6pk6dajp27Gjeeusts3nzZjN06FDTvXt3k5mZ6Srj637H1/GIwNm+fbvHc7D53Kh+Ro0aZebPn282bdpkNm3aZKZOnWocDod5/PHHXWUYF9VTUVGRuemmm8w111xjVq9ebdavX28GDRpkOnfubH755RdjDPuTqoiA7cXevXvNiBEjTFxcnElMTDQzZ850/VGFyufIkSMmKirK68/27dtd5VasWGH69OljYmJiTGpqqtm4caNHXZmZmWby5MmmY8eOJj4+3tx7773m559/9ij3+eefm5tvvtnExsaa5ORkM3/+fON0Ot3KOJ1O8+KLL5rk5GQTGxtrbr75Zj7YAqhnz55ljosjR464yjEuqp/58+ebgQMHmoSEBBMfH2/69+9vnn76aZOVleVWbv369SY1NdXExMSYPn36mJUrV3rUlZ+fb2bOnGkSExNNXFycue2228zevXs9yvm63/FlPCJwvAVsY/jcqG4effRRc+2115q4uDgTGxtrUlNTzdKlSz22E+Oiejpx4oR54IEHTIcOHUxcXJwZNWqU2bNnj1sZ9idVi82YUhd6AAAAAACAcuMabAAAAAAALEDABgAAAADAAgRsAAAAAAAsQMAGAAAAAMACBGwAAAAAACxAwAYAAAAAwAIEbAAAAAAALEDABgAAAADAAgRsAAAqAYfDob/97W/B7gYAADiHGsHuAAAA1d3hw4e1cOFCbdmyRb/88otq1qypqKgopaSkaPDgwapVq1awuwgAAHxAwAYAIIg2bdqk++67T6GhoRo4cKCioqJUWFiozz//XP/7v/+rvXv36tFHHw12NwEAgA8I2AAABMmRI0c0ceJEXX755Vq6dKn++Mc/ut679dZbdejQIW3atClg/cnNzVWdOnUC1h4AAFUN12ADABAkCxcuVG5urh5//HG3cF3siiuu0IgRI9ymrV+/XqmpqYqNjVX//v2Vnp7u9v6xY8f08MMPq2/fvoqLi1OXLl00fvx4HT161K3cqlWr5HA49I9//EMPP/ywEhMT1aNHD9f7r732mnr37q24uDj953/+p/75z39q2LBhGjZsmFs9BQUFevbZZ9WnTx/FxsaqR48eevLJJ1VQUOBWbsuWLfrLX/6ijh07KiEhQX379tVTTz1VofUGAMDFiiPYAAAEyccff6xmzZqpffv2PpX//PPPtW7dOg0ZMkR169bVsmXLNH78eH388cdq0KCBJOnrr7/Wrl271L9/f1166aU6duyY3njjDQ0fPlyrV69W7dq13ep85JFH1LBhQ40dO1a5ubmSpNdff11/+9vf1LFjR9122206duyYxo4dq4iICF166aWueZ1Op+6++259/vnnGjRokFq1aqUffvhBS5cu1cGDBzV37lxJ0p49e3TXXXfJ4XBo/PjxCg0N1aFDh7Rz504rViMAABcNAjYAAEGQnZ2t48ePq3fv3j7Ps2/fPqWlpal58+aSpC5dumjgwIFavXq1hg4dKkn685//rOuuu85tvp49e2rw4MH68MMPdcMNN7i9FxkZqSVLligkJETS2SPSzzzzjNq2baulS5eqRo2zfyo4HA5NmjTJLWC///772rp1q5YtW6aOHTu6pl911VWaPn26du7cqfbt22vLli0qLCzUSy+9pIYNG/q+kgAAqGQ4RRwAgCDIzs6WJNWtW9fnebp27eoK15LUunVrhYeH68iRI65pJe84XlhYqJMnT6p58+aKiIjQt99+61HnoEGDXOFakr755hudOnVKgwYNcoVrSbr++usVGRnpNu/atWvVqlUrtWzZUr///rvr5+qrr5Yk7dixQ5IUEREhSdqwYYOcTqfPywsAQGXDEWwAAIIgPDxckpSTk+PzPJdddpnHtMjISGVmZrpenz59WvPnz9eqVat0/PhxGWNc72VlZXnM37RpU7fXP/74oyS5BXlJqlGjhpo0aeI27dChQ9q3b58SExO99vfEiROSpH79+mnlypV66KGHNHv2bCUmJqpPnz667rrrZLfzXT8AoOogYAMAEATh4eH64x//qD179vg8T8kjzSWVDNGPPvqoVq1apREjRig+Pl716tWTzWbTxIkT3coVCwsLK3/n/4/T6VRUVJQmT57s9f3i08lr1aql1157TTt27NCmTZu0efNmpaWlafny5Vq0aFGZywUAQGVDwAYAIEh69uyp5cuXa9euXUpISLCkzuLrrCdNmuSalp+f7/XotTeXX365JOnw4cOuU70l6cyZMzp27JgcDodrWvPmzfWvf/1LiYmJstls56zXbrcrMTFRiYmJmjx5sl588UXNmTNHO3bsUNeuXcuziAAAXLQ4LwsAgCAZPXq06tSpo4ceeki//fabx/uHDx/W0qVLy1Wnt6PBy5YtU1FRkU/zx8bGqn79+lqxYoXOnDnjmv7+++8rIyPDrWxKSoqOHz+uFStWeNRz+vRp113JT5065fF+dHS0JHk8zgsAgMqMI9gAAARJ8+bNNWvWLE2cOFH9+vXTwIEDFRUVpYKCAu3atUtr167VjTfeWK46//znP+u9995TeHi4/vSnP+mLL77Q1q1bVb9+fZ/mDw0N1bhx4/Too49qxIgRSklJ0bFjx7Rq1SqP67IHDhyoNWvWaPr06dqxY4fat2+voqIi7d+/X2vXrtXChQvVtm1bvfDCC/rnP/+pHj16qEmTJjpx4oRef/11XXrpperQoUO5lg8AgIsZARsAgCDq3bu3/v73v+vll1/Whg0b9MYbbyg0NNT1WKxBgwaVq76//vWvstvtev/995Wfn6/27dtr8eLFGj16tM91DB06VMYYLV68WE888YRat26tefPm6bHHHnO7Zttut+uFF17QkiVL9N577+mjjz5S7dq11bRpUw0bNkwtWrSQJPXq1UvHjh3T22+/rZMnT6pBgwbq3Lmzxo0bp3r16pVr+QAAuJjZjLc7ngAAAJTgdDpdd/9+7LHHgt0dAAAuSlyDDQAA3OTn53vccfzdd9/VqVOn1Llz5yD1CgCAix+niAMAADdffPGFZsyYoeuuu07169fXt99+q7feektRUVG67rrrgt09AAAuWgRsAADgpkmTJrr00ku1bNkyZWRkKDIyUgMHDtQDDzyg0NDQYHcPAICLFtdgAwAAAABgAa7BBgAAAADAAgRsAAAAAAAsQMAGAAAAAMACBGwAAAAAACxAwAYAAAAAwAIEbAAAAAAALEDABgAAAADAAgRsAAAAAAAsQMAGAAAAAMAC/x+0daaaGnHCRgAAAABJRU5ErkJggg==\n"
          },
          "metadata": {}
        },
        {
          "output_type": "display_data",
          "data": {
            "text/plain": [
              "<Figure size 1000x600 with 2 Axes>"
            ],
            "image/png": "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\n"
          },
          "metadata": {}
        }
      ],
      "source": [
        "import seaborn as sns\n",
        "import matplotlib.pyplot as plt\n",
        "import matplotlib.gridspec as gridspec\n",
        "\n",
        "# Female\n",
        "male_charges = insurance_df[insurance_df['sex'] == 'female']['charges']\n",
        "\n",
        "# Crear una figura con dos subplots: uno para el histograma y otro para el boxplot\n",
        "fig = plt.figure(figsize=(10, 6))\n",
        "gs = gridspec.GridSpec(2, 1, height_ratios=[0.3, 1])\n",
        "\n",
        "# Crear el histograma en la parte superior\n",
        "ax0 = plt.subplot(gs[0])\n",
        "ax0.hist(male_charges, bins=30, alpha=0.5, color='blue')\n",
        "ax0.set_title('Distribution of \"charges\" for females')\n",
        "\n",
        "# Crear el boxplot en la parte inferior\n",
        "ax1 = plt.subplot(gs[1], sharex=ax0)\n",
        "sns.boxplot(x=male_charges, ax=ax1, color='blue')\n",
        "ax1.set_xlabel('Charges')\n",
        "\n",
        "plt.tight_layout()\n",
        "\n",
        "# Male\n",
        "male_charges = insurance_df[insurance_df['sex'] == 'male']['charges']\n",
        "\n",
        "# Crear una figura con dos subplots: uno para el histograma y otro para el boxplot\n",
        "fig = plt.figure(figsize=(10, 6))\n",
        "gs = gridspec.GridSpec(2, 1, height_ratios=[0.3, 1])\n",
        "\n",
        "# Crear el histograma en la parte superior\n",
        "ax0 = plt.subplot(gs[0])\n",
        "ax0.hist(male_charges, bins=30, alpha=0.5, color='blue')\n",
        "ax0.set_title('Distribution of \"charges\" for males')\n",
        "\n",
        "# Crear el boxplot en la parte inferior\n",
        "ax1 = plt.subplot(gs[1], sharex=ax0)\n",
        "sns.boxplot(x=male_charges, ax=ax1, color='blue')\n",
        "ax1.set_xlabel('Charges')\n",
        "\n",
        "plt.tight_layout()\n",
        "\n",
        "plt.show()"
      ]
    },
    {
      "cell_type": "code",
      "execution_count": null,
      "metadata": {
        "id": "IOZRLvDdk1Sa",
        "outputId": "dda8dbbc-7e5a-42ff-a4f7-5bcff1cd7448",
        "colab": {
          "base_uri": "https://localhost:8080/"
        }
      },
      "outputs": [
        {
          "output_type": "stream",
          "name": "stdout",
          "text": [
            "La cantidad de datos entre 0.25 y 0.5 para charges en female es: 165\n",
            "La cantidad de datos entre 0.5 y 0.75 para charges en female es: 165\n",
            "La cantidad de datos entre 0.25 y 0.5 para charges en male es: 169\n",
            "La cantidad de datos entre 0.5 y 0.75 para charges en male es: 169\n"
          ]
        },
        {
          "output_type": "execute_result",
          "data": {
            "text/plain": [
              "169"
            ]
          },
          "metadata": {},
          "execution_count": 17
        }
      ],
      "source": [
        "count_between_quantiles(insurance_df,\"charges\",\"sex\",\"female\",0.25,0.5)\n",
        "count_between_quantiles(insurance_df,\"charges\",\"sex\",\"female\",0.5,0.75)\n",
        "count_between_quantiles(insurance_df,\"charges\",\"sex\",\"male\",0.25,0.5)\n",
        "count_between_quantiles(insurance_df,\"charges\",\"sex\",\"male\",0.5,0.75)"
      ]
    },
    {
      "cell_type": "code",
      "execution_count": null,
      "metadata": {
        "id": "o9ZQVLNJk1Sb"
      },
      "outputs": [],
      "source": [
        "# Realizar el análisis de varianza (ANOVA) entre variables categoricas y variables numericas.\n",
        "import scipy.stats as stats\n",
        "def categoricalEvaluationPerNumericVariable(df, categoricVariable, numericVariable, messages=True  ):\n",
        "\n",
        "    # Crear un diccionario para almacenar los datos de cada categoría\n",
        "    categoria_data = {}\n",
        "    # Crea un diccionario que guardara el nombre de la categoria y su valor de p al rechazar la hipotesis nula\n",
        "    lista = []\n",
        "    # Dividir los datos en grupos según la variable categórica\n",
        "    for categoria in df[categoricVariable].unique():\n",
        "        categoria_data[categoria] = df[df[categoricVariable] == categoria][numericVariable]\n",
        "\n",
        "    # Realizar el análisis de varianza (ANOVA)\n",
        "    f_statistic, p_value = stats.f_oneway(*categoria_data.values())\n",
        "\n",
        "    # Imprimir los resultados\n",
        "    #print(\"Estadística F:\", f_statistic)\n",
        "    #print(\"Valor p:\", p_value)\n",
        "\n",
        "    # Interpretar los resultado\n",
        "    if p_value < 0.05:  # Significancia típica del 0.05\n",
        "        # Guarda en una lista los valores de la variable que recharon la hipotesis nula\n",
        "        lista.append((categoricVariable, numericVariable, p_value))\n",
        "        if (messages):\n",
        "            print(\"Hay evidencia de diferencias significativas entre las categorías de {0} y la variable numérica {1}.\".format(categoricVariable, numericVariable))\n",
        "            print(\"Se rechaza la hipótesis nula.\")\n",
        "    else:\n",
        "        if (messages):\n",
        "            print(\"No hay evidencia de diferencias significativas entre las categorías de {0} y la variable numérica {1}.\".format(categoricVariable, numericVariable))\n",
        "            print(\"Se acepta la hipótesis nula.\")\n",
        "\n",
        "    return lista"
      ]
    },
    {
      "cell_type": "code",
      "execution_count": null,
      "metadata": {
        "id": "KjILT_Bxk1Sb",
        "outputId": "b7d16ea2-ccfe-4ff2-a7ef-e31cbecdb195",
        "colab": {
          "base_uri": "https://localhost:8080/"
        }
      },
      "outputs": [
        {
          "output_type": "stream",
          "name": "stdout",
          "text": [
            "Hay evidencia de diferencias significativas entre las categorías de sex y la variable numérica charges.\n",
            "Se rechaza la hipótesis nula.\n"
          ]
        },
        {
          "output_type": "execute_result",
          "data": {
            "text/plain": [
              "[[('sex', 'charges', 0.03613272100596256)]]"
            ]
          },
          "metadata": {},
          "execution_count": 19
        }
      ],
      "source": [
        "pd.options.display.float_format = '{:.2f}'.format\n",
        "#Itera por cada categoria del dataframe cereals_df excepto la catergoria name\n",
        "Significativos = []\n",
        "for categoria in insurance_df.select_dtypes(include=['object']).columns:\n",
        "    if categoria == 'sex':\n",
        "        Significativo = categoricalEvaluationPerNumericVariable(insurance_df, categoria, \"charges\", True)\n",
        "        if (len(Significativo) > 0):\n",
        "            Significativos.append(Significativo)\n",
        "\n",
        "Significativos"
      ]
    },
    {
      "cell_type": "markdown",
      "metadata": {
        "id": "LuO8F3YFQ9zr"
      },
      "source": [
        "2b) Crea un diagrama de dispersión de `charges` versus el `bmi` que incorpore la distinción por las categorías `smoker` y `children` (tip: utiliza el parámetro `size`) ¿Hay alguna conclusión importante que se derive del gráfico?"
      ]
    },
    {
      "cell_type": "code",
      "execution_count": null,
      "metadata": {
        "id": "-ZnCb3x1k1Sb",
        "outputId": "2eb2f16b-934a-42f5-c0d7-2059d1378eb6",
        "colab": {
          "base_uri": "https://localhost:8080/",
          "height": 660
        }
      },
      "outputs": [
        {
          "output_type": "display_data",
          "data": {
            "text/plain": [
              "<Figure size 1500x800 with 1 Axes>"
            ],
            "image/png": "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\n"
          },
          "metadata": {}
        }
      ],
      "source": [
        "# Se crea un grafico de dispersion de charges vs bmi con la distincion por categorias smoker y children usando el parametro size para el tamaño de los puntos\n",
        "fig = plt.figure(figsize=(15, 8))\n",
        "sns.scatterplot(x=\"charges\", y=\"bmi\", hue=\"smoker\", size=\"children\", data=insurance_df)\n",
        "plt.show()\n"
      ]
    },
    {
      "cell_type": "markdown",
      "metadata": {
        "id": "Q1eOmVpUk1Sb"
      },
      "source": [
        "Un aumento en los cargos está directamente relacionado con un aumento en el BMI , lo que indica que un BMI más alto da como resultado cargos mayores. Cuando se tiene en cuenta el número de hijos, se observa que tener más hijos se asocia con una mayor probabilidad de fumar."
      ]
    },
    {
      "cell_type": "markdown",
      "metadata": {
        "id": "BWsqaT90hajY"
      },
      "source": [
        "2c) Elabora un mapa de calor que muestre la correlación de las variables numéricas."
      ]
    },
    {
      "cell_type": "code",
      "execution_count": null,
      "metadata": {
        "id": "ro3wM76ilpR3",
        "outputId": "407bf587-e9fe-4f69-d985-343da478f4ce",
        "colab": {
          "base_uri": "https://localhost:8080/",
          "height": 841
        }
      },
      "outputs": [
        {
          "output_type": "display_data",
          "data": {
            "text/plain": [
              "<Figure size 1000x1000 with 2 Axes>"
            ],
            "image/png": "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\n"
          },
          "metadata": {}
        }
      ],
      "source": [
        "# Mapa de calor con las correlacion de las variables numericas\n",
        "import seaborn as sns\n",
        "import matplotlib.pyplot as plt\n",
        "\n",
        "# Seleccionar solo las columnas numéricas\n",
        "numeric_cols = insurance_df.select_dtypes(include=['float64', 'int64'])\n",
        "\n",
        "# Crear un mapa de calor con las correlaciones\n",
        "plt.figure(figsize=(10,10))\n",
        "sns.heatmap(numeric_cols.corr(), annot=True, cmap='coolwarm')\n",
        "plt.show()\n"
      ]
    },
    {
      "cell_type": "code",
      "execution_count": null,
      "metadata": {
        "id": "XTdwShV9k1Sc"
      },
      "outputs": [],
      "source": [
        "# Se crea un dataframe con los valores atipicos de charges\n",
        "# Calcular el IQR\n",
        "Q1 = insurance_df['charges'].quantile(0.25)\n",
        "Q3 = insurance_df['charges'].quantile(0.75)\n",
        "IQR = Q3 - Q1\n",
        "\n",
        "# Definir los límites superior e inferior\n",
        "lower_bound = Q1 - 1.5 * IQR\n",
        "upper_bound = Q3 + 1.5 * IQR\n",
        "\n",
        "# Crear un DataFrame con los valores atípicos\n",
        "outliers = insurance_df[(insurance_df['charges'] < lower_bound) | (insurance_df['charges'] > upper_bound)]"
      ]
    },
    {
      "cell_type": "markdown",
      "metadata": {
        "id": "itJ9anNUiTE5"
      },
      "source": [
        "Obtén un dataframe con las observaciones que tengan valores atípicos en `charges`.\n",
        "\n",
        "3a) ¿Cuál es el promedio de `age` y de `bmi`?"
      ]
    },
    {
      "cell_type": "code",
      "execution_count": null,
      "metadata": {
        "id": "R4w9YZH7lwYE",
        "outputId": "fa80535a-77c9-48c2-8f43-c07730cc2346",
        "colab": {
          "base_uri": "https://localhost:8080/"
        }
      },
      "outputs": [
        {
          "output_type": "stream",
          "name": "stdout",
          "text": [
            "Promedio de la variable 'age': 41.07913669064748\n",
            "Promedio de la variable 'bmi': 35.564604316546756\n"
          ]
        }
      ],
      "source": [
        "# Se calcula el promedio de age y bmi\n",
        "outliers = insurance_df[(insurance_df['charges'] < lower_bound) | (insurance_df['charges'] > upper_bound)]\n",
        "print(\"Promedio de la variable 'age': {}\".format(outliers[\"age\"].mean()))\n",
        "print(\"Promedio de la variable 'bmi': {}\".format(outliers[\"bmi\"].mean()))"
      ]
    },
    {
      "cell_type": "markdown",
      "metadata": {
        "id": "WSKay4rTRV8v"
      },
      "source": [
        "3b) ¿Qué porcentaje de estas observaciones se corresponden a mujeres y a hombres? ¿A fumadores y no fumadores?"
      ]
    },
    {
      "cell_type": "code",
      "execution_count": null,
      "metadata": {
        "id": "z2e76xs0lxpe",
        "outputId": "f4da0936-d8b2-4a26-9d3c-06a51f15f387",
        "colab": {
          "base_uri": "https://localhost:8080/"
        }
      },
      "outputs": [
        {
          "output_type": "stream",
          "name": "stdout",
          "text": [
            "Mujeres: 35.97122302158273%\n",
            "Hombres: 64.02877697841727%\n",
            "\n",
            "Fumadores: 97.84172661870504%\n",
            "No fumadores: 2.158273381294964%\n"
          ]
        }
      ],
      "source": [
        "# Porcentaje de observaciones que corresponden a mujeres y a hombres.\n",
        "female_BM = outliers[\"sex\"] == \"female\"\n",
        "male_BM = outliers[\"sex\"] == \"male\"\n",
        "total_sex = outliers[\"sex\"].count()\n",
        "\n",
        "print(\"Mujeres: {}%\".format(female_BM.sum()/total_sex*100))\n",
        "print(\"Hombres: {}%\".format(male_BM.sum()/total_sex*100))\n",
        "\n",
        "# Porcentaje de observaciones que corresponden a fumadores y no fumadores.\n",
        "smoker_BM = outliers[\"smoker\"] == \"yes\"\n",
        "nonsmoker_BM = outliers[\"smoker\"] == \"no\"\n",
        "total_smokers = outliers[\"smoker\"].count()\n",
        "\n",
        "print(\"\\nFumadores: {}%\".format(smoker_BM.sum()/total_smokers*100))\n",
        "print(\"No fumadores: {}%\".format(nonsmoker_BM.sum()/total_smokers*100))"
      ]
    },
    {
      "cell_type": "markdown",
      "metadata": {
        "id": "9X7ZSwcQufZA"
      },
      "source": [
        "# **Parte 2**. Preprocesamiento"
      ]
    },
    {
      "cell_type": "markdown",
      "metadata": {
        "id": "diNsw0rORerT"
      },
      "source": [
        "4. Separa las variables del dataframe: en `X` coloca los predictores y en `y` la variable de respuesta o salida (`charges`)."
      ]
    },
    {
      "cell_type": "code",
      "execution_count": null,
      "metadata": {
        "id": "bcslwsJXlzGj"
      },
      "outputs": [],
      "source": [
        "# 'charges' es la columna de respuesta\n",
        "X = insurance_df.drop('charges', axis=1)\n",
        "y = insurance_df['charges']"
      ]
    },
    {
      "cell_type": "markdown",
      "metadata": {
        "id": "lY1trwwuRku3"
      },
      "source": [
        "5. Divide el conjunto en entrenamiento y prueba (80:20) considerando:\n",
        "\n",
        "\n",
        "*   El parámetro `random_state` con el valor de 1 para garantizar reproducibilidad.\n",
        "*   Analiza los diagramas de barras obtenidos en el ejercicio 1c. Con los resultados observados, es conveniente usar la variable `smoker` en la estrategia de estratificación.\n",
        "*   Como ya tienes separadas en `X` e `y` los predictores y salida, consulta cómo ejecutar la función `train_test_split()` para obtener `Xtrain, Xtest, ytrain, ytest` en una única instrucción."
      ]
    },
    {
      "cell_type": "code",
      "execution_count": null,
      "metadata": {
        "id": "JfdNqaQLl06A"
      },
      "outputs": [],
      "source": [
        "# Dividir los datos en conjuntos de entrenamiento y prueba (80% y 20% respectivamente)\n",
        "# Usar stratify para que la distribución de las categorías sea la misma en ambos conjuntos\n",
        "# Usar random_state para poder reproducir los resultados\n",
        "from sklearn.model_selection import train_test_split\n",
        "X_train, X_test, y_train, y_test = train_test_split(X, y, random_state=1, test_size=0.2, stratify=X[\"smoker\"])\n"
      ]
    },
    {
      "cell_type": "code",
      "execution_count": null,
      "metadata": {
        "id": "b_Fvc76xk1Sm",
        "outputId": "75e580f8-970a-4aa5-df8a-fd7e6ba083d2",
        "colab": {
          "base_uri": "https://localhost:8080/"
        }
      },
      "outputs": [
        {
          "output_type": "execute_result",
          "data": {
            "text/plain": [
              "no    0.80\n",
              "yes   0.20\n",
              "Name: smoker, dtype: float64"
            ]
          },
          "metadata": {},
          "execution_count": 27
        }
      ],
      "source": [
        "# Se confirma que la distribución de las categorías es similar en ambos conjuntos\n",
        "X_train[\"smoker\"].value_counts() / len(X_train)"
      ]
    },
    {
      "cell_type": "code",
      "execution_count": null,
      "metadata": {
        "id": "X_Qly7Ojk1Sm",
        "outputId": "2631b8f2-e487-403f-e3c4-59cd85c0c4e4",
        "colab": {
          "base_uri": "https://localhost:8080/"
        }
      },
      "outputs": [
        {
          "output_type": "execute_result",
          "data": {
            "text/plain": [
              "no    0.79\n",
              "yes   0.21\n",
              "Name: smoker, dtype: float64"
            ]
          },
          "metadata": {},
          "execution_count": 28
        }
      ],
      "source": [
        "# Se confirma que la distribución de las categorías es similar en ambos conjuntos\n",
        "X_test[\"smoker\"].value_counts() / len(X_test)"
      ]
    },
    {
      "cell_type": "markdown",
      "metadata": {
        "id": "z0mSLgjORzWM"
      },
      "source": [
        "6. Prepara un transformador, denominado `preprocessing`, para aplicar escalamiento *MinMax* a los predictores numéricos y codificación *one-hot* a los categóricas."
      ]
    },
    {
      "cell_type": "code",
      "execution_count": null,
      "metadata": {
        "id": "VdUHK3ODk1Sn",
        "outputId": "bab9de32-f4ea-44ff-ff75-c788d5e2bc55",
        "colab": {
          "base_uri": "https://localhost:8080/"
        }
      },
      "outputs": [
        {
          "output_type": "execute_result",
          "data": {
            "text/plain": [
              "array([[0.5       , 0.13672036, 0.2       , ..., 0.        , 1.        ,\n",
              "        0.        ],\n",
              "       [0.10869565, 0.92427372, 0.2       , ..., 0.        , 1.        ,\n",
              "        0.        ],\n",
              "       [0.23913043, 0.25375189, 0.        , ..., 1.        , 0.        ,\n",
              "        0.        ],\n",
              "       ...,\n",
              "       [0.95652174, 0.44471981, 0.6       , ..., 1.        , 0.        ,\n",
              "        0.        ],\n",
              "       [0.2826087 , 0.35784111, 0.        , ..., 0.        , 1.        ,\n",
              "        0.        ],\n",
              "       [0.34782609, 0.45256781, 0.2       , ..., 0.        , 0.        ,\n",
              "        0.        ]])"
            ]
          },
          "metadata": {},
          "execution_count": 29
        }
      ],
      "source": [
        "from sklearn.compose import ColumnTransformer\n",
        "from sklearn.preprocessing import MinMaxScaler, OneHotEncoder\n",
        "from sklearn.pipeline import make_pipeline\n",
        "from sklearn.pipeline import Pipeline\n",
        "from sklearn.linear_model import LinearRegression\n",
        "\n",
        "# Identifica las características numéricas y categóricas\n",
        "numeric_features = X_train.select_dtypes(include=[np.number]).columns.tolist()\n",
        "categorical_features = X_train.select_dtypes(include=[object]).columns.tolist()\n",
        "\n",
        "\n",
        "num_pipeline = Pipeline([\n",
        "    (\"MinMaxScaler\", MinMaxScaler()),\n",
        "])\n",
        "cat_pipeline = make_pipeline(\n",
        "    OneHotEncoder(handle_unknown=\"ignore\", drop='first'))\n",
        "\n",
        "# Combina los transformadores en un ColumnTransformer\n",
        "preprocessing = ColumnTransformer(\n",
        "    transformers=[\n",
        "        ('num', num_pipeline, numeric_features),\n",
        "        ('cat', cat_pipeline, categorical_features)\n",
        "    ])\n",
        "\n",
        "X_train_prepared = preprocessing.fit_transform(X_train)\n",
        "X_train_prepared"
      ]
    },
    {
      "cell_type": "code",
      "execution_count": null,
      "metadata": {
        "id": "p8fZYWc6k1Sn",
        "outputId": "bec737ef-b6e8-4561-efd6-7b7c052b2d4b",
        "colab": {
          "base_uri": "https://localhost:8080/"
        }
      },
      "outputs": [
        {
          "output_type": "execute_result",
          "data": {
            "text/plain": [
              "ColumnTransformer(transformers=[('num',\n",
              "                                 Pipeline(steps=[('MinMaxScaler',\n",
              "                                                  MinMaxScaler())]),\n",
              "                                 ['age', 'bmi', 'children']),\n",
              "                                ('cat',\n",
              "                                 Pipeline(steps=[('onehotencoder',\n",
              "                                                  OneHotEncoder(drop='first',\n",
              "                                                                handle_unknown='ignore'))]),\n",
              "                                 ['sex', 'smoker', 'region'])])"
            ]
          },
          "metadata": {},
          "execution_count": 30
        }
      ],
      "source": [
        "from sklearn import set_config\n",
        "set_config(display=\"text\")\n",
        "preprocessing"
      ]
    },
    {
      "cell_type": "code",
      "execution_count": null,
      "metadata": {
        "id": "DVJRqTjYk1So",
        "outputId": "3bb9ada6-65ec-4203-81ca-0b4199363380",
        "colab": {
          "base_uri": "https://localhost:8080/",
          "height": 112
        }
      },
      "outputs": [
        {
          "output_type": "execute_result",
          "data": {
            "text/plain": [
              "     num__age  num__bmi  num__children  cat__sex_male  cat__smoker_yes  \\\n",
              "42       0.50      0.14           0.20           1.00             0.00   \n",
              "847      0.11      0.92           0.20           1.00             0.00   \n",
              "\n",
              "     cat__region_northwest  cat__region_southeast  cat__region_southwest  \n",
              "42                    0.00                   1.00                   0.00  \n",
              "847                   0.00                   1.00                   0.00  "
            ],
            "text/html": [
              "\n",
              "  <div id=\"df-8a3f3e29-8545-4344-9559-48d3be901de8\" class=\"colab-df-container\">\n",
              "    <div>\n",
              "<style scoped>\n",
              "    .dataframe tbody tr th:only-of-type {\n",
              "        vertical-align: middle;\n",
              "    }\n",
              "\n",
              "    .dataframe tbody tr th {\n",
              "        vertical-align: top;\n",
              "    }\n",
              "\n",
              "    .dataframe thead th {\n",
              "        text-align: right;\n",
              "    }\n",
              "</style>\n",
              "<table border=\"1\" class=\"dataframe\">\n",
              "  <thead>\n",
              "    <tr style=\"text-align: right;\">\n",
              "      <th></th>\n",
              "      <th>num__age</th>\n",
              "      <th>num__bmi</th>\n",
              "      <th>num__children</th>\n",
              "      <th>cat__sex_male</th>\n",
              "      <th>cat__smoker_yes</th>\n",
              "      <th>cat__region_northwest</th>\n",
              "      <th>cat__region_southeast</th>\n",
              "      <th>cat__region_southwest</th>\n",
              "    </tr>\n",
              "  </thead>\n",
              "  <tbody>\n",
              "    <tr>\n",
              "      <th>42</th>\n",
              "      <td>0.50</td>\n",
              "      <td>0.14</td>\n",
              "      <td>0.20</td>\n",
              "      <td>1.00</td>\n",
              "      <td>0.00</td>\n",
              "      <td>0.00</td>\n",
              "      <td>1.00</td>\n",
              "      <td>0.00</td>\n",
              "    </tr>\n",
              "    <tr>\n",
              "      <th>847</th>\n",
              "      <td>0.11</td>\n",
              "      <td>0.92</td>\n",
              "      <td>0.20</td>\n",
              "      <td>1.00</td>\n",
              "      <td>0.00</td>\n",
              "      <td>0.00</td>\n",
              "      <td>1.00</td>\n",
              "      <td>0.00</td>\n",
              "    </tr>\n",
              "  </tbody>\n",
              "</table>\n",
              "</div>\n",
              "    <div class=\"colab-df-buttons\">\n",
              "\n",
              "  <div class=\"colab-df-container\">\n",
              "    <button class=\"colab-df-convert\" onclick=\"convertToInteractive('df-8a3f3e29-8545-4344-9559-48d3be901de8')\"\n",
              "            title=\"Convert this dataframe to an interactive table.\"\n",
              "            style=\"display:none;\">\n",
              "\n",
              "  <svg xmlns=\"http://www.w3.org/2000/svg\" height=\"24px\" viewBox=\"0 -960 960 960\">\n",
              "    <path d=\"M120-120v-720h720v720H120Zm60-500h600v-160H180v160Zm220 220h160v-160H400v160Zm0 220h160v-160H400v160ZM180-400h160v-160H180v160Zm440 0h160v-160H620v160ZM180-180h160v-160H180v160Zm440 0h160v-160H620v160Z\"/>\n",
              "  </svg>\n",
              "    </button>\n",
              "\n",
              "  <style>\n",
              "    .colab-df-container {\n",
              "      display:flex;\n",
              "      gap: 12px;\n",
              "    }\n",
              "\n",
              "    .colab-df-convert {\n",
              "      background-color: #E8F0FE;\n",
              "      border: none;\n",
              "      border-radius: 50%;\n",
              "      cursor: pointer;\n",
              "      display: none;\n",
              "      fill: #1967D2;\n",
              "      height: 32px;\n",
              "      padding: 0 0 0 0;\n",
              "      width: 32px;\n",
              "    }\n",
              "\n",
              "    .colab-df-convert:hover {\n",
              "      background-color: #E2EBFA;\n",
              "      box-shadow: 0px 1px 2px rgba(60, 64, 67, 0.3), 0px 1px 3px 1px rgba(60, 64, 67, 0.15);\n",
              "      fill: #174EA6;\n",
              "    }\n",
              "\n",
              "    .colab-df-buttons div {\n",
              "      margin-bottom: 4px;\n",
              "    }\n",
              "\n",
              "    [theme=dark] .colab-df-convert {\n",
              "      background-color: #3B4455;\n",
              "      fill: #D2E3FC;\n",
              "    }\n",
              "\n",
              "    [theme=dark] .colab-df-convert:hover {\n",
              "      background-color: #434B5C;\n",
              "      box-shadow: 0px 1px 3px 1px rgba(0, 0, 0, 0.15);\n",
              "      filter: drop-shadow(0px 1px 2px rgba(0, 0, 0, 0.3));\n",
              "      fill: #FFFFFF;\n",
              "    }\n",
              "  </style>\n",
              "\n",
              "    <script>\n",
              "      const buttonEl =\n",
              "        document.querySelector('#df-8a3f3e29-8545-4344-9559-48d3be901de8 button.colab-df-convert');\n",
              "      buttonEl.style.display =\n",
              "        google.colab.kernel.accessAllowed ? 'block' : 'none';\n",
              "\n",
              "      async function convertToInteractive(key) {\n",
              "        const element = document.querySelector('#df-8a3f3e29-8545-4344-9559-48d3be901de8');\n",
              "        const dataTable =\n",
              "          await google.colab.kernel.invokeFunction('convertToInteractive',\n",
              "                                                    [key], {});\n",
              "        if (!dataTable) return;\n",
              "\n",
              "        const docLinkHtml = 'Like what you see? Visit the ' +\n",
              "          '<a target=\"_blank\" href=https://colab.research.google.com/notebooks/data_table.ipynb>data table notebook</a>'\n",
              "          + ' to learn more about interactive tables.';\n",
              "        element.innerHTML = '';\n",
              "        dataTable['output_type'] = 'display_data';\n",
              "        await google.colab.output.renderOutput(dataTable, element);\n",
              "        const docLink = document.createElement('div');\n",
              "        docLink.innerHTML = docLinkHtml;\n",
              "        element.appendChild(docLink);\n",
              "      }\n",
              "    </script>\n",
              "  </div>\n",
              "\n",
              "\n",
              "<div id=\"df-42c23563-e3ca-42da-b370-c7f0740c4fff\">\n",
              "  <button class=\"colab-df-quickchart\" onclick=\"quickchart('df-42c23563-e3ca-42da-b370-c7f0740c4fff')\"\n",
              "            title=\"Suggest charts.\"\n",
              "            style=\"display:none;\">\n",
              "\n",
              "<svg xmlns=\"http://www.w3.org/2000/svg\" height=\"24px\"viewBox=\"0 0 24 24\"\n",
              "     width=\"24px\">\n",
              "    <g>\n",
              "        <path d=\"M19 3H5c-1.1 0-2 .9-2 2v14c0 1.1.9 2 2 2h14c1.1 0 2-.9 2-2V5c0-1.1-.9-2-2-2zM9 17H7v-7h2v7zm4 0h-2V7h2v10zm4 0h-2v-4h2v4z\"/>\n",
              "    </g>\n",
              "</svg>\n",
              "  </button>\n",
              "\n",
              "<style>\n",
              "  .colab-df-quickchart {\n",
              "      --bg-color: #E8F0FE;\n",
              "      --fill-color: #1967D2;\n",
              "      --hover-bg-color: #E2EBFA;\n",
              "      --hover-fill-color: #174EA6;\n",
              "      --disabled-fill-color: #AAA;\n",
              "      --disabled-bg-color: #DDD;\n",
              "  }\n",
              "\n",
              "  [theme=dark] .colab-df-quickchart {\n",
              "      --bg-color: #3B4455;\n",
              "      --fill-color: #D2E3FC;\n",
              "      --hover-bg-color: #434B5C;\n",
              "      --hover-fill-color: #FFFFFF;\n",
              "      --disabled-bg-color: #3B4455;\n",
              "      --disabled-fill-color: #666;\n",
              "  }\n",
              "\n",
              "  .colab-df-quickchart {\n",
              "    background-color: var(--bg-color);\n",
              "    border: none;\n",
              "    border-radius: 50%;\n",
              "    cursor: pointer;\n",
              "    display: none;\n",
              "    fill: var(--fill-color);\n",
              "    height: 32px;\n",
              "    padding: 0;\n",
              "    width: 32px;\n",
              "  }\n",
              "\n",
              "  .colab-df-quickchart:hover {\n",
              "    background-color: var(--hover-bg-color);\n",
              "    box-shadow: 0 1px 2px rgba(60, 64, 67, 0.3), 0 1px 3px 1px rgba(60, 64, 67, 0.15);\n",
              "    fill: var(--button-hover-fill-color);\n",
              "  }\n",
              "\n",
              "  .colab-df-quickchart-complete:disabled,\n",
              "  .colab-df-quickchart-complete:disabled:hover {\n",
              "    background-color: var(--disabled-bg-color);\n",
              "    fill: var(--disabled-fill-color);\n",
              "    box-shadow: none;\n",
              "  }\n",
              "\n",
              "  .colab-df-spinner {\n",
              "    border: 2px solid var(--fill-color);\n",
              "    border-color: transparent;\n",
              "    border-bottom-color: var(--fill-color);\n",
              "    animation:\n",
              "      spin 1s steps(1) infinite;\n",
              "  }\n",
              "\n",
              "  @keyframes spin {\n",
              "    0% {\n",
              "      border-color: transparent;\n",
              "      border-bottom-color: var(--fill-color);\n",
              "      border-left-color: var(--fill-color);\n",
              "    }\n",
              "    20% {\n",
              "      border-color: transparent;\n",
              "      border-left-color: var(--fill-color);\n",
              "      border-top-color: var(--fill-color);\n",
              "    }\n",
              "    30% {\n",
              "      border-color: transparent;\n",
              "      border-left-color: var(--fill-color);\n",
              "      border-top-color: var(--fill-color);\n",
              "      border-right-color: var(--fill-color);\n",
              "    }\n",
              "    40% {\n",
              "      border-color: transparent;\n",
              "      border-right-color: var(--fill-color);\n",
              "      border-top-color: var(--fill-color);\n",
              "    }\n",
              "    60% {\n",
              "      border-color: transparent;\n",
              "      border-right-color: var(--fill-color);\n",
              "    }\n",
              "    80% {\n",
              "      border-color: transparent;\n",
              "      border-right-color: var(--fill-color);\n",
              "      border-bottom-color: var(--fill-color);\n",
              "    }\n",
              "    90% {\n",
              "      border-color: transparent;\n",
              "      border-bottom-color: var(--fill-color);\n",
              "    }\n",
              "  }\n",
              "</style>\n",
              "\n",
              "  <script>\n",
              "    async function quickchart(key) {\n",
              "      const quickchartButtonEl =\n",
              "        document.querySelector('#' + key + ' button');\n",
              "      quickchartButtonEl.disabled = true;  // To prevent multiple clicks.\n",
              "      quickchartButtonEl.classList.add('colab-df-spinner');\n",
              "      try {\n",
              "        const charts = await google.colab.kernel.invokeFunction(\n",
              "            'suggestCharts', [key], {});\n",
              "      } catch (error) {\n",
              "        console.error('Error during call to suggestCharts:', error);\n",
              "      }\n",
              "      quickchartButtonEl.classList.remove('colab-df-spinner');\n",
              "      quickchartButtonEl.classList.add('colab-df-quickchart-complete');\n",
              "    }\n",
              "    (() => {\n",
              "      let quickchartButtonEl =\n",
              "        document.querySelector('#df-42c23563-e3ca-42da-b370-c7f0740c4fff button');\n",
              "      quickchartButtonEl.style.display =\n",
              "        google.colab.kernel.accessAllowed ? 'block' : 'none';\n",
              "    })();\n",
              "  </script>\n",
              "</div>\n",
              "    </div>\n",
              "  </div>\n"
            ]
          },
          "metadata": {},
          "execution_count": 31
        }
      ],
      "source": [
        "# extra code – shows that we can get a DataFrame out if we want\n",
        "X_train_prepared_fr = pd.DataFrame(\n",
        "    X_train_prepared,\n",
        "    columns=preprocessing.get_feature_names_out(),\n",
        "    index=X_train.index)\n",
        "X_train_prepared_fr.head(2)"
      ]
    },
    {
      "cell_type": "code",
      "execution_count": null,
      "metadata": {
        "id": "47qhwtwFk1So"
      },
      "outputs": [],
      "source": [
        "X_test_prepared = preprocessing.transform(X_test)"
      ]
    },
    {
      "cell_type": "code",
      "execution_count": null,
      "metadata": {
        "id": "Tlw_OYrhk1So",
        "outputId": "f1bb77c0-7dcb-455b-d6d4-c53de3d05593",
        "colab": {
          "base_uri": "https://localhost:8080/",
          "height": 112
        }
      },
      "outputs": [
        {
          "output_type": "execute_result",
          "data": {
            "text/plain": [
              "     num__age  num__bmi  num__children  cat__sex_male  cat__smoker_yes  \\\n",
              "868      0.93      0.19           0.00           1.00             0.00   \n",
              "909      0.30      0.21           0.00           0.00             1.00   \n",
              "\n",
              "     cat__region_northwest  cat__region_southeast  cat__region_southwest  \n",
              "868                   0.00                   0.00                   0.00  \n",
              "909                   0.00                   0.00                   1.00  "
            ],
            "text/html": [
              "\n",
              "  <div id=\"df-6786e627-c2af-4fcb-ad38-d0c94982ebd8\" class=\"colab-df-container\">\n",
              "    <div>\n",
              "<style scoped>\n",
              "    .dataframe tbody tr th:only-of-type {\n",
              "        vertical-align: middle;\n",
              "    }\n",
              "\n",
              "    .dataframe tbody tr th {\n",
              "        vertical-align: top;\n",
              "    }\n",
              "\n",
              "    .dataframe thead th {\n",
              "        text-align: right;\n",
              "    }\n",
              "</style>\n",
              "<table border=\"1\" class=\"dataframe\">\n",
              "  <thead>\n",
              "    <tr style=\"text-align: right;\">\n",
              "      <th></th>\n",
              "      <th>num__age</th>\n",
              "      <th>num__bmi</th>\n",
              "      <th>num__children</th>\n",
              "      <th>cat__sex_male</th>\n",
              "      <th>cat__smoker_yes</th>\n",
              "      <th>cat__region_northwest</th>\n",
              "      <th>cat__region_southeast</th>\n",
              "      <th>cat__region_southwest</th>\n",
              "    </tr>\n",
              "  </thead>\n",
              "  <tbody>\n",
              "    <tr>\n",
              "      <th>868</th>\n",
              "      <td>0.93</td>\n",
              "      <td>0.19</td>\n",
              "      <td>0.00</td>\n",
              "      <td>1.00</td>\n",
              "      <td>0.00</td>\n",
              "      <td>0.00</td>\n",
              "      <td>0.00</td>\n",
              "      <td>0.00</td>\n",
              "    </tr>\n",
              "    <tr>\n",
              "      <th>909</th>\n",
              "      <td>0.30</td>\n",
              "      <td>0.21</td>\n",
              "      <td>0.00</td>\n",
              "      <td>0.00</td>\n",
              "      <td>1.00</td>\n",
              "      <td>0.00</td>\n",
              "      <td>0.00</td>\n",
              "      <td>1.00</td>\n",
              "    </tr>\n",
              "  </tbody>\n",
              "</table>\n",
              "</div>\n",
              "    <div class=\"colab-df-buttons\">\n",
              "\n",
              "  <div class=\"colab-df-container\">\n",
              "    <button class=\"colab-df-convert\" onclick=\"convertToInteractive('df-6786e627-c2af-4fcb-ad38-d0c94982ebd8')\"\n",
              "            title=\"Convert this dataframe to an interactive table.\"\n",
              "            style=\"display:none;\">\n",
              "\n",
              "  <svg xmlns=\"http://www.w3.org/2000/svg\" height=\"24px\" viewBox=\"0 -960 960 960\">\n",
              "    <path d=\"M120-120v-720h720v720H120Zm60-500h600v-160H180v160Zm220 220h160v-160H400v160Zm0 220h160v-160H400v160ZM180-400h160v-160H180v160Zm440 0h160v-160H620v160ZM180-180h160v-160H180v160Zm440 0h160v-160H620v160Z\"/>\n",
              "  </svg>\n",
              "    </button>\n",
              "\n",
              "  <style>\n",
              "    .colab-df-container {\n",
              "      display:flex;\n",
              "      gap: 12px;\n",
              "    }\n",
              "\n",
              "    .colab-df-convert {\n",
              "      background-color: #E8F0FE;\n",
              "      border: none;\n",
              "      border-radius: 50%;\n",
              "      cursor: pointer;\n",
              "      display: none;\n",
              "      fill: #1967D2;\n",
              "      height: 32px;\n",
              "      padding: 0 0 0 0;\n",
              "      width: 32px;\n",
              "    }\n",
              "\n",
              "    .colab-df-convert:hover {\n",
              "      background-color: #E2EBFA;\n",
              "      box-shadow: 0px 1px 2px rgba(60, 64, 67, 0.3), 0px 1px 3px 1px rgba(60, 64, 67, 0.15);\n",
              "      fill: #174EA6;\n",
              "    }\n",
              "\n",
              "    .colab-df-buttons div {\n",
              "      margin-bottom: 4px;\n",
              "    }\n",
              "\n",
              "    [theme=dark] .colab-df-convert {\n",
              "      background-color: #3B4455;\n",
              "      fill: #D2E3FC;\n",
              "    }\n",
              "\n",
              "    [theme=dark] .colab-df-convert:hover {\n",
              "      background-color: #434B5C;\n",
              "      box-shadow: 0px 1px 3px 1px rgba(0, 0, 0, 0.15);\n",
              "      filter: drop-shadow(0px 1px 2px rgba(0, 0, 0, 0.3));\n",
              "      fill: #FFFFFF;\n",
              "    }\n",
              "  </style>\n",
              "\n",
              "    <script>\n",
              "      const buttonEl =\n",
              "        document.querySelector('#df-6786e627-c2af-4fcb-ad38-d0c94982ebd8 button.colab-df-convert');\n",
              "      buttonEl.style.display =\n",
              "        google.colab.kernel.accessAllowed ? 'block' : 'none';\n",
              "\n",
              "      async function convertToInteractive(key) {\n",
              "        const element = document.querySelector('#df-6786e627-c2af-4fcb-ad38-d0c94982ebd8');\n",
              "        const dataTable =\n",
              "          await google.colab.kernel.invokeFunction('convertToInteractive',\n",
              "                                                    [key], {});\n",
              "        if (!dataTable) return;\n",
              "\n",
              "        const docLinkHtml = 'Like what you see? Visit the ' +\n",
              "          '<a target=\"_blank\" href=https://colab.research.google.com/notebooks/data_table.ipynb>data table notebook</a>'\n",
              "          + ' to learn more about interactive tables.';\n",
              "        element.innerHTML = '';\n",
              "        dataTable['output_type'] = 'display_data';\n",
              "        await google.colab.output.renderOutput(dataTable, element);\n",
              "        const docLink = document.createElement('div');\n",
              "        docLink.innerHTML = docLinkHtml;\n",
              "        element.appendChild(docLink);\n",
              "      }\n",
              "    </script>\n",
              "  </div>\n",
              "\n",
              "\n",
              "<div id=\"df-9895075c-336c-4254-94ec-083f2db5297d\">\n",
              "  <button class=\"colab-df-quickchart\" onclick=\"quickchart('df-9895075c-336c-4254-94ec-083f2db5297d')\"\n",
              "            title=\"Suggest charts.\"\n",
              "            style=\"display:none;\">\n",
              "\n",
              "<svg xmlns=\"http://www.w3.org/2000/svg\" height=\"24px\"viewBox=\"0 0 24 24\"\n",
              "     width=\"24px\">\n",
              "    <g>\n",
              "        <path d=\"M19 3H5c-1.1 0-2 .9-2 2v14c0 1.1.9 2 2 2h14c1.1 0 2-.9 2-2V5c0-1.1-.9-2-2-2zM9 17H7v-7h2v7zm4 0h-2V7h2v10zm4 0h-2v-4h2v4z\"/>\n",
              "    </g>\n",
              "</svg>\n",
              "  </button>\n",
              "\n",
              "<style>\n",
              "  .colab-df-quickchart {\n",
              "      --bg-color: #E8F0FE;\n",
              "      --fill-color: #1967D2;\n",
              "      --hover-bg-color: #E2EBFA;\n",
              "      --hover-fill-color: #174EA6;\n",
              "      --disabled-fill-color: #AAA;\n",
              "      --disabled-bg-color: #DDD;\n",
              "  }\n",
              "\n",
              "  [theme=dark] .colab-df-quickchart {\n",
              "      --bg-color: #3B4455;\n",
              "      --fill-color: #D2E3FC;\n",
              "      --hover-bg-color: #434B5C;\n",
              "      --hover-fill-color: #FFFFFF;\n",
              "      --disabled-bg-color: #3B4455;\n",
              "      --disabled-fill-color: #666;\n",
              "  }\n",
              "\n",
              "  .colab-df-quickchart {\n",
              "    background-color: var(--bg-color);\n",
              "    border: none;\n",
              "    border-radius: 50%;\n",
              "    cursor: pointer;\n",
              "    display: none;\n",
              "    fill: var(--fill-color);\n",
              "    height: 32px;\n",
              "    padding: 0;\n",
              "    width: 32px;\n",
              "  }\n",
              "\n",
              "  .colab-df-quickchart:hover {\n",
              "    background-color: var(--hover-bg-color);\n",
              "    box-shadow: 0 1px 2px rgba(60, 64, 67, 0.3), 0 1px 3px 1px rgba(60, 64, 67, 0.15);\n",
              "    fill: var(--button-hover-fill-color);\n",
              "  }\n",
              "\n",
              "  .colab-df-quickchart-complete:disabled,\n",
              "  .colab-df-quickchart-complete:disabled:hover {\n",
              "    background-color: var(--disabled-bg-color);\n",
              "    fill: var(--disabled-fill-color);\n",
              "    box-shadow: none;\n",
              "  }\n",
              "\n",
              "  .colab-df-spinner {\n",
              "    border: 2px solid var(--fill-color);\n",
              "    border-color: transparent;\n",
              "    border-bottom-color: var(--fill-color);\n",
              "    animation:\n",
              "      spin 1s steps(1) infinite;\n",
              "  }\n",
              "\n",
              "  @keyframes spin {\n",
              "    0% {\n",
              "      border-color: transparent;\n",
              "      border-bottom-color: var(--fill-color);\n",
              "      border-left-color: var(--fill-color);\n",
              "    }\n",
              "    20% {\n",
              "      border-color: transparent;\n",
              "      border-left-color: var(--fill-color);\n",
              "      border-top-color: var(--fill-color);\n",
              "    }\n",
              "    30% {\n",
              "      border-color: transparent;\n",
              "      border-left-color: var(--fill-color);\n",
              "      border-top-color: var(--fill-color);\n",
              "      border-right-color: var(--fill-color);\n",
              "    }\n",
              "    40% {\n",
              "      border-color: transparent;\n",
              "      border-right-color: var(--fill-color);\n",
              "      border-top-color: var(--fill-color);\n",
              "    }\n",
              "    60% {\n",
              "      border-color: transparent;\n",
              "      border-right-color: var(--fill-color);\n",
              "    }\n",
              "    80% {\n",
              "      border-color: transparent;\n",
              "      border-right-color: var(--fill-color);\n",
              "      border-bottom-color: var(--fill-color);\n",
              "    }\n",
              "    90% {\n",
              "      border-color: transparent;\n",
              "      border-bottom-color: var(--fill-color);\n",
              "    }\n",
              "  }\n",
              "</style>\n",
              "\n",
              "  <script>\n",
              "    async function quickchart(key) {\n",
              "      const quickchartButtonEl =\n",
              "        document.querySelector('#' + key + ' button');\n",
              "      quickchartButtonEl.disabled = true;  // To prevent multiple clicks.\n",
              "      quickchartButtonEl.classList.add('colab-df-spinner');\n",
              "      try {\n",
              "        const charts = await google.colab.kernel.invokeFunction(\n",
              "            'suggestCharts', [key], {});\n",
              "      } catch (error) {\n",
              "        console.error('Error during call to suggestCharts:', error);\n",
              "      }\n",
              "      quickchartButtonEl.classList.remove('colab-df-spinner');\n",
              "      quickchartButtonEl.classList.add('colab-df-quickchart-complete');\n",
              "    }\n",
              "    (() => {\n",
              "      let quickchartButtonEl =\n",
              "        document.querySelector('#df-9895075c-336c-4254-94ec-083f2db5297d button');\n",
              "      quickchartButtonEl.style.display =\n",
              "        google.colab.kernel.accessAllowed ? 'block' : 'none';\n",
              "    })();\n",
              "  </script>\n",
              "</div>\n",
              "    </div>\n",
              "  </div>\n"
            ]
          },
          "metadata": {},
          "execution_count": 33
        }
      ],
      "source": [
        "# extra code – shows that we can get a DataFrame out if we want\n",
        "X_test_prepared_fr = pd.DataFrame(\n",
        "    X_test_prepared,\n",
        "    columns=preprocessing.get_feature_names_out(),\n",
        "    index=X_test.index)\n",
        "X_test_prepared_fr.head(2)\n"
      ]
    },
    {
      "cell_type": "code",
      "execution_count": null,
      "metadata": {
        "id": "T8nB6A6fk1So",
        "outputId": "06817250-5679-440f-a705-d19da0c491c0",
        "colab": {
          "base_uri": "https://localhost:8080/",
          "height": 206
        }
      },
      "outputs": [
        {
          "output_type": "execute_result",
          "data": {
            "text/plain": [
              "     num__age  num__bmi  num__children  cat__sex_male  cat__smoker_yes  \\\n",
              "868      0.93      0.19           0.00           1.00             0.00   \n",
              "909      0.30      0.21           0.00           0.00             1.00   \n",
              "892      0.78      0.20           0.00           1.00             0.00   \n",
              "603      1.00      0.61           0.60           0.00             0.00   \n",
              "743      0.28      0.27           0.00           0.00             0.00   \n",
              "\n",
              "     cat__region_northwest  cat__region_southeast  cat__region_southwest  \n",
              "868                   0.00                   0.00                   0.00  \n",
              "909                   0.00                   0.00                   1.00  \n",
              "892                   0.00                   0.00                   0.00  \n",
              "603                   0.00                   1.00                   0.00  \n",
              "743                   0.00                   1.00                   0.00  "
            ],
            "text/html": [
              "\n",
              "  <div id=\"df-2dc546d1-72a6-442b-8e37-27c7886f8eb8\" class=\"colab-df-container\">\n",
              "    <div>\n",
              "<style scoped>\n",
              "    .dataframe tbody tr th:only-of-type {\n",
              "        vertical-align: middle;\n",
              "    }\n",
              "\n",
              "    .dataframe tbody tr th {\n",
              "        vertical-align: top;\n",
              "    }\n",
              "\n",
              "    .dataframe thead th {\n",
              "        text-align: right;\n",
              "    }\n",
              "</style>\n",
              "<table border=\"1\" class=\"dataframe\">\n",
              "  <thead>\n",
              "    <tr style=\"text-align: right;\">\n",
              "      <th></th>\n",
              "      <th>num__age</th>\n",
              "      <th>num__bmi</th>\n",
              "      <th>num__children</th>\n",
              "      <th>cat__sex_male</th>\n",
              "      <th>cat__smoker_yes</th>\n",
              "      <th>cat__region_northwest</th>\n",
              "      <th>cat__region_southeast</th>\n",
              "      <th>cat__region_southwest</th>\n",
              "    </tr>\n",
              "  </thead>\n",
              "  <tbody>\n",
              "    <tr>\n",
              "      <th>868</th>\n",
              "      <td>0.93</td>\n",
              "      <td>0.19</td>\n",
              "      <td>0.00</td>\n",
              "      <td>1.00</td>\n",
              "      <td>0.00</td>\n",
              "      <td>0.00</td>\n",
              "      <td>0.00</td>\n",
              "      <td>0.00</td>\n",
              "    </tr>\n",
              "    <tr>\n",
              "      <th>909</th>\n",
              "      <td>0.30</td>\n",
              "      <td>0.21</td>\n",
              "      <td>0.00</td>\n",
              "      <td>0.00</td>\n",
              "      <td>1.00</td>\n",
              "      <td>0.00</td>\n",
              "      <td>0.00</td>\n",
              "      <td>1.00</td>\n",
              "    </tr>\n",
              "    <tr>\n",
              "      <th>892</th>\n",
              "      <td>0.78</td>\n",
              "      <td>0.20</td>\n",
              "      <td>0.00</td>\n",
              "      <td>1.00</td>\n",
              "      <td>0.00</td>\n",
              "      <td>0.00</td>\n",
              "      <td>0.00</td>\n",
              "      <td>0.00</td>\n",
              "    </tr>\n",
              "    <tr>\n",
              "      <th>603</th>\n",
              "      <td>1.00</td>\n",
              "      <td>0.61</td>\n",
              "      <td>0.60</td>\n",
              "      <td>0.00</td>\n",
              "      <td>0.00</td>\n",
              "      <td>0.00</td>\n",
              "      <td>1.00</td>\n",
              "      <td>0.00</td>\n",
              "    </tr>\n",
              "    <tr>\n",
              "      <th>743</th>\n",
              "      <td>0.28</td>\n",
              "      <td>0.27</td>\n",
              "      <td>0.00</td>\n",
              "      <td>0.00</td>\n",
              "      <td>0.00</td>\n",
              "      <td>0.00</td>\n",
              "      <td>1.00</td>\n",
              "      <td>0.00</td>\n",
              "    </tr>\n",
              "  </tbody>\n",
              "</table>\n",
              "</div>\n",
              "    <div class=\"colab-df-buttons\">\n",
              "\n",
              "  <div class=\"colab-df-container\">\n",
              "    <button class=\"colab-df-convert\" onclick=\"convertToInteractive('df-2dc546d1-72a6-442b-8e37-27c7886f8eb8')\"\n",
              "            title=\"Convert this dataframe to an interactive table.\"\n",
              "            style=\"display:none;\">\n",
              "\n",
              "  <svg xmlns=\"http://www.w3.org/2000/svg\" height=\"24px\" viewBox=\"0 -960 960 960\">\n",
              "    <path d=\"M120-120v-720h720v720H120Zm60-500h600v-160H180v160Zm220 220h160v-160H400v160Zm0 220h160v-160H400v160ZM180-400h160v-160H180v160Zm440 0h160v-160H620v160ZM180-180h160v-160H180v160Zm440 0h160v-160H620v160Z\"/>\n",
              "  </svg>\n",
              "    </button>\n",
              "\n",
              "  <style>\n",
              "    .colab-df-container {\n",
              "      display:flex;\n",
              "      gap: 12px;\n",
              "    }\n",
              "\n",
              "    .colab-df-convert {\n",
              "      background-color: #E8F0FE;\n",
              "      border: none;\n",
              "      border-radius: 50%;\n",
              "      cursor: pointer;\n",
              "      display: none;\n",
              "      fill: #1967D2;\n",
              "      height: 32px;\n",
              "      padding: 0 0 0 0;\n",
              "      width: 32px;\n",
              "    }\n",
              "\n",
              "    .colab-df-convert:hover {\n",
              "      background-color: #E2EBFA;\n",
              "      box-shadow: 0px 1px 2px rgba(60, 64, 67, 0.3), 0px 1px 3px 1px rgba(60, 64, 67, 0.15);\n",
              "      fill: #174EA6;\n",
              "    }\n",
              "\n",
              "    .colab-df-buttons div {\n",
              "      margin-bottom: 4px;\n",
              "    }\n",
              "\n",
              "    [theme=dark] .colab-df-convert {\n",
              "      background-color: #3B4455;\n",
              "      fill: #D2E3FC;\n",
              "    }\n",
              "\n",
              "    [theme=dark] .colab-df-convert:hover {\n",
              "      background-color: #434B5C;\n",
              "      box-shadow: 0px 1px 3px 1px rgba(0, 0, 0, 0.15);\n",
              "      filter: drop-shadow(0px 1px 2px rgba(0, 0, 0, 0.3));\n",
              "      fill: #FFFFFF;\n",
              "    }\n",
              "  </style>\n",
              "\n",
              "    <script>\n",
              "      const buttonEl =\n",
              "        document.querySelector('#df-2dc546d1-72a6-442b-8e37-27c7886f8eb8 button.colab-df-convert');\n",
              "      buttonEl.style.display =\n",
              "        google.colab.kernel.accessAllowed ? 'block' : 'none';\n",
              "\n",
              "      async function convertToInteractive(key) {\n",
              "        const element = document.querySelector('#df-2dc546d1-72a6-442b-8e37-27c7886f8eb8');\n",
              "        const dataTable =\n",
              "          await google.colab.kernel.invokeFunction('convertToInteractive',\n",
              "                                                    [key], {});\n",
              "        if (!dataTable) return;\n",
              "\n",
              "        const docLinkHtml = 'Like what you see? Visit the ' +\n",
              "          '<a target=\"_blank\" href=https://colab.research.google.com/notebooks/data_table.ipynb>data table notebook</a>'\n",
              "          + ' to learn more about interactive tables.';\n",
              "        element.innerHTML = '';\n",
              "        dataTable['output_type'] = 'display_data';\n",
              "        await google.colab.output.renderOutput(dataTable, element);\n",
              "        const docLink = document.createElement('div');\n",
              "        docLink.innerHTML = docLinkHtml;\n",
              "        element.appendChild(docLink);\n",
              "      }\n",
              "    </script>\n",
              "  </div>\n",
              "\n",
              "\n",
              "<div id=\"df-290a94aa-2ba4-40bb-a789-7a33ce4b2066\">\n",
              "  <button class=\"colab-df-quickchart\" onclick=\"quickchart('df-290a94aa-2ba4-40bb-a789-7a33ce4b2066')\"\n",
              "            title=\"Suggest charts.\"\n",
              "            style=\"display:none;\">\n",
              "\n",
              "<svg xmlns=\"http://www.w3.org/2000/svg\" height=\"24px\"viewBox=\"0 0 24 24\"\n",
              "     width=\"24px\">\n",
              "    <g>\n",
              "        <path d=\"M19 3H5c-1.1 0-2 .9-2 2v14c0 1.1.9 2 2 2h14c1.1 0 2-.9 2-2V5c0-1.1-.9-2-2-2zM9 17H7v-7h2v7zm4 0h-2V7h2v10zm4 0h-2v-4h2v4z\"/>\n",
              "    </g>\n",
              "</svg>\n",
              "  </button>\n",
              "\n",
              "<style>\n",
              "  .colab-df-quickchart {\n",
              "      --bg-color: #E8F0FE;\n",
              "      --fill-color: #1967D2;\n",
              "      --hover-bg-color: #E2EBFA;\n",
              "      --hover-fill-color: #174EA6;\n",
              "      --disabled-fill-color: #AAA;\n",
              "      --disabled-bg-color: #DDD;\n",
              "  }\n",
              "\n",
              "  [theme=dark] .colab-df-quickchart {\n",
              "      --bg-color: #3B4455;\n",
              "      --fill-color: #D2E3FC;\n",
              "      --hover-bg-color: #434B5C;\n",
              "      --hover-fill-color: #FFFFFF;\n",
              "      --disabled-bg-color: #3B4455;\n",
              "      --disabled-fill-color: #666;\n",
              "  }\n",
              "\n",
              "  .colab-df-quickchart {\n",
              "    background-color: var(--bg-color);\n",
              "    border: none;\n",
              "    border-radius: 50%;\n",
              "    cursor: pointer;\n",
              "    display: none;\n",
              "    fill: var(--fill-color);\n",
              "    height: 32px;\n",
              "    padding: 0;\n",
              "    width: 32px;\n",
              "  }\n",
              "\n",
              "  .colab-df-quickchart:hover {\n",
              "    background-color: var(--hover-bg-color);\n",
              "    box-shadow: 0 1px 2px rgba(60, 64, 67, 0.3), 0 1px 3px 1px rgba(60, 64, 67, 0.15);\n",
              "    fill: var(--button-hover-fill-color);\n",
              "  }\n",
              "\n",
              "  .colab-df-quickchart-complete:disabled,\n",
              "  .colab-df-quickchart-complete:disabled:hover {\n",
              "    background-color: var(--disabled-bg-color);\n",
              "    fill: var(--disabled-fill-color);\n",
              "    box-shadow: none;\n",
              "  }\n",
              "\n",
              "  .colab-df-spinner {\n",
              "    border: 2px solid var(--fill-color);\n",
              "    border-color: transparent;\n",
              "    border-bottom-color: var(--fill-color);\n",
              "    animation:\n",
              "      spin 1s steps(1) infinite;\n",
              "  }\n",
              "\n",
              "  @keyframes spin {\n",
              "    0% {\n",
              "      border-color: transparent;\n",
              "      border-bottom-color: var(--fill-color);\n",
              "      border-left-color: var(--fill-color);\n",
              "    }\n",
              "    20% {\n",
              "      border-color: transparent;\n",
              "      border-left-color: var(--fill-color);\n",
              "      border-top-color: var(--fill-color);\n",
              "    }\n",
              "    30% {\n",
              "      border-color: transparent;\n",
              "      border-left-color: var(--fill-color);\n",
              "      border-top-color: var(--fill-color);\n",
              "      border-right-color: var(--fill-color);\n",
              "    }\n",
              "    40% {\n",
              "      border-color: transparent;\n",
              "      border-right-color: var(--fill-color);\n",
              "      border-top-color: var(--fill-color);\n",
              "    }\n",
              "    60% {\n",
              "      border-color: transparent;\n",
              "      border-right-color: var(--fill-color);\n",
              "    }\n",
              "    80% {\n",
              "      border-color: transparent;\n",
              "      border-right-color: var(--fill-color);\n",
              "      border-bottom-color: var(--fill-color);\n",
              "    }\n",
              "    90% {\n",
              "      border-color: transparent;\n",
              "      border-bottom-color: var(--fill-color);\n",
              "    }\n",
              "  }\n",
              "</style>\n",
              "\n",
              "  <script>\n",
              "    async function quickchart(key) {\n",
              "      const quickchartButtonEl =\n",
              "        document.querySelector('#' + key + ' button');\n",
              "      quickchartButtonEl.disabled = true;  // To prevent multiple clicks.\n",
              "      quickchartButtonEl.classList.add('colab-df-spinner');\n",
              "      try {\n",
              "        const charts = await google.colab.kernel.invokeFunction(\n",
              "            'suggestCharts', [key], {});\n",
              "      } catch (error) {\n",
              "        console.error('Error during call to suggestCharts:', error);\n",
              "      }\n",
              "      quickchartButtonEl.classList.remove('colab-df-spinner');\n",
              "      quickchartButtonEl.classList.add('colab-df-quickchart-complete');\n",
              "    }\n",
              "    (() => {\n",
              "      let quickchartButtonEl =\n",
              "        document.querySelector('#df-290a94aa-2ba4-40bb-a789-7a33ce4b2066 button');\n",
              "      quickchartButtonEl.style.display =\n",
              "        google.colab.kernel.accessAllowed ? 'block' : 'none';\n",
              "    })();\n",
              "  </script>\n",
              "</div>\n",
              "    </div>\n",
              "  </div>\n"
            ]
          },
          "metadata": {},
          "execution_count": 34
        }
      ],
      "source": [
        "X_test_prepared_fr.head()"
      ]
    },
    {
      "cell_type": "code",
      "execution_count": null,
      "metadata": {
        "id": "kz6sY9Kfk1Sp",
        "outputId": "ef9c662c-0bf2-44ee-fcc9-84f7d302f19e",
        "colab": {
          "base_uri": "https://localhost:8080/"
        }
      },
      "outputs": [
        {
          "output_type": "execute_result",
          "data": {
            "text/plain": [
              "42     6272.48\n",
              "847    2438.06\n",
              "625    3736.46\n",
              "394    9411.00\n",
              "621   40182.25\n",
              "Name: charges, dtype: float64"
            ]
          },
          "metadata": {},
          "execution_count": 35
        }
      ],
      "source": [
        "y_train.head()"
      ]
    },
    {
      "cell_type": "markdown",
      "metadata": {
        "id": "YzI5IbM6umNN"
      },
      "source": [
        "# **Parte 3**. Entrenando y evaluando el modelo de RL"
      ]
    },
    {
      "cell_type": "markdown",
      "metadata": {
        "id": "GnILmC37R9LB"
      },
      "source": [
        "7. Ejecuta un pipeline con el transformador creado y el algoritmo de regresión lineal para entrenar un modelo denominado `lr_model`.\n",
        "\n",
        "Evalúa el modelo en el conjunto de prueba y obtén la raíz del error cuadrático medio (`RMSE`) y la métrica `R` cuadrado ($R^2$). Aunque ésta última la estudiarás a detalle la próxima semana, ahora sólo debes saber que toma valores entre 0 y 1, donde 1 indica un ajuste perfecto y, por tanto, un modelo muy fiable para las previsiones futuras. La función de scikit-learn que determina esta métrica es: [`r2_score`](https://scikit-learn.org/stable/modules/generated/sklearn.metrics.r2_score.html)"
      ]
    },
    {
      "cell_type": "code",
      "execution_count": null,
      "metadata": {
        "id": "06U66G23k1Sp",
        "outputId": "4b99f61f-6de0-4f34-d83d-8fd23f7d4721",
        "colab": {
          "base_uri": "https://localhost:8080/"
        }
      },
      "outputs": [
        {
          "output_type": "execute_result",
          "data": {
            "text/plain": [
              "Pipeline(steps=[('preprocessing',\n",
              "                 ColumnTransformer(transformers=[('num',\n",
              "                                                  Pipeline(steps=[('MinMaxScaler',\n",
              "                                                                   MinMaxScaler())]),\n",
              "                                                  ['age', 'bmi', 'children']),\n",
              "                                                 ('cat',\n",
              "                                                  Pipeline(steps=[('onehotencoder',\n",
              "                                                                   OneHotEncoder(drop='first',\n",
              "                                                                                 handle_unknown='ignore'))]),\n",
              "                                                  ['sex', 'smoker',\n",
              "                                                   'region'])])),\n",
              "                ('model', LinearRegression())])"
            ]
          },
          "metadata": {},
          "execution_count": 36
        }
      ],
      "source": [
        "from sklearn.compose import ColumnTransformer\n",
        "from sklearn.preprocessing import MinMaxScaler, OneHotEncoder\n",
        "from sklearn.pipeline import make_pipeline\n",
        "from sklearn.pipeline import Pipeline\n",
        "from sklearn.linear_model import LinearRegression\n",
        "\n",
        "# Identifica las características numéricas y categóricas\n",
        "numeric_features = X_train.select_dtypes(include=[np.number]).columns.tolist()\n",
        "categorical_features = X_train.select_dtypes(include=[object]).columns.tolist()\n",
        "\n",
        "num_pipeline = Pipeline([\n",
        "    (\"MinMaxScaler\", MinMaxScaler()),\n",
        "])\n",
        "cat_pipeline = make_pipeline(\n",
        "    OneHotEncoder(handle_unknown=\"ignore\", drop='first'))\n",
        "\n",
        "preprocessing = ColumnTransformer([\n",
        "    (\"num\", num_pipeline, numeric_features),\n",
        "    (\"cat\", cat_pipeline, categorical_features)\n",
        "\n",
        "])\n",
        "\n",
        "# Define the model\n",
        "lr_model = LinearRegression()\n",
        "\n",
        "# Create a complete pipeline that includes both preprocessing and the model\n",
        "full_pipeline = Pipeline([\n",
        "    (\"preprocessing\", preprocessing),\n",
        "    (\"model\", lr_model)\n",
        "])\n",
        "\n",
        "full_pipeline.fit(X_train, y_train)\n"
      ]
    },
    {
      "cell_type": "code",
      "execution_count": null,
      "metadata": {
        "id": "kna9fmvfk1Sp"
      },
      "outputs": [],
      "source": [
        "predictions1 = full_pipeline.predict(X_test)"
      ]
    },
    {
      "cell_type": "code",
      "execution_count": null,
      "metadata": {
        "id": "KW6SMzBCk1Sq",
        "outputId": "e17b57bf-8b6c-4c1e-8b6d-5a9ad1bb7576",
        "colab": {
          "base_uri": "https://localhost:8080/",
          "height": 423
        }
      },
      "outputs": [
        {
          "output_type": "execute_result",
          "data": {
            "text/plain": [
              "           0\n",
              "0   11372.81\n",
              "1   27856.47\n",
              "2    9733.37\n",
              "3   18149.78\n",
              "4    4115.25\n",
              "..       ...\n",
              "263  6810.61\n",
              "264 12101.71\n",
              "265  2684.04\n",
              "266 11477.74\n",
              "267 11837.91\n",
              "\n",
              "[268 rows x 1 columns]"
            ],
            "text/html": [
              "\n",
              "  <div id=\"df-763f097a-a9ab-4686-881e-a051ad9332a9\" class=\"colab-df-container\">\n",
              "    <div>\n",
              "<style scoped>\n",
              "    .dataframe tbody tr th:only-of-type {\n",
              "        vertical-align: middle;\n",
              "    }\n",
              "\n",
              "    .dataframe tbody tr th {\n",
              "        vertical-align: top;\n",
              "    }\n",
              "\n",
              "    .dataframe thead th {\n",
              "        text-align: right;\n",
              "    }\n",
              "</style>\n",
              "<table border=\"1\" class=\"dataframe\">\n",
              "  <thead>\n",
              "    <tr style=\"text-align: right;\">\n",
              "      <th></th>\n",
              "      <th>0</th>\n",
              "    </tr>\n",
              "  </thead>\n",
              "  <tbody>\n",
              "    <tr>\n",
              "      <th>0</th>\n",
              "      <td>11372.81</td>\n",
              "    </tr>\n",
              "    <tr>\n",
              "      <th>1</th>\n",
              "      <td>27856.47</td>\n",
              "    </tr>\n",
              "    <tr>\n",
              "      <th>2</th>\n",
              "      <td>9733.37</td>\n",
              "    </tr>\n",
              "    <tr>\n",
              "      <th>3</th>\n",
              "      <td>18149.78</td>\n",
              "    </tr>\n",
              "    <tr>\n",
              "      <th>4</th>\n",
              "      <td>4115.25</td>\n",
              "    </tr>\n",
              "    <tr>\n",
              "      <th>...</th>\n",
              "      <td>...</td>\n",
              "    </tr>\n",
              "    <tr>\n",
              "      <th>263</th>\n",
              "      <td>6810.61</td>\n",
              "    </tr>\n",
              "    <tr>\n",
              "      <th>264</th>\n",
              "      <td>12101.71</td>\n",
              "    </tr>\n",
              "    <tr>\n",
              "      <th>265</th>\n",
              "      <td>2684.04</td>\n",
              "    </tr>\n",
              "    <tr>\n",
              "      <th>266</th>\n",
              "      <td>11477.74</td>\n",
              "    </tr>\n",
              "    <tr>\n",
              "      <th>267</th>\n",
              "      <td>11837.91</td>\n",
              "    </tr>\n",
              "  </tbody>\n",
              "</table>\n",
              "<p>268 rows × 1 columns</p>\n",
              "</div>\n",
              "    <div class=\"colab-df-buttons\">\n",
              "\n",
              "  <div class=\"colab-df-container\">\n",
              "    <button class=\"colab-df-convert\" onclick=\"convertToInteractive('df-763f097a-a9ab-4686-881e-a051ad9332a9')\"\n",
              "            title=\"Convert this dataframe to an interactive table.\"\n",
              "            style=\"display:none;\">\n",
              "\n",
              "  <svg xmlns=\"http://www.w3.org/2000/svg\" height=\"24px\" viewBox=\"0 -960 960 960\">\n",
              "    <path d=\"M120-120v-720h720v720H120Zm60-500h600v-160H180v160Zm220 220h160v-160H400v160Zm0 220h160v-160H400v160ZM180-400h160v-160H180v160Zm440 0h160v-160H620v160ZM180-180h160v-160H180v160Zm440 0h160v-160H620v160Z\"/>\n",
              "  </svg>\n",
              "    </button>\n",
              "\n",
              "  <style>\n",
              "    .colab-df-container {\n",
              "      display:flex;\n",
              "      gap: 12px;\n",
              "    }\n",
              "\n",
              "    .colab-df-convert {\n",
              "      background-color: #E8F0FE;\n",
              "      border: none;\n",
              "      border-radius: 50%;\n",
              "      cursor: pointer;\n",
              "      display: none;\n",
              "      fill: #1967D2;\n",
              "      height: 32px;\n",
              "      padding: 0 0 0 0;\n",
              "      width: 32px;\n",
              "    }\n",
              "\n",
              "    .colab-df-convert:hover {\n",
              "      background-color: #E2EBFA;\n",
              "      box-shadow: 0px 1px 2px rgba(60, 64, 67, 0.3), 0px 1px 3px 1px rgba(60, 64, 67, 0.15);\n",
              "      fill: #174EA6;\n",
              "    }\n",
              "\n",
              "    .colab-df-buttons div {\n",
              "      margin-bottom: 4px;\n",
              "    }\n",
              "\n",
              "    [theme=dark] .colab-df-convert {\n",
              "      background-color: #3B4455;\n",
              "      fill: #D2E3FC;\n",
              "    }\n",
              "\n",
              "    [theme=dark] .colab-df-convert:hover {\n",
              "      background-color: #434B5C;\n",
              "      box-shadow: 0px 1px 3px 1px rgba(0, 0, 0, 0.15);\n",
              "      filter: drop-shadow(0px 1px 2px rgba(0, 0, 0, 0.3));\n",
              "      fill: #FFFFFF;\n",
              "    }\n",
              "  </style>\n",
              "\n",
              "    <script>\n",
              "      const buttonEl =\n",
              "        document.querySelector('#df-763f097a-a9ab-4686-881e-a051ad9332a9 button.colab-df-convert');\n",
              "      buttonEl.style.display =\n",
              "        google.colab.kernel.accessAllowed ? 'block' : 'none';\n",
              "\n",
              "      async function convertToInteractive(key) {\n",
              "        const element = document.querySelector('#df-763f097a-a9ab-4686-881e-a051ad9332a9');\n",
              "        const dataTable =\n",
              "          await google.colab.kernel.invokeFunction('convertToInteractive',\n",
              "                                                    [key], {});\n",
              "        if (!dataTable) return;\n",
              "\n",
              "        const docLinkHtml = 'Like what you see? Visit the ' +\n",
              "          '<a target=\"_blank\" href=https://colab.research.google.com/notebooks/data_table.ipynb>data table notebook</a>'\n",
              "          + ' to learn more about interactive tables.';\n",
              "        element.innerHTML = '';\n",
              "        dataTable['output_type'] = 'display_data';\n",
              "        await google.colab.output.renderOutput(dataTable, element);\n",
              "        const docLink = document.createElement('div');\n",
              "        docLink.innerHTML = docLinkHtml;\n",
              "        element.appendChild(docLink);\n",
              "      }\n",
              "    </script>\n",
              "  </div>\n",
              "\n",
              "\n",
              "<div id=\"df-9a340b7b-aba8-4d5d-9cf7-5fb09c1c0789\">\n",
              "  <button class=\"colab-df-quickchart\" onclick=\"quickchart('df-9a340b7b-aba8-4d5d-9cf7-5fb09c1c0789')\"\n",
              "            title=\"Suggest charts.\"\n",
              "            style=\"display:none;\">\n",
              "\n",
              "<svg xmlns=\"http://www.w3.org/2000/svg\" height=\"24px\"viewBox=\"0 0 24 24\"\n",
              "     width=\"24px\">\n",
              "    <g>\n",
              "        <path d=\"M19 3H5c-1.1 0-2 .9-2 2v14c0 1.1.9 2 2 2h14c1.1 0 2-.9 2-2V5c0-1.1-.9-2-2-2zM9 17H7v-7h2v7zm4 0h-2V7h2v10zm4 0h-2v-4h2v4z\"/>\n",
              "    </g>\n",
              "</svg>\n",
              "  </button>\n",
              "\n",
              "<style>\n",
              "  .colab-df-quickchart {\n",
              "      --bg-color: #E8F0FE;\n",
              "      --fill-color: #1967D2;\n",
              "      --hover-bg-color: #E2EBFA;\n",
              "      --hover-fill-color: #174EA6;\n",
              "      --disabled-fill-color: #AAA;\n",
              "      --disabled-bg-color: #DDD;\n",
              "  }\n",
              "\n",
              "  [theme=dark] .colab-df-quickchart {\n",
              "      --bg-color: #3B4455;\n",
              "      --fill-color: #D2E3FC;\n",
              "      --hover-bg-color: #434B5C;\n",
              "      --hover-fill-color: #FFFFFF;\n",
              "      --disabled-bg-color: #3B4455;\n",
              "      --disabled-fill-color: #666;\n",
              "  }\n",
              "\n",
              "  .colab-df-quickchart {\n",
              "    background-color: var(--bg-color);\n",
              "    border: none;\n",
              "    border-radius: 50%;\n",
              "    cursor: pointer;\n",
              "    display: none;\n",
              "    fill: var(--fill-color);\n",
              "    height: 32px;\n",
              "    padding: 0;\n",
              "    width: 32px;\n",
              "  }\n",
              "\n",
              "  .colab-df-quickchart:hover {\n",
              "    background-color: var(--hover-bg-color);\n",
              "    box-shadow: 0 1px 2px rgba(60, 64, 67, 0.3), 0 1px 3px 1px rgba(60, 64, 67, 0.15);\n",
              "    fill: var(--button-hover-fill-color);\n",
              "  }\n",
              "\n",
              "  .colab-df-quickchart-complete:disabled,\n",
              "  .colab-df-quickchart-complete:disabled:hover {\n",
              "    background-color: var(--disabled-bg-color);\n",
              "    fill: var(--disabled-fill-color);\n",
              "    box-shadow: none;\n",
              "  }\n",
              "\n",
              "  .colab-df-spinner {\n",
              "    border: 2px solid var(--fill-color);\n",
              "    border-color: transparent;\n",
              "    border-bottom-color: var(--fill-color);\n",
              "    animation:\n",
              "      spin 1s steps(1) infinite;\n",
              "  }\n",
              "\n",
              "  @keyframes spin {\n",
              "    0% {\n",
              "      border-color: transparent;\n",
              "      border-bottom-color: var(--fill-color);\n",
              "      border-left-color: var(--fill-color);\n",
              "    }\n",
              "    20% {\n",
              "      border-color: transparent;\n",
              "      border-left-color: var(--fill-color);\n",
              "      border-top-color: var(--fill-color);\n",
              "    }\n",
              "    30% {\n",
              "      border-color: transparent;\n",
              "      border-left-color: var(--fill-color);\n",
              "      border-top-color: var(--fill-color);\n",
              "      border-right-color: var(--fill-color);\n",
              "    }\n",
              "    40% {\n",
              "      border-color: transparent;\n",
              "      border-right-color: var(--fill-color);\n",
              "      border-top-color: var(--fill-color);\n",
              "    }\n",
              "    60% {\n",
              "      border-color: transparent;\n",
              "      border-right-color: var(--fill-color);\n",
              "    }\n",
              "    80% {\n",
              "      border-color: transparent;\n",
              "      border-right-color: var(--fill-color);\n",
              "      border-bottom-color: var(--fill-color);\n",
              "    }\n",
              "    90% {\n",
              "      border-color: transparent;\n",
              "      border-bottom-color: var(--fill-color);\n",
              "    }\n",
              "  }\n",
              "</style>\n",
              "\n",
              "  <script>\n",
              "    async function quickchart(key) {\n",
              "      const quickchartButtonEl =\n",
              "        document.querySelector('#' + key + ' button');\n",
              "      quickchartButtonEl.disabled = true;  // To prevent multiple clicks.\n",
              "      quickchartButtonEl.classList.add('colab-df-spinner');\n",
              "      try {\n",
              "        const charts = await google.colab.kernel.invokeFunction(\n",
              "            'suggestCharts', [key], {});\n",
              "      } catch (error) {\n",
              "        console.error('Error during call to suggestCharts:', error);\n",
              "      }\n",
              "      quickchartButtonEl.classList.remove('colab-df-spinner');\n",
              "      quickchartButtonEl.classList.add('colab-df-quickchart-complete');\n",
              "    }\n",
              "    (() => {\n",
              "      let quickchartButtonEl =\n",
              "        document.querySelector('#df-9a340b7b-aba8-4d5d-9cf7-5fb09c1c0789 button');\n",
              "      quickchartButtonEl.style.display =\n",
              "        google.colab.kernel.accessAllowed ? 'block' : 'none';\n",
              "    })();\n",
              "  </script>\n",
              "</div>\n",
              "    </div>\n",
              "  </div>\n"
            ]
          },
          "metadata": {},
          "execution_count": 38
        }
      ],
      "source": [
        "# extra code – shows that we can get a DataFrame out if we want\n",
        "predictions_fr = pd.DataFrame(\n",
        "    predictions1)\n",
        "predictions_fr"
      ]
    },
    {
      "cell_type": "code",
      "execution_count": null,
      "metadata": {
        "id": "ipnVY2d2k1Sq",
        "outputId": "6069a02d-4970-47ee-bb7f-45bbf832a8ab",
        "colab": {
          "base_uri": "https://localhost:8080/",
          "height": 206
        }
      },
      "outputs": [
        {
          "output_type": "execute_result",
          "data": {
            "text/plain": [
              "     charges  predictions\n",
              "868 13129.60     11372.81\n",
              "909 17496.31     27856.47\n",
              "892 10422.92      9733.37\n",
              "603 16085.13     18149.78\n",
              "743  3757.84      4115.25"
            ],
            "text/html": [
              "\n",
              "  <div id=\"df-73ed6f82-ae31-40a2-8a4b-c1d0aa8e870a\" class=\"colab-df-container\">\n",
              "    <div>\n",
              "<style scoped>\n",
              "    .dataframe tbody tr th:only-of-type {\n",
              "        vertical-align: middle;\n",
              "    }\n",
              "\n",
              "    .dataframe tbody tr th {\n",
              "        vertical-align: top;\n",
              "    }\n",
              "\n",
              "    .dataframe thead th {\n",
              "        text-align: right;\n",
              "    }\n",
              "</style>\n",
              "<table border=\"1\" class=\"dataframe\">\n",
              "  <thead>\n",
              "    <tr style=\"text-align: right;\">\n",
              "      <th></th>\n",
              "      <th>charges</th>\n",
              "      <th>predictions</th>\n",
              "    </tr>\n",
              "  </thead>\n",
              "  <tbody>\n",
              "    <tr>\n",
              "      <th>868</th>\n",
              "      <td>13129.60</td>\n",
              "      <td>11372.81</td>\n",
              "    </tr>\n",
              "    <tr>\n",
              "      <th>909</th>\n",
              "      <td>17496.31</td>\n",
              "      <td>27856.47</td>\n",
              "    </tr>\n",
              "    <tr>\n",
              "      <th>892</th>\n",
              "      <td>10422.92</td>\n",
              "      <td>9733.37</td>\n",
              "    </tr>\n",
              "    <tr>\n",
              "      <th>603</th>\n",
              "      <td>16085.13</td>\n",
              "      <td>18149.78</td>\n",
              "    </tr>\n",
              "    <tr>\n",
              "      <th>743</th>\n",
              "      <td>3757.84</td>\n",
              "      <td>4115.25</td>\n",
              "    </tr>\n",
              "  </tbody>\n",
              "</table>\n",
              "</div>\n",
              "    <div class=\"colab-df-buttons\">\n",
              "\n",
              "  <div class=\"colab-df-container\">\n",
              "    <button class=\"colab-df-convert\" onclick=\"convertToInteractive('df-73ed6f82-ae31-40a2-8a4b-c1d0aa8e870a')\"\n",
              "            title=\"Convert this dataframe to an interactive table.\"\n",
              "            style=\"display:none;\">\n",
              "\n",
              "  <svg xmlns=\"http://www.w3.org/2000/svg\" height=\"24px\" viewBox=\"0 -960 960 960\">\n",
              "    <path d=\"M120-120v-720h720v720H120Zm60-500h600v-160H180v160Zm220 220h160v-160H400v160Zm0 220h160v-160H400v160ZM180-400h160v-160H180v160Zm440 0h160v-160H620v160ZM180-180h160v-160H180v160Zm440 0h160v-160H620v160Z\"/>\n",
              "  </svg>\n",
              "    </button>\n",
              "\n",
              "  <style>\n",
              "    .colab-df-container {\n",
              "      display:flex;\n",
              "      gap: 12px;\n",
              "    }\n",
              "\n",
              "    .colab-df-convert {\n",
              "      background-color: #E8F0FE;\n",
              "      border: none;\n",
              "      border-radius: 50%;\n",
              "      cursor: pointer;\n",
              "      display: none;\n",
              "      fill: #1967D2;\n",
              "      height: 32px;\n",
              "      padding: 0 0 0 0;\n",
              "      width: 32px;\n",
              "    }\n",
              "\n",
              "    .colab-df-convert:hover {\n",
              "      background-color: #E2EBFA;\n",
              "      box-shadow: 0px 1px 2px rgba(60, 64, 67, 0.3), 0px 1px 3px 1px rgba(60, 64, 67, 0.15);\n",
              "      fill: #174EA6;\n",
              "    }\n",
              "\n",
              "    .colab-df-buttons div {\n",
              "      margin-bottom: 4px;\n",
              "    }\n",
              "\n",
              "    [theme=dark] .colab-df-convert {\n",
              "      background-color: #3B4455;\n",
              "      fill: #D2E3FC;\n",
              "    }\n",
              "\n",
              "    [theme=dark] .colab-df-convert:hover {\n",
              "      background-color: #434B5C;\n",
              "      box-shadow: 0px 1px 3px 1px rgba(0, 0, 0, 0.15);\n",
              "      filter: drop-shadow(0px 1px 2px rgba(0, 0, 0, 0.3));\n",
              "      fill: #FFFFFF;\n",
              "    }\n",
              "  </style>\n",
              "\n",
              "    <script>\n",
              "      const buttonEl =\n",
              "        document.querySelector('#df-73ed6f82-ae31-40a2-8a4b-c1d0aa8e870a button.colab-df-convert');\n",
              "      buttonEl.style.display =\n",
              "        google.colab.kernel.accessAllowed ? 'block' : 'none';\n",
              "\n",
              "      async function convertToInteractive(key) {\n",
              "        const element = document.querySelector('#df-73ed6f82-ae31-40a2-8a4b-c1d0aa8e870a');\n",
              "        const dataTable =\n",
              "          await google.colab.kernel.invokeFunction('convertToInteractive',\n",
              "                                                    [key], {});\n",
              "        if (!dataTable) return;\n",
              "\n",
              "        const docLinkHtml = 'Like what you see? Visit the ' +\n",
              "          '<a target=\"_blank\" href=https://colab.research.google.com/notebooks/data_table.ipynb>data table notebook</a>'\n",
              "          + ' to learn more about interactive tables.';\n",
              "        element.innerHTML = '';\n",
              "        dataTable['output_type'] = 'display_data';\n",
              "        await google.colab.output.renderOutput(dataTable, element);\n",
              "        const docLink = document.createElement('div');\n",
              "        docLink.innerHTML = docLinkHtml;\n",
              "        element.appendChild(docLink);\n",
              "      }\n",
              "    </script>\n",
              "  </div>\n",
              "\n",
              "\n",
              "<div id=\"df-2a36e00f-ce9b-4017-925f-81ad8a19c8e7\">\n",
              "  <button class=\"colab-df-quickchart\" onclick=\"quickchart('df-2a36e00f-ce9b-4017-925f-81ad8a19c8e7')\"\n",
              "            title=\"Suggest charts.\"\n",
              "            style=\"display:none;\">\n",
              "\n",
              "<svg xmlns=\"http://www.w3.org/2000/svg\" height=\"24px\"viewBox=\"0 0 24 24\"\n",
              "     width=\"24px\">\n",
              "    <g>\n",
              "        <path d=\"M19 3H5c-1.1 0-2 .9-2 2v14c0 1.1.9 2 2 2h14c1.1 0 2-.9 2-2V5c0-1.1-.9-2-2-2zM9 17H7v-7h2v7zm4 0h-2V7h2v10zm4 0h-2v-4h2v4z\"/>\n",
              "    </g>\n",
              "</svg>\n",
              "  </button>\n",
              "\n",
              "<style>\n",
              "  .colab-df-quickchart {\n",
              "      --bg-color: #E8F0FE;\n",
              "      --fill-color: #1967D2;\n",
              "      --hover-bg-color: #E2EBFA;\n",
              "      --hover-fill-color: #174EA6;\n",
              "      --disabled-fill-color: #AAA;\n",
              "      --disabled-bg-color: #DDD;\n",
              "  }\n",
              "\n",
              "  [theme=dark] .colab-df-quickchart {\n",
              "      --bg-color: #3B4455;\n",
              "      --fill-color: #D2E3FC;\n",
              "      --hover-bg-color: #434B5C;\n",
              "      --hover-fill-color: #FFFFFF;\n",
              "      --disabled-bg-color: #3B4455;\n",
              "      --disabled-fill-color: #666;\n",
              "  }\n",
              "\n",
              "  .colab-df-quickchart {\n",
              "    background-color: var(--bg-color);\n",
              "    border: none;\n",
              "    border-radius: 50%;\n",
              "    cursor: pointer;\n",
              "    display: none;\n",
              "    fill: var(--fill-color);\n",
              "    height: 32px;\n",
              "    padding: 0;\n",
              "    width: 32px;\n",
              "  }\n",
              "\n",
              "  .colab-df-quickchart:hover {\n",
              "    background-color: var(--hover-bg-color);\n",
              "    box-shadow: 0 1px 2px rgba(60, 64, 67, 0.3), 0 1px 3px 1px rgba(60, 64, 67, 0.15);\n",
              "    fill: var(--button-hover-fill-color);\n",
              "  }\n",
              "\n",
              "  .colab-df-quickchart-complete:disabled,\n",
              "  .colab-df-quickchart-complete:disabled:hover {\n",
              "    background-color: var(--disabled-bg-color);\n",
              "    fill: var(--disabled-fill-color);\n",
              "    box-shadow: none;\n",
              "  }\n",
              "\n",
              "  .colab-df-spinner {\n",
              "    border: 2px solid var(--fill-color);\n",
              "    border-color: transparent;\n",
              "    border-bottom-color: var(--fill-color);\n",
              "    animation:\n",
              "      spin 1s steps(1) infinite;\n",
              "  }\n",
              "\n",
              "  @keyframes spin {\n",
              "    0% {\n",
              "      border-color: transparent;\n",
              "      border-bottom-color: var(--fill-color);\n",
              "      border-left-color: var(--fill-color);\n",
              "    }\n",
              "    20% {\n",
              "      border-color: transparent;\n",
              "      border-left-color: var(--fill-color);\n",
              "      border-top-color: var(--fill-color);\n",
              "    }\n",
              "    30% {\n",
              "      border-color: transparent;\n",
              "      border-left-color: var(--fill-color);\n",
              "      border-top-color: var(--fill-color);\n",
              "      border-right-color: var(--fill-color);\n",
              "    }\n",
              "    40% {\n",
              "      border-color: transparent;\n",
              "      border-right-color: var(--fill-color);\n",
              "      border-top-color: var(--fill-color);\n",
              "    }\n",
              "    60% {\n",
              "      border-color: transparent;\n",
              "      border-right-color: var(--fill-color);\n",
              "    }\n",
              "    80% {\n",
              "      border-color: transparent;\n",
              "      border-right-color: var(--fill-color);\n",
              "      border-bottom-color: var(--fill-color);\n",
              "    }\n",
              "    90% {\n",
              "      border-color: transparent;\n",
              "      border-bottom-color: var(--fill-color);\n",
              "    }\n",
              "  }\n",
              "</style>\n",
              "\n",
              "  <script>\n",
              "    async function quickchart(key) {\n",
              "      const quickchartButtonEl =\n",
              "        document.querySelector('#' + key + ' button');\n",
              "      quickchartButtonEl.disabled = true;  // To prevent multiple clicks.\n",
              "      quickchartButtonEl.classList.add('colab-df-spinner');\n",
              "      try {\n",
              "        const charts = await google.colab.kernel.invokeFunction(\n",
              "            'suggestCharts', [key], {});\n",
              "      } catch (error) {\n",
              "        console.error('Error during call to suggestCharts:', error);\n",
              "      }\n",
              "      quickchartButtonEl.classList.remove('colab-df-spinner');\n",
              "      quickchartButtonEl.classList.add('colab-df-quickchart-complete');\n",
              "    }\n",
              "    (() => {\n",
              "      let quickchartButtonEl =\n",
              "        document.querySelector('#df-2a36e00f-ce9b-4017-925f-81ad8a19c8e7 button');\n",
              "      quickchartButtonEl.style.display =\n",
              "        google.colab.kernel.accessAllowed ? 'block' : 'none';\n",
              "    })();\n",
              "  </script>\n",
              "</div>\n",
              "    </div>\n",
              "  </div>\n"
            ]
          },
          "metadata": {},
          "execution_count": 39
        }
      ],
      "source": [
        "# Concatenar los datos de Y_test y las predicciones\n",
        "y_test_df = pd.DataFrame(y_test)\n",
        "\n",
        "y_test_df['predictions'] = predictions1\n",
        "\n",
        "y_test_df.head()\n"
      ]
    },
    {
      "cell_type": "code",
      "execution_count": null,
      "metadata": {
        "id": "c8-eSwq_k1Sq"
      },
      "outputs": [],
      "source": [
        "from sklearn.metrics import mean_squared_error, r2_score\n",
        "from math import sqrt\n",
        "\n",
        "def evaluate_regression_model(y_test, predictions):\n",
        "    # Generate predictions\n",
        "\n",
        "    # Calculate RMSE\n",
        "    rmse = sqrt(mean_squared_error(y_test, predictions))\n",
        "    print('RMSE:', rmse)\n",
        "\n",
        "    # Calculate R2\n",
        "    r2 = r2_score(y_test, predictions)\n",
        "    print('R2:', r2)\n",
        "\n",
        "    return"
      ]
    },
    {
      "cell_type": "code",
      "execution_count": null,
      "metadata": {
        "id": "xLuxdHI4k1Sq",
        "outputId": "a7062c7f-cfe5-4b8d-fb4f-58cfcfde68a8",
        "colab": {
          "base_uri": "https://localhost:8080/"
        }
      },
      "outputs": [
        {
          "output_type": "stream",
          "name": "stdout",
          "text": [
            "RMSE: 5698.759784532356\n",
            "R2: 0.7538547215244324\n"
          ]
        }
      ],
      "source": [
        "evaluate_regression_model(y_test, predictions1)"
      ]
    },
    {
      "cell_type": "markdown",
      "metadata": {
        "id": "mHd9OsaWvKCW"
      },
      "source": [
        "**Valora el rendimiento del modelo con los siguientes cambios:**\n"
      ]
    },
    {
      "cell_type": "markdown",
      "metadata": {
        "id": "ofLuNl2dSOj7"
      },
      "source": [
        "8. Reemplaza los outliers de `charges` con el límite superior (`Q3 + 1.5 * IQR`). Haz el cambio en ambos conjuntos: `ytrain` y `ytest`, previo a la aplicación del mismo pipeline. Guarda el modelo como `lr_model2`.\n"
      ]
    },
    {
      "cell_type": "code",
      "execution_count": null,
      "metadata": {
        "id": "JbGAYnVwk1Sr"
      },
      "outputs": [],
      "source": [
        "class ReplaceOutliersAboveWhisker():\n",
        "    def __init__(self, column_name, whisker_factor=1.5, replacement_value=\"AboveWhisker\"):\n",
        "        self.column_name = column_name\n",
        "        self.whisker_factor = whisker_factor\n",
        "        self.replacement_value = replacement_value\n",
        "\n",
        "    def replace_outliers(self, data):\n",
        "        data = data.copy()\n",
        "        Q1 = data[self.column_name].quantile(0.25)\n",
        "        Q3 = data[self.column_name].quantile(0.75)\n",
        "        IQR = Q3 - Q1\n",
        "        upper_limit = Q3 + self.whisker_factor * IQR\n",
        "        outliers = data[data[self.column_name] > upper_limit]\n",
        "        if (self.replacement_value is \"AboveWhisker\"):\n",
        "            self.replacement_value = upper_limit\n",
        "\n",
        "        if self.replacement_value is not None:\n",
        "            data.loc[outliers.index, self.column_name] = self.replacement_value\n",
        "        else:\n",
        "            data.drop(outliers.index, inplace=True)\n",
        "        return data\n",
        "\n",
        "\n",
        "\n"
      ]
    },
    {
      "cell_type": "code",
      "execution_count": null,
      "metadata": {
        "id": "hBKvnFNek1Sr",
        "outputId": "8ed48d4c-bf20-4880-ab0f-d5f0fcb9e1f4",
        "colab": {
          "base_uri": "https://localhost:8080/",
          "height": 451
        }
      },
      "outputs": [
        {
          "output_type": "execute_result",
          "data": {
            "text/plain": [
              "<Axes: >"
            ]
          },
          "metadata": {},
          "execution_count": 43
        },
        {
          "output_type": "display_data",
          "data": {
            "text/plain": [
              "<Figure size 640x480 with 1 Axes>"
            ],
            "image/png": "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\n"
          },
          "metadata": {}
        }
      ],
      "source": [
        "y_train.hist()"
      ]
    },
    {
      "cell_type": "code",
      "execution_count": null,
      "metadata": {
        "id": "Rffz6LTBk1Sr",
        "outputId": "d8b3fd94-d1b0-473f-bc6d-7c3b9edd4068",
        "colab": {
          "base_uri": "https://localhost:8080/",
          "height": 474
        }
      },
      "outputs": [
        {
          "output_type": "execute_result",
          "data": {
            "text/plain": [
              "array([[<Axes: title={'center': 'charges'}>]], dtype=object)"
            ]
          },
          "metadata": {},
          "execution_count": 44
        },
        {
          "output_type": "display_data",
          "data": {
            "text/plain": [
              "<Figure size 640x480 with 1 Axes>"
            ],
            "image/png": "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\n"
          },
          "metadata": {}
        }
      ],
      "source": [
        "# Crear una instancia de la clase\n",
        "replacer = ReplaceOutliersAboveWhisker(column_name='charges')\n",
        "\n",
        "# Aplicar el reemplazo de valores atípicos a tus datos\n",
        "y_train = replacer.replace_outliers(y_train.to_frame())\n",
        "\n",
        "# Crear un histograma de la variable objetivo\n",
        "y_train.hist()"
      ]
    },
    {
      "cell_type": "code",
      "execution_count": null,
      "metadata": {
        "id": "TvXoI_ADk1Sr",
        "outputId": "5ecd88ae-d848-426b-b40c-97863f3f4bb9",
        "colab": {
          "base_uri": "https://localhost:8080/",
          "height": 474
        }
      },
      "outputs": [
        {
          "output_type": "execute_result",
          "data": {
            "text/plain": [
              "array([[<Axes: title={'center': 'charges'}>]], dtype=object)"
            ]
          },
          "metadata": {},
          "execution_count": 45
        },
        {
          "output_type": "display_data",
          "data": {
            "text/plain": [
              "<Figure size 640x480 with 1 Axes>"
            ],
            "image/png": "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\n"
          },
          "metadata": {}
        }
      ],
      "source": [
        "# Aplicar el reemplazo de valores atípicos a tus datos\n",
        "y_test = replacer.replace_outliers(y_test.to_frame())\n",
        "\n",
        "# Crear un histograma de la variable objetivo\n",
        "y_test.hist()"
      ]
    },
    {
      "cell_type": "code",
      "execution_count": null,
      "metadata": {
        "id": "M13u4uoCk1Ss",
        "outputId": "47464eb3-c50d-4bf7-9e28-217b3dcfe5f8",
        "colab": {
          "base_uri": "https://localhost:8080/"
        }
      },
      "outputs": [
        {
          "output_type": "execute_result",
          "data": {
            "text/plain": [
              "Pipeline(steps=[('preprocessing',\n",
              "                 ColumnTransformer(transformers=[('num',\n",
              "                                                  Pipeline(steps=[('MinMaxScaler',\n",
              "                                                                   MinMaxScaler())]),\n",
              "                                                  ['age', 'bmi', 'children']),\n",
              "                                                 ('cat',\n",
              "                                                  Pipeline(steps=[('onehotencoder',\n",
              "                                                                   OneHotEncoder(drop='first',\n",
              "                                                                                 handle_unknown='ignore'))]),\n",
              "                                                  ['sex', 'smoker',\n",
              "                                                   'region'])])),\n",
              "                ('model', LinearRegression())])"
            ]
          },
          "metadata": {},
          "execution_count": 46
        }
      ],
      "source": [
        "from sklearn.compose import ColumnTransformer\n",
        "from sklearn.preprocessing import MinMaxScaler, OneHotEncoder\n",
        "from sklearn.pipeline import make_pipeline\n",
        "from sklearn.pipeline import Pipeline\n",
        "from sklearn.linear_model import LinearRegression\n",
        "\n",
        "# Identifica las características numéricas y categóricas\n",
        "numeric_features = X_train.select_dtypes(include=[np.number]).columns.tolist()\n",
        "categorical_features = X_train.select_dtypes(include=[object]).columns.tolist()\n",
        "\n",
        "num_pipeline = Pipeline([\n",
        "    (\"MinMaxScaler\", MinMaxScaler()),\n",
        "])\n",
        "cat_pipeline = make_pipeline(\n",
        "    OneHotEncoder(handle_unknown=\"ignore\", drop = 'first'))\n",
        "\n",
        "preprocessing = ColumnTransformer(\n",
        "    transformers=[\n",
        "        ('num', num_pipeline, numeric_features),\n",
        "        ('cat', cat_pipeline, categorical_features)\n",
        "    ])\n",
        "\n",
        "# Define the model\n",
        "lr_model2 = LinearRegression()\n",
        "\n",
        "# Create a complete pipeline that includes both preprocessing and the model\n",
        "full_pipeline = Pipeline([\n",
        "    (\"preprocessing\", preprocessing),\n",
        "    (\"model\", lr_model2)\n",
        "])\n",
        "\n",
        "full_pipeline\n"
      ]
    },
    {
      "cell_type": "markdown",
      "source": [],
      "metadata": {
        "id": "vbJ4uJ6nKUzz"
      }
    },
    {
      "cell_type": "code",
      "execution_count": null,
      "metadata": {
        "id": "wG3-wjH1k1Ss"
      },
      "outputs": [],
      "source": [
        "full_pipeline.fit(X_train, y_train)\n",
        "predictions2 = full_pipeline.predict(X_test)"
      ]
    },
    {
      "cell_type": "code",
      "execution_count": null,
      "metadata": {
        "id": "MVWrAfOAk1Ss",
        "outputId": "7cd4a8f3-3b0b-41d4-83ea-d3494d59f675",
        "colab": {
          "base_uri": "https://localhost:8080/"
        }
      },
      "outputs": [
        {
          "output_type": "stream",
          "name": "stdout",
          "text": [
            "RMSE: 5173.609498361362\n",
            "R2: 0.7483703883126049\n"
          ]
        }
      ],
      "source": [
        "evaluate_regression_model(y_test, predictions2)"
      ]
    },
    {
      "cell_type": "markdown",
      "metadata": {
        "id": "uoftj1YeSTOD"
      },
      "source": [
        "9. Prepara otro transformador, denominado `preprocessing2`, para aplicar escalamiento estándar a los predictores numéricos y codificación ordinal a los categóricas. Aplícalo en un nuevo pipeline utilizando nuevamente regresión lineal. Guarda el modelo como `lr_model3`.\n",
        "\n",
        "**Nota.** Los cambios se ejecutan de manera consecutiva, por ejemplo: el reemplazo de los outliers también se ejecuta previo al transformador `preprocessing2` y así sucesivamente."
      ]
    },
    {
      "cell_type": "code",
      "execution_count": null,
      "metadata": {
        "id": "AAEBv_-8l--H"
      },
      "outputs": [],
      "source": [
        "from sklearn.compose import ColumnTransformer\n",
        "from sklearn.preprocessing import MinMaxScaler, OneHotEncoder\n",
        "from sklearn.pipeline import make_pipeline\n",
        "from sklearn.pipeline import Pipeline\n",
        "from sklearn.linear_model import LinearRegression\n",
        "\n",
        "from sklearn.preprocessing import StandardScaler, OrdinalEncoder\n",
        "\n",
        "# Identifica las características numéricas y categóricas\n",
        "numeric_features = X_train.select_dtypes(include=[np.number]).columns.tolist()\n",
        "categorical_features = X_train.select_dtypes(include=[object]).columns.tolist()\n",
        "\n",
        "# El resto de tu código sin cambios\n",
        "num_pipeline = Pipeline([\n",
        "    (\"StandardScaler\", StandardScaler()),\n",
        "])\n",
        "cat_pipeline = make_pipeline(\n",
        "    OrdinalEncoder())\n",
        "\n",
        "preprocessing2 = ColumnTransformer([\n",
        "    (\"num\", num_pipeline, numeric_features),\n",
        "    (\"cat\", cat_pipeline, categorical_features)\n",
        "])\n",
        "\n",
        "# Define the model\n",
        "lr_model3 = LinearRegression()\n",
        "\n",
        "# Create a complete pipeline that includes both preprocessing and the model\n",
        "full_pipeline = Pipeline([\n",
        "    (\"preprocessing\", preprocessing2),\n",
        "    (\"model\", lr_model3)\n",
        "])\n",
        "\n",
        "full_pipeline.fit(X_train, y_train)\n",
        "predictions3 = full_pipeline.predict(X_test)"
      ]
    },
    {
      "cell_type": "code",
      "execution_count": null,
      "metadata": {
        "id": "M1e0A-wMk1St",
        "outputId": "90698bb3-8b88-462e-e571-e4c7d753c307",
        "colab": {
          "base_uri": "https://localhost:8080/"
        }
      },
      "outputs": [
        {
          "output_type": "stream",
          "name": "stdout",
          "text": [
            "RMSE: 5173.586263542286\n",
            "R2: 0.7483726484582054\n"
          ]
        }
      ],
      "source": [
        "evaluate_regression_model(y_test, predictions3)"
      ]
    },
    {
      "cell_type": "markdown",
      "metadata": {
        "id": "1F30ukQSSW--"
      },
      "source": [
        "10. Utiliza regresión polinomial para verificar si se produce un mejor ajuste. Intenta con varios grados, aunque debes dejar en el código sólo el de mejor rendimiento. Guarda el modelo como `lr_model4`."
      ]
    },
    {
      "cell_type": "code",
      "execution_count": null,
      "metadata": {
        "id": "oW2WCLTTmAEL",
        "outputId": "d85d606d-afd0-446f-992b-3dbe62d9a1c8",
        "colab": {
          "base_uri": "https://localhost:8080/"
        }
      },
      "outputs": [
        {
          "output_type": "stream",
          "name": "stdout",
          "text": [
            "RMSE: 4582.207752264817\n",
            "R2: 0.8026105175513238\n"
          ]
        }
      ],
      "source": [
        "from sklearn.compose import ColumnTransformer\n",
        "from sklearn.preprocessing import MinMaxScaler, OneHotEncoder\n",
        "from sklearn.pipeline import make_pipeline\n",
        "from sklearn.pipeline import Pipeline\n",
        "from sklearn.linear_model import LinearRegression\n",
        "from sklearn.preprocessing import PolynomialFeatures\n",
        "from sklearn.preprocessing import StandardScaler, OrdinalEncoder\n",
        "\n",
        "# Identifica las características numéricas y categóricas\n",
        "numeric_features = X_train.select_dtypes(include=[np.number]).columns.tolist()\n",
        "categorical_features = X_train.select_dtypes(include=[object]).columns.tolist()\n",
        "\n",
        "# El resto de tu código sin cambios\n",
        "num_pipeline = Pipeline([\n",
        "    (\"StandardScaler\", StandardScaler()),\n",
        "])\n",
        "cat_pipeline = make_pipeline(\n",
        "    OrdinalEncoder())\n",
        "\n",
        "preprocessing2 = ColumnTransformer([\n",
        "    (\"num\", num_pipeline, numeric_features),\n",
        "    (\"cat\", cat_pipeline, categorical_features)\n",
        "])\n",
        "\n",
        "# Define the degree of the polynomial features\n",
        "degree = 2\n",
        "\n",
        "# Define the polynomial feature transformer\n",
        "poly_features = PolynomialFeatures(degree=degree, include_bias=False)\n",
        "\n",
        "# Define the model\n",
        "lr_model4 = LinearRegression()\n",
        "\n",
        "# Create a complete pipeline that includes both preprocessing and the model\n",
        "full_pipeline = Pipeline([\n",
        "    (\"preprocessing\", preprocessing2),\n",
        "    (\"poly_features\", poly_features),\n",
        "    (\"model\", lr_model4)\n",
        "])\n",
        "\n",
        "full_pipeline.fit(X_train, y_train)\n",
        "predictions4 = full_pipeline.predict(X_test)\n",
        "\n",
        "evaluate_regression_model(y_test, predictions4)"
      ]
    },
    {
      "cell_type": "markdown",
      "source": [
        "**Conclusión:** Después de haber realizado modelos con diferentes enfoques en cuanto a los arreglos a las variables numéricas y categóricas, se evaluaron las predicciones que arrojaba cada modelo y el modelo con mejor arreglo es Regresión polinomial con grado 2, ya que presenta mejores valores de RMSE y R2 y que a la hora de limpiar los datos de los datos atípicos que presenta el Dataframe se sube la acertibidad de nuestro modelo predictivo. Es sumamente interesante guardar y tener estos modelos para poder tener una respuesta más acertada a la hora de trabajar con datos y predicciones."
      ],
      "metadata": {
        "id": "pSLy_dgInOmX"
      }
    },
    {
      "cell_type": "code",
      "execution_count": null,
      "metadata": {
        "id": "IVnOiQ49k1Su"
      },
      "outputs": [],
      "source": [
        "# Guarda el pipeline con el modelo en un archivo pickle\n",
        "import pickle\n",
        "with open('lr_model4.pkl', 'wb') as file:\n",
        "    pickle.dump(full_pipeline, file)\n"
      ]
    }
  ],
  "metadata": {
    "colab": {
      "provenance": [],
      "include_colab_link": true
    },
    "kernelspec": {
      "display_name": "Python 3 (ipykernel)",
      "language": "python",
      "name": "python3"
    },
    "language_info": {
      "codemirror_mode": {
        "name": "ipython",
        "version": 3
      },
      "file_extension": ".py",
      "mimetype": "text/x-python",
      "name": "python",
      "nbconvert_exporter": "python",
      "pygments_lexer": "ipython3",
      "version": "3.11.6"
    }
  },
  "nbformat": 4,
  "nbformat_minor": 0
}
